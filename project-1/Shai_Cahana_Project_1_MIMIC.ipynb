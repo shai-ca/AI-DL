{
  "cells": [
    {
      "cell_type": "markdown",
      "metadata": {
        "id": "ArcUg0sAgZH9"
      },
      "source": [
        "# Project #1 Detecting Patterns in Tabular Medical Data with MIMIC-III\n",
        "You can read more about the dataset here: https://www.kaggle.com/datasets/saurabhshahane/in-hospital-mortality-prediction\n",
        "\n",
        "Dr. Barak Or"
      ]
    },
    {
      "cell_type": "code",
      "execution_count": null,
      "metadata": {},
      "outputs": [],
      "source": []
    },
    {
      "cell_type": "code",
      "execution_count": null,
      "metadata": {
        "colab": {
          "base_uri": "https://localhost:8080/"
        },
        "id": "VWf5Lx5sd4Pe",
        "outputId": "2e04ef7c-bd3f-428d-ad87-bd658a4bded9"
      },
      "outputs": [],
      "source": [
        "# from google.colab import drive\n",
        "# drive.mount('/content/drive')"
      ]
    },
    {
      "cell_type": "code",
      "execution_count": null,
      "metadata": {
        "id": "psKOE9vIW16F"
      },
      "outputs": [],
      "source": []
    },
    {
      "cell_type": "code",
      "execution_count": null,
      "metadata": {
        "id": "eEW3x386eGcx"
      },
      "outputs": [],
      "source": [
        "# my_path=\"/content/drive/MyDrive/Courses/Deep Learning Google Reichman Tech School/Project 1 MIMIC/\"\n",
        "my_path=\"\"\n"
      ]
    },
    {
      "cell_type": "markdown",
      "metadata": {
        "id": "W3xQP2QYEpLe"
      },
      "source": []
    },
    {
      "cell_type": "code",
      "execution_count": null,
      "metadata": {
        "id": "t5ZnhMyufopj"
      },
      "outputs": [],
      "source": [
        "import pandas as pd\n",
        "import numpy as np\n",
        "from scipy import stats\n",
        "import matplotlib.pyplot as plt\n",
        "from sklearn.model_selection import train_test_split\n",
        "from sklearn.linear_model import LogisticRegression\n",
        "from sklearn.linear_model import LinearRegression\n",
        "from sklearn.svm import SVR\n",
        "from sklearn.tree import DecisionTreeRegressor\n",
        "from sklearn.neighbors import KNeighborsRegressor\n",
        "from sklearn.metrics import accuracy_score, precision_score, recall_score, f1_score, confusion_matrix, accuracy_score, classification_report, confusion_matrix\n",
        "from sklearn.metrics import mean_squared_error, r2_score\n",
        "from sklearn.tree import DecisionTreeClassifier\n",
        "from sklearn.svm import SVC\n",
        "from sklearn.neighbors import KNeighborsClassifier\n",
        "\n",
        "\n",
        "# Load the data\n",
        "data = pd.read_csv(\"./MIMIC_data.csv\")"
      ]
    },
    {
      "cell_type": "code",
      "execution_count": null,
      "metadata": {
        "colab": {
          "base_uri": "https://localhost:8080/"
        },
        "id": "Zv-kpCu3fxig",
        "outputId": "36286faf-d9a8-45e6-fca8-a8facbac7afa"
      },
      "outputs": [],
      "source": [
        "print(data.head())"
      ]
    },
    {
      "cell_type": "markdown",
      "metadata": {
        "id": "W_gj2095fYyU"
      },
      "source": [
        "# Q1.a\n",
        "What are the mean, median, mode, and standard deviation of the age, BMI, and Blood sodium columns in the dataset? Why are these statistics important for understanding the data?"
      ]
    },
    {
      "cell_type": "code",
      "execution_count": null,
      "metadata": {
        "colab": {
          "base_uri": "https://localhost:8080/"
        },
        "id": "uvh24N6xFRvj",
        "outputId": "7d9d34ff-8c3c-4bce-e2aa-34a19574c3e2"
      },
      "outputs": [],
      "source": [
        "def calc_stats(dat):\n",
        "  return dat.mean(),dat.mode()[0], dat.median(), dat.std()\n",
        "\n",
        "#make it to a df\n",
        "d = {}\n",
        "d['age'] = calc_stats(data['age'])\n",
        "d['BMI'] = calc_stats(data['BMI'])\n",
        "d['Blood sodium'] = calc_stats(data['Blood sodium'])\n",
        "\n",
        "d_ = pd.DataFrame(d)\n",
        "d_['stat']= ['mean','mode','median','std']\n",
        "\n",
        "d_ = d_.set_index('stat')\n",
        "print(d_)\n",
        "\n",
        "\n"
      ]
    },
    {
      "cell_type": "markdown",
      "metadata": {
        "id": "y9m2EnZ-hKeB"
      },
      "source": [
        "# Q1.b\n",
        "How do the distributions of age, BMI, and Blood sodium look in the dataset? What can we learn from these distributions about the patient population?"
      ]
    },
    {
      "cell_type": "code",
      "execution_count": null,
      "metadata": {
        "colab": {
          "base_uri": "https://localhost:8080/",
          "height": 1000
        },
        "id": "3oc1OCjhYCOH",
        "outputId": "812cebd1-7b91-4b7c-9afc-fbe847a5e282"
      },
      "outputs": [],
      "source": [
        "bin = 20\n",
        "plt.hist(data['age'],bins=bin)\n",
        "plt.title(f\"Age Distribution. mean: { d_['age']['mean']:.2f} std: { d_['age']['std']:.3}\")\n",
        "plt.xlabel('Age')\n",
        "plt.ylabel('Count')\n",
        "plt.show()\n",
        "# we have more samples from older patients\n",
        "\n",
        "\n",
        "plt.hist(data['BMI'],bins=bin)\n",
        "plt.title(f\"BMI Distribution. mean: { d_['BMI']['mean']:.2f} std: { d_['BMI']['std']:.2}\")\n",
        "plt.xlabel('BMI')\n",
        "plt.ylabel('Count')\n",
        "plt.show()\n",
        "# the mean fits to obese, meaning the average health of the patients is not ideal\n",
        "# to begin with\n",
        "\n",
        "\n",
        "plt.hist(data['Blood sodium'],bins=bin)\n",
        "plt.title(f\"Blood sodium Distribution. mean: { d_['Blood sodium']['mean']:.2f} std: { d_['Blood sodium']['std']:.2}\")\n",
        "plt.xlabel('Blood sodium Levels')\n",
        "plt.ylabel('Count')\n",
        "plt.show()\n",
        "# the mean blood sodium levels appear to be in the normal range\n"
      ]
    },
    {
      "cell_type": "code",
      "execution_count": null,
      "metadata": {},
      "outputs": [],
      "source": [
        "import seaborn as sns\n",
        "import matplotlib.pyplot as plt\n",
        "\n",
        "# Set the style for the plots\n",
        "sns.set(style='whitegrid')\n",
        "\n",
        "# Histogram for Age Distribution\n",
        "plt.figure(figsize=(10, 6))  # Optional: set figure size\n",
        "sns.histplot(data['age'], bins=20, kde=True)  # kde=True adds a Kernel Density Estimate\n",
        "plt.title(f\"Age Distribution. Mean: {d_['age']['mean']:.2f} Std: {d_['age']['std']:.3f}\")\n",
        "plt.xlabel('Age')\n",
        "plt.ylabel('Count')\n",
        "plt.show()\n",
        "# We have more samples from older patients\n",
        "\n",
        "# Histogram for BMI Distribution\n",
        "plt.figure(figsize=(10, 6))\n",
        "sns.histplot(data['BMI'], bins=20, kde=True)\n",
        "plt.title(f\"BMI Distribution. Mean: {d_['BMI']['mean']:.2f} Std: {d_['BMI']['std']:.2f}\")\n",
        "plt.xlabel('BMI')\n",
        "plt.ylabel('Count')\n",
        "plt.show()\n",
        "# The mean fits to obese, meaning the average health of the patients is not ideal to begin with\n",
        "\n",
        "# Histogram for Blood Sodium Distribution\n",
        "plt.figure(figsize=(10, 6))\n",
        "sns.histplot(data['Blood sodium'], bins=20, kde=True)\n",
        "plt.title(f\"Blood Sodium Distribution. Mean: {d_['Blood sodium']['mean']:.2f} Std: {d_['Blood sodium']['std']:.2f}\")\n",
        "plt.xlabel('Blood Sodium Levels')\n",
        "plt.ylabel('Count')\n",
        "plt.show()\n"
      ]
    },
    {
      "cell_type": "markdown",
      "metadata": {
        "id": "l2Mq9jIVkAbw"
      },
      "source": [
        "# Q 1.c\n",
        "Use pandas and scikit-learn to drop rows with missing values in the 'BMI' and 'Blood sodium' columns, and then uses logistic regression, SVM, kNN, and decision tree to predict an 'outcome' based on the features 'age', 'BMI', and 'Blood sodium'. Ensure to split the data using train_test_split with a 20% test size and a random state of 42. Finally, fit the model, make predictions on the test set, and print a report of the best model (“classification_report”). Explain the result of the confusion matrix for the best model."
      ]
    },
    {
      "cell_type": "code",
      "execution_count": null,
      "metadata": {
        "colab": {
          "base_uri": "https://localhost:8080/"
        },
        "id": "n2Yx4wZTgujq",
        "outputId": "baa3044b-36cb-4732-e193-8504157aaa2b"
      },
      "outputs": [],
      "source": [
        "print(data.shape)\n",
        "print(data.dropna(subset = 'BMI' or 'Blood sodium').shape)\n",
        "data.dropna().head()\n",
        "data = data.dropna(subset = 'BMI' or 'Blood sodium') # the data without nans in BMI or Blood sodium\n"
      ]
    },
    {
      "cell_type": "code",
      "execution_count": null,
      "metadata": {
        "id": "wmD0RuFUkBzR"
      },
      "outputs": [],
      "source": [
        "# split to train and test\n",
        "X = pd.DataFrame(data, columns=['age','BMI','Blood sodium'])\n",
        "y = pd.Series(data['outcome'], name='outcome') #choose one coloum\n",
        "\n",
        "X_train, X_test, y_train, y_test = train_test_split(X, y, test_size=0.2, random_state=42)"
      ]
    },
    {
      "cell_type": "code",
      "execution_count": null,
      "metadata": {},
      "outputs": [],
      "source": [
        "from sklearn.metrics import accuracy_score, classification_report, confusion_matrix\n",
        "import numpy as np\n",
        "\n",
        "def train_model(model, X_train, X_test, y_train, y_test):\n",
        "    \"\"\"Train a model and evaluate it, returning predictions, accuracy, and other metrics.\"\"\"\n",
        "    model.fit(X_train, y_train)\n",
        "    y_pred = model.predict(X_test)\n",
        "    return model, y_pred, y_test\n",
        "\n",
        "def eval_classification_model(model, y_pred, y_test):\n",
        "    accuracy = accuracy_score(y_test, y_pred)\n",
        "    report = classification_report(y_test, y_pred, zero_division=1)\n",
        "    conf_mat = confusion_matrix(y_test, y_pred)\n",
        "    return accuracy, report, conf_mat\n",
        "\n",
        "def print_model_results(name, accuracy, report, conf_mat):\n",
        "    \"\"\"Print the results of a model evaluation.\"\"\"\n",
        "\n",
        "    print(f\"Accuracy for {name} : {accuracy:.5f}\")\n",
        "    print(\"Classification Report:\")\n",
        "    print(report)\n",
        "    print(\"Confusion Matrix:\")\n",
        "    print(conf_mat)\n",
        "    print('-' * 50)\n",
        "\n",
        "\n",
        "def compare_models(X_train, X_test, y_train, y_test):\n",
        "    \"\"\"Compare Logistic Regression, SVM, kNN, and Decision Tree models and print the best.\"\"\"\n",
        "    \n",
        "    # Initialize models with best parameters for each (based on prior testing)\n",
        "    models = {\n",
        "        'Logistic Regression': LogisticRegression(),\n",
        "        'Support Vector Machine': SVC(kernel='linear'),\n",
        "        'k-Nearest Neighbors': KNeighborsClassifier(n_neighbors=2),\n",
        "        'Decision Tree': DecisionTreeClassifier(max_depth=3)\n",
        "    }\n",
        "    \n",
        "    results = []\n",
        "    best_model = None\n",
        "    best_accuracy = 0\n",
        "    accuracy_dict = {}\n",
        "\n",
        "    # Train and evaluate each model\n",
        "    for name, model in models.items():\n",
        "        model_, y_pred, y_test = train_model(model, X_train, X_test, y_train, y_test)\n",
        "        accuracy, report, conf_mat = eval_classification_model(model_, y_pred, y_test)\n",
        "\n",
        "        results.append({'name': name, 'accuracy': accuracy, 'report': report, 'conf_mat': conf_mat})\n",
        "        accuracy_dict[name] = accuracy\n",
        "        \n",
        "        # Print results for each model\n",
        "        print_model_results(name, accuracy, report, conf_mat)\n",
        "        \n",
        "        # Update best model if current model has better accuracy\n",
        "        if accuracy > best_accuracy:\n",
        "            best_accuracy = accuracy\n",
        "            best_model = name\n",
        "            best_conf = conf_mat\n",
        "    \n",
        "    # Check if all models have the same accuracy (within a small tolerance)\n",
        "    accuracies = np.array(list(accuracy_dict.values()))\n",
        "    if np.allclose(accuracies, accuracies[0], atol=1e-5):  # handles floating point variations\n",
        "        print(f\"All models have the same accuracy: {accuracies[0]:.5f}\")\n",
        "        print(f\"\\nWith confusion matrix: \\n {results[-1]['conf_mat']}\")\n",
        "        # tn, fp, fn, tp = results[-1]['conf_mat'].ravel()\n",
        "        # print(tn, fp, fn, tp)\n",
        "\n",
        "\n",
        "\n",
        "\n",
        "    else:\n",
        "        print(f\"\\nThe best model is: {best_model} with an accuracy of {best_accuracy:.5f}\")\n",
        "        print(f\"\\nWith confusion matrix: \\n {best_conf:.5f}\")\n",
        "\n",
        "\n",
        "    # Return the results for further analysis if needed\n",
        "    # return results\n",
        "\n",
        "# Example usage:\n",
        "# Assuming X_train, X_test, y_train, y_test are defined\n",
        "compare_models(X_train, X_test, y_train, y_test)\n",
        "\n",
        "\n",
        "# In this case, the confusion matrix gives the following values:\n",
        "# True Positives (TP) = 165\n",
        "# False Negatives (FN) = 0\n",
        "# False Positives (FP) = 28\n",
        "# True Negatives (TN) = 0\n",
        "\n",
        "# So for the metrics we learned in class:\n",
        "# Accuracy = (TP + TN) / (TP + TN + FP + FN) = (165 + 0) / (165 + 0 + 28 + 0) = 165 / 193 ≈ 0.8549 or 85.49%\n",
        "# Precision = TP / (TP + FP) = 165 / (165 + 28) = 165 / 193 ≈ 0.8549 or 85.49%\n",
        "# Recall (Sensitivity) = TP / (TP + FN) = 165 / (165 + 0) = 1 or 100%\n",
        "# Specificity = TN / (TN + FP)= 0 / (0 + 28) = 0 or 0%\n",
        "# F1 Score = 2 * (Precision * Recall) / (Precision + Recall) = 2 * (0.8549 * 1) / (0.8549 + 1) ≈ 0.9217 or 92.17%\n",
        "\n",
        "# This model is predicting all instances as positive. It has perfect recall for the positive class but zero specificity for the negative class. \n",
        "# The accuracy and precision are the same because FN = TN = 0.\n",
        "# The model's performance suggests it might be biased or the dataset might be imbalanced. \n",
        "# It's correctly identifying all positive cases but failing to identify any negative cases, which could be problematic depending on the context of the classification task.\n"
      ]
    },
    {
      "cell_type": "markdown",
      "metadata": {
        "id": "aosUQvNzkgaT"
      },
      "source": [
        "# Q1.d\n",
        "Predict BMI based on age and Blood sodium with linear regression, SVM regressor, Decision tree regressor, and kNN refressor. Calculate RMSE, MSE, R-squared.\n",
        "Split where 20% left for the test, random state=42."
      ]
    },
    {
      "cell_type": "code",
      "execution_count": null,
      "metadata": {
        "id": "iPdX_TpCjjDD"
      },
      "outputs": [],
      "source": [
        "from sklearn.metrics import mean_squared_error, r2_score\n",
        "\n",
        "models = {'Linear Regessor': LinearRegression(),\n",
        "          'SVM Regressor': SVR(),\n",
        "          'Decision Tree Regressor': DecisionTreeRegressor(),\n",
        "          'KNN Regressor': KNeighborsRegressor()}\n",
        "\n",
        "X = pd.DataFrame(data, columns=['age','Blood sodium'])\n",
        "y = pd.Series(data['BMI'], name='BMI') #choose one coloum\n",
        "\n",
        "X_train, X_test, y_train, y_test = train_test_split(X, y, test_size=0.2, random_state=42)\n",
        "\n",
        "\n",
        "def eval_regression_model(name, y_pred, y_test):\n",
        "    mse = mean_squared_error(y_test, y_pred)\n",
        "    rmse = np.sqrt(mse)\n",
        "    r2 = r2_score(y_test, y_pred)\n",
        "    return (f\"{name} \\n MSE: {mse:.2f}, RMSE: {rmse:.2f}, R-squared: {r2:.2f}\")\n",
        "\n",
        "    # print(f\"{name} \\n MSE: {mse:.2f}, RMSE: {rmse:.2f}, R-squared: {r2:.2f} \\n ******* \\n\\n\\n\")\n",
        "\n",
        "    # return mse, r2\n",
        "    \n",
        "def plot_pred(x,y,name):\n",
        "    plt.figure(figsize=(10, 6))  \n",
        "    plt.scatter(x,y)  \n",
        "    plt.plot([y.min(), y.max()], [y.min(), y.max()], 'k--', lw=4) # approx the slope\n",
        "    plt.title(f\"{name} \")\n",
        "    plt.xlabel('Actual')\n",
        "    plt.ylabel('Predicted')\n",
        "    \n",
        "\n",
        "def print_plot_models_results(models,X_train, X_test, y_train, y_test):\n",
        "    for name, model in models.items():\n",
        "        model, y_pred, y_test = train_model(models['Linear Regessor'],X_train, X_test, y_train, y_test)\n",
        "        title = eval_regression_model(name, y_pred, y_test)\n",
        "        print(title)\n",
        "        plot_pred(y_pred,y_test,title)\n",
        "\n",
        "print_plot_models_results(models,X_train, X_test, y_train, y_test)\n",
        "\n",
        "# to do: make them all in a nice table and print that table\n"
      ]
    },
    {
      "cell_type": "markdown",
      "metadata": {
        "id": "NKZhwe7MxCze"
      },
      "source": [
        "# Q2.a\n",
        "Demonstrate the application of Principal Component Analysis (PCA) and t-Distributed\n",
        "Stochastic Neighbor Embedding (t-SNE) for dimensionality reduction on the dataset\n",
        "\n",
        "focusing on BMI, Blood sodium, and Blood calcium to visualize the data in a reduced-\n",
        "dimensional space. Compare the visualization results of PCA and t-SNE."
      ]
    },
    {
      "cell_type": "code",
      "execution_count": null,
      "metadata": {
        "id": "LLWyfo-VyirK"
      },
      "outputs": [],
      "source": [
        "import numpy as np\n",
        "import matplotlib.pyplot as plt\n",
        "from sklearn.decomposition import PCA\n",
        "from sklearn.manifold import TSNE\n",
        "from sklearn.preprocessing import StandardScaler\n",
        "from sklearn.linear_model import LogisticRegression\n",
        "from sklearn.model_selection import train_test_split\n",
        "from sklearn.metrics import accuracy_score\n",
        "import seaborn as sns\n",
        "\n",
        "\n",
        "# Prepare the data for the task\n",
        "# remove rows with missing values for the releant features\n",
        "data_clean = data.dropna(subset=['BMI', 'Blood sodium', 'Blood calcium'])\n",
        "features = data_clean[['BMI', 'Blood sodium', 'Blood calcium']]\n",
        "target_feature = data_clean['outcome']\n",
        "\n",
        "\n",
        "\n",
        "\n",
        "\n",
        "# calculate PCA\n",
        "pca = PCA(n_components=2)\n",
        "features_pca = pca.fit_transform(features)\n",
        "\n",
        "# calculate t-SNE\n",
        "method = StandardScaler()\n",
        "features_tSNE = method.fit_transform(features)\n",
        "\n",
        "# Plot both methods side by side\n",
        "fig, (ax1, ax2) = plt.subplots(1, 2, figsize=(14, 6))\n",
        "\n",
        "\n",
        "# Plot PCA\n",
        "sns.scatterplot(\n",
        "    x=features_pca[:, 0], y=features_pca[:, 1], hue=target_feature, palette='viridis', ax=ax1\n",
        ")\n",
        "ax1.set_title('PCA of BMI, Blood Sodium, Blood Calcium')\n",
        "\n",
        "ax1.set_xlabel('PCA Component 1')\n",
        "ax1.set_ylabel('PCA Component 2')\n",
        "# legend1 = ax1.legend(*scatter1.legend_elements(), title=\"Outcome\")\n",
        "# ax1.add_artist(legend1)\n",
        "\n",
        "\n",
        "# Plot t-SNE\n",
        "sns.scatterplot(\n",
        "    x=features_tSNE[:, 0], y=features_tSNE[:, 1], hue=target_feature, palette='viridis', ax=ax2\n",
        "\n",
        ")\n",
        "\n",
        "\n",
        "ax2.set_title('t-SNE of BMI, Blood Sodium, Blood Calcium')\n",
        "ax2.set_xlabel('t-SNE Dimension 1')\n",
        "ax2.set_ylabel('t-SNE Dimension 2')\n",
        "# legend2 = ax2.legend(*scatter2.legend_elements(), title=\"Outcome\")\n",
        "# ax2.add_artist(legend2)\n",
        "\n",
        "plt.tight_layout()\n",
        "plt.show()\n",
        "\n",
        "\n",
        "\n",
        "# the outcome color is the original prediction.\n",
        "# here we can see that the analysis didnt give us an evaluation n the prediction and also that the data is seems strongly correlated\n",
        "\n"
      ]
    },
    {
      "cell_type": "markdown",
      "metadata": {
        "id": "cmQU4_kNxnf8"
      },
      "source": [
        "# Q2.b\n",
        "Apply K-means clustering to the dataset to group patients based on age, BMI, diabetes, and heart rate. Cluster to 2,3,4,5, and 6 groups. What are Silhouette and Davies-Bouldin Score for each case?"
      ]
    },
    {
      "cell_type": "code",
      "execution_count": null,
      "metadata": {},
      "outputs": [],
      "source": [
        "import matplotlib.pyplot as plt\n",
        "from sklearn.cluster import KMeans\n",
        "from sklearn.metrics import silhouette_score, davies_bouldin_score\n",
        "import numpy as np\n",
        "\n",
        "# relevant data\n",
        "data_clean = data[['age', 'BMI', 'diabetes', 'heart rate']].dropna()\n",
        "\n",
        "\n",
        "# Number of clusters to try\n",
        "cluster_list = list(range(2,7)) # relevant groups\n",
        "silhouette_scores = []\n",
        "davies_bouldin_scores = []\n",
        "\n",
        "# Figure setup for visualization\n",
        "plt.figure(figsize=(15, 9))\n",
        "\n",
        "i=0\n",
        "for cluster in cluster_list:\n",
        "    # apply K-means clustering\n",
        "    kmeans = KMeans(n_clusters=cluster, random_state=42)\n",
        "    clusters = kmeans.fit_predict(data_clean)\n",
        "\n",
        "    # Silhouette score\n",
        "    silhouette = silhouette_score(data_clean, clusters)\n",
        "    silhouette_scores.append(silhouette)\n",
        "\n",
        "    # Davies-Bouldin score\n",
        "    davies_bouldin = davies_bouldin_score(data_clean, clusters)\n",
        "    davies_bouldin_scores.append(davies_bouldin)\n",
        "    i+=1"
      ]
    },
    {
      "cell_type": "markdown",
      "metadata": {
        "id": "kTno5l_f4jpz"
      },
      "source": [
        "#Q3.a\n",
        "Describe the steps involved in training a neural network, including forward propagation and backpropagation."
      ]
    },
    {
      "cell_type": "markdown",
      "metadata": {
        "id": "8hTEcrfRuRLP"
      },
      "source": [
        "## Answer\n",
        "Steps involved in training a neural network:\n",
        "\n",
        "1. Initialization: Set random initial weights and biases.\n",
        "2. Forward propagation:\n",
        "    a. Input data flows through the network\n",
        "    b. Each neuron computes weighted sum of inputs and applies activation function\n",
        "    c. Output is produced at the final layer\n",
        "3. Loss calculation: Compare network output to expected output using a loss function\n",
        "4. Backpropagation:\n",
        "    a. Calculate gradients of the loss with respect to weights and biases\n",
        "    b. Propagate these gradients backwards through the network\n",
        "5. Parameter update: Adjust weights and biases using an optimization algorithm (eg., gradient descent)\n",
        "6. Repeat steps 2-5 for multiple epochs until convergence or stopping criterion is met (the error/cost)\n",
        "\n",
        "\n",
        "\n",
        "\n",
        "\n",
        "\n"
      ]
    },
    {
      "cell_type": "markdown",
      "metadata": {
        "id": "IlrgV_qU4vpd"
      },
      "source": [
        "# Q3.b\n",
        "Explain the bias-variance trade-off in neural network performance. How does it affect model generalization?"
      ]
    },
    {
      "cell_type": "markdown",
      "metadata": {
        "id": "XIgQibOntV5G"
      },
      "source": [
        "## Answer\n",
        "The bias-variance trade-off refers to the balance between a model's ability to fit the training data (low bias) and its ability to generalize to new, unseen data (low variance).\n",
        "\n",
        "    High bias: Model is too simple, underfits the data\n",
        "    High variance: Model is too complex, overfits the data\n",
        "\n",
        "This trade-off affects generalization in the following ways:\n",
        "\n",
        "    A model with high bias may fail to capture important patterns in the data\n",
        "    A model with high variance may fit noise in the training data, leading to poor performance on new data\n",
        "\n",
        "The goal is to find an optimal balance that minimizes both bias and variance, resulting in a model that generalizes well to new data.\n"
      ]
    },
    {
      "cell_type": "markdown",
      "metadata": {
        "id": "w2wMvtEj5Mpp"
      },
      "source": [
        "# Q3.c\n",
        "Highlight the importance of data preprocessing, normalization, and splitting for training effective deep learning models."
      ]
    },
    {
      "cell_type": "markdown",
      "metadata": {
        "id": "nnRJf3yKvjb3"
      },
      "source": [
        "## Answer\n",
        "\n",
        "1. Data preprocessing:\n",
        "    Removes noise and irrelevant information\n",
        "    Handles missing values and outliers\n",
        "    Improves model performance and training efficiency\n",
        "\n",
        "2. Normalization:\n",
        "    Scales features to a common range (e.g., 0-1 or -1 to 1)\n",
        "    Ensures all features contribute equally to the model\n",
        "    Helps with faster convergence during training\n",
        "    \n",
        "3. Data splitting:\n",
        "    Divides data into training, validation, and test sets\n",
        "    Training set: Used to train the model\n",
        "    Validation set: Used for hyperparameter tuning and model selection\n",
        "    Test set: Used to evaluate final model performance on unseen data\n",
        "    Helps assess model generalization and prevent overfitting\n",
        "\n",
        "These processes are crucial for developing effective deep learning models by ensuring the data is clean, properly scaled, and appropriately divided for training and evaluation.\n",
        "\n"
      ]
    },
    {
      "cell_type": "markdown",
      "metadata": {
        "id": "uuTr0OVu5XJd"
      },
      "source": [
        "# Q3.d+e"
      ]
    },
    {
      "cell_type": "markdown",
      "metadata": {
        "id": "WJ-QZ9077KX4"
      },
      "source": [
        "Relevant library from tensorflow"
      ]
    },
    {
      "cell_type": "code",
      "execution_count": null,
      "metadata": {
        "id": "rF2BHVgj69RF"
      },
      "outputs": [],
      "source": [
        "from tensorflow.keras.models import Sequential\n",
        "from tensorflow.keras.layers import Dense, Dropout\n",
        "from sklearn.model_selection import train_test_split\n",
        "from sklearn.metrics import accuracy_score, confusion_matrix\n",
        "from sklearn.preprocessing import StandardScaler\n",
        "import matplotlib.pyplot as plt\n",
        "import seaborn as sns\n",
        "import numpy as np\n"
      ]
    },
    {
      "cell_type": "markdown",
      "metadata": {
        "id": "le4yhraX7P7P"
      },
      "source": [
        "Ensuring data is clean and ready with all features"
      ]
    },
    {
      "cell_type": "code",
      "execution_count": null,
      "metadata": {
        "id": "iPOT5kcl7Gz_"
      },
      "outputs": [],
      "source": [
        "# 1\n",
        "\n",
        "# clean the data and select relevant features\n",
        "clean_data = data[['age','Blood sodium','outcome']].dropna()\n",
        "X = clean_data[['age','Blood sodium']]\n",
        "y = clean_data[['outcome']]\n",
        "\n",
        "# standardtize the data\n",
        "X_standrd = StandardScaler()\n",
        "X_standrd = X_standrd.fit_transform(X)\n",
        "\n",
        "\n",
        "# 2\n",
        "X_train, X_test, y_train, y_test = train_test_split(X_standrd, y, test_size=0.2, random_state=42)\n",
        "\n",
        "# 3 construct DNN\n",
        "model = Sequential([\n",
        "    Dense(3, activation='relu',input_shape=(X_train.shape[1],)),\n",
        "    Dropout(0.05),\n",
        "    Dense(3, activation='relu'),\n",
        "    Dropout(0.05),\n",
        "    Dense(3, activation='relu'),\n",
        "    Dense(1, activation='sigmoid')\n",
        "])\n",
        "\n",
        "# 4 Compile the model\n",
        "model.compile(optimizer='adam', loss='binary_crossentropy', metrics=['accuracy'])\n",
        "\n",
        "# Train the model\n",
        "history = model.fit(X_train, y_train, epochs=100, validation_split=0.2, verbose=1)\n",
        "\n",
        "# what does this does?\n",
        "eval_ = model.evaluate(X_test, y_test, verbose=1)[1]\n",
        "print(eval_)\n"
      ]
    },
    {
      "cell_type": "code",
      "execution_count": null,
      "metadata": {},
      "outputs": [],
      "source": [
        "# Plotting functions\n",
        "def plot_accuracy(history):\n",
        "    plt.subplot(1,2,1)\n",
        "    plt.plot(history.history['accuracy'], label='Training Accuracy')\n",
        "    plt.plot(history.history['val_accuracy'], label='Validation Accuracy')\n",
        "\n",
        "    # accuracy = model.evaluate(X_test, y_test, verbose=1)[1]\n",
        "\n",
        "    plt.title('Model Accuracy')\n",
        "    plt.xlabel('Epoch')\n",
        "    plt.ylabel('Accuracy')\n",
        "    plt.legend()\n",
        "    return plt\n",
        "\n",
        "def plot_loss(history):\n",
        "    plt.subplot(1,2,2)\n",
        "    plt.plot(history.history['loss'], label='Training Loss')\n",
        "    plt.plot(history.history['val_loss'], label='Validation Loss')\n",
        "    plt.title('Model Loss')\n",
        "    plt.xlabel('Epoch')\n",
        "    plt.ylabel('Loss')\n",
        "    plt.legend()\n",
        "    return plt\n",
        "\n",
        "# Plot accuracy and loss\n",
        "plt.figure(figsize=(10, 6))\n",
        "plot_accuracy(history)\n",
        "plot_loss(history)\n",
        "plt.show()\n"
      ]
    },
    {
      "cell_type": "code",
      "execution_count": null,
      "metadata": {},
      "outputs": [],
      "source": [
        "# 5 - Evaluate and Visualize Model Performance\n",
        "y_pred = (model.predict(X_test) > 0.5).astype(\"int32\")\n",
        "conf_mat = confusion_matrix(y_test, y_pred)\n",
        "# Plot the confusion matrix using seaborn\n",
        "sns.heatmap(conf_mat, annot=True, fmt='d', cmap='Blues')\n",
        "\n",
        "# Set labels and title\n",
        "plt.xlabel('Predicted')\n",
        "plt.ylabel('True')\n",
        "plt.title('Confusion Matrix')\n",
        "\n",
        "# Show the plot\n",
        "plt.show()\n",
        "\n",
        "model.summary()\n"
      ]
    },
    {
      "cell_type": "code",
      "execution_count": 72,
      "metadata": {},
      "outputs": [
        {
          "name": "stdout",
          "output_type": "stream",
          "text": [
            "Epoch 1/100\n",
            "20/20 [==============================] - 2s 25ms/step - loss: 0.6769 - accuracy: 0.8894 - val_loss: 0.6729 - val_accuracy: 0.8831\n",
            "Epoch 2/100\n",
            "20/20 [==============================] - 0s 5ms/step - loss: 0.6622 - accuracy: 0.8894 - val_loss: 0.6579 - val_accuracy: 0.8831\n",
            "Epoch 3/100\n",
            "20/20 [==============================] - 0s 5ms/step - loss: 0.6460 - accuracy: 0.8894 - val_loss: 0.6404 - val_accuracy: 0.8831\n",
            "Epoch 4/100\n",
            "20/20 [==============================] - 0s 9ms/step - loss: 0.6251 - accuracy: 0.8894 - val_loss: 0.6202 - val_accuracy: 0.8831\n",
            "Epoch 5/100\n",
            "20/20 [==============================] - 0s 6ms/step - loss: 0.6038 - accuracy: 0.8894 - val_loss: 0.5971 - val_accuracy: 0.8831\n",
            "Epoch 6/100\n",
            "20/20 [==============================] - 0s 5ms/step - loss: 0.5786 - accuracy: 0.8894 - val_loss: 0.5729 - val_accuracy: 0.8831\n",
            "Epoch 7/100\n",
            "20/20 [==============================] - 0s 4ms/step - loss: 0.5513 - accuracy: 0.8894 - val_loss: 0.5467 - val_accuracy: 0.8831\n",
            "Epoch 8/100\n",
            "20/20 [==============================] - 0s 4ms/step - loss: 0.5246 - accuracy: 0.8894 - val_loss: 0.5199 - val_accuracy: 0.8831\n",
            "Epoch 9/100\n",
            "20/20 [==============================] - 0s 4ms/step - loss: 0.4954 - accuracy: 0.8894 - val_loss: 0.4926 - val_accuracy: 0.8831\n",
            "Epoch 10/100\n",
            "20/20 [==============================] - 0s 5ms/step - loss: 0.4695 - accuracy: 0.8894 - val_loss: 0.4669 - val_accuracy: 0.8831\n",
            "Epoch 11/100\n",
            "20/20 [==============================] - 0s 6ms/step - loss: 0.4406 - accuracy: 0.8894 - val_loss: 0.4441 - val_accuracy: 0.8831\n",
            "Epoch 12/100\n",
            "20/20 [==============================] - 0s 7ms/step - loss: 0.4202 - accuracy: 0.8894 - val_loss: 0.4251 - val_accuracy: 0.8831\n",
            "Epoch 13/100\n",
            "20/20 [==============================] - 0s 7ms/step - loss: 0.4039 - accuracy: 0.8894 - val_loss: 0.4118 - val_accuracy: 0.8831\n",
            "Epoch 14/100\n",
            "20/20 [==============================] - 0s 5ms/step - loss: 0.3869 - accuracy: 0.8894 - val_loss: 0.4013 - val_accuracy: 0.8831\n",
            "Epoch 15/100\n",
            "20/20 [==============================] - 0s 5ms/step - loss: 0.3866 - accuracy: 0.8894 - val_loss: 0.3944 - val_accuracy: 0.8831\n",
            "Epoch 16/100\n",
            "20/20 [==============================] - 0s 15ms/step - loss: 0.3714 - accuracy: 0.8894 - val_loss: 0.3885 - val_accuracy: 0.8831\n",
            "Epoch 17/100\n",
            "20/20 [==============================] - 0s 7ms/step - loss: 0.3643 - accuracy: 0.8894 - val_loss: 0.3844 - val_accuracy: 0.8831\n",
            "Epoch 18/100\n",
            "20/20 [==============================] - 0s 6ms/step - loss: 0.3574 - accuracy: 0.8894 - val_loss: 0.3820 - val_accuracy: 0.8831\n",
            "Epoch 19/100\n",
            "20/20 [==============================] - 0s 8ms/step - loss: 0.3676 - accuracy: 0.8894 - val_loss: 0.3799 - val_accuracy: 0.8831\n",
            "Epoch 20/100\n",
            "20/20 [==============================] - 0s 6ms/step - loss: 0.3633 - accuracy: 0.8894 - val_loss: 0.3786 - val_accuracy: 0.8831\n",
            "Epoch 21/100\n",
            "20/20 [==============================] - 0s 10ms/step - loss: 0.3717 - accuracy: 0.8894 - val_loss: 0.3769 - val_accuracy: 0.8831\n",
            "Epoch 22/100\n",
            "20/20 [==============================] - 0s 14ms/step - loss: 0.3622 - accuracy: 0.8894 - val_loss: 0.3754 - val_accuracy: 0.8831\n",
            "Epoch 23/100\n",
            "20/20 [==============================] - 0s 6ms/step - loss: 0.3659 - accuracy: 0.8894 - val_loss: 0.3743 - val_accuracy: 0.8831\n",
            "Epoch 24/100\n",
            "20/20 [==============================] - 0s 5ms/step - loss: 0.3630 - accuracy: 0.8894 - val_loss: 0.3737 - val_accuracy: 0.8831\n",
            "Epoch 25/100\n",
            "20/20 [==============================] - 0s 5ms/step - loss: 0.3601 - accuracy: 0.8894 - val_loss: 0.3728 - val_accuracy: 0.8831\n",
            "Epoch 26/100\n",
            "20/20 [==============================] - 0s 5ms/step - loss: 0.3556 - accuracy: 0.8894 - val_loss: 0.3719 - val_accuracy: 0.8831\n",
            "Epoch 27/100\n",
            "20/20 [==============================] - 0s 5ms/step - loss: 0.3607 - accuracy: 0.8894 - val_loss: 0.3710 - val_accuracy: 0.8831\n",
            "Epoch 28/100\n",
            "20/20 [==============================] - 0s 5ms/step - loss: 0.3604 - accuracy: 0.8894 - val_loss: 0.3707 - val_accuracy: 0.8831\n",
            "Epoch 29/100\n",
            "20/20 [==============================] - 0s 6ms/step - loss: 0.3636 - accuracy: 0.8894 - val_loss: 0.3700 - val_accuracy: 0.8831\n",
            "Epoch 30/100\n",
            "20/20 [==============================] - 0s 5ms/step - loss: 0.3599 - accuracy: 0.8894 - val_loss: 0.3692 - val_accuracy: 0.8831\n",
            "Epoch 31/100\n",
            "20/20 [==============================] - 0s 5ms/step - loss: 0.3641 - accuracy: 0.8894 - val_loss: 0.3688 - val_accuracy: 0.8831\n",
            "Epoch 32/100\n",
            "20/20 [==============================] - 0s 4ms/step - loss: 0.3615 - accuracy: 0.8894 - val_loss: 0.3682 - val_accuracy: 0.8831\n",
            "Epoch 33/100\n",
            "20/20 [==============================] - 0s 5ms/step - loss: 0.3627 - accuracy: 0.8894 - val_loss: 0.3678 - val_accuracy: 0.8831\n",
            "Epoch 34/100\n",
            "20/20 [==============================] - 0s 5ms/step - loss: 0.3552 - accuracy: 0.8894 - val_loss: 0.3670 - val_accuracy: 0.8831\n",
            "Epoch 35/100\n",
            "20/20 [==============================] - 0s 5ms/step - loss: 0.3620 - accuracy: 0.8894 - val_loss: 0.3663 - val_accuracy: 0.8831\n",
            "Epoch 36/100\n",
            "20/20 [==============================] - 0s 5ms/step - loss: 0.3569 - accuracy: 0.8894 - val_loss: 0.3658 - val_accuracy: 0.8831\n",
            "Epoch 37/100\n",
            "20/20 [==============================] - 0s 5ms/step - loss: 0.3523 - accuracy: 0.8894 - val_loss: 0.3651 - val_accuracy: 0.8831\n",
            "Epoch 38/100\n",
            "20/20 [==============================] - 0s 5ms/step - loss: 0.3559 - accuracy: 0.8894 - val_loss: 0.3644 - val_accuracy: 0.8831\n",
            "Epoch 39/100\n",
            "20/20 [==============================] - 0s 5ms/step - loss: 0.3599 - accuracy: 0.8894 - val_loss: 0.3640 - val_accuracy: 0.8831\n",
            "Epoch 40/100\n",
            "20/20 [==============================] - 0s 4ms/step - loss: 0.3527 - accuracy: 0.8894 - val_loss: 0.3634 - val_accuracy: 0.8831\n",
            "Epoch 41/100\n",
            "20/20 [==============================] - 0s 5ms/step - loss: 0.3436 - accuracy: 0.8894 - val_loss: 0.3630 - val_accuracy: 0.8831\n",
            "Epoch 42/100\n",
            "20/20 [==============================] - 0s 13ms/step - loss: 0.3574 - accuracy: 0.8894 - val_loss: 0.3626 - val_accuracy: 0.8831\n",
            "Epoch 43/100\n",
            "20/20 [==============================] - 0s 5ms/step - loss: 0.3551 - accuracy: 0.8894 - val_loss: 0.3622 - val_accuracy: 0.8831\n",
            "Epoch 44/100\n",
            "20/20 [==============================] - 0s 5ms/step - loss: 0.3558 - accuracy: 0.8894 - val_loss: 0.3612 - val_accuracy: 0.8831\n",
            "Epoch 45/100\n",
            "20/20 [==============================] - 0s 4ms/step - loss: 0.3565 - accuracy: 0.8894 - val_loss: 0.3606 - val_accuracy: 0.8831\n",
            "Epoch 46/100\n",
            "20/20 [==============================] - 0s 4ms/step - loss: 0.3535 - accuracy: 0.8894 - val_loss: 0.3601 - val_accuracy: 0.8831\n",
            "Epoch 47/100\n",
            "20/20 [==============================] - 0s 4ms/step - loss: 0.3532 - accuracy: 0.8894 - val_loss: 0.3596 - val_accuracy: 0.8831\n",
            "Epoch 48/100\n",
            "20/20 [==============================] - 0s 4ms/step - loss: 0.3489 - accuracy: 0.8894 - val_loss: 0.3592 - val_accuracy: 0.8831\n",
            "Epoch 49/100\n",
            "20/20 [==============================] - 0s 4ms/step - loss: 0.3483 - accuracy: 0.8894 - val_loss: 0.3588 - val_accuracy: 0.8831\n",
            "Epoch 50/100\n",
            "20/20 [==============================] - 0s 5ms/step - loss: 0.3536 - accuracy: 0.8894 - val_loss: 0.3583 - val_accuracy: 0.8831\n",
            "Epoch 51/100\n",
            "20/20 [==============================] - 0s 5ms/step - loss: 0.3506 - accuracy: 0.8894 - val_loss: 0.3580 - val_accuracy: 0.8831\n",
            "Epoch 52/100\n",
            "20/20 [==============================] - 0s 5ms/step - loss: 0.3549 - accuracy: 0.8894 - val_loss: 0.3578 - val_accuracy: 0.8831\n",
            "Epoch 53/100\n",
            "20/20 [==============================] - 0s 5ms/step - loss: 0.3552 - accuracy: 0.8894 - val_loss: 0.3575 - val_accuracy: 0.8831\n",
            "Epoch 54/100\n",
            "20/20 [==============================] - 0s 4ms/step - loss: 0.3488 - accuracy: 0.8894 - val_loss: 0.3571 - val_accuracy: 0.8831\n",
            "Epoch 55/100\n",
            "20/20 [==============================] - 0s 5ms/step - loss: 0.3500 - accuracy: 0.8894 - val_loss: 0.3568 - val_accuracy: 0.8831\n",
            "Epoch 56/100\n",
            "20/20 [==============================] - 0s 4ms/step - loss: 0.3508 - accuracy: 0.8894 - val_loss: 0.3564 - val_accuracy: 0.8831\n",
            "Epoch 57/100\n",
            "20/20 [==============================] - 0s 5ms/step - loss: 0.3504 - accuracy: 0.8894 - val_loss: 0.3563 - val_accuracy: 0.8831\n",
            "Epoch 58/100\n",
            "20/20 [==============================] - 0s 5ms/step - loss: 0.3499 - accuracy: 0.8894 - val_loss: 0.3561 - val_accuracy: 0.8831\n",
            "Epoch 59/100\n",
            "20/20 [==============================] - 0s 5ms/step - loss: 0.3483 - accuracy: 0.8894 - val_loss: 0.3556 - val_accuracy: 0.8831\n",
            "Epoch 60/100\n",
            "20/20 [==============================] - 0s 5ms/step - loss: 0.3460 - accuracy: 0.8894 - val_loss: 0.3550 - val_accuracy: 0.8831\n",
            "Epoch 61/100\n",
            "20/20 [==============================] - 0s 5ms/step - loss: 0.3573 - accuracy: 0.8894 - val_loss: 0.3552 - val_accuracy: 0.8831\n",
            "Epoch 62/100\n",
            "20/20 [==============================] - 0s 5ms/step - loss: 0.3501 - accuracy: 0.8894 - val_loss: 0.3546 - val_accuracy: 0.8831\n",
            "Epoch 63/100\n",
            "20/20 [==============================] - 0s 10ms/step - loss: 0.3517 - accuracy: 0.8894 - val_loss: 0.3542 - val_accuracy: 0.8831\n",
            "Epoch 64/100\n",
            "20/20 [==============================] - 0s 4ms/step - loss: 0.3538 - accuracy: 0.8894 - val_loss: 0.3547 - val_accuracy: 0.8831\n",
            "Epoch 65/100\n",
            "20/20 [==============================] - 0s 5ms/step - loss: 0.3441 - accuracy: 0.8894 - val_loss: 0.3545 - val_accuracy: 0.8831\n",
            "Epoch 66/100\n",
            "20/20 [==============================] - 0s 5ms/step - loss: 0.3490 - accuracy: 0.8894 - val_loss: 0.3542 - val_accuracy: 0.8831\n",
            "Epoch 67/100\n",
            "20/20 [==============================] - 0s 5ms/step - loss: 0.3520 - accuracy: 0.8894 - val_loss: 0.3540 - val_accuracy: 0.8831\n",
            "Epoch 68/100\n",
            "20/20 [==============================] - 0s 5ms/step - loss: 0.3428 - accuracy: 0.8894 - val_loss: 0.3538 - val_accuracy: 0.8831\n",
            "Epoch 69/100\n",
            "20/20 [==============================] - 0s 5ms/step - loss: 0.3448 - accuracy: 0.8894 - val_loss: 0.3537 - val_accuracy: 0.8831\n",
            "Epoch 70/100\n",
            "20/20 [==============================] - 0s 5ms/step - loss: 0.3431 - accuracy: 0.8894 - val_loss: 0.3537 - val_accuracy: 0.8831\n",
            "Epoch 71/100\n",
            "20/20 [==============================] - 0s 5ms/step - loss: 0.3450 - accuracy: 0.8894 - val_loss: 0.3532 - val_accuracy: 0.8831\n",
            "Epoch 72/100\n",
            "20/20 [==============================] - 0s 5ms/step - loss: 0.3552 - accuracy: 0.8894 - val_loss: 0.3530 - val_accuracy: 0.8831\n",
            "Epoch 73/100\n",
            "20/20 [==============================] - 0s 5ms/step - loss: 0.3504 - accuracy: 0.8894 - val_loss: 0.3527 - val_accuracy: 0.8831\n",
            "Epoch 74/100\n",
            "20/20 [==============================] - 0s 6ms/step - loss: 0.3451 - accuracy: 0.8894 - val_loss: 0.3522 - val_accuracy: 0.8831\n",
            "Epoch 75/100\n",
            "20/20 [==============================] - 0s 5ms/step - loss: 0.3492 - accuracy: 0.8894 - val_loss: 0.3522 - val_accuracy: 0.8831\n",
            "Epoch 76/100\n",
            "20/20 [==============================] - 0s 4ms/step - loss: 0.3446 - accuracy: 0.8894 - val_loss: 0.3522 - val_accuracy: 0.8831\n",
            "Epoch 77/100\n",
            "20/20 [==============================] - 0s 5ms/step - loss: 0.3504 - accuracy: 0.8894 - val_loss: 0.3519 - val_accuracy: 0.8831\n",
            "Epoch 78/100\n",
            "20/20 [==============================] - 0s 5ms/step - loss: 0.3501 - accuracy: 0.8894 - val_loss: 0.3518 - val_accuracy: 0.8831\n",
            "Epoch 79/100\n",
            "20/20 [==============================] - 0s 5ms/step - loss: 0.3482 - accuracy: 0.8894 - val_loss: 0.3515 - val_accuracy: 0.8831\n",
            "Epoch 80/100\n",
            "20/20 [==============================] - 0s 4ms/step - loss: 0.3432 - accuracy: 0.8894 - val_loss: 0.3510 - val_accuracy: 0.8831\n",
            "Epoch 81/100\n",
            "20/20 [==============================] - 0s 4ms/step - loss: 0.3462 - accuracy: 0.8894 - val_loss: 0.3507 - val_accuracy: 0.8831\n",
            "Epoch 82/100\n",
            "20/20 [==============================] - 0s 10ms/step - loss: 0.3492 - accuracy: 0.8894 - val_loss: 0.3503 - val_accuracy: 0.8831\n",
            "Epoch 83/100\n",
            "20/20 [==============================] - 0s 4ms/step - loss: 0.3489 - accuracy: 0.8894 - val_loss: 0.3501 - val_accuracy: 0.8831\n",
            "Epoch 84/100\n",
            "20/20 [==============================] - 0s 6ms/step - loss: 0.3412 - accuracy: 0.8894 - val_loss: 0.3501 - val_accuracy: 0.8831\n",
            "Epoch 85/100\n",
            "20/20 [==============================] - 0s 5ms/step - loss: 0.3498 - accuracy: 0.8894 - val_loss: 0.3498 - val_accuracy: 0.8831\n",
            "Epoch 86/100\n",
            "20/20 [==============================] - 0s 5ms/step - loss: 0.3475 - accuracy: 0.8894 - val_loss: 0.3497 - val_accuracy: 0.8831\n",
            "Epoch 87/100\n",
            "20/20 [==============================] - 0s 5ms/step - loss: 0.3480 - accuracy: 0.8894 - val_loss: 0.3492 - val_accuracy: 0.8831\n",
            "Epoch 88/100\n",
            "20/20 [==============================] - 0s 5ms/step - loss: 0.3411 - accuracy: 0.8894 - val_loss: 0.3489 - val_accuracy: 0.8831\n",
            "Epoch 89/100\n",
            "20/20 [==============================] - 0s 5ms/step - loss: 0.3488 - accuracy: 0.8894 - val_loss: 0.3488 - val_accuracy: 0.8831\n",
            "Epoch 90/100\n",
            "20/20 [==============================] - 0s 5ms/step - loss: 0.3505 - accuracy: 0.8894 - val_loss: 0.3488 - val_accuracy: 0.8831\n",
            "Epoch 91/100\n",
            "20/20 [==============================] - 0s 4ms/step - loss: 0.3482 - accuracy: 0.8894 - val_loss: 0.3485 - val_accuracy: 0.8831\n",
            "Epoch 92/100\n",
            "20/20 [==============================] - 0s 5ms/step - loss: 0.3387 - accuracy: 0.8894 - val_loss: 0.3484 - val_accuracy: 0.8831\n",
            "Epoch 93/100\n",
            "20/20 [==============================] - 0s 4ms/step - loss: 0.3467 - accuracy: 0.8894 - val_loss: 0.3482 - val_accuracy: 0.8831\n",
            "Epoch 94/100\n",
            "20/20 [==============================] - 0s 5ms/step - loss: 0.3420 - accuracy: 0.8894 - val_loss: 0.3479 - val_accuracy: 0.8831\n",
            "Epoch 95/100\n",
            "20/20 [==============================] - 0s 7ms/step - loss: 0.3507 - accuracy: 0.8894 - val_loss: 0.3480 - val_accuracy: 0.8831\n",
            "Epoch 96/100\n",
            "20/20 [==============================] - 0s 11ms/step - loss: 0.3482 - accuracy: 0.8894 - val_loss: 0.3478 - val_accuracy: 0.8831\n",
            "Epoch 97/100\n",
            "20/20 [==============================] - 0s 5ms/step - loss: 0.3488 - accuracy: 0.8894 - val_loss: 0.3478 - val_accuracy: 0.8831\n",
            "Epoch 98/100\n",
            "20/20 [==============================] - 0s 5ms/step - loss: 0.3444 - accuracy: 0.8894 - val_loss: 0.3473 - val_accuracy: 0.8831\n",
            "Epoch 99/100\n",
            "20/20 [==============================] - 0s 5ms/step - loss: 0.3414 - accuracy: 0.8894 - val_loss: 0.3474 - val_accuracy: 0.8831\n",
            "Epoch 100/100\n",
            "20/20 [==============================] - 0s 11ms/step - loss: 0.3439 - accuracy: 0.8894 - val_loss: 0.3473 - val_accuracy: 0.8831\n"
          ]
        },
        {
          "data": {
            "image/png": "[encoded data removed]",
            "text/plain": [
              "<Figure size 1000x600 with 2 Axes>"
            ]
          },
          "metadata": {},
          "output_type": "display_data"
        },
        {
          "name": "stdout",
          "output_type": "stream",
          "text": [
            "7/7 [==============================] - 0s 3ms/step - loss: 0.4157 - accuracy: 0.8549\n",
            "0.8549222946166992\n"
          ]
        }
      ],
      "source": [
        "# now start to train your own model!\n",
        "\n",
        "# Design a deep neural network model tailored to our predication task of in-hospital mortality. \n",
        "# Select relevant features. \n",
        "# Your model should include a combination of dense  layers and activation functions optimized for binary classification. \n",
        "# Try to play with the  optimizer, loss, etc.\n",
        "\n",
        "data_clean = data.dropna()\n",
        "# y = data_clean['outcome']\n",
        "# X = data_clean.drop(columns='outcome')\n",
        "X = clean_data[['age','Blood sodium']]\n",
        "y = clean_data[['outcome']]\n",
        "\n",
        "\n",
        "\n",
        "X_standrd = StandardScaler()\n",
        "X_standrd = X_standrd.fit_transform(X)\n",
        "\n",
        "X_train, X_test, y_train, y_test = train_test_split(X_standrd, y, test_size=0.2, random_state=42)\n",
        "\n",
        "# 3 construct DNN\n",
        "model = Sequential([\n",
        "    Dense(3, activation='relu',input_shape=(X_train.shape[1],)),\n",
        "    Dropout(0.05),\n",
        "    Dense(3, activation='relu'),\n",
        "    Dropout(0.05),\n",
        "    Dense(2, activation='relu'),\n",
        "    Dense(1, activation='sigmoid')\n",
        "\n",
        "    \n",
        "])\n",
        "\n",
        "# 4 Compile the model\n",
        "model.compile(optimizer='adam', loss='binary_crossentropy', metrics=['accuracy'])\n",
        "\n",
        "# Train the model\n",
        "history = model.fit(X_train, y_train, epochs=100, validation_split=0.2, verbose=1)\n",
        "\n",
        "\n",
        "plt.figure(figsize=(10, 6))\n",
        "plot_accuracy(history)\n",
        "plot_loss(history)\n",
        "plt.show()\n",
        "\n",
        "eval_ = model.evaluate(X_test, y_test, verbose=1)[1]\n",
        "print(eval_)"
      ]
    },
    {
      "cell_type": "code",
      "execution_count": null,
      "metadata": {},
      "outputs": [],
      "source": []
    }
  ],
  "metadata": {
    "accelerator": "GPU",
    "colab": {
      "gpuType": "T4",
      "provenance": []
    },
    "kernelspec": {
      "display_name": "Python 3",
      "name": "python3"
    },
    "language_info": {
      "codemirror_mode": {
        "name": "ipython",
        "version": 3
      },
      "file_extension": ".py",
      "mimetype": "text/x-python",
      "name": "python",
      "nbconvert_exporter": "python",
      "pygments_lexer": "ipython3",
      "version": "3.8.5"
    }
  },
  "nbformat": 4,
  "nbformat_minor": 0
}
