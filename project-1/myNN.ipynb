{
 "cells": [
  {
   "cell_type": "code",
   "execution_count": 3,
   "metadata": {},
   "outputs": [],
   "source": [
    "import numpy as np\n",
    "from scipy import stats\n",
    "import matplotlib.pyplot as plt\n",
    "from sklearn.model_selection import train_test_split\n",
    "from sklearn.preprocessing import StandardScaler\n",
    "import matplotlib.pyplot as plt\n",
    "import seaborn as sns\n",
    "import numpy as np\n",
    "import tensorflow as tf\n",
    "from tensorflow import keras\n",
    "\n",
    "import os\n",
    "import pandas as pd\n",
    "import matplotlib.pyplot as plt\n",
    "\n",
    "import wandb\n",
    "from wandb.integration.keras import WandbCallback\n",
    "\n",
    "# Load the data\n",
    "wandb.login()\n",
    "data = pd.read_csv(\"./MIMIC_data.csv\")\n"
   ]
  },
  {
   "cell_type": "markdown",
   "metadata": {},
   "source": []
  },
  {
   "cell_type": "code",
   "execution_count": 4,
   "metadata": {},
   "outputs": [],
   "source": [
    "import tensorflow\n",
    "a = tensorflow.keras\n"
   ]
  },
  {
   "cell_type": "code",
   "execution_count": 5,
   "metadata": {},
   "outputs": [
    {
     "name": "stdout",
     "output_type": "stream",
     "text": [
      "Original class distribution:\n",
      "outcome\n",
      "0.0    1017\n",
      "1.0     159\n",
      "Name: count, dtype: int64\n",
      "\n",
      "Balanced class distribution:\n",
      "outcome\n",
      "0.0    159\n",
      "1.0    159\n",
      "Name: count, dtype: int64\n",
      "Original class distribution:\n",
      "outcome\n",
      "0.0    1017\n",
      "1.0     159\n",
      "Name: count, dtype: int64\n",
      "\n",
      "Balanced class distribution:\n",
      "outcome\n",
      "0.0    1017\n",
      "1.0    1017\n",
      "Name: count, dtype: int64\n",
      "(1177, 51)\n",
      "(318, 51)\n",
      "(2034, 51)\n"
     ]
    }
   ],
   "source": [
    "\n",
    "from sklearn.utils import resample\n",
    "# data_clean = data.dropna()\n",
    "# y = data_clean['outcome']\n",
    "# X = data_clean.drop(columns='outcome')\n",
    "def balance_dataset(df, column, method='undersample', random_state=42):\n",
    "    \"\"\"\n",
    "    Balance a dataset based on the values in a specified column.\n",
    "    \n",
    "    Parameters:\n",
    "    df (pandas.DataFrame): Input DataFrame\n",
    "    column (str): Column name to balance by\n",
    "    method (str): 'undersample' or 'oversample'\n",
    "    random_state (int): Random state for reproducibility\n",
    "    \n",
    "    Returns:\n",
    "    pandas.DataFrame: Balanced DataFrame\n",
    "    \"\"\"\n",
    "    # Get value counts\n",
    "    value_counts = df[column].value_counts()\n",
    "    print(f\"Original class distribution:\\n{value_counts}\\n\")\n",
    "    \n",
    "    if method == 'undersample':\n",
    "        # Get the minimum class count\n",
    "        min_count = value_counts.min()\n",
    "        \n",
    "        # Create balanced dataframe\n",
    "        balanced_df = pd.concat([\n",
    "            resample(df[df[column] == val],\n",
    "                    replace=False,\n",
    "                    n_samples=min_count,\n",
    "                    random_state=random_state)\n",
    "            for val in value_counts.index\n",
    "        ])\n",
    "        \n",
    "    elif method == 'oversample':\n",
    "        # Get the maximum class count\n",
    "        max_count = value_counts.max()\n",
    "        \n",
    "        # Create balanced dataframe\n",
    "        balanced_df = pd.concat([\n",
    "            resample(df[df[column] == val],\n",
    "                    replace=True,\n",
    "                    n_samples=max_count,\n",
    "                    random_state=random_state)\n",
    "            if count < max_count else df[df[column] == val]\n",
    "            for val, count in value_counts.items()\n",
    "        ])\n",
    "    \n",
    "    print(f\"Balanced class distribution:\\n{balanced_df[column].value_counts()}\")\n",
    "    return balanced_df.reset_index(drop=True)\n",
    "\n",
    "\n",
    "\n",
    "balanced_data_under = balance_dataset(data, 'outcome', method='undersample', random_state=42)\n",
    "balanced_data_over = balance_dataset(data, 'outcome', method='oversample', random_state=42)\n",
    "\n",
    "print(data.shape)\n",
    "print(balanced_data_under.shape)\n",
    "print(balanced_data_over.shape)\n",
    "\n",
    "data = balanced_data_over"
   ]
  },
  {
   "cell_type": "code",
   "execution_count": 6,
   "metadata": {},
   "outputs": [],
   "source": [
    "\n",
    "\n",
    "# build input pipeline using tf.data\n",
    "\n",
    "\n",
    "def get_train_and_val(data_feaure_and_prediction, BATCH_SIZE = 64):\n",
    "    \"\"\"_summary_\n",
    "    this function gets the relevant feaure and variables \n",
    "    Args:\n",
    "        data_feaure_and_prediction (_type_): the last colum should be the output, the first ones should be the feature(s)\n",
    "        BATCH_SIZE (int, optional): _description_. Defaults to 64.\n",
    "\n",
    "    Returns:\n",
    "        _type_: _description_\n",
    "    \"\"\"\n",
    "    # data_feaure_and_prediction = data_feaure_and_prediction.dropna() # drop the irrelevant values\n",
    "    X = data_feaure_and_prediction[data_feaure_and_prediction.keys()[:-1]] # the feature\n",
    "    y = data_feaure_and_prediction[data_feaure_and_prediction.keys()[-1]] # its prediction\n",
    "\n",
    "    X_standard = StandardScaler()\n",
    "    X_standard = X_standard.fit_transform(X)\n",
    "    X_train, X_test, y_train, y_test = train_test_split(X_standard, y, test_size=0.2, random_state=42)\n",
    "\n",
    "    train_dataset = tf.data.Dataset.from_tensor_slices((X_train, y_train))\n",
    "    train_dataset = train_dataset.shuffle(buffer_size=1024).batch(BATCH_SIZE)\n",
    "\n",
    "    val_dataset = tf.data.Dataset.from_tensor_slices((X_test, y_test))\n",
    "    val_dataset = val_dataset.batch(BATCH_SIZE)\n",
    "    return [train_dataset, val_dataset]\n"
   ]
  },
  {
   "cell_type": "code",
   "execution_count": 7,
   "metadata": {},
   "outputs": [],
   "source": [
    "def make_model(feature_num, input_name=\"input name\"):\n",
    "    inputs = keras.Input((feature_num,), name=input_name)\n",
    "    x1 = keras.layers.Dense(64, activation=\"relu\")(inputs)\n",
    "    x1 = keras.layers.Dropout(0.3)(x1)\n",
    "\n",
    "    x2 = keras.layers.Dense(64, activation=\"relu\")(x1)\n",
    "    x2 = keras.layers.Dropout(0.3)(x2)\n",
    "\n",
    "    outputs = keras.layers.Dense(1, name=\"predictions\")(x2)\n",
    "\n",
    "    return keras.Model(inputs=inputs, outputs=outputs)\n",
    "\n"
   ]
  },
  {
   "cell_type": "code",
   "execution_count": 8,
   "metadata": {},
   "outputs": [],
   "source": [
    "def train_step(x, y, model, optimizer, loss_fn, train_acc_metric):\n",
    "    with tf.GradientTape() as tape:\n",
    "        logits = model(x, training=True)\n",
    "        loss_value = loss_fn(y, logits)\n",
    "\n",
    "    grads = tape.gradient(loss_value, model.trainable_weights)\n",
    "    optimizer.apply_gradients(zip(grads, model.trainable_weights))\n",
    "\n",
    "    train_acc_metric.update_state(y, logits) # update the weights of the network\n",
    "\n",
    "    return loss_value\n",
    "\n",
    "def test_step(x, y, model, loss_fn, val_acc_metric):\n",
    "    val_logits = model(x, training=False)\n",
    "    loss_value = loss_fn(y, val_logits)\n",
    "    val_acc_metric.update_state(y, val_logits)\n",
    "\n",
    "    return loss_value\n",
    "\n",
    "def train(train_dataset, val_dataset,  model, optimizer,\n",
    "          train_acc_metric, val_acc_metric, loss_fn,\n",
    "          epochs=10, log_step=200, val_log_step=50):\n",
    "  \n",
    "    for epoch in range(epochs):\n",
    "        print(\"\\nStart of epoch %d\" % (epoch,))\n",
    "\n",
    "        train_loss = []   \n",
    "        val_loss = []\n",
    "\n",
    "        # Iterate over the batches of the dataset\n",
    "        for step, (x_batch_train, y_batch_train) in enumerate(train_dataset):\n",
    "            loss_value = train_step(x_batch_train, y_batch_train, \n",
    "                                    model, optimizer, \n",
    "                                    loss_fn, train_acc_metric)\n",
    "            train_loss.append(float(loss_value))\n",
    "\n",
    "        # Run a validation loop at the end of each epoch\n",
    "        for step, (x_batch_val, y_batch_val) in enumerate(val_dataset):\n",
    "            val_loss_value = test_step(x_batch_val, y_batch_val, \n",
    "                                       model, loss_fn, \n",
    "                                       val_acc_metric)\n",
    "            val_loss.append(float(val_loss_value))\n",
    "            \n",
    "        # Display metrics at the end of each epoch\n",
    "        train_acc = train_acc_metric.result()\n",
    "        print(\"Training acc over epoch: %.4f\" % (float(train_acc),))\n",
    "\n",
    "        val_acc = val_acc_metric.result()\n",
    "        print(\"Validation acc: %.4f\" % (float(val_acc),))\n",
    "\n",
    "        # Reset metrics at the end of each epoch\n",
    "        train_acc_metric.reset_state()\n",
    "        val_acc_metric.reset_state()\n",
    "\n",
    "        # ⭐: log metrics using wandb.log\n",
    "        wandb.log({'epochs': epoch,\n",
    "                   'loss': np.mean(train_loss),\n",
    "                   'acc': float(train_acc), \n",
    "                   'val_loss': np.mean(val_loss),\n",
    "                   'val_acc':float(val_acc)})"
   ]
  },
  {
   "cell_type": "code",
   "execution_count": 9,
   "metadata": {},
   "outputs": [],
   "source": [
    "# # initialize wandb with your project name and optionally with configutations.\n",
    "# # play around with the config values and see the result on your wandb dashboard.\n",
    "# feature = [\"age\"]\n",
    "\n",
    "# config = {\n",
    "#             \"epochs\": 10,\n",
    "#             \"batch_size\": 32,\n",
    "#             \"log_step\": 200,\n",
    "#             \"val_log_step\": 50,\n",
    "#             \"architecture\": \"CNN\",\n",
    "#             \"dataset\": \"MIMIC\"\n",
    "#     }\n",
    "\n",
    "# run = wandb.init(project='my-tf-integration', config=config)\n",
    "# config = wandb.config\n",
    "\n",
    "# prediction = \"outcome\"\n",
    "\n",
    "# model_data = data[feature+[prediction]].dropna()\n",
    "# [train_dataset, val_dataset] = get_train_and_val(model_data)\n",
    "\n",
    "\n",
    "# # Initialize model.\n",
    "# model = make_model(len(feature))\n",
    "\n",
    "# # Instantiate an optimizer to train the model.\n",
    "# optimizer = keras.optimizers.Adam()\n",
    "# # Instantiate a loss function.\n",
    "# loss_fn = tf.keras.losses.SparseCategoricalCrossentropy(from_logits=True)\n",
    "\n",
    "# # Prepare the metrics.\n",
    "# train_acc_metric = keras.metrics.SparseCategoricalAccuracy()\n",
    "# val_acc_metric = keras.metrics.SparseCategoricalAccuracy()\n",
    "\n",
    "\n",
    "# train(train_dataset,\n",
    "#     val_dataset, \n",
    "#     model,\n",
    "#     optimizer,\n",
    "#     train_acc_metric,\n",
    "#     val_acc_metric,\n",
    "#     epochs=config.epochs, \n",
    "#     log_step=config.log_step, \n",
    "#     val_log_step=config.val_log_step)\n",
    "\n",
    "# run.finish()  # In Jupyter/Colab, let us know you're finished!\n",
    "\n",
    "\n"
   ]
  },
  {
   "cell_type": "code",
   "execution_count": 10,
   "metadata": {},
   "outputs": [],
   "source": [
    "# initialize wandb with your project name and optionally with configutations.\n",
    "# play around with the config values and see the result on your wandb dashboard.\n",
    "\n",
    "def run_with_feature(feature):\n",
    "      config = {\n",
    "            \"epochs\": 20,\n",
    "            \"batch_size\": 32,\n",
    "            \"log_step\": 200,\n",
    "            \"val_log_step\": 50,\n",
    "            \"feature_used\": str(feature)\n",
    "      }\n",
    "\n",
    "      run = wandb.init(project='my-tf-integration', config=config)\n",
    "      config = wandb.config\n",
    "\n",
    "      prediction = \"outcome\"\n",
    "\n",
    "      model_data = data[feature+[prediction]].dropna()\n",
    "      [train_dataset, val_dataset] = get_train_and_val(model_data)\n",
    "\n",
    "\n",
    "      # Initialize model.\n",
    "      model = make_model(len(feature))\n",
    "\n",
    "      # Instantiate an optimizer to train the model.\n",
    "      optimizer = keras.optimizers.Adam()\n",
    "      # Instantiate a loss function.\n",
    "      loss_fn = tf.keras.losses.SparseCategoricalCrossentropy(from_logits=True)\n",
    "\n",
    "      # Prepare the metrics.\n",
    "      train_acc_metric = keras.metrics.SparseCategoricalAccuracy()\n",
    "      val_acc_metric = keras.metrics.SparseCategoricalAccuracy()\n",
    "\n",
    "\n",
    "      train(train_dataset,\n",
    "            val_dataset, \n",
    "            model,\n",
    "            optimizer,\n",
    "            train_acc_metric,\n",
    "            val_acc_metric,\n",
    "            loss_fn,\n",
    "            epochs=config.epochs, \n",
    "            log_step=config.log_step, \n",
    "            val_log_step=config.val_log_step)\n",
    "\n",
    "      run.finish()  # In Jupyter/Colab, let us know you're finished!\n",
    "\n",
    "\n",
    "# feature = [\"age\"]\n",
    "# run_with_feature(feature)"
   ]
  },
  {
   "cell_type": "code",
   "execution_count": 12,
   "metadata": {},
   "outputs": [
    {
     "data": {
      "text/html": [
       "Finishing last run (ID:1t0ox6dk) before initializing another..."
      ],
      "text/plain": [
       "<IPython.core.display.HTML object>"
      ]
     },
     "metadata": {},
     "output_type": "display_data"
    },
    {
     "data": {
      "text/html": [
       " View run <strong style=\"color:#cdcd00\">cool-galaxy-224</strong> at: <a href='https://wandb.ai/shaicahana-hebrew-university-of-jerusalem/my-tf-integration/runs/1t0ox6dk' target=\"_blank\">https://wandb.ai/shaicahana-hebrew-university-of-jerusalem/my-tf-integration/runs/1t0ox6dk</a><br/> View project at: <a href='https://wandb.ai/shaicahana-hebrew-university-of-jerusalem/my-tf-integration' target=\"_blank\">https://wandb.ai/shaicahana-hebrew-university-of-jerusalem/my-tf-integration</a><br/>Synced 5 W&B file(s), 0 media file(s), 0 artifact file(s) and 0 other file(s)"
      ],
      "text/plain": [
       "<IPython.core.display.HTML object>"
      ]
     },
     "metadata": {},
     "output_type": "display_data"
    },
    {
     "data": {
      "text/html": [
       "Find logs at: <code>./wandb/run-20241028_221441-1t0ox6dk/logs</code>"
      ],
      "text/plain": [
       "<IPython.core.display.HTML object>"
      ]
     },
     "metadata": {},
     "output_type": "display_data"
    },
    {
     "data": {
      "text/html": [
       "Successfully finished last run (ID:1t0ox6dk). Initializing new run:<br/>"
      ],
      "text/plain": [
       "<IPython.core.display.HTML object>"
      ]
     },
     "metadata": {},
     "output_type": "display_data"
    },
    {
     "data": {
      "text/html": [
       "Tracking run with wandb version 0.18.5"
      ],
      "text/plain": [
       "<IPython.core.display.HTML object>"
      ]
     },
     "metadata": {},
     "output_type": "display_data"
    },
    {
     "data": {
      "text/html": [
       "Run data is saved locally in <code>/Users/shaicahana/Documents/AI_DL/colab/AI-DL/project-1/wandb/run-20241028_221543-i10hbwia</code>"
      ],
      "text/plain": [
       "<IPython.core.display.HTML object>"
      ]
     },
     "metadata": {},
     "output_type": "display_data"
    },
    {
     "data": {
      "text/html": [
       "Syncing run <strong><a href='https://wandb.ai/shaicahana-hebrew-university-of-jerusalem/my-tf-integration/runs/i10hbwia' target=\"_blank\">ruby-sun-225</a></strong> to <a href='https://wandb.ai/shaicahana-hebrew-university-of-jerusalem/my-tf-integration' target=\"_blank\">Weights & Biases</a> (<a href='https://wandb.me/run' target=\"_blank\">docs</a>)<br/>"
      ],
      "text/plain": [
       "<IPython.core.display.HTML object>"
      ]
     },
     "metadata": {},
     "output_type": "display_data"
    },
    {
     "data": {
      "text/html": [
       " View project at <a href='https://wandb.ai/shaicahana-hebrew-university-of-jerusalem/my-tf-integration' target=\"_blank\">https://wandb.ai/shaicahana-hebrew-university-of-jerusalem/my-tf-integration</a>"
      ],
      "text/plain": [
       "<IPython.core.display.HTML object>"
      ]
     },
     "metadata": {},
     "output_type": "display_data"
    },
    {
     "data": {
      "text/html": [
       " View run at <a href='https://wandb.ai/shaicahana-hebrew-university-of-jerusalem/my-tf-integration/runs/i10hbwia' target=\"_blank\">https://wandb.ai/shaicahana-hebrew-university-of-jerusalem/my-tf-integration/runs/i10hbwia</a>"
      ],
      "text/plain": [
       "<IPython.core.display.HTML object>"
      ]
     },
     "metadata": {},
     "output_type": "display_data"
    },
    {
     "name": "stdout",
     "output_type": "stream",
     "text": [
      "\n",
      "Start of epoch 0\n"
     ]
    },
    {
     "name": "stderr",
     "output_type": "stream",
     "text": [
      "2024-10-28 22:15:46.672402: W tensorflow/core/framework/op_kernel.cc:1841] OP_REQUIRES failed at sparse_xent_op.cc:103 : INVALID_ARGUMENT: Received a label value of 1 which is outside the valid range of [0, 1).  Label values: 1 0 1 0 0 0 0 0 0 0 1 1 1 0 1 1 0 0 0 0 0 1 0 1 0 0 0 0 1 0 0 0 1 1 0 0 0 0 1 1 1 1 1 0 0 0 0 1 0 0 1 1 0 1 1 1 0 1 0 0 1 0 1 0\n",
      "2024-10-28 22:15:46.672424: I tensorflow/core/framework/local_rendezvous.cc:405] Local rendezvous is aborting with status: INVALID_ARGUMENT: Received a label value of 1 which is outside the valid range of [0, 1).  Label values: 1 0 1 0 0 0 0 0 0 0 1 1 1 0 1 1 0 0 0 0 0 1 0 1 0 0 0 0 1 0 0 0 1 1 0 0 0 0 1 1 1 1 1 0 0 0 0 1 0 0 1 1 0 1 1 1 0 1 0 0 1 0 1 0\n"
     ]
    },
    {
     "data": {
      "text/html": [
       "Finishing last run (ID:i10hbwia) before initializing another..."
      ],
      "text/plain": [
       "<IPython.core.display.HTML object>"
      ]
     },
     "metadata": {},
     "output_type": "display_data"
    },
    {
     "data": {
      "text/html": [
       " View run <strong style=\"color:#cdcd00\">ruby-sun-225</strong> at: <a href='https://wandb.ai/shaicahana-hebrew-university-of-jerusalem/my-tf-integration/runs/i10hbwia' target=\"_blank\">https://wandb.ai/shaicahana-hebrew-university-of-jerusalem/my-tf-integration/runs/i10hbwia</a><br/> View project at: <a href='https://wandb.ai/shaicahana-hebrew-university-of-jerusalem/my-tf-integration' target=\"_blank\">https://wandb.ai/shaicahana-hebrew-university-of-jerusalem/my-tf-integration</a><br/>Synced 5 W&B file(s), 0 media file(s), 0 artifact file(s) and 0 other file(s)"
      ],
      "text/plain": [
       "<IPython.core.display.HTML object>"
      ]
     },
     "metadata": {},
     "output_type": "display_data"
    },
    {
     "data": {
      "text/html": [
       "Find logs at: <code>./wandb/run-20241028_221543-i10hbwia/logs</code>"
      ],
      "text/plain": [
       "<IPython.core.display.HTML object>"
      ]
     },
     "metadata": {},
     "output_type": "display_data"
    },
    {
     "data": {
      "text/html": [
       "Successfully finished last run (ID:i10hbwia). Initializing new run:<br/>"
      ],
      "text/plain": [
       "<IPython.core.display.HTML object>"
      ]
     },
     "metadata": {},
     "output_type": "display_data"
    },
    {
     "data": {
      "text/html": [
       "Tracking run with wandb version 0.18.5"
      ],
      "text/plain": [
       "<IPython.core.display.HTML object>"
      ]
     },
     "metadata": {},
     "output_type": "display_data"
    },
    {
     "data": {
      "text/html": [
       "Run data is saved locally in <code>/Users/shaicahana/Documents/AI_DL/colab/AI-DL/project-1/wandb/run-20241028_221546-yptkwceq</code>"
      ],
      "text/plain": [
       "<IPython.core.display.HTML object>"
      ]
     },
     "metadata": {},
     "output_type": "display_data"
    },
    {
     "data": {
      "text/html": [
       "Syncing run <strong><a href='https://wandb.ai/shaicahana-hebrew-university-of-jerusalem/my-tf-integration/runs/yptkwceq' target=\"_blank\">ruby-dust-226</a></strong> to <a href='https://wandb.ai/shaicahana-hebrew-university-of-jerusalem/my-tf-integration' target=\"_blank\">Weights & Biases</a> (<a href='https://wandb.me/run' target=\"_blank\">docs</a>)<br/>"
      ],
      "text/plain": [
       "<IPython.core.display.HTML object>"
      ]
     },
     "metadata": {},
     "output_type": "display_data"
    },
    {
     "data": {
      "text/html": [
       " View project at <a href='https://wandb.ai/shaicahana-hebrew-university-of-jerusalem/my-tf-integration' target=\"_blank\">https://wandb.ai/shaicahana-hebrew-university-of-jerusalem/my-tf-integration</a>"
      ],
      "text/plain": [
       "<IPython.core.display.HTML object>"
      ]
     },
     "metadata": {},
     "output_type": "display_data"
    },
    {
     "data": {
      "text/html": [
       " View run at <a href='https://wandb.ai/shaicahana-hebrew-university-of-jerusalem/my-tf-integration/runs/yptkwceq' target=\"_blank\">https://wandb.ai/shaicahana-hebrew-university-of-jerusalem/my-tf-integration/runs/yptkwceq</a>"
      ],
      "text/plain": [
       "<IPython.core.display.HTML object>"
      ]
     },
     "metadata": {},
     "output_type": "display_data"
    },
    {
     "name": "stdout",
     "output_type": "stream",
     "text": [
      "\n",
      "Start of epoch 0\n"
     ]
    },
    {
     "name": "stderr",
     "output_type": "stream",
     "text": [
      "2024-10-28 22:15:49.719078: W tensorflow/core/framework/op_kernel.cc:1841] OP_REQUIRES failed at sparse_xent_op.cc:103 : INVALID_ARGUMENT: Received a label value of 1 which is outside the valid range of [0, 1).  Label values: 0 0 0 1 0 1 1 0 0 0 1 0 0 0 1 1 1 0 0 0 0 1 1 1 0 0 1 0 1 0 1 0 1 1 1 1 0 1 1 0 1 0 0 1 1 1 0 1 0 1 0 0 1 1 0 1 0 0 1 1 0 0 0 1\n"
     ]
    },
    {
     "data": {
      "text/html": [
       "Finishing last run (ID:yptkwceq) before initializing another..."
      ],
      "text/plain": [
       "<IPython.core.display.HTML object>"
      ]
     },
     "metadata": {},
     "output_type": "display_data"
    },
    {
     "data": {
      "text/html": [
       " View run <strong style=\"color:#cdcd00\">ruby-dust-226</strong> at: <a href='https://wandb.ai/shaicahana-hebrew-university-of-jerusalem/my-tf-integration/runs/yptkwceq' target=\"_blank\">https://wandb.ai/shaicahana-hebrew-university-of-jerusalem/my-tf-integration/runs/yptkwceq</a><br/> View project at: <a href='https://wandb.ai/shaicahana-hebrew-university-of-jerusalem/my-tf-integration' target=\"_blank\">https://wandb.ai/shaicahana-hebrew-university-of-jerusalem/my-tf-integration</a><br/>Synced 5 W&B file(s), 0 media file(s), 0 artifact file(s) and 0 other file(s)"
      ],
      "text/plain": [
       "<IPython.core.display.HTML object>"
      ]
     },
     "metadata": {},
     "output_type": "display_data"
    },
    {
     "data": {
      "text/html": [
       "Find logs at: <code>./wandb/run-20241028_221546-yptkwceq/logs</code>"
      ],
      "text/plain": [
       "<IPython.core.display.HTML object>"
      ]
     },
     "metadata": {},
     "output_type": "display_data"
    },
    {
     "data": {
      "text/html": [
       "Successfully finished last run (ID:yptkwceq). Initializing new run:<br/>"
      ],
      "text/plain": [
       "<IPython.core.display.HTML object>"
      ]
     },
     "metadata": {},
     "output_type": "display_data"
    },
    {
     "data": {
      "text/html": [
       "Tracking run with wandb version 0.18.5"
      ],
      "text/plain": [
       "<IPython.core.display.HTML object>"
      ]
     },
     "metadata": {},
     "output_type": "display_data"
    },
    {
     "data": {
      "text/html": [
       "Run data is saved locally in <code>/Users/shaicahana/Documents/AI_DL/colab/AI-DL/project-1/wandb/run-20241028_221549-794exptz</code>"
      ],
      "text/plain": [
       "<IPython.core.display.HTML object>"
      ]
     },
     "metadata": {},
     "output_type": "display_data"
    },
    {
     "data": {
      "text/html": [
       "Syncing run <strong><a href='https://wandb.ai/shaicahana-hebrew-university-of-jerusalem/my-tf-integration/runs/794exptz' target=\"_blank\">spring-butterfly-227</a></strong> to <a href='https://wandb.ai/shaicahana-hebrew-university-of-jerusalem/my-tf-integration' target=\"_blank\">Weights & Biases</a> (<a href='https://wandb.me/run' target=\"_blank\">docs</a>)<br/>"
      ],
      "text/plain": [
       "<IPython.core.display.HTML object>"
      ]
     },
     "metadata": {},
     "output_type": "display_data"
    },
    {
     "data": {
      "text/html": [
       " View project at <a href='https://wandb.ai/shaicahana-hebrew-university-of-jerusalem/my-tf-integration' target=\"_blank\">https://wandb.ai/shaicahana-hebrew-university-of-jerusalem/my-tf-integration</a>"
      ],
      "text/plain": [
       "<IPython.core.display.HTML object>"
      ]
     },
     "metadata": {},
     "output_type": "display_data"
    },
    {
     "data": {
      "text/html": [
       " View run at <a href='https://wandb.ai/shaicahana-hebrew-university-of-jerusalem/my-tf-integration/runs/794exptz' target=\"_blank\">https://wandb.ai/shaicahana-hebrew-university-of-jerusalem/my-tf-integration/runs/794exptz</a>"
      ],
      "text/plain": [
       "<IPython.core.display.HTML object>"
      ]
     },
     "metadata": {},
     "output_type": "display_data"
    },
    {
     "name": "stdout",
     "output_type": "stream",
     "text": [
      "\n",
      "Start of epoch 0\n"
     ]
    },
    {
     "name": "stderr",
     "output_type": "stream",
     "text": [
      "2024-10-28 22:15:52.727714: W tensorflow/core/framework/op_kernel.cc:1841] OP_REQUIRES failed at sparse_xent_op.cc:103 : INVALID_ARGUMENT: Received a label value of 1 which is outside the valid range of [0, 1).  Label values: 1 0 1 1 1 0 0 1 1 0 0 1 1 0 0 0 1 1 1 1 0 0 0 1 1 0 1 1 0 1 0 0 1 0 1 0 1 0 0 1 0 1 0 1 1 1 0 0 1 1 1 1 1 0 1 0 0 1 1 1 0 1 0 0\n",
      "2024-10-28 22:15:52.727732: I tensorflow/core/framework/local_rendezvous.cc:405] Local rendezvous is aborting with status: INVALID_ARGUMENT: Received a label value of 1 which is outside the valid range of [0, 1).  Label values: 1 0 1 1 1 0 0 1 1 0 0 1 1 0 0 0 1 1 1 1 0 0 0 1 1 0 1 1 0 1 0 0 1 0 1 0 1 0 0 1 0 1 0 1 1 1 0 0 1 1 1 1 1 0 1 0 0 1 1 1 0 1 0 0\n"
     ]
    },
    {
     "data": {
      "text/html": [
       "Finishing last run (ID:794exptz) before initializing another..."
      ],
      "text/plain": [
       "<IPython.core.display.HTML object>"
      ]
     },
     "metadata": {},
     "output_type": "display_data"
    },
    {
     "data": {
      "text/html": [
       " View run <strong style=\"color:#cdcd00\">spring-butterfly-227</strong> at: <a href='https://wandb.ai/shaicahana-hebrew-university-of-jerusalem/my-tf-integration/runs/794exptz' target=\"_blank\">https://wandb.ai/shaicahana-hebrew-university-of-jerusalem/my-tf-integration/runs/794exptz</a><br/> View project at: <a href='https://wandb.ai/shaicahana-hebrew-university-of-jerusalem/my-tf-integration' target=\"_blank\">https://wandb.ai/shaicahana-hebrew-university-of-jerusalem/my-tf-integration</a><br/>Synced 5 W&B file(s), 0 media file(s), 0 artifact file(s) and 0 other file(s)"
      ],
      "text/plain": [
       "<IPython.core.display.HTML object>"
      ]
     },
     "metadata": {},
     "output_type": "display_data"
    },
    {
     "data": {
      "text/html": [
       "Find logs at: <code>./wandb/run-20241028_221549-794exptz/logs</code>"
      ],
      "text/plain": [
       "<IPython.core.display.HTML object>"
      ]
     },
     "metadata": {},
     "output_type": "display_data"
    },
    {
     "data": {
      "text/html": [
       "Successfully finished last run (ID:794exptz). Initializing new run:<br/>"
      ],
      "text/plain": [
       "<IPython.core.display.HTML object>"
      ]
     },
     "metadata": {},
     "output_type": "display_data"
    },
    {
     "data": {
      "text/html": [
       "Tracking run with wandb version 0.18.5"
      ],
      "text/plain": [
       "<IPython.core.display.HTML object>"
      ]
     },
     "metadata": {},
     "output_type": "display_data"
    },
    {
     "data": {
      "text/html": [
       "Run data is saved locally in <code>/Users/shaicahana/Documents/AI_DL/colab/AI-DL/project-1/wandb/run-20241028_221552-2k92wkhm</code>"
      ],
      "text/plain": [
       "<IPython.core.display.HTML object>"
      ]
     },
     "metadata": {},
     "output_type": "display_data"
    },
    {
     "data": {
      "text/html": [
       "Syncing run <strong><a href='https://wandb.ai/shaicahana-hebrew-university-of-jerusalem/my-tf-integration/runs/2k92wkhm' target=\"_blank\">zany-music-228</a></strong> to <a href='https://wandb.ai/shaicahana-hebrew-university-of-jerusalem/my-tf-integration' target=\"_blank\">Weights & Biases</a> (<a href='https://wandb.me/run' target=\"_blank\">docs</a>)<br/>"
      ],
      "text/plain": [
       "<IPython.core.display.HTML object>"
      ]
     },
     "metadata": {},
     "output_type": "display_data"
    },
    {
     "data": {
      "text/html": [
       " View project at <a href='https://wandb.ai/shaicahana-hebrew-university-of-jerusalem/my-tf-integration' target=\"_blank\">https://wandb.ai/shaicahana-hebrew-university-of-jerusalem/my-tf-integration</a>"
      ],
      "text/plain": [
       "<IPython.core.display.HTML object>"
      ]
     },
     "metadata": {},
     "output_type": "display_data"
    },
    {
     "data": {
      "text/html": [
       " View run at <a href='https://wandb.ai/shaicahana-hebrew-university-of-jerusalem/my-tf-integration/runs/2k92wkhm' target=\"_blank\">https://wandb.ai/shaicahana-hebrew-university-of-jerusalem/my-tf-integration/runs/2k92wkhm</a>"
      ],
      "text/plain": [
       "<IPython.core.display.HTML object>"
      ]
     },
     "metadata": {},
     "output_type": "display_data"
    },
    {
     "name": "stdout",
     "output_type": "stream",
     "text": [
      "\n",
      "Start of epoch 0\n"
     ]
    },
    {
     "name": "stderr",
     "output_type": "stream",
     "text": [
      "2024-10-28 22:15:55.866045: W tensorflow/core/framework/op_kernel.cc:1841] OP_REQUIRES failed at sparse_xent_op.cc:103 : INVALID_ARGUMENT: Received a label value of 1 which is outside the valid range of [0, 1).  Label values: 0 1 1 0 0 1 0 1 0 0 0 0 0 1 1 0 0 0 0 0 0 1 1 1 1 0 0 1 0 1 0 1 1 0 1 0 0 1 0 0 1 0 1 0 0 1 0 0 1 1 0 1 0 1 0 1 0 1 0 1 1 0 1 0\n"
     ]
    },
    {
     "data": {
      "text/html": [
       "Finishing last run (ID:2k92wkhm) before initializing another..."
      ],
      "text/plain": [
       "<IPython.core.display.HTML object>"
      ]
     },
     "metadata": {},
     "output_type": "display_data"
    },
    {
     "data": {
      "application/vnd.jupyter.widget-view+json": {
       "model_id": "98e968e8ad8245f2bad39b9d855605ed",
       "version_major": 2,
       "version_minor": 0
      },
      "text/plain": [
       "VBox(children=(Label(value='0.008 MB of 0.008 MB uploaded\\r'), FloatProgress(value=1.0, max=1.0)))"
      ]
     },
     "metadata": {},
     "output_type": "display_data"
    },
    {
     "data": {
      "text/html": [
       " View run <strong style=\"color:#cdcd00\">zany-music-228</strong> at: <a href='https://wandb.ai/shaicahana-hebrew-university-of-jerusalem/my-tf-integration/runs/2k92wkhm' target=\"_blank\">https://wandb.ai/shaicahana-hebrew-university-of-jerusalem/my-tf-integration/runs/2k92wkhm</a><br/> View project at: <a href='https://wandb.ai/shaicahana-hebrew-university-of-jerusalem/my-tf-integration' target=\"_blank\">https://wandb.ai/shaicahana-hebrew-university-of-jerusalem/my-tf-integration</a><br/>Synced 5 W&B file(s), 0 media file(s), 0 artifact file(s) and 0 other file(s)"
      ],
      "text/plain": [
       "<IPython.core.display.HTML object>"
      ]
     },
     "metadata": {},
     "output_type": "display_data"
    },
    {
     "data": {
      "text/html": [
       "Find logs at: <code>./wandb/run-20241028_221552-2k92wkhm/logs</code>"
      ],
      "text/plain": [
       "<IPython.core.display.HTML object>"
      ]
     },
     "metadata": {},
     "output_type": "display_data"
    },
    {
     "data": {
      "text/html": [
       "Successfully finished last run (ID:2k92wkhm). Initializing new run:<br/>"
      ],
      "text/plain": [
       "<IPython.core.display.HTML object>"
      ]
     },
     "metadata": {},
     "output_type": "display_data"
    },
    {
     "data": {
      "text/html": [
       "Tracking run with wandb version 0.18.5"
      ],
      "text/plain": [
       "<IPython.core.display.HTML object>"
      ]
     },
     "metadata": {},
     "output_type": "display_data"
    },
    {
     "data": {
      "text/html": [
       "Run data is saved locally in <code>/Users/shaicahana/Documents/AI_DL/colab/AI-DL/project-1/wandb/run-20241028_221555-pdbn1zow</code>"
      ],
      "text/plain": [
       "<IPython.core.display.HTML object>"
      ]
     },
     "metadata": {},
     "output_type": "display_data"
    },
    {
     "data": {
      "text/html": [
       "Syncing run <strong><a href='https://wandb.ai/shaicahana-hebrew-university-of-jerusalem/my-tf-integration/runs/pdbn1zow' target=\"_blank\">wild-star-229</a></strong> to <a href='https://wandb.ai/shaicahana-hebrew-university-of-jerusalem/my-tf-integration' target=\"_blank\">Weights & Biases</a> (<a href='https://wandb.me/run' target=\"_blank\">docs</a>)<br/>"
      ],
      "text/plain": [
       "<IPython.core.display.HTML object>"
      ]
     },
     "metadata": {},
     "output_type": "display_data"
    },
    {
     "data": {
      "text/html": [
       " View project at <a href='https://wandb.ai/shaicahana-hebrew-university-of-jerusalem/my-tf-integration' target=\"_blank\">https://wandb.ai/shaicahana-hebrew-university-of-jerusalem/my-tf-integration</a>"
      ],
      "text/plain": [
       "<IPython.core.display.HTML object>"
      ]
     },
     "metadata": {},
     "output_type": "display_data"
    },
    {
     "data": {
      "text/html": [
       " View run at <a href='https://wandb.ai/shaicahana-hebrew-university-of-jerusalem/my-tf-integration/runs/pdbn1zow' target=\"_blank\">https://wandb.ai/shaicahana-hebrew-university-of-jerusalem/my-tf-integration/runs/pdbn1zow</a>"
      ],
      "text/plain": [
       "<IPython.core.display.HTML object>"
      ]
     },
     "metadata": {},
     "output_type": "display_data"
    },
    {
     "name": "stdout",
     "output_type": "stream",
     "text": [
      "\n",
      "Start of epoch 0\n"
     ]
    },
    {
     "name": "stderr",
     "output_type": "stream",
     "text": [
      "2024-10-28 22:16:00.514618: W tensorflow/core/framework/op_kernel.cc:1841] OP_REQUIRES failed at sparse_xent_op.cc:103 : INVALID_ARGUMENT: Received a label value of 1 which is outside the valid range of [0, 1).  Label values: 1 1 0 0 1 0 1 1 0 1 0 0 0 0 0 0 0 1 0 0 0 0 0 0 1 0 0 1 0 0 1 1 1 1 1 1 1 0 0 0 0 0 0 0 0 0 1 0 0 0 0 1 0 0 1 0 1 0 1 1 0 0 1 0\n"
     ]
    },
    {
     "data": {
      "text/html": [
       "Finishing last run (ID:pdbn1zow) before initializing another..."
      ],
      "text/plain": [
       "<IPython.core.display.HTML object>"
      ]
     },
     "metadata": {},
     "output_type": "display_data"
    },
    {
     "data": {
      "text/html": [
       " View run <strong style=\"color:#cdcd00\">wild-star-229</strong> at: <a href='https://wandb.ai/shaicahana-hebrew-university-of-jerusalem/my-tf-integration/runs/pdbn1zow' target=\"_blank\">https://wandb.ai/shaicahana-hebrew-university-of-jerusalem/my-tf-integration/runs/pdbn1zow</a><br/> View project at: <a href='https://wandb.ai/shaicahana-hebrew-university-of-jerusalem/my-tf-integration' target=\"_blank\">https://wandb.ai/shaicahana-hebrew-university-of-jerusalem/my-tf-integration</a><br/>Synced 5 W&B file(s), 0 media file(s), 0 artifact file(s) and 0 other file(s)"
      ],
      "text/plain": [
       "<IPython.core.display.HTML object>"
      ]
     },
     "metadata": {},
     "output_type": "display_data"
    },
    {
     "data": {
      "text/html": [
       "Find logs at: <code>./wandb/run-20241028_221555-pdbn1zow/logs</code>"
      ],
      "text/plain": [
       "<IPython.core.display.HTML object>"
      ]
     },
     "metadata": {},
     "output_type": "display_data"
    },
    {
     "data": {
      "text/html": [
       "Successfully finished last run (ID:pdbn1zow). Initializing new run:<br/>"
      ],
      "text/plain": [
       "<IPython.core.display.HTML object>"
      ]
     },
     "metadata": {},
     "output_type": "display_data"
    },
    {
     "data": {
      "text/html": [
       "Tracking run with wandb version 0.18.5"
      ],
      "text/plain": [
       "<IPython.core.display.HTML object>"
      ]
     },
     "metadata": {},
     "output_type": "display_data"
    },
    {
     "data": {
      "text/html": [
       "Run data is saved locally in <code>/Users/shaicahana/Documents/AI_DL/colab/AI-DL/project-1/wandb/run-20241028_221600-884137py</code>"
      ],
      "text/plain": [
       "<IPython.core.display.HTML object>"
      ]
     },
     "metadata": {},
     "output_type": "display_data"
    },
    {
     "data": {
      "text/html": [
       "Syncing run <strong><a href='https://wandb.ai/shaicahana-hebrew-university-of-jerusalem/my-tf-integration/runs/884137py' target=\"_blank\">different-sunset-230</a></strong> to <a href='https://wandb.ai/shaicahana-hebrew-university-of-jerusalem/my-tf-integration' target=\"_blank\">Weights & Biases</a> (<a href='https://wandb.me/run' target=\"_blank\">docs</a>)<br/>"
      ],
      "text/plain": [
       "<IPython.core.display.HTML object>"
      ]
     },
     "metadata": {},
     "output_type": "display_data"
    },
    {
     "data": {
      "text/html": [
       " View project at <a href='https://wandb.ai/shaicahana-hebrew-university-of-jerusalem/my-tf-integration' target=\"_blank\">https://wandb.ai/shaicahana-hebrew-university-of-jerusalem/my-tf-integration</a>"
      ],
      "text/plain": [
       "<IPython.core.display.HTML object>"
      ]
     },
     "metadata": {},
     "output_type": "display_data"
    },
    {
     "data": {
      "text/html": [
       " View run at <a href='https://wandb.ai/shaicahana-hebrew-university-of-jerusalem/my-tf-integration/runs/884137py' target=\"_blank\">https://wandb.ai/shaicahana-hebrew-university-of-jerusalem/my-tf-integration/runs/884137py</a>"
      ],
      "text/plain": [
       "<IPython.core.display.HTML object>"
      ]
     },
     "metadata": {},
     "output_type": "display_data"
    },
    {
     "name": "stdout",
     "output_type": "stream",
     "text": [
      "\n",
      "Start of epoch 0\n"
     ]
    },
    {
     "name": "stderr",
     "output_type": "stream",
     "text": [
      "2024-10-28 22:16:03.667491: W tensorflow/core/framework/op_kernel.cc:1841] OP_REQUIRES failed at sparse_xent_op.cc:103 : INVALID_ARGUMENT: Received a label value of 1 which is outside the valid range of [0, 1).  Label values: 0 0 1 1 0 1 1 1 0 0 1 1 1 1 1 0 0 0 0 0 0 1 0 1 1 1 1 1 1 0 0 0 1 0 1 1 0 0 1 0 1 1 0 0 0 0 1 1 1 1 1 0 0 0 0 0 1 1 0 1 0 0 1 0\n"
     ]
    },
    {
     "data": {
      "text/html": [
       "Finishing last run (ID:884137py) before initializing another..."
      ],
      "text/plain": [
       "<IPython.core.display.HTML object>"
      ]
     },
     "metadata": {},
     "output_type": "display_data"
    },
    {
     "data": {
      "text/html": [
       " View run <strong style=\"color:#cdcd00\">different-sunset-230</strong> at: <a href='https://wandb.ai/shaicahana-hebrew-university-of-jerusalem/my-tf-integration/runs/884137py' target=\"_blank\">https://wandb.ai/shaicahana-hebrew-university-of-jerusalem/my-tf-integration/runs/884137py</a><br/> View project at: <a href='https://wandb.ai/shaicahana-hebrew-university-of-jerusalem/my-tf-integration' target=\"_blank\">https://wandb.ai/shaicahana-hebrew-university-of-jerusalem/my-tf-integration</a><br/>Synced 5 W&B file(s), 0 media file(s), 0 artifact file(s) and 0 other file(s)"
      ],
      "text/plain": [
       "<IPython.core.display.HTML object>"
      ]
     },
     "metadata": {},
     "output_type": "display_data"
    },
    {
     "data": {
      "text/html": [
       "Find logs at: <code>./wandb/run-20241028_221600-884137py/logs</code>"
      ],
      "text/plain": [
       "<IPython.core.display.HTML object>"
      ]
     },
     "metadata": {},
     "output_type": "display_data"
    },
    {
     "data": {
      "text/html": [
       "Successfully finished last run (ID:884137py). Initializing new run:<br/>"
      ],
      "text/plain": [
       "<IPython.core.display.HTML object>"
      ]
     },
     "metadata": {},
     "output_type": "display_data"
    },
    {
     "data": {
      "text/html": [
       "Tracking run with wandb version 0.18.5"
      ],
      "text/plain": [
       "<IPython.core.display.HTML object>"
      ]
     },
     "metadata": {},
     "output_type": "display_data"
    },
    {
     "data": {
      "text/html": [
       "Run data is saved locally in <code>/Users/shaicahana/Documents/AI_DL/colab/AI-DL/project-1/wandb/run-20241028_221603-abkmuigg</code>"
      ],
      "text/plain": [
       "<IPython.core.display.HTML object>"
      ]
     },
     "metadata": {},
     "output_type": "display_data"
    },
    {
     "data": {
      "text/html": [
       "Syncing run <strong><a href='https://wandb.ai/shaicahana-hebrew-university-of-jerusalem/my-tf-integration/runs/abkmuigg' target=\"_blank\">hardy-resonance-231</a></strong> to <a href='https://wandb.ai/shaicahana-hebrew-university-of-jerusalem/my-tf-integration' target=\"_blank\">Weights & Biases</a> (<a href='https://wandb.me/run' target=\"_blank\">docs</a>)<br/>"
      ],
      "text/plain": [
       "<IPython.core.display.HTML object>"
      ]
     },
     "metadata": {},
     "output_type": "display_data"
    },
    {
     "data": {
      "text/html": [
       " View project at <a href='https://wandb.ai/shaicahana-hebrew-university-of-jerusalem/my-tf-integration' target=\"_blank\">https://wandb.ai/shaicahana-hebrew-university-of-jerusalem/my-tf-integration</a>"
      ],
      "text/plain": [
       "<IPython.core.display.HTML object>"
      ]
     },
     "metadata": {},
     "output_type": "display_data"
    },
    {
     "data": {
      "text/html": [
       " View run at <a href='https://wandb.ai/shaicahana-hebrew-university-of-jerusalem/my-tf-integration/runs/abkmuigg' target=\"_blank\">https://wandb.ai/shaicahana-hebrew-university-of-jerusalem/my-tf-integration/runs/abkmuigg</a>"
      ],
      "text/plain": [
       "<IPython.core.display.HTML object>"
      ]
     },
     "metadata": {},
     "output_type": "display_data"
    },
    {
     "name": "stdout",
     "output_type": "stream",
     "text": [
      "\n",
      "Start of epoch 0\n"
     ]
    },
    {
     "name": "stderr",
     "output_type": "stream",
     "text": [
      "2024-10-28 22:16:06.556372: W tensorflow/core/framework/op_kernel.cc:1841] OP_REQUIRES failed at sparse_xent_op.cc:103 : INVALID_ARGUMENT: Received a label value of 1 which is outside the valid range of [0, 1).  Label values: 1 1 1 0 0 0 0 0 0 1 0 1 0 0 1 1 1 0 0 0 0 0 0 1 1 1 0 0 0 1 1 0 1 0 1 0 0 1 1 0 1 1 1 0 0 0 0 1 0 1 0 0 1 1 0 0 0 1 1 0 1 1 0 1\n",
      "2024-10-28 22:16:06.556387: I tensorflow/core/framework/local_rendezvous.cc:405] Local rendezvous is aborting with status: INVALID_ARGUMENT: Received a label value of 1 which is outside the valid range of [0, 1).  Label values: 1 1 1 0 0 0 0 0 0 1 0 1 0 0 1 1 1 0 0 0 0 0 0 1 1 1 0 0 0 1 1 0 1 0 1 0 0 1 1 0 1 1 1 0 0 0 0 1 0 1 0 0 1 1 0 0 0 1 1 0 1 1 0 1\n"
     ]
    },
    {
     "data": {
      "text/html": [
       "Finishing last run (ID:abkmuigg) before initializing another..."
      ],
      "text/plain": [
       "<IPython.core.display.HTML object>"
      ]
     },
     "metadata": {},
     "output_type": "display_data"
    },
    {
     "data": {
      "text/html": [
       " View run <strong style=\"color:#cdcd00\">hardy-resonance-231</strong> at: <a href='https://wandb.ai/shaicahana-hebrew-university-of-jerusalem/my-tf-integration/runs/abkmuigg' target=\"_blank\">https://wandb.ai/shaicahana-hebrew-university-of-jerusalem/my-tf-integration/runs/abkmuigg</a><br/> View project at: <a href='https://wandb.ai/shaicahana-hebrew-university-of-jerusalem/my-tf-integration' target=\"_blank\">https://wandb.ai/shaicahana-hebrew-university-of-jerusalem/my-tf-integration</a><br/>Synced 5 W&B file(s), 0 media file(s), 0 artifact file(s) and 0 other file(s)"
      ],
      "text/plain": [
       "<IPython.core.display.HTML object>"
      ]
     },
     "metadata": {},
     "output_type": "display_data"
    },
    {
     "data": {
      "text/html": [
       "Find logs at: <code>./wandb/run-20241028_221603-abkmuigg/logs</code>"
      ],
      "text/plain": [
       "<IPython.core.display.HTML object>"
      ]
     },
     "metadata": {},
     "output_type": "display_data"
    },
    {
     "data": {
      "text/html": [
       "Successfully finished last run (ID:abkmuigg). Initializing new run:<br/>"
      ],
      "text/plain": [
       "<IPython.core.display.HTML object>"
      ]
     },
     "metadata": {},
     "output_type": "display_data"
    },
    {
     "data": {
      "text/html": [
       "Tracking run with wandb version 0.18.5"
      ],
      "text/plain": [
       "<IPython.core.display.HTML object>"
      ]
     },
     "metadata": {},
     "output_type": "display_data"
    },
    {
     "data": {
      "text/html": [
       "Run data is saved locally in <code>/Users/shaicahana/Documents/AI_DL/colab/AI-DL/project-1/wandb/run-20241028_221606-ayn7tjmc</code>"
      ],
      "text/plain": [
       "<IPython.core.display.HTML object>"
      ]
     },
     "metadata": {},
     "output_type": "display_data"
    },
    {
     "data": {
      "text/html": [
       "Syncing run <strong><a href='https://wandb.ai/shaicahana-hebrew-university-of-jerusalem/my-tf-integration/runs/ayn7tjmc' target=\"_blank\">helpful-bee-232</a></strong> to <a href='https://wandb.ai/shaicahana-hebrew-university-of-jerusalem/my-tf-integration' target=\"_blank\">Weights & Biases</a> (<a href='https://wandb.me/run' target=\"_blank\">docs</a>)<br/>"
      ],
      "text/plain": [
       "<IPython.core.display.HTML object>"
      ]
     },
     "metadata": {},
     "output_type": "display_data"
    },
    {
     "data": {
      "text/html": [
       " View project at <a href='https://wandb.ai/shaicahana-hebrew-university-of-jerusalem/my-tf-integration' target=\"_blank\">https://wandb.ai/shaicahana-hebrew-university-of-jerusalem/my-tf-integration</a>"
      ],
      "text/plain": [
       "<IPython.core.display.HTML object>"
      ]
     },
     "metadata": {},
     "output_type": "display_data"
    },
    {
     "data": {
      "text/html": [
       " View run at <a href='https://wandb.ai/shaicahana-hebrew-university-of-jerusalem/my-tf-integration/runs/ayn7tjmc' target=\"_blank\">https://wandb.ai/shaicahana-hebrew-university-of-jerusalem/my-tf-integration/runs/ayn7tjmc</a>"
      ],
      "text/plain": [
       "<IPython.core.display.HTML object>"
      ]
     },
     "metadata": {},
     "output_type": "display_data"
    },
    {
     "name": "stdout",
     "output_type": "stream",
     "text": [
      "\n",
      "Start of epoch 0\n"
     ]
    },
    {
     "name": "stderr",
     "output_type": "stream",
     "text": [
      "2024-10-28 22:16:09.603097: W tensorflow/core/framework/op_kernel.cc:1841] OP_REQUIRES failed at sparse_xent_op.cc:103 : INVALID_ARGUMENT: Received a label value of 1 which is outside the valid range of [0, 1).  Label values: 0 0 0 1 0 1 0 1 0 0 1 1 0 0 1 0 1 1 0 0 0 0 0 0 1 1 0 1 1 1 1 1 1 1 0 1 1 0 1 1 0 1 0 0 0 1 0 1 1 1 1 0 0 1 0 1 0 1 0 0 0 1 0 1\n"
     ]
    },
    {
     "data": {
      "text/html": [
       "Finishing last run (ID:ayn7tjmc) before initializing another..."
      ],
      "text/plain": [
       "<IPython.core.display.HTML object>"
      ]
     },
     "metadata": {},
     "output_type": "display_data"
    },
    {
     "data": {
      "text/html": [
       " View run <strong style=\"color:#cdcd00\">helpful-bee-232</strong> at: <a href='https://wandb.ai/shaicahana-hebrew-university-of-jerusalem/my-tf-integration/runs/ayn7tjmc' target=\"_blank\">https://wandb.ai/shaicahana-hebrew-university-of-jerusalem/my-tf-integration/runs/ayn7tjmc</a><br/> View project at: <a href='https://wandb.ai/shaicahana-hebrew-university-of-jerusalem/my-tf-integration' target=\"_blank\">https://wandb.ai/shaicahana-hebrew-university-of-jerusalem/my-tf-integration</a><br/>Synced 5 W&B file(s), 0 media file(s), 0 artifact file(s) and 0 other file(s)"
      ],
      "text/plain": [
       "<IPython.core.display.HTML object>"
      ]
     },
     "metadata": {},
     "output_type": "display_data"
    },
    {
     "data": {
      "text/html": [
       "Find logs at: <code>./wandb/run-20241028_221606-ayn7tjmc/logs</code>"
      ],
      "text/plain": [
       "<IPython.core.display.HTML object>"
      ]
     },
     "metadata": {},
     "output_type": "display_data"
    },
    {
     "data": {
      "text/html": [
       "Successfully finished last run (ID:ayn7tjmc). Initializing new run:<br/>"
      ],
      "text/plain": [
       "<IPython.core.display.HTML object>"
      ]
     },
     "metadata": {},
     "output_type": "display_data"
    },
    {
     "data": {
      "text/html": [
       "Tracking run with wandb version 0.18.5"
      ],
      "text/plain": [
       "<IPython.core.display.HTML object>"
      ]
     },
     "metadata": {},
     "output_type": "display_data"
    },
    {
     "data": {
      "text/html": [
       "Run data is saved locally in <code>/Users/shaicahana/Documents/AI_DL/colab/AI-DL/project-1/wandb/run-20241028_221609-eig6z6fl</code>"
      ],
      "text/plain": [
       "<IPython.core.display.HTML object>"
      ]
     },
     "metadata": {},
     "output_type": "display_data"
    },
    {
     "data": {
      "text/html": [
       "Syncing run <strong><a href='https://wandb.ai/shaicahana-hebrew-university-of-jerusalem/my-tf-integration/runs/eig6z6fl' target=\"_blank\">proud-thunder-233</a></strong> to <a href='https://wandb.ai/shaicahana-hebrew-university-of-jerusalem/my-tf-integration' target=\"_blank\">Weights & Biases</a> (<a href='https://wandb.me/run' target=\"_blank\">docs</a>)<br/>"
      ],
      "text/plain": [
       "<IPython.core.display.HTML object>"
      ]
     },
     "metadata": {},
     "output_type": "display_data"
    },
    {
     "data": {
      "text/html": [
       " View project at <a href='https://wandb.ai/shaicahana-hebrew-university-of-jerusalem/my-tf-integration' target=\"_blank\">https://wandb.ai/shaicahana-hebrew-university-of-jerusalem/my-tf-integration</a>"
      ],
      "text/plain": [
       "<IPython.core.display.HTML object>"
      ]
     },
     "metadata": {},
     "output_type": "display_data"
    },
    {
     "data": {
      "text/html": [
       " View run at <a href='https://wandb.ai/shaicahana-hebrew-university-of-jerusalem/my-tf-integration/runs/eig6z6fl' target=\"_blank\">https://wandb.ai/shaicahana-hebrew-university-of-jerusalem/my-tf-integration/runs/eig6z6fl</a>"
      ],
      "text/plain": [
       "<IPython.core.display.HTML object>"
      ]
     },
     "metadata": {},
     "output_type": "display_data"
    },
    {
     "name": "stdout",
     "output_type": "stream",
     "text": [
      "\n",
      "Start of epoch 0\n"
     ]
    },
    {
     "name": "stderr",
     "output_type": "stream",
     "text": [
      "2024-10-28 22:16:12.740171: W tensorflow/core/framework/op_kernel.cc:1841] OP_REQUIRES failed at sparse_xent_op.cc:103 : INVALID_ARGUMENT: Received a label value of 1 which is outside the valid range of [0, 1).  Label values: 1 0 0 1 0 0 0 0 1 1 1 1 0 0 1 1 1 0 0 1 1 0 0 1 1 0 1 0 1 0 0 1 0 0 0 0 0 0 1 0 1 0 0 0 1 1 0 1 0 0 1 0 1 0 1 0 0 1 1 1 1 0 0 0\n"
     ]
    },
    {
     "data": {
      "text/html": [
       "Finishing last run (ID:eig6z6fl) before initializing another..."
      ],
      "text/plain": [
       "<IPython.core.display.HTML object>"
      ]
     },
     "metadata": {},
     "output_type": "display_data"
    },
    {
     "data": {
      "text/html": [
       " View run <strong style=\"color:#cdcd00\">proud-thunder-233</strong> at: <a href='https://wandb.ai/shaicahana-hebrew-university-of-jerusalem/my-tf-integration/runs/eig6z6fl' target=\"_blank\">https://wandb.ai/shaicahana-hebrew-university-of-jerusalem/my-tf-integration/runs/eig6z6fl</a><br/> View project at: <a href='https://wandb.ai/shaicahana-hebrew-university-of-jerusalem/my-tf-integration' target=\"_blank\">https://wandb.ai/shaicahana-hebrew-university-of-jerusalem/my-tf-integration</a><br/>Synced 5 W&B file(s), 0 media file(s), 0 artifact file(s) and 0 other file(s)"
      ],
      "text/plain": [
       "<IPython.core.display.HTML object>"
      ]
     },
     "metadata": {},
     "output_type": "display_data"
    },
    {
     "data": {
      "text/html": [
       "Find logs at: <code>./wandb/run-20241028_221609-eig6z6fl/logs</code>"
      ],
      "text/plain": [
       "<IPython.core.display.HTML object>"
      ]
     },
     "metadata": {},
     "output_type": "display_data"
    },
    {
     "data": {
      "text/html": [
       "Successfully finished last run (ID:eig6z6fl). Initializing new run:<br/>"
      ],
      "text/plain": [
       "<IPython.core.display.HTML object>"
      ]
     },
     "metadata": {},
     "output_type": "display_data"
    },
    {
     "data": {
      "text/html": [
       "Tracking run with wandb version 0.18.5"
      ],
      "text/plain": [
       "<IPython.core.display.HTML object>"
      ]
     },
     "metadata": {},
     "output_type": "display_data"
    },
    {
     "data": {
      "text/html": [
       "Run data is saved locally in <code>/Users/shaicahana/Documents/AI_DL/colab/AI-DL/project-1/wandb/run-20241028_221612-9suf0eyp</code>"
      ],
      "text/plain": [
       "<IPython.core.display.HTML object>"
      ]
     },
     "metadata": {},
     "output_type": "display_data"
    },
    {
     "data": {
      "text/html": [
       "Syncing run <strong><a href='https://wandb.ai/shaicahana-hebrew-university-of-jerusalem/my-tf-integration/runs/9suf0eyp' target=\"_blank\">dazzling-cosmos-234</a></strong> to <a href='https://wandb.ai/shaicahana-hebrew-university-of-jerusalem/my-tf-integration' target=\"_blank\">Weights & Biases</a> (<a href='https://wandb.me/run' target=\"_blank\">docs</a>)<br/>"
      ],
      "text/plain": [
       "<IPython.core.display.HTML object>"
      ]
     },
     "metadata": {},
     "output_type": "display_data"
    },
    {
     "data": {
      "text/html": [
       " View project at <a href='https://wandb.ai/shaicahana-hebrew-university-of-jerusalem/my-tf-integration' target=\"_blank\">https://wandb.ai/shaicahana-hebrew-university-of-jerusalem/my-tf-integration</a>"
      ],
      "text/plain": [
       "<IPython.core.display.HTML object>"
      ]
     },
     "metadata": {},
     "output_type": "display_data"
    },
    {
     "data": {
      "text/html": [
       " View run at <a href='https://wandb.ai/shaicahana-hebrew-university-of-jerusalem/my-tf-integration/runs/9suf0eyp' target=\"_blank\">https://wandb.ai/shaicahana-hebrew-university-of-jerusalem/my-tf-integration/runs/9suf0eyp</a>"
      ],
      "text/plain": [
       "<IPython.core.display.HTML object>"
      ]
     },
     "metadata": {},
     "output_type": "display_data"
    },
    {
     "name": "stdout",
     "output_type": "stream",
     "text": [
      "\n",
      "Start of epoch 0\n"
     ]
    },
    {
     "name": "stderr",
     "output_type": "stream",
     "text": [
      "2024-10-28 22:16:15.747089: W tensorflow/core/framework/op_kernel.cc:1841] OP_REQUIRES failed at sparse_xent_op.cc:103 : INVALID_ARGUMENT: Received a label value of 1 which is outside the valid range of [0, 1).  Label values: 0 0 1 0 1 1 1 0 1 0 1 1 0 0 1 0 0 0 0 1 0 1 1 1 1 0 0 0 0 0 1 1 0 0 1 0 1 1 0 1 0 0 0 0 0 0 1 0 1 1 1 1 1 1 0 1 0 1 1 0 1 0 1 1\n"
     ]
    },
    {
     "data": {
      "text/html": [
       "Finishing last run (ID:9suf0eyp) before initializing another..."
      ],
      "text/plain": [
       "<IPython.core.display.HTML object>"
      ]
     },
     "metadata": {},
     "output_type": "display_data"
    },
    {
     "data": {
      "text/html": [
       " View run <strong style=\"color:#cdcd00\">dazzling-cosmos-234</strong> at: <a href='https://wandb.ai/shaicahana-hebrew-university-of-jerusalem/my-tf-integration/runs/9suf0eyp' target=\"_blank\">https://wandb.ai/shaicahana-hebrew-university-of-jerusalem/my-tf-integration/runs/9suf0eyp</a><br/> View project at: <a href='https://wandb.ai/shaicahana-hebrew-university-of-jerusalem/my-tf-integration' target=\"_blank\">https://wandb.ai/shaicahana-hebrew-university-of-jerusalem/my-tf-integration</a><br/>Synced 5 W&B file(s), 0 media file(s), 0 artifact file(s) and 0 other file(s)"
      ],
      "text/plain": [
       "<IPython.core.display.HTML object>"
      ]
     },
     "metadata": {},
     "output_type": "display_data"
    },
    {
     "data": {
      "text/html": [
       "Find logs at: <code>./wandb/run-20241028_221612-9suf0eyp/logs</code>"
      ],
      "text/plain": [
       "<IPython.core.display.HTML object>"
      ]
     },
     "metadata": {},
     "output_type": "display_data"
    },
    {
     "data": {
      "text/html": [
       "Successfully finished last run (ID:9suf0eyp). Initializing new run:<br/>"
      ],
      "text/plain": [
       "<IPython.core.display.HTML object>"
      ]
     },
     "metadata": {},
     "output_type": "display_data"
    },
    {
     "data": {
      "text/html": [
       "Tracking run with wandb version 0.18.5"
      ],
      "text/plain": [
       "<IPython.core.display.HTML object>"
      ]
     },
     "metadata": {},
     "output_type": "display_data"
    },
    {
     "data": {
      "text/html": [
       "Run data is saved locally in <code>/Users/shaicahana/Documents/AI_DL/colab/AI-DL/project-1/wandb/run-20241028_221615-l8ggwp3i</code>"
      ],
      "text/plain": [
       "<IPython.core.display.HTML object>"
      ]
     },
     "metadata": {},
     "output_type": "display_data"
    },
    {
     "data": {
      "text/html": [
       "Syncing run <strong><a href='https://wandb.ai/shaicahana-hebrew-university-of-jerusalem/my-tf-integration/runs/l8ggwp3i' target=\"_blank\">genial-violet-235</a></strong> to <a href='https://wandb.ai/shaicahana-hebrew-university-of-jerusalem/my-tf-integration' target=\"_blank\">Weights & Biases</a> (<a href='https://wandb.me/run' target=\"_blank\">docs</a>)<br/>"
      ],
      "text/plain": [
       "<IPython.core.display.HTML object>"
      ]
     },
     "metadata": {},
     "output_type": "display_data"
    },
    {
     "data": {
      "text/html": [
       " View project at <a href='https://wandb.ai/shaicahana-hebrew-university-of-jerusalem/my-tf-integration' target=\"_blank\">https://wandb.ai/shaicahana-hebrew-university-of-jerusalem/my-tf-integration</a>"
      ],
      "text/plain": [
       "<IPython.core.display.HTML object>"
      ]
     },
     "metadata": {},
     "output_type": "display_data"
    },
    {
     "data": {
      "text/html": [
       " View run at <a href='https://wandb.ai/shaicahana-hebrew-university-of-jerusalem/my-tf-integration/runs/l8ggwp3i' target=\"_blank\">https://wandb.ai/shaicahana-hebrew-university-of-jerusalem/my-tf-integration/runs/l8ggwp3i</a>"
      ],
      "text/plain": [
       "<IPython.core.display.HTML object>"
      ]
     },
     "metadata": {},
     "output_type": "display_data"
    },
    {
     "name": "stdout",
     "output_type": "stream",
     "text": [
      "\n",
      "Start of epoch 0\n"
     ]
    },
    {
     "name": "stderr",
     "output_type": "stream",
     "text": [
      "2024-10-28 22:16:18.916583: W tensorflow/core/framework/op_kernel.cc:1841] OP_REQUIRES failed at sparse_xent_op.cc:103 : INVALID_ARGUMENT: Received a label value of 1 which is outside the valid range of [0, 1).  Label values: 1 1 0 0 0 1 1 0 1 0 0 0 1 0 1 0 1 0 0 0 0 0 1 1 1 0 0 1 0 0 0 0 1 0 0 0 1 0 1 0 0 0 1 0 1 1 0 1 0 1 0 1 1 0 0 1 0 0 0 0 0 0 1 1\n"
     ]
    },
    {
     "data": {
      "text/html": [
       "Finishing last run (ID:l8ggwp3i) before initializing another..."
      ],
      "text/plain": [
       "<IPython.core.display.HTML object>"
      ]
     },
     "metadata": {},
     "output_type": "display_data"
    },
    {
     "data": {
      "text/html": [
       " View run <strong style=\"color:#cdcd00\">genial-violet-235</strong> at: <a href='https://wandb.ai/shaicahana-hebrew-university-of-jerusalem/my-tf-integration/runs/l8ggwp3i' target=\"_blank\">https://wandb.ai/shaicahana-hebrew-university-of-jerusalem/my-tf-integration/runs/l8ggwp3i</a><br/> View project at: <a href='https://wandb.ai/shaicahana-hebrew-university-of-jerusalem/my-tf-integration' target=\"_blank\">https://wandb.ai/shaicahana-hebrew-university-of-jerusalem/my-tf-integration</a><br/>Synced 5 W&B file(s), 0 media file(s), 0 artifact file(s) and 0 other file(s)"
      ],
      "text/plain": [
       "<IPython.core.display.HTML object>"
      ]
     },
     "metadata": {},
     "output_type": "display_data"
    },
    {
     "data": {
      "text/html": [
       "Find logs at: <code>./wandb/run-20241028_221615-l8ggwp3i/logs</code>"
      ],
      "text/plain": [
       "<IPython.core.display.HTML object>"
      ]
     },
     "metadata": {},
     "output_type": "display_data"
    },
    {
     "data": {
      "text/html": [
       "Successfully finished last run (ID:l8ggwp3i). Initializing new run:<br/>"
      ],
      "text/plain": [
       "<IPython.core.display.HTML object>"
      ]
     },
     "metadata": {},
     "output_type": "display_data"
    },
    {
     "data": {
      "text/html": [
       "Tracking run with wandb version 0.18.5"
      ],
      "text/plain": [
       "<IPython.core.display.HTML object>"
      ]
     },
     "metadata": {},
     "output_type": "display_data"
    },
    {
     "data": {
      "text/html": [
       "Run data is saved locally in <code>/Users/shaicahana/Documents/AI_DL/colab/AI-DL/project-1/wandb/run-20241028_221618-ykcqofe4</code>"
      ],
      "text/plain": [
       "<IPython.core.display.HTML object>"
      ]
     },
     "metadata": {},
     "output_type": "display_data"
    },
    {
     "data": {
      "text/html": [
       "Syncing run <strong><a href='https://wandb.ai/shaicahana-hebrew-university-of-jerusalem/my-tf-integration/runs/ykcqofe4' target=\"_blank\">worldly-grass-236</a></strong> to <a href='https://wandb.ai/shaicahana-hebrew-university-of-jerusalem/my-tf-integration' target=\"_blank\">Weights & Biases</a> (<a href='https://wandb.me/run' target=\"_blank\">docs</a>)<br/>"
      ],
      "text/plain": [
       "<IPython.core.display.HTML object>"
      ]
     },
     "metadata": {},
     "output_type": "display_data"
    },
    {
     "data": {
      "text/html": [
       " View project at <a href='https://wandb.ai/shaicahana-hebrew-university-of-jerusalem/my-tf-integration' target=\"_blank\">https://wandb.ai/shaicahana-hebrew-university-of-jerusalem/my-tf-integration</a>"
      ],
      "text/plain": [
       "<IPython.core.display.HTML object>"
      ]
     },
     "metadata": {},
     "output_type": "display_data"
    },
    {
     "data": {
      "text/html": [
       " View run at <a href='https://wandb.ai/shaicahana-hebrew-university-of-jerusalem/my-tf-integration/runs/ykcqofe4' target=\"_blank\">https://wandb.ai/shaicahana-hebrew-university-of-jerusalem/my-tf-integration/runs/ykcqofe4</a>"
      ],
      "text/plain": [
       "<IPython.core.display.HTML object>"
      ]
     },
     "metadata": {},
     "output_type": "display_data"
    },
    {
     "name": "stdout",
     "output_type": "stream",
     "text": [
      "\n",
      "Start of epoch 0\n"
     ]
    },
    {
     "name": "stderr",
     "output_type": "stream",
     "text": [
      "2024-10-28 22:16:22.468969: W tensorflow/core/framework/op_kernel.cc:1841] OP_REQUIRES failed at sparse_xent_op.cc:103 : INVALID_ARGUMENT: Received a label value of 1 which is outside the valid range of [0, 1).  Label values: 0 0 0 1 1 0 1 1 1 0 0 0 0 0 0 0 0 1 1 0 0 1 0 1 0 0 0 1 0 1 0 0 0 0 0 0 0 0 1 0 1 0 1 0 1 1 0 0 0 1 1 0 1 1 0 1 1 1 0 0 1 1 1 0\n"
     ]
    },
    {
     "data": {
      "text/html": [
       "Finishing last run (ID:ykcqofe4) before initializing another..."
      ],
      "text/plain": [
       "<IPython.core.display.HTML object>"
      ]
     },
     "metadata": {},
     "output_type": "display_data"
    },
    {
     "data": {
      "text/html": [
       " View run <strong style=\"color:#cdcd00\">worldly-grass-236</strong> at: <a href='https://wandb.ai/shaicahana-hebrew-university-of-jerusalem/my-tf-integration/runs/ykcqofe4' target=\"_blank\">https://wandb.ai/shaicahana-hebrew-university-of-jerusalem/my-tf-integration/runs/ykcqofe4</a><br/> View project at: <a href='https://wandb.ai/shaicahana-hebrew-university-of-jerusalem/my-tf-integration' target=\"_blank\">https://wandb.ai/shaicahana-hebrew-university-of-jerusalem/my-tf-integration</a><br/>Synced 5 W&B file(s), 0 media file(s), 0 artifact file(s) and 0 other file(s)"
      ],
      "text/plain": [
       "<IPython.core.display.HTML object>"
      ]
     },
     "metadata": {},
     "output_type": "display_data"
    },
    {
     "data": {
      "text/html": [
       "Find logs at: <code>./wandb/run-20241028_221618-ykcqofe4/logs</code>"
      ],
      "text/plain": [
       "<IPython.core.display.HTML object>"
      ]
     },
     "metadata": {},
     "output_type": "display_data"
    },
    {
     "data": {
      "text/html": [
       "Successfully finished last run (ID:ykcqofe4). Initializing new run:<br/>"
      ],
      "text/plain": [
       "<IPython.core.display.HTML object>"
      ]
     },
     "metadata": {},
     "output_type": "display_data"
    },
    {
     "data": {
      "text/html": [
       "Tracking run with wandb version 0.18.5"
      ],
      "text/plain": [
       "<IPython.core.display.HTML object>"
      ]
     },
     "metadata": {},
     "output_type": "display_data"
    },
    {
     "data": {
      "text/html": [
       "Run data is saved locally in <code>/Users/shaicahana/Documents/AI_DL/colab/AI-DL/project-1/wandb/run-20241028_221622-2zl7es3p</code>"
      ],
      "text/plain": [
       "<IPython.core.display.HTML object>"
      ]
     },
     "metadata": {},
     "output_type": "display_data"
    },
    {
     "data": {
      "text/html": [
       "Syncing run <strong><a href='https://wandb.ai/shaicahana-hebrew-university-of-jerusalem/my-tf-integration/runs/2zl7es3p' target=\"_blank\">true-cloud-237</a></strong> to <a href='https://wandb.ai/shaicahana-hebrew-university-of-jerusalem/my-tf-integration' target=\"_blank\">Weights & Biases</a> (<a href='https://wandb.me/run' target=\"_blank\">docs</a>)<br/>"
      ],
      "text/plain": [
       "<IPython.core.display.HTML object>"
      ]
     },
     "metadata": {},
     "output_type": "display_data"
    },
    {
     "data": {
      "text/html": [
       " View project at <a href='https://wandb.ai/shaicahana-hebrew-university-of-jerusalem/my-tf-integration' target=\"_blank\">https://wandb.ai/shaicahana-hebrew-university-of-jerusalem/my-tf-integration</a>"
      ],
      "text/plain": [
       "<IPython.core.display.HTML object>"
      ]
     },
     "metadata": {},
     "output_type": "display_data"
    },
    {
     "data": {
      "text/html": [
       " View run at <a href='https://wandb.ai/shaicahana-hebrew-university-of-jerusalem/my-tf-integration/runs/2zl7es3p' target=\"_blank\">https://wandb.ai/shaicahana-hebrew-university-of-jerusalem/my-tf-integration/runs/2zl7es3p</a>"
      ],
      "text/plain": [
       "<IPython.core.display.HTML object>"
      ]
     },
     "metadata": {},
     "output_type": "display_data"
    },
    {
     "name": "stdout",
     "output_type": "stream",
     "text": [
      "\n",
      "Start of epoch 0\n"
     ]
    },
    {
     "name": "stderr",
     "output_type": "stream",
     "text": [
      "2024-10-28 22:16:25.872775: W tensorflow/core/framework/op_kernel.cc:1841] OP_REQUIRES failed at sparse_xent_op.cc:103 : INVALID_ARGUMENT: Received a label value of 1 which is outside the valid range of [0, 1).  Label values: 0 0 1 1 1 1 1 1 0 1 1 0 1 1 1 0 1 0 0 1 1 0 0 0 1 1 0 1 1 1 1 0 1 0 1 1 0 1 1 0 0 1 1 1 1 0 1 1 0 1 0 0 1 0 0 1 0 0 1 0 0 0 0 1\n"
     ]
    },
    {
     "data": {
      "text/html": [
       "Finishing last run (ID:2zl7es3p) before initializing another..."
      ],
      "text/plain": [
       "<IPython.core.display.HTML object>"
      ]
     },
     "metadata": {},
     "output_type": "display_data"
    },
    {
     "data": {
      "text/html": [
       " View run <strong style=\"color:#cdcd00\">true-cloud-237</strong> at: <a href='https://wandb.ai/shaicahana-hebrew-university-of-jerusalem/my-tf-integration/runs/2zl7es3p' target=\"_blank\">https://wandb.ai/shaicahana-hebrew-university-of-jerusalem/my-tf-integration/runs/2zl7es3p</a><br/> View project at: <a href='https://wandb.ai/shaicahana-hebrew-university-of-jerusalem/my-tf-integration' target=\"_blank\">https://wandb.ai/shaicahana-hebrew-university-of-jerusalem/my-tf-integration</a><br/>Synced 5 W&B file(s), 0 media file(s), 0 artifact file(s) and 0 other file(s)"
      ],
      "text/plain": [
       "<IPython.core.display.HTML object>"
      ]
     },
     "metadata": {},
     "output_type": "display_data"
    },
    {
     "data": {
      "text/html": [
       "Find logs at: <code>./wandb/run-20241028_221622-2zl7es3p/logs</code>"
      ],
      "text/plain": [
       "<IPython.core.display.HTML object>"
      ]
     },
     "metadata": {},
     "output_type": "display_data"
    },
    {
     "data": {
      "text/html": [
       "Successfully finished last run (ID:2zl7es3p). Initializing new run:<br/>"
      ],
      "text/plain": [
       "<IPython.core.display.HTML object>"
      ]
     },
     "metadata": {},
     "output_type": "display_data"
    },
    {
     "data": {
      "text/html": [
       "Tracking run with wandb version 0.18.5"
      ],
      "text/plain": [
       "<IPython.core.display.HTML object>"
      ]
     },
     "metadata": {},
     "output_type": "display_data"
    },
    {
     "data": {
      "text/html": [
       "Run data is saved locally in <code>/Users/shaicahana/Documents/AI_DL/colab/AI-DL/project-1/wandb/run-20241028_221625-7urlsuoi</code>"
      ],
      "text/plain": [
       "<IPython.core.display.HTML object>"
      ]
     },
     "metadata": {},
     "output_type": "display_data"
    },
    {
     "data": {
      "text/html": [
       "Syncing run <strong><a href='https://wandb.ai/shaicahana-hebrew-university-of-jerusalem/my-tf-integration/runs/7urlsuoi' target=\"_blank\">fearless-snowball-238</a></strong> to <a href='https://wandb.ai/shaicahana-hebrew-university-of-jerusalem/my-tf-integration' target=\"_blank\">Weights & Biases</a> (<a href='https://wandb.me/run' target=\"_blank\">docs</a>)<br/>"
      ],
      "text/plain": [
       "<IPython.core.display.HTML object>"
      ]
     },
     "metadata": {},
     "output_type": "display_data"
    },
    {
     "data": {
      "text/html": [
       " View project at <a href='https://wandb.ai/shaicahana-hebrew-university-of-jerusalem/my-tf-integration' target=\"_blank\">https://wandb.ai/shaicahana-hebrew-university-of-jerusalem/my-tf-integration</a>"
      ],
      "text/plain": [
       "<IPython.core.display.HTML object>"
      ]
     },
     "metadata": {},
     "output_type": "display_data"
    },
    {
     "data": {
      "text/html": [
       " View run at <a href='https://wandb.ai/shaicahana-hebrew-university-of-jerusalem/my-tf-integration/runs/7urlsuoi' target=\"_blank\">https://wandb.ai/shaicahana-hebrew-university-of-jerusalem/my-tf-integration/runs/7urlsuoi</a>"
      ],
      "text/plain": [
       "<IPython.core.display.HTML object>"
      ]
     },
     "metadata": {},
     "output_type": "display_data"
    },
    {
     "name": "stdout",
     "output_type": "stream",
     "text": [
      "\n",
      "Start of epoch 0\n"
     ]
    },
    {
     "name": "stderr",
     "output_type": "stream",
     "text": [
      "2024-10-28 22:16:28.786741: W tensorflow/core/framework/op_kernel.cc:1841] OP_REQUIRES failed at sparse_xent_op.cc:103 : INVALID_ARGUMENT: Received a label value of 1 which is outside the valid range of [0, 1).  Label values: 1 1 0 0 1 1 1 0 0 0 1 0 0 0 1 0 0 0 0 0 0 0 1 0 0 0 0 1 0 0 1 0 1 0 0 0 1 0 1 0 0 0 0 1 0 1 1 1 1 0 1 1 0 0 1 0 1 0 0 1 0 1 1 0\n"
     ]
    },
    {
     "data": {
      "text/html": [
       "Finishing last run (ID:7urlsuoi) before initializing another..."
      ],
      "text/plain": [
       "<IPython.core.display.HTML object>"
      ]
     },
     "metadata": {},
     "output_type": "display_data"
    },
    {
     "data": {
      "text/html": [
       " View run <strong style=\"color:#cdcd00\">fearless-snowball-238</strong> at: <a href='https://wandb.ai/shaicahana-hebrew-university-of-jerusalem/my-tf-integration/runs/7urlsuoi' target=\"_blank\">https://wandb.ai/shaicahana-hebrew-university-of-jerusalem/my-tf-integration/runs/7urlsuoi</a><br/> View project at: <a href='https://wandb.ai/shaicahana-hebrew-university-of-jerusalem/my-tf-integration' target=\"_blank\">https://wandb.ai/shaicahana-hebrew-university-of-jerusalem/my-tf-integration</a><br/>Synced 5 W&B file(s), 0 media file(s), 0 artifact file(s) and 0 other file(s)"
      ],
      "text/plain": [
       "<IPython.core.display.HTML object>"
      ]
     },
     "metadata": {},
     "output_type": "display_data"
    },
    {
     "data": {
      "text/html": [
       "Find logs at: <code>./wandb/run-20241028_221625-7urlsuoi/logs</code>"
      ],
      "text/plain": [
       "<IPython.core.display.HTML object>"
      ]
     },
     "metadata": {},
     "output_type": "display_data"
    },
    {
     "data": {
      "text/html": [
       "Successfully finished last run (ID:7urlsuoi). Initializing new run:<br/>"
      ],
      "text/plain": [
       "<IPython.core.display.HTML object>"
      ]
     },
     "metadata": {},
     "output_type": "display_data"
    },
    {
     "data": {
      "text/html": [
       "Tracking run with wandb version 0.18.5"
      ],
      "text/plain": [
       "<IPython.core.display.HTML object>"
      ]
     },
     "metadata": {},
     "output_type": "display_data"
    },
    {
     "data": {
      "text/html": [
       "Run data is saved locally in <code>/Users/shaicahana/Documents/AI_DL/colab/AI-DL/project-1/wandb/run-20241028_221628-pgsh6zmk</code>"
      ],
      "text/plain": [
       "<IPython.core.display.HTML object>"
      ]
     },
     "metadata": {},
     "output_type": "display_data"
    },
    {
     "data": {
      "text/html": [
       "Syncing run <strong><a href='https://wandb.ai/shaicahana-hebrew-university-of-jerusalem/my-tf-integration/runs/pgsh6zmk' target=\"_blank\">resilient-elevator-239</a></strong> to <a href='https://wandb.ai/shaicahana-hebrew-university-of-jerusalem/my-tf-integration' target=\"_blank\">Weights & Biases</a> (<a href='https://wandb.me/run' target=\"_blank\">docs</a>)<br/>"
      ],
      "text/plain": [
       "<IPython.core.display.HTML object>"
      ]
     },
     "metadata": {},
     "output_type": "display_data"
    },
    {
     "data": {
      "text/html": [
       " View project at <a href='https://wandb.ai/shaicahana-hebrew-university-of-jerusalem/my-tf-integration' target=\"_blank\">https://wandb.ai/shaicahana-hebrew-university-of-jerusalem/my-tf-integration</a>"
      ],
      "text/plain": [
       "<IPython.core.display.HTML object>"
      ]
     },
     "metadata": {},
     "output_type": "display_data"
    },
    {
     "data": {
      "text/html": [
       " View run at <a href='https://wandb.ai/shaicahana-hebrew-university-of-jerusalem/my-tf-integration/runs/pgsh6zmk' target=\"_blank\">https://wandb.ai/shaicahana-hebrew-university-of-jerusalem/my-tf-integration/runs/pgsh6zmk</a>"
      ],
      "text/plain": [
       "<IPython.core.display.HTML object>"
      ]
     },
     "metadata": {},
     "output_type": "display_data"
    },
    {
     "name": "stdout",
     "output_type": "stream",
     "text": [
      "\n",
      "Start of epoch 0\n"
     ]
    },
    {
     "name": "stderr",
     "output_type": "stream",
     "text": [
      "2024-10-28 22:16:31.754311: W tensorflow/core/framework/op_kernel.cc:1841] OP_REQUIRES failed at sparse_xent_op.cc:103 : INVALID_ARGUMENT: Received a label value of 1 which is outside the valid range of [0, 1).  Label values: 0 1 1 1 0 1 0 1 1 0 0 0 1 1 1 0 0 0 1 1 1 1 1 0 0 1 0 0 1 0 1 0 0 1 1 0 0 0 0 0 1 0 0 1 0 1 1 0 1 0 0 1 0 1 0 1 1 1 1 1 0 1 1 0\n",
      "2024-10-28 22:16:31.754326: I tensorflow/core/framework/local_rendezvous.cc:405] Local rendezvous is aborting with status: INVALID_ARGUMENT: Received a label value of 1 which is outside the valid range of [0, 1).  Label values: 0 1 1 1 0 1 0 1 1 0 0 0 1 1 1 0 0 0 1 1 1 1 1 0 0 1 0 0 1 0 1 0 0 1 1 0 0 0 0 0 1 0 0 1 0 1 1 0 1 0 0 1 0 1 0 1 1 1 1 1 0 1 1 0\n"
     ]
    },
    {
     "data": {
      "text/html": [
       "Finishing last run (ID:pgsh6zmk) before initializing another..."
      ],
      "text/plain": [
       "<IPython.core.display.HTML object>"
      ]
     },
     "metadata": {},
     "output_type": "display_data"
    },
    {
     "data": {
      "text/html": [
       " View run <strong style=\"color:#cdcd00\">resilient-elevator-239</strong> at: <a href='https://wandb.ai/shaicahana-hebrew-university-of-jerusalem/my-tf-integration/runs/pgsh6zmk' target=\"_blank\">https://wandb.ai/shaicahana-hebrew-university-of-jerusalem/my-tf-integration/runs/pgsh6zmk</a><br/> View project at: <a href='https://wandb.ai/shaicahana-hebrew-university-of-jerusalem/my-tf-integration' target=\"_blank\">https://wandb.ai/shaicahana-hebrew-university-of-jerusalem/my-tf-integration</a><br/>Synced 5 W&B file(s), 0 media file(s), 0 artifact file(s) and 0 other file(s)"
      ],
      "text/plain": [
       "<IPython.core.display.HTML object>"
      ]
     },
     "metadata": {},
     "output_type": "display_data"
    },
    {
     "data": {
      "text/html": [
       "Find logs at: <code>./wandb/run-20241028_221628-pgsh6zmk/logs</code>"
      ],
      "text/plain": [
       "<IPython.core.display.HTML object>"
      ]
     },
     "metadata": {},
     "output_type": "display_data"
    },
    {
     "data": {
      "text/html": [
       "Successfully finished last run (ID:pgsh6zmk). Initializing new run:<br/>"
      ],
      "text/plain": [
       "<IPython.core.display.HTML object>"
      ]
     },
     "metadata": {},
     "output_type": "display_data"
    },
    {
     "data": {
      "text/html": [
       "Tracking run with wandb version 0.18.5"
      ],
      "text/plain": [
       "<IPython.core.display.HTML object>"
      ]
     },
     "metadata": {},
     "output_type": "display_data"
    },
    {
     "data": {
      "text/html": [
       "Run data is saved locally in <code>/Users/shaicahana/Documents/AI_DL/colab/AI-DL/project-1/wandb/run-20241028_221631-zc1pz5xa</code>"
      ],
      "text/plain": [
       "<IPython.core.display.HTML object>"
      ]
     },
     "metadata": {},
     "output_type": "display_data"
    },
    {
     "data": {
      "text/html": [
       "Syncing run <strong><a href='https://wandb.ai/shaicahana-hebrew-university-of-jerusalem/my-tf-integration/runs/zc1pz5xa' target=\"_blank\">dandy-darkness-240</a></strong> to <a href='https://wandb.ai/shaicahana-hebrew-university-of-jerusalem/my-tf-integration' target=\"_blank\">Weights & Biases</a> (<a href='https://wandb.me/run' target=\"_blank\">docs</a>)<br/>"
      ],
      "text/plain": [
       "<IPython.core.display.HTML object>"
      ]
     },
     "metadata": {},
     "output_type": "display_data"
    },
    {
     "data": {
      "text/html": [
       " View project at <a href='https://wandb.ai/shaicahana-hebrew-university-of-jerusalem/my-tf-integration' target=\"_blank\">https://wandb.ai/shaicahana-hebrew-university-of-jerusalem/my-tf-integration</a>"
      ],
      "text/plain": [
       "<IPython.core.display.HTML object>"
      ]
     },
     "metadata": {},
     "output_type": "display_data"
    },
    {
     "data": {
      "text/html": [
       " View run at <a href='https://wandb.ai/shaicahana-hebrew-university-of-jerusalem/my-tf-integration/runs/zc1pz5xa' target=\"_blank\">https://wandb.ai/shaicahana-hebrew-university-of-jerusalem/my-tf-integration/runs/zc1pz5xa</a>"
      ],
      "text/plain": [
       "<IPython.core.display.HTML object>"
      ]
     },
     "metadata": {},
     "output_type": "display_data"
    },
    {
     "name": "stdout",
     "output_type": "stream",
     "text": [
      "\n",
      "Start of epoch 0\n"
     ]
    },
    {
     "name": "stderr",
     "output_type": "stream",
     "text": [
      "2024-10-28 22:16:35.057662: W tensorflow/core/framework/op_kernel.cc:1841] OP_REQUIRES failed at sparse_xent_op.cc:103 : INVALID_ARGUMENT: Received a label value of 1 which is outside the valid range of [0, 1).  Label values: 0 0 1 1 0 1 0 1 1 0 0 0 1 0 0 0 1 0 0 0 0 0 1 1 1 1 0 0 0 1 0 0 1 0 0 0 1 0 0 0 0 1 0 1 0 0 1 0 0 1 1 1 1 0 1 1 0 0 1 1 0 0 0 0\n"
     ]
    },
    {
     "data": {
      "text/html": [
       "Finishing last run (ID:zc1pz5xa) before initializing another..."
      ],
      "text/plain": [
       "<IPython.core.display.HTML object>"
      ]
     },
     "metadata": {},
     "output_type": "display_data"
    },
    {
     "data": {
      "text/html": [
       " View run <strong style=\"color:#cdcd00\">dandy-darkness-240</strong> at: <a href='https://wandb.ai/shaicahana-hebrew-university-of-jerusalem/my-tf-integration/runs/zc1pz5xa' target=\"_blank\">https://wandb.ai/shaicahana-hebrew-university-of-jerusalem/my-tf-integration/runs/zc1pz5xa</a><br/> View project at: <a href='https://wandb.ai/shaicahana-hebrew-university-of-jerusalem/my-tf-integration' target=\"_blank\">https://wandb.ai/shaicahana-hebrew-university-of-jerusalem/my-tf-integration</a><br/>Synced 5 W&B file(s), 0 media file(s), 0 artifact file(s) and 0 other file(s)"
      ],
      "text/plain": [
       "<IPython.core.display.HTML object>"
      ]
     },
     "metadata": {},
     "output_type": "display_data"
    },
    {
     "data": {
      "text/html": [
       "Find logs at: <code>./wandb/run-20241028_221631-zc1pz5xa/logs</code>"
      ],
      "text/plain": [
       "<IPython.core.display.HTML object>"
      ]
     },
     "metadata": {},
     "output_type": "display_data"
    },
    {
     "data": {
      "text/html": [
       "Successfully finished last run (ID:zc1pz5xa). Initializing new run:<br/>"
      ],
      "text/plain": [
       "<IPython.core.display.HTML object>"
      ]
     },
     "metadata": {},
     "output_type": "display_data"
    },
    {
     "data": {
      "text/html": [
       "Tracking run with wandb version 0.18.5"
      ],
      "text/plain": [
       "<IPython.core.display.HTML object>"
      ]
     },
     "metadata": {},
     "output_type": "display_data"
    },
    {
     "data": {
      "text/html": [
       "Run data is saved locally in <code>/Users/shaicahana/Documents/AI_DL/colab/AI-DL/project-1/wandb/run-20241028_221635-ut5pvvit</code>"
      ],
      "text/plain": [
       "<IPython.core.display.HTML object>"
      ]
     },
     "metadata": {},
     "output_type": "display_data"
    },
    {
     "data": {
      "text/html": [
       "Syncing run <strong><a href='https://wandb.ai/shaicahana-hebrew-university-of-jerusalem/my-tf-integration/runs/ut5pvvit' target=\"_blank\">tough-lion-241</a></strong> to <a href='https://wandb.ai/shaicahana-hebrew-university-of-jerusalem/my-tf-integration' target=\"_blank\">Weights & Biases</a> (<a href='https://wandb.me/run' target=\"_blank\">docs</a>)<br/>"
      ],
      "text/plain": [
       "<IPython.core.display.HTML object>"
      ]
     },
     "metadata": {},
     "output_type": "display_data"
    },
    {
     "data": {
      "text/html": [
       " View project at <a href='https://wandb.ai/shaicahana-hebrew-university-of-jerusalem/my-tf-integration' target=\"_blank\">https://wandb.ai/shaicahana-hebrew-university-of-jerusalem/my-tf-integration</a>"
      ],
      "text/plain": [
       "<IPython.core.display.HTML object>"
      ]
     },
     "metadata": {},
     "output_type": "display_data"
    },
    {
     "data": {
      "text/html": [
       " View run at <a href='https://wandb.ai/shaicahana-hebrew-university-of-jerusalem/my-tf-integration/runs/ut5pvvit' target=\"_blank\">https://wandb.ai/shaicahana-hebrew-university-of-jerusalem/my-tf-integration/runs/ut5pvvit</a>"
      ],
      "text/plain": [
       "<IPython.core.display.HTML object>"
      ]
     },
     "metadata": {},
     "output_type": "display_data"
    },
    {
     "name": "stdout",
     "output_type": "stream",
     "text": [
      "\n",
      "Start of epoch 0\n"
     ]
    },
    {
     "name": "stderr",
     "output_type": "stream",
     "text": [
      "2024-10-28 22:16:38.015531: W tensorflow/core/framework/op_kernel.cc:1841] OP_REQUIRES failed at sparse_xent_op.cc:103 : INVALID_ARGUMENT: Received a label value of 1 which is outside the valid range of [0, 1).  Label values: 0 1 0 1 1 0 1 0 1 1 1 1 1 1 0 0 1 1 0 0 0 1 0 1 0 0 1 1 0 0 1 1 1 0 0 0 1 1 0 1 1 0 1 0 1 1 0 1 0 1 0 0 1 1 0 1 0 0 1 1 0 1 0 0\n"
     ]
    },
    {
     "data": {
      "text/html": [
       "Finishing last run (ID:ut5pvvit) before initializing another..."
      ],
      "text/plain": [
       "<IPython.core.display.HTML object>"
      ]
     },
     "metadata": {},
     "output_type": "display_data"
    },
    {
     "data": {
      "text/html": [
       " View run <strong style=\"color:#cdcd00\">tough-lion-241</strong> at: <a href='https://wandb.ai/shaicahana-hebrew-university-of-jerusalem/my-tf-integration/runs/ut5pvvit' target=\"_blank\">https://wandb.ai/shaicahana-hebrew-university-of-jerusalem/my-tf-integration/runs/ut5pvvit</a><br/> View project at: <a href='https://wandb.ai/shaicahana-hebrew-university-of-jerusalem/my-tf-integration' target=\"_blank\">https://wandb.ai/shaicahana-hebrew-university-of-jerusalem/my-tf-integration</a><br/>Synced 5 W&B file(s), 0 media file(s), 0 artifact file(s) and 0 other file(s)"
      ],
      "text/plain": [
       "<IPython.core.display.HTML object>"
      ]
     },
     "metadata": {},
     "output_type": "display_data"
    },
    {
     "data": {
      "text/html": [
       "Find logs at: <code>./wandb/run-20241028_221635-ut5pvvit/logs</code>"
      ],
      "text/plain": [
       "<IPython.core.display.HTML object>"
      ]
     },
     "metadata": {},
     "output_type": "display_data"
    },
    {
     "data": {
      "text/html": [
       "Successfully finished last run (ID:ut5pvvit). Initializing new run:<br/>"
      ],
      "text/plain": [
       "<IPython.core.display.HTML object>"
      ]
     },
     "metadata": {},
     "output_type": "display_data"
    },
    {
     "data": {
      "text/html": [
       "Tracking run with wandb version 0.18.5"
      ],
      "text/plain": [
       "<IPython.core.display.HTML object>"
      ]
     },
     "metadata": {},
     "output_type": "display_data"
    },
    {
     "data": {
      "text/html": [
       "Run data is saved locally in <code>/Users/shaicahana/Documents/AI_DL/colab/AI-DL/project-1/wandb/run-20241028_221638-5ev1vqdt</code>"
      ],
      "text/plain": [
       "<IPython.core.display.HTML object>"
      ]
     },
     "metadata": {},
     "output_type": "display_data"
    },
    {
     "data": {
      "text/html": [
       "Syncing run <strong><a href='https://wandb.ai/shaicahana-hebrew-university-of-jerusalem/my-tf-integration/runs/5ev1vqdt' target=\"_blank\">celestial-puddle-242</a></strong> to <a href='https://wandb.ai/shaicahana-hebrew-university-of-jerusalem/my-tf-integration' target=\"_blank\">Weights & Biases</a> (<a href='https://wandb.me/run' target=\"_blank\">docs</a>)<br/>"
      ],
      "text/plain": [
       "<IPython.core.display.HTML object>"
      ]
     },
     "metadata": {},
     "output_type": "display_data"
    },
    {
     "data": {
      "text/html": [
       " View project at <a href='https://wandb.ai/shaicahana-hebrew-university-of-jerusalem/my-tf-integration' target=\"_blank\">https://wandb.ai/shaicahana-hebrew-university-of-jerusalem/my-tf-integration</a>"
      ],
      "text/plain": [
       "<IPython.core.display.HTML object>"
      ]
     },
     "metadata": {},
     "output_type": "display_data"
    },
    {
     "data": {
      "text/html": [
       " View run at <a href='https://wandb.ai/shaicahana-hebrew-university-of-jerusalem/my-tf-integration/runs/5ev1vqdt' target=\"_blank\">https://wandb.ai/shaicahana-hebrew-university-of-jerusalem/my-tf-integration/runs/5ev1vqdt</a>"
      ],
      "text/plain": [
       "<IPython.core.display.HTML object>"
      ]
     },
     "metadata": {},
     "output_type": "display_data"
    },
    {
     "name": "stdout",
     "output_type": "stream",
     "text": [
      "\n",
      "Start of epoch 0\n"
     ]
    },
    {
     "name": "stderr",
     "output_type": "stream",
     "text": [
      "2024-10-28 22:16:41.179378: W tensorflow/core/framework/op_kernel.cc:1841] OP_REQUIRES failed at sparse_xent_op.cc:103 : INVALID_ARGUMENT: Received a label value of 1 which is outside the valid range of [0, 1).  Label values: 0 1 0 0 0 0 1 1 0 0 0 1 1 1 1 0 0 1 1 1 0 0 1 1 0 1 0 1 1 0 0 1 0 0 0 0 0 1 0 0 0 0 0 1 1 0 1 1 1 1 1 0 0 0 1 1 0 0 1 1 1 0 0 1\n"
     ]
    },
    {
     "data": {
      "text/html": [
       "Finishing last run (ID:5ev1vqdt) before initializing another..."
      ],
      "text/plain": [
       "<IPython.core.display.HTML object>"
      ]
     },
     "metadata": {},
     "output_type": "display_data"
    },
    {
     "data": {
      "application/vnd.jupyter.widget-view+json": {
       "model_id": "b2f7e4ea1fee4f5d843988e6e4acf60c",
       "version_major": 2,
       "version_minor": 0
      },
      "text/plain": [
       "VBox(children=(Label(value='0.008 MB of 0.008 MB uploaded\\r'), FloatProgress(value=1.0, max=1.0)))"
      ]
     },
     "metadata": {},
     "output_type": "display_data"
    },
    {
     "data": {
      "text/html": [
       " View run <strong style=\"color:#cdcd00\">celestial-puddle-242</strong> at: <a href='https://wandb.ai/shaicahana-hebrew-university-of-jerusalem/my-tf-integration/runs/5ev1vqdt' target=\"_blank\">https://wandb.ai/shaicahana-hebrew-university-of-jerusalem/my-tf-integration/runs/5ev1vqdt</a><br/> View project at: <a href='https://wandb.ai/shaicahana-hebrew-university-of-jerusalem/my-tf-integration' target=\"_blank\">https://wandb.ai/shaicahana-hebrew-university-of-jerusalem/my-tf-integration</a><br/>Synced 5 W&B file(s), 0 media file(s), 0 artifact file(s) and 0 other file(s)"
      ],
      "text/plain": [
       "<IPython.core.display.HTML object>"
      ]
     },
     "metadata": {},
     "output_type": "display_data"
    },
    {
     "data": {
      "text/html": [
       "Find logs at: <code>./wandb/run-20241028_221638-5ev1vqdt/logs</code>"
      ],
      "text/plain": [
       "<IPython.core.display.HTML object>"
      ]
     },
     "metadata": {},
     "output_type": "display_data"
    },
    {
     "data": {
      "text/html": [
       "Successfully finished last run (ID:5ev1vqdt). Initializing new run:<br/>"
      ],
      "text/plain": [
       "<IPython.core.display.HTML object>"
      ]
     },
     "metadata": {},
     "output_type": "display_data"
    },
    {
     "data": {
      "text/html": [
       "Tracking run with wandb version 0.18.5"
      ],
      "text/plain": [
       "<IPython.core.display.HTML object>"
      ]
     },
     "metadata": {},
     "output_type": "display_data"
    },
    {
     "data": {
      "text/html": [
       "Run data is saved locally in <code>/Users/shaicahana/Documents/AI_DL/colab/AI-DL/project-1/wandb/run-20241028_221641-ybgwihh6</code>"
      ],
      "text/plain": [
       "<IPython.core.display.HTML object>"
      ]
     },
     "metadata": {},
     "output_type": "display_data"
    },
    {
     "data": {
      "text/html": [
       "Syncing run <strong><a href='https://wandb.ai/shaicahana-hebrew-university-of-jerusalem/my-tf-integration/runs/ybgwihh6' target=\"_blank\">misty-sunset-243</a></strong> to <a href='https://wandb.ai/shaicahana-hebrew-university-of-jerusalem/my-tf-integration' target=\"_blank\">Weights & Biases</a> (<a href='https://wandb.me/run' target=\"_blank\">docs</a>)<br/>"
      ],
      "text/plain": [
       "<IPython.core.display.HTML object>"
      ]
     },
     "metadata": {},
     "output_type": "display_data"
    },
    {
     "data": {
      "text/html": [
       " View project at <a href='https://wandb.ai/shaicahana-hebrew-university-of-jerusalem/my-tf-integration' target=\"_blank\">https://wandb.ai/shaicahana-hebrew-university-of-jerusalem/my-tf-integration</a>"
      ],
      "text/plain": [
       "<IPython.core.display.HTML object>"
      ]
     },
     "metadata": {},
     "output_type": "display_data"
    },
    {
     "data": {
      "text/html": [
       " View run at <a href='https://wandb.ai/shaicahana-hebrew-university-of-jerusalem/my-tf-integration/runs/ybgwihh6' target=\"_blank\">https://wandb.ai/shaicahana-hebrew-university-of-jerusalem/my-tf-integration/runs/ybgwihh6</a>"
      ],
      "text/plain": [
       "<IPython.core.display.HTML object>"
      ]
     },
     "metadata": {},
     "output_type": "display_data"
    },
    {
     "name": "stdout",
     "output_type": "stream",
     "text": [
      "\n",
      "Start of epoch 0\n"
     ]
    },
    {
     "name": "stderr",
     "output_type": "stream",
     "text": [
      "2024-10-28 22:16:45.626891: W tensorflow/core/framework/op_kernel.cc:1841] OP_REQUIRES failed at sparse_xent_op.cc:103 : INVALID_ARGUMENT: Received a label value of 1 which is outside the valid range of [0, 1).  Label values: 1 1 0 1 1 0 1 0 0 1 0 1 1 0 1 1 1 0 1 1 1 1 0 1 1 1 0 0 1 1 0 0 1 0 0 1 1 0 1 0 1 1 1 0 0 0 0 0 0 1 0 1 0 0 0 0 1 0 0 0 0 1 0 0\n"
     ]
    },
    {
     "data": {
      "text/html": [
       "Finishing last run (ID:ybgwihh6) before initializing another..."
      ],
      "text/plain": [
       "<IPython.core.display.HTML object>"
      ]
     },
     "metadata": {},
     "output_type": "display_data"
    },
    {
     "data": {
      "text/html": [
       " View run <strong style=\"color:#cdcd00\">misty-sunset-243</strong> at: <a href='https://wandb.ai/shaicahana-hebrew-university-of-jerusalem/my-tf-integration/runs/ybgwihh6' target=\"_blank\">https://wandb.ai/shaicahana-hebrew-university-of-jerusalem/my-tf-integration/runs/ybgwihh6</a><br/> View project at: <a href='https://wandb.ai/shaicahana-hebrew-university-of-jerusalem/my-tf-integration' target=\"_blank\">https://wandb.ai/shaicahana-hebrew-university-of-jerusalem/my-tf-integration</a><br/>Synced 5 W&B file(s), 0 media file(s), 0 artifact file(s) and 0 other file(s)"
      ],
      "text/plain": [
       "<IPython.core.display.HTML object>"
      ]
     },
     "metadata": {},
     "output_type": "display_data"
    },
    {
     "data": {
      "text/html": [
       "Find logs at: <code>./wandb/run-20241028_221641-ybgwihh6/logs</code>"
      ],
      "text/plain": [
       "<IPython.core.display.HTML object>"
      ]
     },
     "metadata": {},
     "output_type": "display_data"
    },
    {
     "data": {
      "text/html": [
       "Successfully finished last run (ID:ybgwihh6). Initializing new run:<br/>"
      ],
      "text/plain": [
       "<IPython.core.display.HTML object>"
      ]
     },
     "metadata": {},
     "output_type": "display_data"
    },
    {
     "data": {
      "text/html": [
       "Tracking run with wandb version 0.18.5"
      ],
      "text/plain": [
       "<IPython.core.display.HTML object>"
      ]
     },
     "metadata": {},
     "output_type": "display_data"
    },
    {
     "data": {
      "text/html": [
       "Run data is saved locally in <code>/Users/shaicahana/Documents/AI_DL/colab/AI-DL/project-1/wandb/run-20241028_221645-cvvx6p86</code>"
      ],
      "text/plain": [
       "<IPython.core.display.HTML object>"
      ]
     },
     "metadata": {},
     "output_type": "display_data"
    },
    {
     "data": {
      "text/html": [
       "Syncing run <strong><a href='https://wandb.ai/shaicahana-hebrew-university-of-jerusalem/my-tf-integration/runs/cvvx6p86' target=\"_blank\">spring-sun-244</a></strong> to <a href='https://wandb.ai/shaicahana-hebrew-university-of-jerusalem/my-tf-integration' target=\"_blank\">Weights & Biases</a> (<a href='https://wandb.me/run' target=\"_blank\">docs</a>)<br/>"
      ],
      "text/plain": [
       "<IPython.core.display.HTML object>"
      ]
     },
     "metadata": {},
     "output_type": "display_data"
    },
    {
     "data": {
      "text/html": [
       " View project at <a href='https://wandb.ai/shaicahana-hebrew-university-of-jerusalem/my-tf-integration' target=\"_blank\">https://wandb.ai/shaicahana-hebrew-university-of-jerusalem/my-tf-integration</a>"
      ],
      "text/plain": [
       "<IPython.core.display.HTML object>"
      ]
     },
     "metadata": {},
     "output_type": "display_data"
    },
    {
     "data": {
      "text/html": [
       " View run at <a href='https://wandb.ai/shaicahana-hebrew-university-of-jerusalem/my-tf-integration/runs/cvvx6p86' target=\"_blank\">https://wandb.ai/shaicahana-hebrew-university-of-jerusalem/my-tf-integration/runs/cvvx6p86</a>"
      ],
      "text/plain": [
       "<IPython.core.display.HTML object>"
      ]
     },
     "metadata": {},
     "output_type": "display_data"
    },
    {
     "name": "stdout",
     "output_type": "stream",
     "text": [
      "\n",
      "Start of epoch 0\n"
     ]
    },
    {
     "name": "stderr",
     "output_type": "stream",
     "text": [
      "2024-10-28 22:16:48.710418: W tensorflow/core/framework/op_kernel.cc:1841] OP_REQUIRES failed at sparse_xent_op.cc:103 : INVALID_ARGUMENT: Received a label value of 1 which is outside the valid range of [0, 1).  Label values: 1 1 1 0 1 0 0 1 1 0 0 1 1 1 1 1 1 0 1 1 1 0 1 1 0 1 1 0 0 1 0 1 1 0 0 1 0 0 1 0 1 1 0 1 0 1 1 1 0 0 1 0 0 0 0 1 1 1 0 1 1 0 0 1\n"
     ]
    },
    {
     "data": {
      "text/html": [
       "Finishing last run (ID:cvvx6p86) before initializing another..."
      ],
      "text/plain": [
       "<IPython.core.display.HTML object>"
      ]
     },
     "metadata": {},
     "output_type": "display_data"
    },
    {
     "data": {
      "text/html": [
       " View run <strong style=\"color:#cdcd00\">spring-sun-244</strong> at: <a href='https://wandb.ai/shaicahana-hebrew-university-of-jerusalem/my-tf-integration/runs/cvvx6p86' target=\"_blank\">https://wandb.ai/shaicahana-hebrew-university-of-jerusalem/my-tf-integration/runs/cvvx6p86</a><br/> View project at: <a href='https://wandb.ai/shaicahana-hebrew-university-of-jerusalem/my-tf-integration' target=\"_blank\">https://wandb.ai/shaicahana-hebrew-university-of-jerusalem/my-tf-integration</a><br/>Synced 5 W&B file(s), 0 media file(s), 0 artifact file(s) and 0 other file(s)"
      ],
      "text/plain": [
       "<IPython.core.display.HTML object>"
      ]
     },
     "metadata": {},
     "output_type": "display_data"
    },
    {
     "data": {
      "text/html": [
       "Find logs at: <code>./wandb/run-20241028_221645-cvvx6p86/logs</code>"
      ],
      "text/plain": [
       "<IPython.core.display.HTML object>"
      ]
     },
     "metadata": {},
     "output_type": "display_data"
    },
    {
     "data": {
      "text/html": [
       "Successfully finished last run (ID:cvvx6p86). Initializing new run:<br/>"
      ],
      "text/plain": [
       "<IPython.core.display.HTML object>"
      ]
     },
     "metadata": {},
     "output_type": "display_data"
    },
    {
     "data": {
      "text/html": [
       "Tracking run with wandb version 0.18.5"
      ],
      "text/plain": [
       "<IPython.core.display.HTML object>"
      ]
     },
     "metadata": {},
     "output_type": "display_data"
    },
    {
     "data": {
      "text/html": [
       "Run data is saved locally in <code>/Users/shaicahana/Documents/AI_DL/colab/AI-DL/project-1/wandb/run-20241028_221648-nogd2xyf</code>"
      ],
      "text/plain": [
       "<IPython.core.display.HTML object>"
      ]
     },
     "metadata": {},
     "output_type": "display_data"
    },
    {
     "data": {
      "text/html": [
       "Syncing run <strong><a href='https://wandb.ai/shaicahana-hebrew-university-of-jerusalem/my-tf-integration/runs/nogd2xyf' target=\"_blank\">ruby-cloud-245</a></strong> to <a href='https://wandb.ai/shaicahana-hebrew-university-of-jerusalem/my-tf-integration' target=\"_blank\">Weights & Biases</a> (<a href='https://wandb.me/run' target=\"_blank\">docs</a>)<br/>"
      ],
      "text/plain": [
       "<IPython.core.display.HTML object>"
      ]
     },
     "metadata": {},
     "output_type": "display_data"
    },
    {
     "data": {
      "text/html": [
       " View project at <a href='https://wandb.ai/shaicahana-hebrew-university-of-jerusalem/my-tf-integration' target=\"_blank\">https://wandb.ai/shaicahana-hebrew-university-of-jerusalem/my-tf-integration</a>"
      ],
      "text/plain": [
       "<IPython.core.display.HTML object>"
      ]
     },
     "metadata": {},
     "output_type": "display_data"
    },
    {
     "data": {
      "text/html": [
       " View run at <a href='https://wandb.ai/shaicahana-hebrew-university-of-jerusalem/my-tf-integration/runs/nogd2xyf' target=\"_blank\">https://wandb.ai/shaicahana-hebrew-university-of-jerusalem/my-tf-integration/runs/nogd2xyf</a>"
      ],
      "text/plain": [
       "<IPython.core.display.HTML object>"
      ]
     },
     "metadata": {},
     "output_type": "display_data"
    },
    {
     "name": "stdout",
     "output_type": "stream",
     "text": [
      "\n",
      "Start of epoch 0\n"
     ]
    },
    {
     "name": "stderr",
     "output_type": "stream",
     "text": [
      "2024-10-28 22:16:51.895299: W tensorflow/core/framework/op_kernel.cc:1841] OP_REQUIRES failed at sparse_xent_op.cc:103 : INVALID_ARGUMENT: Received a label value of 1 which is outside the valid range of [0, 1).  Label values: 0 0 0 0 0 0 1 0 1 1 1 0 0 1 1 0 0 1 0 0 1 1 0 0 0 0 1 0 1 0 1 1 0 0 1 1 0 1 0 0 0 0 0 1 0 0 0 0 0 1 0 0 1 1 1 0 0 0 1 1 0 0 0 0\n"
     ]
    },
    {
     "data": {
      "text/html": [
       "Finishing last run (ID:nogd2xyf) before initializing another..."
      ],
      "text/plain": [
       "<IPython.core.display.HTML object>"
      ]
     },
     "metadata": {},
     "output_type": "display_data"
    },
    {
     "data": {
      "text/html": [
       " View run <strong style=\"color:#cdcd00\">ruby-cloud-245</strong> at: <a href='https://wandb.ai/shaicahana-hebrew-university-of-jerusalem/my-tf-integration/runs/nogd2xyf' target=\"_blank\">https://wandb.ai/shaicahana-hebrew-university-of-jerusalem/my-tf-integration/runs/nogd2xyf</a><br/> View project at: <a href='https://wandb.ai/shaicahana-hebrew-university-of-jerusalem/my-tf-integration' target=\"_blank\">https://wandb.ai/shaicahana-hebrew-university-of-jerusalem/my-tf-integration</a><br/>Synced 5 W&B file(s), 0 media file(s), 0 artifact file(s) and 0 other file(s)"
      ],
      "text/plain": [
       "<IPython.core.display.HTML object>"
      ]
     },
     "metadata": {},
     "output_type": "display_data"
    },
    {
     "data": {
      "text/html": [
       "Find logs at: <code>./wandb/run-20241028_221648-nogd2xyf/logs</code>"
      ],
      "text/plain": [
       "<IPython.core.display.HTML object>"
      ]
     },
     "metadata": {},
     "output_type": "display_data"
    },
    {
     "data": {
      "text/html": [
       "Successfully finished last run (ID:nogd2xyf). Initializing new run:<br/>"
      ],
      "text/plain": [
       "<IPython.core.display.HTML object>"
      ]
     },
     "metadata": {},
     "output_type": "display_data"
    },
    {
     "data": {
      "text/html": [
       "Tracking run with wandb version 0.18.5"
      ],
      "text/plain": [
       "<IPython.core.display.HTML object>"
      ]
     },
     "metadata": {},
     "output_type": "display_data"
    },
    {
     "data": {
      "text/html": [
       "Run data is saved locally in <code>/Users/shaicahana/Documents/AI_DL/colab/AI-DL/project-1/wandb/run-20241028_221651-30eiagbl</code>"
      ],
      "text/plain": [
       "<IPython.core.display.HTML object>"
      ]
     },
     "metadata": {},
     "output_type": "display_data"
    },
    {
     "data": {
      "text/html": [
       "Syncing run <strong><a href='https://wandb.ai/shaicahana-hebrew-university-of-jerusalem/my-tf-integration/runs/30eiagbl' target=\"_blank\">spring-smoke-246</a></strong> to <a href='https://wandb.ai/shaicahana-hebrew-university-of-jerusalem/my-tf-integration' target=\"_blank\">Weights & Biases</a> (<a href='https://wandb.me/run' target=\"_blank\">docs</a>)<br/>"
      ],
      "text/plain": [
       "<IPython.core.display.HTML object>"
      ]
     },
     "metadata": {},
     "output_type": "display_data"
    },
    {
     "data": {
      "text/html": [
       " View project at <a href='https://wandb.ai/shaicahana-hebrew-university-of-jerusalem/my-tf-integration' target=\"_blank\">https://wandb.ai/shaicahana-hebrew-university-of-jerusalem/my-tf-integration</a>"
      ],
      "text/plain": [
       "<IPython.core.display.HTML object>"
      ]
     },
     "metadata": {},
     "output_type": "display_data"
    },
    {
     "data": {
      "text/html": [
       " View run at <a href='https://wandb.ai/shaicahana-hebrew-university-of-jerusalem/my-tf-integration/runs/30eiagbl' target=\"_blank\">https://wandb.ai/shaicahana-hebrew-university-of-jerusalem/my-tf-integration/runs/30eiagbl</a>"
      ],
      "text/plain": [
       "<IPython.core.display.HTML object>"
      ]
     },
     "metadata": {},
     "output_type": "display_data"
    },
    {
     "name": "stdout",
     "output_type": "stream",
     "text": [
      "\n",
      "Start of epoch 0\n"
     ]
    },
    {
     "name": "stderr",
     "output_type": "stream",
     "text": [
      "2024-10-28 22:16:55.063396: W tensorflow/core/framework/op_kernel.cc:1841] OP_REQUIRES failed at sparse_xent_op.cc:103 : INVALID_ARGUMENT: Received a label value of 1 which is outside the valid range of [0, 1).  Label values: 0 0 1 0 1 1 1 1 1 0 0 1 1 0 0 1 1 0 1 1 0 0 0 1 1 0 1 0 0 0 0 0 0 1 0 0 1 0 0 1 1 0 0 1 1 1 1 1 0 1 1 1 1 1 1 0 0 1 1 0 1 1 0 0\n"
     ]
    },
    {
     "data": {
      "text/html": [
       "Finishing last run (ID:30eiagbl) before initializing another..."
      ],
      "text/plain": [
       "<IPython.core.display.HTML object>"
      ]
     },
     "metadata": {},
     "output_type": "display_data"
    },
    {
     "data": {
      "application/vnd.jupyter.widget-view+json": {
       "model_id": "5f109b6c473d41cbab3e4910d3558ca0",
       "version_major": 2,
       "version_minor": 0
      },
      "text/plain": [
       "VBox(children=(Label(value='0.008 MB of 0.008 MB uploaded\\r'), FloatProgress(value=1.0, max=1.0)))"
      ]
     },
     "metadata": {},
     "output_type": "display_data"
    },
    {
     "data": {
      "text/html": [
       " View run <strong style=\"color:#cdcd00\">spring-smoke-246</strong> at: <a href='https://wandb.ai/shaicahana-hebrew-university-of-jerusalem/my-tf-integration/runs/30eiagbl' target=\"_blank\">https://wandb.ai/shaicahana-hebrew-university-of-jerusalem/my-tf-integration/runs/30eiagbl</a><br/> View project at: <a href='https://wandb.ai/shaicahana-hebrew-university-of-jerusalem/my-tf-integration' target=\"_blank\">https://wandb.ai/shaicahana-hebrew-university-of-jerusalem/my-tf-integration</a><br/>Synced 5 W&B file(s), 0 media file(s), 0 artifact file(s) and 0 other file(s)"
      ],
      "text/plain": [
       "<IPython.core.display.HTML object>"
      ]
     },
     "metadata": {},
     "output_type": "display_data"
    },
    {
     "data": {
      "text/html": [
       "Find logs at: <code>./wandb/run-20241028_221651-30eiagbl/logs</code>"
      ],
      "text/plain": [
       "<IPython.core.display.HTML object>"
      ]
     },
     "metadata": {},
     "output_type": "display_data"
    },
    {
     "data": {
      "text/html": [
       "Successfully finished last run (ID:30eiagbl). Initializing new run:<br/>"
      ],
      "text/plain": [
       "<IPython.core.display.HTML object>"
      ]
     },
     "metadata": {},
     "output_type": "display_data"
    },
    {
     "data": {
      "text/html": [
       "Tracking run with wandb version 0.18.5"
      ],
      "text/plain": [
       "<IPython.core.display.HTML object>"
      ]
     },
     "metadata": {},
     "output_type": "display_data"
    },
    {
     "data": {
      "text/html": [
       "Run data is saved locally in <code>/Users/shaicahana/Documents/AI_DL/colab/AI-DL/project-1/wandb/run-20241028_221655-ky7x3rsl</code>"
      ],
      "text/plain": [
       "<IPython.core.display.HTML object>"
      ]
     },
     "metadata": {},
     "output_type": "display_data"
    },
    {
     "data": {
      "text/html": [
       "Syncing run <strong><a href='https://wandb.ai/shaicahana-hebrew-university-of-jerusalem/my-tf-integration/runs/ky7x3rsl' target=\"_blank\">brisk-river-247</a></strong> to <a href='https://wandb.ai/shaicahana-hebrew-university-of-jerusalem/my-tf-integration' target=\"_blank\">Weights & Biases</a> (<a href='https://wandb.me/run' target=\"_blank\">docs</a>)<br/>"
      ],
      "text/plain": [
       "<IPython.core.display.HTML object>"
      ]
     },
     "metadata": {},
     "output_type": "display_data"
    },
    {
     "data": {
      "text/html": [
       " View project at <a href='https://wandb.ai/shaicahana-hebrew-university-of-jerusalem/my-tf-integration' target=\"_blank\">https://wandb.ai/shaicahana-hebrew-university-of-jerusalem/my-tf-integration</a>"
      ],
      "text/plain": [
       "<IPython.core.display.HTML object>"
      ]
     },
     "metadata": {},
     "output_type": "display_data"
    },
    {
     "data": {
      "text/html": [
       " View run at <a href='https://wandb.ai/shaicahana-hebrew-university-of-jerusalem/my-tf-integration/runs/ky7x3rsl' target=\"_blank\">https://wandb.ai/shaicahana-hebrew-university-of-jerusalem/my-tf-integration/runs/ky7x3rsl</a>"
      ],
      "text/plain": [
       "<IPython.core.display.HTML object>"
      ]
     },
     "metadata": {},
     "output_type": "display_data"
    },
    {
     "name": "stdout",
     "output_type": "stream",
     "text": [
      "\n",
      "Start of epoch 0\n"
     ]
    },
    {
     "name": "stderr",
     "output_type": "stream",
     "text": [
      "2024-10-28 22:16:58.923692: W tensorflow/core/framework/op_kernel.cc:1841] OP_REQUIRES failed at sparse_xent_op.cc:103 : INVALID_ARGUMENT: Received a label value of 1 which is outside the valid range of [0, 1).  Label values: 0 0 0 1 1 0 1 0 0 1 0 0 0 1 0 0 1 1 0 1 1 1 0 0 1 1 0 0 0 0 0 1 0 1 0 0 0 0 0 0 0 0 1 1 1 1 0 1 1 1 0 1 0 0 0 0 0 1 0 0 0 1 0 1\n"
     ]
    },
    {
     "data": {
      "text/html": [
       "Finishing last run (ID:ky7x3rsl) before initializing another..."
      ],
      "text/plain": [
       "<IPython.core.display.HTML object>"
      ]
     },
     "metadata": {},
     "output_type": "display_data"
    },
    {
     "data": {
      "text/html": [
       " View run <strong style=\"color:#cdcd00\">brisk-river-247</strong> at: <a href='https://wandb.ai/shaicahana-hebrew-university-of-jerusalem/my-tf-integration/runs/ky7x3rsl' target=\"_blank\">https://wandb.ai/shaicahana-hebrew-university-of-jerusalem/my-tf-integration/runs/ky7x3rsl</a><br/> View project at: <a href='https://wandb.ai/shaicahana-hebrew-university-of-jerusalem/my-tf-integration' target=\"_blank\">https://wandb.ai/shaicahana-hebrew-university-of-jerusalem/my-tf-integration</a><br/>Synced 5 W&B file(s), 0 media file(s), 0 artifact file(s) and 0 other file(s)"
      ],
      "text/plain": [
       "<IPython.core.display.HTML object>"
      ]
     },
     "metadata": {},
     "output_type": "display_data"
    },
    {
     "data": {
      "text/html": [
       "Find logs at: <code>./wandb/run-20241028_221655-ky7x3rsl/logs</code>"
      ],
      "text/plain": [
       "<IPython.core.display.HTML object>"
      ]
     },
     "metadata": {},
     "output_type": "display_data"
    },
    {
     "data": {
      "text/html": [
       "Successfully finished last run (ID:ky7x3rsl). Initializing new run:<br/>"
      ],
      "text/plain": [
       "<IPython.core.display.HTML object>"
      ]
     },
     "metadata": {},
     "output_type": "display_data"
    },
    {
     "data": {
      "text/html": [
       "Tracking run with wandb version 0.18.5"
      ],
      "text/plain": [
       "<IPython.core.display.HTML object>"
      ]
     },
     "metadata": {},
     "output_type": "display_data"
    },
    {
     "data": {
      "text/html": [
       "Run data is saved locally in <code>/Users/shaicahana/Documents/AI_DL/colab/AI-DL/project-1/wandb/run-20241028_221658-7bzm465y</code>"
      ],
      "text/plain": [
       "<IPython.core.display.HTML object>"
      ]
     },
     "metadata": {},
     "output_type": "display_data"
    },
    {
     "data": {
      "text/html": [
       "Syncing run <strong><a href='https://wandb.ai/shaicahana-hebrew-university-of-jerusalem/my-tf-integration/runs/7bzm465y' target=\"_blank\">dandy-cherry-248</a></strong> to <a href='https://wandb.ai/shaicahana-hebrew-university-of-jerusalem/my-tf-integration' target=\"_blank\">Weights & Biases</a> (<a href='https://wandb.me/run' target=\"_blank\">docs</a>)<br/>"
      ],
      "text/plain": [
       "<IPython.core.display.HTML object>"
      ]
     },
     "metadata": {},
     "output_type": "display_data"
    },
    {
     "data": {
      "text/html": [
       " View project at <a href='https://wandb.ai/shaicahana-hebrew-university-of-jerusalem/my-tf-integration' target=\"_blank\">https://wandb.ai/shaicahana-hebrew-university-of-jerusalem/my-tf-integration</a>"
      ],
      "text/plain": [
       "<IPython.core.display.HTML object>"
      ]
     },
     "metadata": {},
     "output_type": "display_data"
    },
    {
     "data": {
      "text/html": [
       " View run at <a href='https://wandb.ai/shaicahana-hebrew-university-of-jerusalem/my-tf-integration/runs/7bzm465y' target=\"_blank\">https://wandb.ai/shaicahana-hebrew-university-of-jerusalem/my-tf-integration/runs/7bzm465y</a>"
      ],
      "text/plain": [
       "<IPython.core.display.HTML object>"
      ]
     },
     "metadata": {},
     "output_type": "display_data"
    },
    {
     "name": "stdout",
     "output_type": "stream",
     "text": [
      "\n",
      "Start of epoch 0\n"
     ]
    },
    {
     "name": "stderr",
     "output_type": "stream",
     "text": [
      "2024-10-28 22:17:02.052755: W tensorflow/core/framework/op_kernel.cc:1841] OP_REQUIRES failed at sparse_xent_op.cc:103 : INVALID_ARGUMENT: Received a label value of 1 which is outside the valid range of [0, 1).  Label values: 1 0 0 1 1 0 0 0 0 1 1 1 0 1 0 1 1 0 0 0 1 0 0 0 1 0 0 0 1 0 1 1 1 1 0 1 1 1 0 0 1 1 1 1 0 0 1 0 0 0 0 0 1 0 1 0 0 1 0 0 1 0 1 0\n"
     ]
    },
    {
     "data": {
      "text/html": [
       "Finishing last run (ID:7bzm465y) before initializing another..."
      ],
      "text/plain": [
       "<IPython.core.display.HTML object>"
      ]
     },
     "metadata": {},
     "output_type": "display_data"
    },
    {
     "data": {
      "text/html": [
       " View run <strong style=\"color:#cdcd00\">dandy-cherry-248</strong> at: <a href='https://wandb.ai/shaicahana-hebrew-university-of-jerusalem/my-tf-integration/runs/7bzm465y' target=\"_blank\">https://wandb.ai/shaicahana-hebrew-university-of-jerusalem/my-tf-integration/runs/7bzm465y</a><br/> View project at: <a href='https://wandb.ai/shaicahana-hebrew-university-of-jerusalem/my-tf-integration' target=\"_blank\">https://wandb.ai/shaicahana-hebrew-university-of-jerusalem/my-tf-integration</a><br/>Synced 5 W&B file(s), 0 media file(s), 0 artifact file(s) and 0 other file(s)"
      ],
      "text/plain": [
       "<IPython.core.display.HTML object>"
      ]
     },
     "metadata": {},
     "output_type": "display_data"
    },
    {
     "data": {
      "text/html": [
       "Find logs at: <code>./wandb/run-20241028_221658-7bzm465y/logs</code>"
      ],
      "text/plain": [
       "<IPython.core.display.HTML object>"
      ]
     },
     "metadata": {},
     "output_type": "display_data"
    },
    {
     "data": {
      "text/html": [
       "Successfully finished last run (ID:7bzm465y). Initializing new run:<br/>"
      ],
      "text/plain": [
       "<IPython.core.display.HTML object>"
      ]
     },
     "metadata": {},
     "output_type": "display_data"
    },
    {
     "data": {
      "text/html": [
       "Tracking run with wandb version 0.18.5"
      ],
      "text/plain": [
       "<IPython.core.display.HTML object>"
      ]
     },
     "metadata": {},
     "output_type": "display_data"
    },
    {
     "data": {
      "text/html": [
       "Run data is saved locally in <code>/Users/shaicahana/Documents/AI_DL/colab/AI-DL/project-1/wandb/run-20241028_221702-sz94bocx</code>"
      ],
      "text/plain": [
       "<IPython.core.display.HTML object>"
      ]
     },
     "metadata": {},
     "output_type": "display_data"
    },
    {
     "data": {
      "text/html": [
       "Syncing run <strong><a href='https://wandb.ai/shaicahana-hebrew-university-of-jerusalem/my-tf-integration/runs/sz94bocx' target=\"_blank\">autumn-disco-249</a></strong> to <a href='https://wandb.ai/shaicahana-hebrew-university-of-jerusalem/my-tf-integration' target=\"_blank\">Weights & Biases</a> (<a href='https://wandb.me/run' target=\"_blank\">docs</a>)<br/>"
      ],
      "text/plain": [
       "<IPython.core.display.HTML object>"
      ]
     },
     "metadata": {},
     "output_type": "display_data"
    },
    {
     "data": {
      "text/html": [
       " View project at <a href='https://wandb.ai/shaicahana-hebrew-university-of-jerusalem/my-tf-integration' target=\"_blank\">https://wandb.ai/shaicahana-hebrew-university-of-jerusalem/my-tf-integration</a>"
      ],
      "text/plain": [
       "<IPython.core.display.HTML object>"
      ]
     },
     "metadata": {},
     "output_type": "display_data"
    },
    {
     "data": {
      "text/html": [
       " View run at <a href='https://wandb.ai/shaicahana-hebrew-university-of-jerusalem/my-tf-integration/runs/sz94bocx' target=\"_blank\">https://wandb.ai/shaicahana-hebrew-university-of-jerusalem/my-tf-integration/runs/sz94bocx</a>"
      ],
      "text/plain": [
       "<IPython.core.display.HTML object>"
      ]
     },
     "metadata": {},
     "output_type": "display_data"
    },
    {
     "name": "stdout",
     "output_type": "stream",
     "text": [
      "\n",
      "Start of epoch 0\n"
     ]
    },
    {
     "name": "stderr",
     "output_type": "stream",
     "text": [
      "2024-10-28 22:17:05.027426: W tensorflow/core/framework/op_kernel.cc:1841] OP_REQUIRES failed at sparse_xent_op.cc:103 : INVALID_ARGUMENT: Received a label value of 1 which is outside the valid range of [0, 1).  Label values: 1 0 0 0 1 0 0 0 0 1 1 0 1 0 1 1 1 0 0 1 1 1 0 1 0 1 1 1 0 0 1 0 0 0 1 1 0 0 0 0 1 0 0 1 1 1 1 1 0 0 1 0 1 1 0 0 1 0 0 0 1 1 1 0\n"
     ]
    },
    {
     "data": {
      "text/html": [
       "Finishing last run (ID:sz94bocx) before initializing another..."
      ],
      "text/plain": [
       "<IPython.core.display.HTML object>"
      ]
     },
     "metadata": {},
     "output_type": "display_data"
    },
    {
     "data": {
      "text/html": [
       " View run <strong style=\"color:#cdcd00\">autumn-disco-249</strong> at: <a href='https://wandb.ai/shaicahana-hebrew-university-of-jerusalem/my-tf-integration/runs/sz94bocx' target=\"_blank\">https://wandb.ai/shaicahana-hebrew-university-of-jerusalem/my-tf-integration/runs/sz94bocx</a><br/> View project at: <a href='https://wandb.ai/shaicahana-hebrew-university-of-jerusalem/my-tf-integration' target=\"_blank\">https://wandb.ai/shaicahana-hebrew-university-of-jerusalem/my-tf-integration</a><br/>Synced 5 W&B file(s), 0 media file(s), 0 artifact file(s) and 0 other file(s)"
      ],
      "text/plain": [
       "<IPython.core.display.HTML object>"
      ]
     },
     "metadata": {},
     "output_type": "display_data"
    },
    {
     "data": {
      "text/html": [
       "Find logs at: <code>./wandb/run-20241028_221702-sz94bocx/logs</code>"
      ],
      "text/plain": [
       "<IPython.core.display.HTML object>"
      ]
     },
     "metadata": {},
     "output_type": "display_data"
    },
    {
     "data": {
      "text/html": [
       "Successfully finished last run (ID:sz94bocx). Initializing new run:<br/>"
      ],
      "text/plain": [
       "<IPython.core.display.HTML object>"
      ]
     },
     "metadata": {},
     "output_type": "display_data"
    },
    {
     "data": {
      "text/html": [
       "Tracking run with wandb version 0.18.5"
      ],
      "text/plain": [
       "<IPython.core.display.HTML object>"
      ]
     },
     "metadata": {},
     "output_type": "display_data"
    },
    {
     "data": {
      "text/html": [
       "Run data is saved locally in <code>/Users/shaicahana/Documents/AI_DL/colab/AI-DL/project-1/wandb/run-20241028_221705-r0x24ehb</code>"
      ],
      "text/plain": [
       "<IPython.core.display.HTML object>"
      ]
     },
     "metadata": {},
     "output_type": "display_data"
    },
    {
     "data": {
      "text/html": [
       "Syncing run <strong><a href='https://wandb.ai/shaicahana-hebrew-university-of-jerusalem/my-tf-integration/runs/r0x24ehb' target=\"_blank\">logical-water-250</a></strong> to <a href='https://wandb.ai/shaicahana-hebrew-university-of-jerusalem/my-tf-integration' target=\"_blank\">Weights & Biases</a> (<a href='https://wandb.me/run' target=\"_blank\">docs</a>)<br/>"
      ],
      "text/plain": [
       "<IPython.core.display.HTML object>"
      ]
     },
     "metadata": {},
     "output_type": "display_data"
    },
    {
     "data": {
      "text/html": [
       " View project at <a href='https://wandb.ai/shaicahana-hebrew-university-of-jerusalem/my-tf-integration' target=\"_blank\">https://wandb.ai/shaicahana-hebrew-university-of-jerusalem/my-tf-integration</a>"
      ],
      "text/plain": [
       "<IPython.core.display.HTML object>"
      ]
     },
     "metadata": {},
     "output_type": "display_data"
    },
    {
     "data": {
      "text/html": [
       " View run at <a href='https://wandb.ai/shaicahana-hebrew-university-of-jerusalem/my-tf-integration/runs/r0x24ehb' target=\"_blank\">https://wandb.ai/shaicahana-hebrew-university-of-jerusalem/my-tf-integration/runs/r0x24ehb</a>"
      ],
      "text/plain": [
       "<IPython.core.display.HTML object>"
      ]
     },
     "metadata": {},
     "output_type": "display_data"
    },
    {
     "name": "stdout",
     "output_type": "stream",
     "text": [
      "\n",
      "Start of epoch 0\n"
     ]
    },
    {
     "name": "stderr",
     "output_type": "stream",
     "text": [
      "2024-10-28 22:17:08.119047: W tensorflow/core/framework/op_kernel.cc:1841] OP_REQUIRES failed at sparse_xent_op.cc:103 : INVALID_ARGUMENT: Received a label value of 1 which is outside the valid range of [0, 1).  Label values: 1 0 0 1 1 1 0 0 0 0 0 0 1 1 0 0 0 0 1 0 0 0 0 1 0 1 1 1 0 0 1 1 0 0 0 0 1 0 0 0 1 0 1 1 1 1 0 0 0 1 1 0 0 1 1 1 0 0 1 0 1 0 1 1\n"
     ]
    },
    {
     "data": {
      "text/html": [
       "Finishing last run (ID:r0x24ehb) before initializing another..."
      ],
      "text/plain": [
       "<IPython.core.display.HTML object>"
      ]
     },
     "metadata": {},
     "output_type": "display_data"
    },
    {
     "data": {
      "text/html": [
       " View run <strong style=\"color:#cdcd00\">logical-water-250</strong> at: <a href='https://wandb.ai/shaicahana-hebrew-university-of-jerusalem/my-tf-integration/runs/r0x24ehb' target=\"_blank\">https://wandb.ai/shaicahana-hebrew-university-of-jerusalem/my-tf-integration/runs/r0x24ehb</a><br/> View project at: <a href='https://wandb.ai/shaicahana-hebrew-university-of-jerusalem/my-tf-integration' target=\"_blank\">https://wandb.ai/shaicahana-hebrew-university-of-jerusalem/my-tf-integration</a><br/>Synced 5 W&B file(s), 0 media file(s), 0 artifact file(s) and 0 other file(s)"
      ],
      "text/plain": [
       "<IPython.core.display.HTML object>"
      ]
     },
     "metadata": {},
     "output_type": "display_data"
    },
    {
     "data": {
      "text/html": [
       "Find logs at: <code>./wandb/run-20241028_221705-r0x24ehb/logs</code>"
      ],
      "text/plain": [
       "<IPython.core.display.HTML object>"
      ]
     },
     "metadata": {},
     "output_type": "display_data"
    },
    {
     "data": {
      "text/html": [
       "Successfully finished last run (ID:r0x24ehb). Initializing new run:<br/>"
      ],
      "text/plain": [
       "<IPython.core.display.HTML object>"
      ]
     },
     "metadata": {},
     "output_type": "display_data"
    },
    {
     "data": {
      "text/html": [
       "Tracking run with wandb version 0.18.5"
      ],
      "text/plain": [
       "<IPython.core.display.HTML object>"
      ]
     },
     "metadata": {},
     "output_type": "display_data"
    },
    {
     "data": {
      "text/html": [
       "Run data is saved locally in <code>/Users/shaicahana/Documents/AI_DL/colab/AI-DL/project-1/wandb/run-20241028_221708-3j08wb14</code>"
      ],
      "text/plain": [
       "<IPython.core.display.HTML object>"
      ]
     },
     "metadata": {},
     "output_type": "display_data"
    },
    {
     "data": {
      "text/html": [
       "Syncing run <strong><a href='https://wandb.ai/shaicahana-hebrew-university-of-jerusalem/my-tf-integration/runs/3j08wb14' target=\"_blank\">true-spaceship-251</a></strong> to <a href='https://wandb.ai/shaicahana-hebrew-university-of-jerusalem/my-tf-integration' target=\"_blank\">Weights & Biases</a> (<a href='https://wandb.me/run' target=\"_blank\">docs</a>)<br/>"
      ],
      "text/plain": [
       "<IPython.core.display.HTML object>"
      ]
     },
     "metadata": {},
     "output_type": "display_data"
    },
    {
     "data": {
      "text/html": [
       " View project at <a href='https://wandb.ai/shaicahana-hebrew-university-of-jerusalem/my-tf-integration' target=\"_blank\">https://wandb.ai/shaicahana-hebrew-university-of-jerusalem/my-tf-integration</a>"
      ],
      "text/plain": [
       "<IPython.core.display.HTML object>"
      ]
     },
     "metadata": {},
     "output_type": "display_data"
    },
    {
     "data": {
      "text/html": [
       " View run at <a href='https://wandb.ai/shaicahana-hebrew-university-of-jerusalem/my-tf-integration/runs/3j08wb14' target=\"_blank\">https://wandb.ai/shaicahana-hebrew-university-of-jerusalem/my-tf-integration/runs/3j08wb14</a>"
      ],
      "text/plain": [
       "<IPython.core.display.HTML object>"
      ]
     },
     "metadata": {},
     "output_type": "display_data"
    },
    {
     "name": "stdout",
     "output_type": "stream",
     "text": [
      "\n",
      "Start of epoch 0\n"
     ]
    },
    {
     "name": "stderr",
     "output_type": "stream",
     "text": [
      "2024-10-28 22:17:11.125096: W tensorflow/core/framework/op_kernel.cc:1841] OP_REQUIRES failed at sparse_xent_op.cc:103 : INVALID_ARGUMENT: Received a label value of 1 which is outside the valid range of [0, 1).  Label values: 1 0 1 1 1 1 1 0 1 1 1 0 1 0 1 0 1 0 1 0 0 0 1 1 0 0 0 0 0 1 0 1 0 0 0 0 1 1 0 0 0 1 1 0 0 1 0 0 1 0 1 0 0 0 1 0 1 0 1 1 0 0 0 1\n"
     ]
    },
    {
     "data": {
      "text/html": [
       "Finishing last run (ID:3j08wb14) before initializing another..."
      ],
      "text/plain": [
       "<IPython.core.display.HTML object>"
      ]
     },
     "metadata": {},
     "output_type": "display_data"
    },
    {
     "data": {
      "text/html": [
       " View run <strong style=\"color:#cdcd00\">true-spaceship-251</strong> at: <a href='https://wandb.ai/shaicahana-hebrew-university-of-jerusalem/my-tf-integration/runs/3j08wb14' target=\"_blank\">https://wandb.ai/shaicahana-hebrew-university-of-jerusalem/my-tf-integration/runs/3j08wb14</a><br/> View project at: <a href='https://wandb.ai/shaicahana-hebrew-university-of-jerusalem/my-tf-integration' target=\"_blank\">https://wandb.ai/shaicahana-hebrew-university-of-jerusalem/my-tf-integration</a><br/>Synced 5 W&B file(s), 0 media file(s), 0 artifact file(s) and 0 other file(s)"
      ],
      "text/plain": [
       "<IPython.core.display.HTML object>"
      ]
     },
     "metadata": {},
     "output_type": "display_data"
    },
    {
     "data": {
      "text/html": [
       "Find logs at: <code>./wandb/run-20241028_221708-3j08wb14/logs</code>"
      ],
      "text/plain": [
       "<IPython.core.display.HTML object>"
      ]
     },
     "metadata": {},
     "output_type": "display_data"
    },
    {
     "data": {
      "text/html": [
       "Successfully finished last run (ID:3j08wb14). Initializing new run:<br/>"
      ],
      "text/plain": [
       "<IPython.core.display.HTML object>"
      ]
     },
     "metadata": {},
     "output_type": "display_data"
    },
    {
     "data": {
      "text/html": [
       "Tracking run with wandb version 0.18.5"
      ],
      "text/plain": [
       "<IPython.core.display.HTML object>"
      ]
     },
     "metadata": {},
     "output_type": "display_data"
    },
    {
     "data": {
      "text/html": [
       "Run data is saved locally in <code>/Users/shaicahana/Documents/AI_DL/colab/AI-DL/project-1/wandb/run-20241028_221711-0qgxsgsc</code>"
      ],
      "text/plain": [
       "<IPython.core.display.HTML object>"
      ]
     },
     "metadata": {},
     "output_type": "display_data"
    },
    {
     "data": {
      "text/html": [
       "Syncing run <strong><a href='https://wandb.ai/shaicahana-hebrew-university-of-jerusalem/my-tf-integration/runs/0qgxsgsc' target=\"_blank\">ancient-sponge-252</a></strong> to <a href='https://wandb.ai/shaicahana-hebrew-university-of-jerusalem/my-tf-integration' target=\"_blank\">Weights & Biases</a> (<a href='https://wandb.me/run' target=\"_blank\">docs</a>)<br/>"
      ],
      "text/plain": [
       "<IPython.core.display.HTML object>"
      ]
     },
     "metadata": {},
     "output_type": "display_data"
    },
    {
     "data": {
      "text/html": [
       " View project at <a href='https://wandb.ai/shaicahana-hebrew-university-of-jerusalem/my-tf-integration' target=\"_blank\">https://wandb.ai/shaicahana-hebrew-university-of-jerusalem/my-tf-integration</a>"
      ],
      "text/plain": [
       "<IPython.core.display.HTML object>"
      ]
     },
     "metadata": {},
     "output_type": "display_data"
    },
    {
     "data": {
      "text/html": [
       " View run at <a href='https://wandb.ai/shaicahana-hebrew-university-of-jerusalem/my-tf-integration/runs/0qgxsgsc' target=\"_blank\">https://wandb.ai/shaicahana-hebrew-university-of-jerusalem/my-tf-integration/runs/0qgxsgsc</a>"
      ],
      "text/plain": [
       "<IPython.core.display.HTML object>"
      ]
     },
     "metadata": {},
     "output_type": "display_data"
    },
    {
     "name": "stdout",
     "output_type": "stream",
     "text": [
      "\n",
      "Start of epoch 0\n"
     ]
    },
    {
     "name": "stderr",
     "output_type": "stream",
     "text": [
      "2024-10-28 22:17:14.200172: W tensorflow/core/framework/op_kernel.cc:1841] OP_REQUIRES failed at sparse_xent_op.cc:103 : INVALID_ARGUMENT: Received a label value of 1 which is outside the valid range of [0, 1).  Label values: 1 1 0 1 0 0 1 1 1 0 0 0 0 0 1 0 0 0 0 1 0 1 1 0 0 0 1 0 1 1 0 0 1 0 1 1 0 0 1 0 0 1 0 0 1 1 0 0 0 1 0 0 1 0 0 1 0 0 0 0 1 1 0 0\n"
     ]
    },
    {
     "data": {
      "text/html": [
       "Finishing last run (ID:0qgxsgsc) before initializing another..."
      ],
      "text/plain": [
       "<IPython.core.display.HTML object>"
      ]
     },
     "metadata": {},
     "output_type": "display_data"
    },
    {
     "data": {
      "text/html": [
       " View run <strong style=\"color:#cdcd00\">ancient-sponge-252</strong> at: <a href='https://wandb.ai/shaicahana-hebrew-university-of-jerusalem/my-tf-integration/runs/0qgxsgsc' target=\"_blank\">https://wandb.ai/shaicahana-hebrew-university-of-jerusalem/my-tf-integration/runs/0qgxsgsc</a><br/> View project at: <a href='https://wandb.ai/shaicahana-hebrew-university-of-jerusalem/my-tf-integration' target=\"_blank\">https://wandb.ai/shaicahana-hebrew-university-of-jerusalem/my-tf-integration</a><br/>Synced 5 W&B file(s), 0 media file(s), 0 artifact file(s) and 0 other file(s)"
      ],
      "text/plain": [
       "<IPython.core.display.HTML object>"
      ]
     },
     "metadata": {},
     "output_type": "display_data"
    },
    {
     "data": {
      "text/html": [
       "Find logs at: <code>./wandb/run-20241028_221711-0qgxsgsc/logs</code>"
      ],
      "text/plain": [
       "<IPython.core.display.HTML object>"
      ]
     },
     "metadata": {},
     "output_type": "display_data"
    },
    {
     "data": {
      "text/html": [
       "Successfully finished last run (ID:0qgxsgsc). Initializing new run:<br/>"
      ],
      "text/plain": [
       "<IPython.core.display.HTML object>"
      ]
     },
     "metadata": {},
     "output_type": "display_data"
    },
    {
     "data": {
      "text/html": [
       "Tracking run with wandb version 0.18.5"
      ],
      "text/plain": [
       "<IPython.core.display.HTML object>"
      ]
     },
     "metadata": {},
     "output_type": "display_data"
    },
    {
     "data": {
      "text/html": [
       "Run data is saved locally in <code>/Users/shaicahana/Documents/AI_DL/colab/AI-DL/project-1/wandb/run-20241028_221714-jdivraq8</code>"
      ],
      "text/plain": [
       "<IPython.core.display.HTML object>"
      ]
     },
     "metadata": {},
     "output_type": "display_data"
    },
    {
     "data": {
      "text/html": [
       "Syncing run <strong><a href='https://wandb.ai/shaicahana-hebrew-university-of-jerusalem/my-tf-integration/runs/jdivraq8' target=\"_blank\">leafy-river-253</a></strong> to <a href='https://wandb.ai/shaicahana-hebrew-university-of-jerusalem/my-tf-integration' target=\"_blank\">Weights & Biases</a> (<a href='https://wandb.me/run' target=\"_blank\">docs</a>)<br/>"
      ],
      "text/plain": [
       "<IPython.core.display.HTML object>"
      ]
     },
     "metadata": {},
     "output_type": "display_data"
    },
    {
     "data": {
      "text/html": [
       " View project at <a href='https://wandb.ai/shaicahana-hebrew-university-of-jerusalem/my-tf-integration' target=\"_blank\">https://wandb.ai/shaicahana-hebrew-university-of-jerusalem/my-tf-integration</a>"
      ],
      "text/plain": [
       "<IPython.core.display.HTML object>"
      ]
     },
     "metadata": {},
     "output_type": "display_data"
    },
    {
     "data": {
      "text/html": [
       " View run at <a href='https://wandb.ai/shaicahana-hebrew-university-of-jerusalem/my-tf-integration/runs/jdivraq8' target=\"_blank\">https://wandb.ai/shaicahana-hebrew-university-of-jerusalem/my-tf-integration/runs/jdivraq8</a>"
      ],
      "text/plain": [
       "<IPython.core.display.HTML object>"
      ]
     },
     "metadata": {},
     "output_type": "display_data"
    },
    {
     "name": "stdout",
     "output_type": "stream",
     "text": [
      "\n",
      "Start of epoch 0\n"
     ]
    },
    {
     "name": "stderr",
     "output_type": "stream",
     "text": [
      "2024-10-28 22:17:17.107017: W tensorflow/core/framework/op_kernel.cc:1841] OP_REQUIRES failed at sparse_xent_op.cc:103 : INVALID_ARGUMENT: Received a label value of 1 which is outside the valid range of [0, 1).  Label values: 1 0 1 1 1 0 0 1 0 0 0 1 0 0 0 0 1 1 0 0 1 1 1 0 0 1 1 1 1 0 0 1 0 1 1 0 0 1 1 1 0 0 0 1 0 0 0 0 1 0 1 0 1 0 0 1 1 0 0 0 1 0 1 0\n"
     ]
    },
    {
     "data": {
      "text/html": [
       "Finishing last run (ID:jdivraq8) before initializing another..."
      ],
      "text/plain": [
       "<IPython.core.display.HTML object>"
      ]
     },
     "metadata": {},
     "output_type": "display_data"
    },
    {
     "data": {
      "text/html": [
       " View run <strong style=\"color:#cdcd00\">leafy-river-253</strong> at: <a href='https://wandb.ai/shaicahana-hebrew-university-of-jerusalem/my-tf-integration/runs/jdivraq8' target=\"_blank\">https://wandb.ai/shaicahana-hebrew-university-of-jerusalem/my-tf-integration/runs/jdivraq8</a><br/> View project at: <a href='https://wandb.ai/shaicahana-hebrew-university-of-jerusalem/my-tf-integration' target=\"_blank\">https://wandb.ai/shaicahana-hebrew-university-of-jerusalem/my-tf-integration</a><br/>Synced 5 W&B file(s), 0 media file(s), 0 artifact file(s) and 0 other file(s)"
      ],
      "text/plain": [
       "<IPython.core.display.HTML object>"
      ]
     },
     "metadata": {},
     "output_type": "display_data"
    },
    {
     "data": {
      "text/html": [
       "Find logs at: <code>./wandb/run-20241028_221714-jdivraq8/logs</code>"
      ],
      "text/plain": [
       "<IPython.core.display.HTML object>"
      ]
     },
     "metadata": {},
     "output_type": "display_data"
    },
    {
     "data": {
      "text/html": [
       "Successfully finished last run (ID:jdivraq8). Initializing new run:<br/>"
      ],
      "text/plain": [
       "<IPython.core.display.HTML object>"
      ]
     },
     "metadata": {},
     "output_type": "display_data"
    },
    {
     "data": {
      "text/html": [
       "Tracking run with wandb version 0.18.5"
      ],
      "text/plain": [
       "<IPython.core.display.HTML object>"
      ]
     },
     "metadata": {},
     "output_type": "display_data"
    },
    {
     "data": {
      "text/html": [
       "Run data is saved locally in <code>/Users/shaicahana/Documents/AI_DL/colab/AI-DL/project-1/wandb/run-20241028_221717-1dgncmay</code>"
      ],
      "text/plain": [
       "<IPython.core.display.HTML object>"
      ]
     },
     "metadata": {},
     "output_type": "display_data"
    },
    {
     "data": {
      "text/html": [
       "Syncing run <strong><a href='https://wandb.ai/shaicahana-hebrew-university-of-jerusalem/my-tf-integration/runs/1dgncmay' target=\"_blank\">azure-sponge-254</a></strong> to <a href='https://wandb.ai/shaicahana-hebrew-university-of-jerusalem/my-tf-integration' target=\"_blank\">Weights & Biases</a> (<a href='https://wandb.me/run' target=\"_blank\">docs</a>)<br/>"
      ],
      "text/plain": [
       "<IPython.core.display.HTML object>"
      ]
     },
     "metadata": {},
     "output_type": "display_data"
    },
    {
     "data": {
      "text/html": [
       " View project at <a href='https://wandb.ai/shaicahana-hebrew-university-of-jerusalem/my-tf-integration' target=\"_blank\">https://wandb.ai/shaicahana-hebrew-university-of-jerusalem/my-tf-integration</a>"
      ],
      "text/plain": [
       "<IPython.core.display.HTML object>"
      ]
     },
     "metadata": {},
     "output_type": "display_data"
    },
    {
     "data": {
      "text/html": [
       " View run at <a href='https://wandb.ai/shaicahana-hebrew-university-of-jerusalem/my-tf-integration/runs/1dgncmay' target=\"_blank\">https://wandb.ai/shaicahana-hebrew-university-of-jerusalem/my-tf-integration/runs/1dgncmay</a>"
      ],
      "text/plain": [
       "<IPython.core.display.HTML object>"
      ]
     },
     "metadata": {},
     "output_type": "display_data"
    },
    {
     "name": "stdout",
     "output_type": "stream",
     "text": [
      "\n",
      "Start of epoch 0\n"
     ]
    },
    {
     "name": "stderr",
     "output_type": "stream",
     "text": [
      "2024-10-28 22:17:20.228307: W tensorflow/core/framework/op_kernel.cc:1841] OP_REQUIRES failed at sparse_xent_op.cc:103 : INVALID_ARGUMENT: Received a label value of 1 which is outside the valid range of [0, 1).  Label values: 0 1 1 0 0 0 0 1 1 1 1 1 0 1 1 1 0 1 0 1 0 1 0 1 0 1 0 1 1 0 0 1 1 0 1 0 1 0 0 0 1 0 1 0 1 0 0 1 1 0 0 0 1 0 1 0 0 0 1 0 0 0 1 0\n"
     ]
    },
    {
     "data": {
      "text/html": [
       "Finishing last run (ID:1dgncmay) before initializing another..."
      ],
      "text/plain": [
       "<IPython.core.display.HTML object>"
      ]
     },
     "metadata": {},
     "output_type": "display_data"
    },
    {
     "data": {
      "text/html": [
       " View run <strong style=\"color:#cdcd00\">azure-sponge-254</strong> at: <a href='https://wandb.ai/shaicahana-hebrew-university-of-jerusalem/my-tf-integration/runs/1dgncmay' target=\"_blank\">https://wandb.ai/shaicahana-hebrew-university-of-jerusalem/my-tf-integration/runs/1dgncmay</a><br/> View project at: <a href='https://wandb.ai/shaicahana-hebrew-university-of-jerusalem/my-tf-integration' target=\"_blank\">https://wandb.ai/shaicahana-hebrew-university-of-jerusalem/my-tf-integration</a><br/>Synced 5 W&B file(s), 0 media file(s), 0 artifact file(s) and 0 other file(s)"
      ],
      "text/plain": [
       "<IPython.core.display.HTML object>"
      ]
     },
     "metadata": {},
     "output_type": "display_data"
    },
    {
     "data": {
      "text/html": [
       "Find logs at: <code>./wandb/run-20241028_221717-1dgncmay/logs</code>"
      ],
      "text/plain": [
       "<IPython.core.display.HTML object>"
      ]
     },
     "metadata": {},
     "output_type": "display_data"
    },
    {
     "data": {
      "text/html": [
       "Successfully finished last run (ID:1dgncmay). Initializing new run:<br/>"
      ],
      "text/plain": [
       "<IPython.core.display.HTML object>"
      ]
     },
     "metadata": {},
     "output_type": "display_data"
    },
    {
     "data": {
      "text/html": [
       "Tracking run with wandb version 0.18.5"
      ],
      "text/plain": [
       "<IPython.core.display.HTML object>"
      ]
     },
     "metadata": {},
     "output_type": "display_data"
    },
    {
     "data": {
      "text/html": [
       "Run data is saved locally in <code>/Users/shaicahana/Documents/AI_DL/colab/AI-DL/project-1/wandb/run-20241028_221720-qi1aagom</code>"
      ],
      "text/plain": [
       "<IPython.core.display.HTML object>"
      ]
     },
     "metadata": {},
     "output_type": "display_data"
    },
    {
     "data": {
      "text/html": [
       "Syncing run <strong><a href='https://wandb.ai/shaicahana-hebrew-university-of-jerusalem/my-tf-integration/runs/qi1aagom' target=\"_blank\">trim-thunder-255</a></strong> to <a href='https://wandb.ai/shaicahana-hebrew-university-of-jerusalem/my-tf-integration' target=\"_blank\">Weights & Biases</a> (<a href='https://wandb.me/run' target=\"_blank\">docs</a>)<br/>"
      ],
      "text/plain": [
       "<IPython.core.display.HTML object>"
      ]
     },
     "metadata": {},
     "output_type": "display_data"
    },
    {
     "data": {
      "text/html": [
       " View project at <a href='https://wandb.ai/shaicahana-hebrew-university-of-jerusalem/my-tf-integration' target=\"_blank\">https://wandb.ai/shaicahana-hebrew-university-of-jerusalem/my-tf-integration</a>"
      ],
      "text/plain": [
       "<IPython.core.display.HTML object>"
      ]
     },
     "metadata": {},
     "output_type": "display_data"
    },
    {
     "data": {
      "text/html": [
       " View run at <a href='https://wandb.ai/shaicahana-hebrew-university-of-jerusalem/my-tf-integration/runs/qi1aagom' target=\"_blank\">https://wandb.ai/shaicahana-hebrew-university-of-jerusalem/my-tf-integration/runs/qi1aagom</a>"
      ],
      "text/plain": [
       "<IPython.core.display.HTML object>"
      ]
     },
     "metadata": {},
     "output_type": "display_data"
    },
    {
     "name": "stdout",
     "output_type": "stream",
     "text": [
      "\n",
      "Start of epoch 0\n"
     ]
    },
    {
     "name": "stderr",
     "output_type": "stream",
     "text": [
      "2024-10-28 22:17:23.341896: W tensorflow/core/framework/op_kernel.cc:1841] OP_REQUIRES failed at sparse_xent_op.cc:103 : INVALID_ARGUMENT: Received a label value of 1 which is outside the valid range of [0, 1).  Label values: 0 0 0 0 1 0 0 1 0 0 0 0 1 1 1 0 0 0 0 1 1 0 1 1 0 0 0 0 1 1 1 1 1 0 0 0 0 1 0 1 0 0 0 1 0 1 0 1 1 0 0 1 0 0 0 0 0 0 0 0 1 1 1 1\n",
      "2024-10-28 22:17:23.341911: I tensorflow/core/framework/local_rendezvous.cc:405] Local rendezvous is aborting with status: INVALID_ARGUMENT: Received a label value of 1 which is outside the valid range of [0, 1).  Label values: 0 0 0 0 1 0 0 1 0 0 0 0 1 1 1 0 0 0 0 1 1 0 1 1 0 0 0 0 1 1 1 1 1 0 0 0 0 1 0 1 0 0 0 1 0 1 0 1 1 0 0 1 0 0 0 0 0 0 0 0 1 1 1 1\n"
     ]
    },
    {
     "data": {
      "text/html": [
       "Finishing last run (ID:qi1aagom) before initializing another..."
      ],
      "text/plain": [
       "<IPython.core.display.HTML object>"
      ]
     },
     "metadata": {},
     "output_type": "display_data"
    },
    {
     "data": {
      "text/html": [
       " View run <strong style=\"color:#cdcd00\">trim-thunder-255</strong> at: <a href='https://wandb.ai/shaicahana-hebrew-university-of-jerusalem/my-tf-integration/runs/qi1aagom' target=\"_blank\">https://wandb.ai/shaicahana-hebrew-university-of-jerusalem/my-tf-integration/runs/qi1aagom</a><br/> View project at: <a href='https://wandb.ai/shaicahana-hebrew-university-of-jerusalem/my-tf-integration' target=\"_blank\">https://wandb.ai/shaicahana-hebrew-university-of-jerusalem/my-tf-integration</a><br/>Synced 5 W&B file(s), 0 media file(s), 0 artifact file(s) and 0 other file(s)"
      ],
      "text/plain": [
       "<IPython.core.display.HTML object>"
      ]
     },
     "metadata": {},
     "output_type": "display_data"
    },
    {
     "data": {
      "text/html": [
       "Find logs at: <code>./wandb/run-20241028_221720-qi1aagom/logs</code>"
      ],
      "text/plain": [
       "<IPython.core.display.HTML object>"
      ]
     },
     "metadata": {},
     "output_type": "display_data"
    },
    {
     "data": {
      "text/html": [
       "Successfully finished last run (ID:qi1aagom). Initializing new run:<br/>"
      ],
      "text/plain": [
       "<IPython.core.display.HTML object>"
      ]
     },
     "metadata": {},
     "output_type": "display_data"
    },
    {
     "data": {
      "text/html": [
       "Tracking run with wandb version 0.18.5"
      ],
      "text/plain": [
       "<IPython.core.display.HTML object>"
      ]
     },
     "metadata": {},
     "output_type": "display_data"
    },
    {
     "data": {
      "text/html": [
       "Run data is saved locally in <code>/Users/shaicahana/Documents/AI_DL/colab/AI-DL/project-1/wandb/run-20241028_221723-yaxujq1o</code>"
      ],
      "text/plain": [
       "<IPython.core.display.HTML object>"
      ]
     },
     "metadata": {},
     "output_type": "display_data"
    },
    {
     "data": {
      "text/html": [
       "Syncing run <strong><a href='https://wandb.ai/shaicahana-hebrew-university-of-jerusalem/my-tf-integration/runs/yaxujq1o' target=\"_blank\">icy-gorge-256</a></strong> to <a href='https://wandb.ai/shaicahana-hebrew-university-of-jerusalem/my-tf-integration' target=\"_blank\">Weights & Biases</a> (<a href='https://wandb.me/run' target=\"_blank\">docs</a>)<br/>"
      ],
      "text/plain": [
       "<IPython.core.display.HTML object>"
      ]
     },
     "metadata": {},
     "output_type": "display_data"
    },
    {
     "data": {
      "text/html": [
       " View project at <a href='https://wandb.ai/shaicahana-hebrew-university-of-jerusalem/my-tf-integration' target=\"_blank\">https://wandb.ai/shaicahana-hebrew-university-of-jerusalem/my-tf-integration</a>"
      ],
      "text/plain": [
       "<IPython.core.display.HTML object>"
      ]
     },
     "metadata": {},
     "output_type": "display_data"
    },
    {
     "data": {
      "text/html": [
       " View run at <a href='https://wandb.ai/shaicahana-hebrew-university-of-jerusalem/my-tf-integration/runs/yaxujq1o' target=\"_blank\">https://wandb.ai/shaicahana-hebrew-university-of-jerusalem/my-tf-integration/runs/yaxujq1o</a>"
      ],
      "text/plain": [
       "<IPython.core.display.HTML object>"
      ]
     },
     "metadata": {},
     "output_type": "display_data"
    },
    {
     "name": "stdout",
     "output_type": "stream",
     "text": [
      "\n",
      "Start of epoch 0\n"
     ]
    },
    {
     "name": "stderr",
     "output_type": "stream",
     "text": [
      "2024-10-28 22:17:26.497396: W tensorflow/core/framework/op_kernel.cc:1841] OP_REQUIRES failed at sparse_xent_op.cc:103 : INVALID_ARGUMENT: Received a label value of 1 which is outside the valid range of [0, 1).  Label values: 1 0 1 0 0 1 0 1 0 0 0 1 1 1 1 0 1 1 0 1 0 1 1 1 1 0 0 0 0 0 1 0 0 0 0 1 0 0 1 0 0 1 1 1 1 0 0 0 0 0 0 0 1 0 0 0 0 1 0 1 1 1 1 1\n"
     ]
    },
    {
     "data": {
      "text/html": [
       "Finishing last run (ID:yaxujq1o) before initializing another..."
      ],
      "text/plain": [
       "<IPython.core.display.HTML object>"
      ]
     },
     "metadata": {},
     "output_type": "display_data"
    },
    {
     "data": {
      "text/html": [
       " View run <strong style=\"color:#cdcd00\">icy-gorge-256</strong> at: <a href='https://wandb.ai/shaicahana-hebrew-university-of-jerusalem/my-tf-integration/runs/yaxujq1o' target=\"_blank\">https://wandb.ai/shaicahana-hebrew-university-of-jerusalem/my-tf-integration/runs/yaxujq1o</a><br/> View project at: <a href='https://wandb.ai/shaicahana-hebrew-university-of-jerusalem/my-tf-integration' target=\"_blank\">https://wandb.ai/shaicahana-hebrew-university-of-jerusalem/my-tf-integration</a><br/>Synced 5 W&B file(s), 0 media file(s), 0 artifact file(s) and 0 other file(s)"
      ],
      "text/plain": [
       "<IPython.core.display.HTML object>"
      ]
     },
     "metadata": {},
     "output_type": "display_data"
    },
    {
     "data": {
      "text/html": [
       "Find logs at: <code>./wandb/run-20241028_221723-yaxujq1o/logs</code>"
      ],
      "text/plain": [
       "<IPython.core.display.HTML object>"
      ]
     },
     "metadata": {},
     "output_type": "display_data"
    },
    {
     "data": {
      "text/html": [
       "Successfully finished last run (ID:yaxujq1o). Initializing new run:<br/>"
      ],
      "text/plain": [
       "<IPython.core.display.HTML object>"
      ]
     },
     "metadata": {},
     "output_type": "display_data"
    },
    {
     "data": {
      "text/html": [
       "Tracking run with wandb version 0.18.5"
      ],
      "text/plain": [
       "<IPython.core.display.HTML object>"
      ]
     },
     "metadata": {},
     "output_type": "display_data"
    },
    {
     "data": {
      "text/html": [
       "Run data is saved locally in <code>/Users/shaicahana/Documents/AI_DL/colab/AI-DL/project-1/wandb/run-20241028_221726-e552e9fg</code>"
      ],
      "text/plain": [
       "<IPython.core.display.HTML object>"
      ]
     },
     "metadata": {},
     "output_type": "display_data"
    },
    {
     "data": {
      "text/html": [
       "Syncing run <strong><a href='https://wandb.ai/shaicahana-hebrew-university-of-jerusalem/my-tf-integration/runs/e552e9fg' target=\"_blank\">sweet-flower-257</a></strong> to <a href='https://wandb.ai/shaicahana-hebrew-university-of-jerusalem/my-tf-integration' target=\"_blank\">Weights & Biases</a> (<a href='https://wandb.me/run' target=\"_blank\">docs</a>)<br/>"
      ],
      "text/plain": [
       "<IPython.core.display.HTML object>"
      ]
     },
     "metadata": {},
     "output_type": "display_data"
    },
    {
     "data": {
      "text/html": [
       " View project at <a href='https://wandb.ai/shaicahana-hebrew-university-of-jerusalem/my-tf-integration' target=\"_blank\">https://wandb.ai/shaicahana-hebrew-university-of-jerusalem/my-tf-integration</a>"
      ],
      "text/plain": [
       "<IPython.core.display.HTML object>"
      ]
     },
     "metadata": {},
     "output_type": "display_data"
    },
    {
     "data": {
      "text/html": [
       " View run at <a href='https://wandb.ai/shaicahana-hebrew-university-of-jerusalem/my-tf-integration/runs/e552e9fg' target=\"_blank\">https://wandb.ai/shaicahana-hebrew-university-of-jerusalem/my-tf-integration/runs/e552e9fg</a>"
      ],
      "text/plain": [
       "<IPython.core.display.HTML object>"
      ]
     },
     "metadata": {},
     "output_type": "display_data"
    },
    {
     "name": "stdout",
     "output_type": "stream",
     "text": [
      "\n",
      "Start of epoch 0\n"
     ]
    },
    {
     "name": "stderr",
     "output_type": "stream",
     "text": [
      "2024-10-28 22:17:30.015817: W tensorflow/core/framework/op_kernel.cc:1841] OP_REQUIRES failed at sparse_xent_op.cc:103 : INVALID_ARGUMENT: Received a label value of 1 which is outside the valid range of [0, 1).  Label values: 0 1 0 1 0 0 0 0 1 1 0 0 1 1 0 0 0 1 1 0 0 1 1 1 0 0 1 0 0 1 0 1 0 0 1 0 0 0 0 1 1 0 0 1 1 0 0 1 1 1 0 1 0 1 0 0 1 0 1 1 1 1 1 1\n"
     ]
    },
    {
     "data": {
      "text/html": [
       "Finishing last run (ID:e552e9fg) before initializing another..."
      ],
      "text/plain": [
       "<IPython.core.display.HTML object>"
      ]
     },
     "metadata": {},
     "output_type": "display_data"
    },
    {
     "data": {
      "text/html": [
       " View run <strong style=\"color:#cdcd00\">sweet-flower-257</strong> at: <a href='https://wandb.ai/shaicahana-hebrew-university-of-jerusalem/my-tf-integration/runs/e552e9fg' target=\"_blank\">https://wandb.ai/shaicahana-hebrew-university-of-jerusalem/my-tf-integration/runs/e552e9fg</a><br/> View project at: <a href='https://wandb.ai/shaicahana-hebrew-university-of-jerusalem/my-tf-integration' target=\"_blank\">https://wandb.ai/shaicahana-hebrew-university-of-jerusalem/my-tf-integration</a><br/>Synced 5 W&B file(s), 0 media file(s), 0 artifact file(s) and 0 other file(s)"
      ],
      "text/plain": [
       "<IPython.core.display.HTML object>"
      ]
     },
     "metadata": {},
     "output_type": "display_data"
    },
    {
     "data": {
      "text/html": [
       "Find logs at: <code>./wandb/run-20241028_221726-e552e9fg/logs</code>"
      ],
      "text/plain": [
       "<IPython.core.display.HTML object>"
      ]
     },
     "metadata": {},
     "output_type": "display_data"
    },
    {
     "data": {
      "text/html": [
       "Successfully finished last run (ID:e552e9fg). Initializing new run:<br/>"
      ],
      "text/plain": [
       "<IPython.core.display.HTML object>"
      ]
     },
     "metadata": {},
     "output_type": "display_data"
    },
    {
     "data": {
      "text/html": [
       "Tracking run with wandb version 0.18.5"
      ],
      "text/plain": [
       "<IPython.core.display.HTML object>"
      ]
     },
     "metadata": {},
     "output_type": "display_data"
    },
    {
     "data": {
      "text/html": [
       "Run data is saved locally in <code>/Users/shaicahana/Documents/AI_DL/colab/AI-DL/project-1/wandb/run-20241028_221730-ma0zkd1r</code>"
      ],
      "text/plain": [
       "<IPython.core.display.HTML object>"
      ]
     },
     "metadata": {},
     "output_type": "display_data"
    },
    {
     "data": {
      "text/html": [
       "Syncing run <strong><a href='https://wandb.ai/shaicahana-hebrew-university-of-jerusalem/my-tf-integration/runs/ma0zkd1r' target=\"_blank\">absurd-plant-258</a></strong> to <a href='https://wandb.ai/shaicahana-hebrew-university-of-jerusalem/my-tf-integration' target=\"_blank\">Weights & Biases</a> (<a href='https://wandb.me/run' target=\"_blank\">docs</a>)<br/>"
      ],
      "text/plain": [
       "<IPython.core.display.HTML object>"
      ]
     },
     "metadata": {},
     "output_type": "display_data"
    },
    {
     "data": {
      "text/html": [
       " View project at <a href='https://wandb.ai/shaicahana-hebrew-university-of-jerusalem/my-tf-integration' target=\"_blank\">https://wandb.ai/shaicahana-hebrew-university-of-jerusalem/my-tf-integration</a>"
      ],
      "text/plain": [
       "<IPython.core.display.HTML object>"
      ]
     },
     "metadata": {},
     "output_type": "display_data"
    },
    {
     "data": {
      "text/html": [
       " View run at <a href='https://wandb.ai/shaicahana-hebrew-university-of-jerusalem/my-tf-integration/runs/ma0zkd1r' target=\"_blank\">https://wandb.ai/shaicahana-hebrew-university-of-jerusalem/my-tf-integration/runs/ma0zkd1r</a>"
      ],
      "text/plain": [
       "<IPython.core.display.HTML object>"
      ]
     },
     "metadata": {},
     "output_type": "display_data"
    },
    {
     "name": "stdout",
     "output_type": "stream",
     "text": [
      "\n",
      "Start of epoch 0\n"
     ]
    },
    {
     "name": "stderr",
     "output_type": "stream",
     "text": [
      "2024-10-28 22:17:33.293064: W tensorflow/core/framework/op_kernel.cc:1841] OP_REQUIRES failed at sparse_xent_op.cc:103 : INVALID_ARGUMENT: Received a label value of 1 which is outside the valid range of [0, 1).  Label values: 1 1 0 1 0 0 1 1 0 1 1 0 0 0 0 0 0 0 0 1 1 0 0 1 1 1 1 1 1 0 1 1 1 1 0 1 0 1 1 1 1 1 1 0 1 0 1 0 1 0 0 1 0 1 0 0 1 0 1 1 0 0 0 0\n"
     ]
    },
    {
     "data": {
      "text/html": [
       "Finishing last run (ID:ma0zkd1r) before initializing another..."
      ],
      "text/plain": [
       "<IPython.core.display.HTML object>"
      ]
     },
     "metadata": {},
     "output_type": "display_data"
    },
    {
     "data": {
      "text/html": [
       " View run <strong style=\"color:#cdcd00\">absurd-plant-258</strong> at: <a href='https://wandb.ai/shaicahana-hebrew-university-of-jerusalem/my-tf-integration/runs/ma0zkd1r' target=\"_blank\">https://wandb.ai/shaicahana-hebrew-university-of-jerusalem/my-tf-integration/runs/ma0zkd1r</a><br/> View project at: <a href='https://wandb.ai/shaicahana-hebrew-university-of-jerusalem/my-tf-integration' target=\"_blank\">https://wandb.ai/shaicahana-hebrew-university-of-jerusalem/my-tf-integration</a><br/>Synced 5 W&B file(s), 0 media file(s), 0 artifact file(s) and 0 other file(s)"
      ],
      "text/plain": [
       "<IPython.core.display.HTML object>"
      ]
     },
     "metadata": {},
     "output_type": "display_data"
    },
    {
     "data": {
      "text/html": [
       "Find logs at: <code>./wandb/run-20241028_221730-ma0zkd1r/logs</code>"
      ],
      "text/plain": [
       "<IPython.core.display.HTML object>"
      ]
     },
     "metadata": {},
     "output_type": "display_data"
    },
    {
     "data": {
      "text/html": [
       "Successfully finished last run (ID:ma0zkd1r). Initializing new run:<br/>"
      ],
      "text/plain": [
       "<IPython.core.display.HTML object>"
      ]
     },
     "metadata": {},
     "output_type": "display_data"
    },
    {
     "data": {
      "text/html": [
       "Tracking run with wandb version 0.18.5"
      ],
      "text/plain": [
       "<IPython.core.display.HTML object>"
      ]
     },
     "metadata": {},
     "output_type": "display_data"
    },
    {
     "data": {
      "text/html": [
       "Run data is saved locally in <code>/Users/shaicahana/Documents/AI_DL/colab/AI-DL/project-1/wandb/run-20241028_221733-csqm54d4</code>"
      ],
      "text/plain": [
       "<IPython.core.display.HTML object>"
      ]
     },
     "metadata": {},
     "output_type": "display_data"
    },
    {
     "data": {
      "text/html": [
       "Syncing run <strong><a href='https://wandb.ai/shaicahana-hebrew-university-of-jerusalem/my-tf-integration/runs/csqm54d4' target=\"_blank\">ethereal-butterfly-259</a></strong> to <a href='https://wandb.ai/shaicahana-hebrew-university-of-jerusalem/my-tf-integration' target=\"_blank\">Weights & Biases</a> (<a href='https://wandb.me/run' target=\"_blank\">docs</a>)<br/>"
      ],
      "text/plain": [
       "<IPython.core.display.HTML object>"
      ]
     },
     "metadata": {},
     "output_type": "display_data"
    },
    {
     "data": {
      "text/html": [
       " View project at <a href='https://wandb.ai/shaicahana-hebrew-university-of-jerusalem/my-tf-integration' target=\"_blank\">https://wandb.ai/shaicahana-hebrew-university-of-jerusalem/my-tf-integration</a>"
      ],
      "text/plain": [
       "<IPython.core.display.HTML object>"
      ]
     },
     "metadata": {},
     "output_type": "display_data"
    },
    {
     "data": {
      "text/html": [
       " View run at <a href='https://wandb.ai/shaicahana-hebrew-university-of-jerusalem/my-tf-integration/runs/csqm54d4' target=\"_blank\">https://wandb.ai/shaicahana-hebrew-university-of-jerusalem/my-tf-integration/runs/csqm54d4</a>"
      ],
      "text/plain": [
       "<IPython.core.display.HTML object>"
      ]
     },
     "metadata": {},
     "output_type": "display_data"
    },
    {
     "name": "stdout",
     "output_type": "stream",
     "text": [
      "\n",
      "Start of epoch 0\n"
     ]
    },
    {
     "name": "stderr",
     "output_type": "stream",
     "text": [
      "2024-10-28 22:17:36.398165: W tensorflow/core/framework/op_kernel.cc:1841] OP_REQUIRES failed at sparse_xent_op.cc:103 : INVALID_ARGUMENT: Received a label value of 1 which is outside the valid range of [0, 1).  Label values: 0 1 0 1 0 0 0 1 0 0 0 0 0 1 0 0 1 0 0 0 1 1 1 0 1 1 0 1 0 0 1 1 1 1 0 0 1 0 0 1 0 1 0 0 0 0 0 0 0 1 1 1 0 1 0 1 1 0 0 0 1 0 0 0\n"
     ]
    },
    {
     "data": {
      "text/html": [
       "Finishing last run (ID:csqm54d4) before initializing another..."
      ],
      "text/plain": [
       "<IPython.core.display.HTML object>"
      ]
     },
     "metadata": {},
     "output_type": "display_data"
    },
    {
     "data": {
      "text/html": [
       " View run <strong style=\"color:#cdcd00\">ethereal-butterfly-259</strong> at: <a href='https://wandb.ai/shaicahana-hebrew-university-of-jerusalem/my-tf-integration/runs/csqm54d4' target=\"_blank\">https://wandb.ai/shaicahana-hebrew-university-of-jerusalem/my-tf-integration/runs/csqm54d4</a><br/> View project at: <a href='https://wandb.ai/shaicahana-hebrew-university-of-jerusalem/my-tf-integration' target=\"_blank\">https://wandb.ai/shaicahana-hebrew-university-of-jerusalem/my-tf-integration</a><br/>Synced 5 W&B file(s), 0 media file(s), 0 artifact file(s) and 0 other file(s)"
      ],
      "text/plain": [
       "<IPython.core.display.HTML object>"
      ]
     },
     "metadata": {},
     "output_type": "display_data"
    },
    {
     "data": {
      "text/html": [
       "Find logs at: <code>./wandb/run-20241028_221733-csqm54d4/logs</code>"
      ],
      "text/plain": [
       "<IPython.core.display.HTML object>"
      ]
     },
     "metadata": {},
     "output_type": "display_data"
    },
    {
     "data": {
      "text/html": [
       "Successfully finished last run (ID:csqm54d4). Initializing new run:<br/>"
      ],
      "text/plain": [
       "<IPython.core.display.HTML object>"
      ]
     },
     "metadata": {},
     "output_type": "display_data"
    },
    {
     "data": {
      "text/html": [
       "Tracking run with wandb version 0.18.5"
      ],
      "text/plain": [
       "<IPython.core.display.HTML object>"
      ]
     },
     "metadata": {},
     "output_type": "display_data"
    },
    {
     "data": {
      "text/html": [
       "Run data is saved locally in <code>/Users/shaicahana/Documents/AI_DL/colab/AI-DL/project-1/wandb/run-20241028_221736-b9qi521z</code>"
      ],
      "text/plain": [
       "<IPython.core.display.HTML object>"
      ]
     },
     "metadata": {},
     "output_type": "display_data"
    },
    {
     "data": {
      "text/html": [
       "Syncing run <strong><a href='https://wandb.ai/shaicahana-hebrew-university-of-jerusalem/my-tf-integration/runs/b9qi521z' target=\"_blank\">polar-wildflower-260</a></strong> to <a href='https://wandb.ai/shaicahana-hebrew-university-of-jerusalem/my-tf-integration' target=\"_blank\">Weights & Biases</a> (<a href='https://wandb.me/run' target=\"_blank\">docs</a>)<br/>"
      ],
      "text/plain": [
       "<IPython.core.display.HTML object>"
      ]
     },
     "metadata": {},
     "output_type": "display_data"
    },
    {
     "data": {
      "text/html": [
       " View project at <a href='https://wandb.ai/shaicahana-hebrew-university-of-jerusalem/my-tf-integration' target=\"_blank\">https://wandb.ai/shaicahana-hebrew-university-of-jerusalem/my-tf-integration</a>"
      ],
      "text/plain": [
       "<IPython.core.display.HTML object>"
      ]
     },
     "metadata": {},
     "output_type": "display_data"
    },
    {
     "data": {
      "text/html": [
       " View run at <a href='https://wandb.ai/shaicahana-hebrew-university-of-jerusalem/my-tf-integration/runs/b9qi521z' target=\"_blank\">https://wandb.ai/shaicahana-hebrew-university-of-jerusalem/my-tf-integration/runs/b9qi521z</a>"
      ],
      "text/plain": [
       "<IPython.core.display.HTML object>"
      ]
     },
     "metadata": {},
     "output_type": "display_data"
    },
    {
     "name": "stdout",
     "output_type": "stream",
     "text": [
      "\n",
      "Start of epoch 0\n"
     ]
    },
    {
     "name": "stderr",
     "output_type": "stream",
     "text": [
      "2024-10-28 22:17:39.379290: W tensorflow/core/framework/op_kernel.cc:1841] OP_REQUIRES failed at sparse_xent_op.cc:103 : INVALID_ARGUMENT: Received a label value of 1 which is outside the valid range of [0, 1).  Label values: 0 0 1 1 1 1 1 1 1 0 0 0 0 1 1 1 0 0 0 0 1 1 0 1 0 0 1 0 1 1 1 1 1 1 0 1 0 1 1 0 1 1 1 1 0 1 0 0 0 0 1 1 1 1 1 1 1 0 0 0 1 0 1 1\n"
     ]
    },
    {
     "data": {
      "text/html": [
       "Finishing last run (ID:b9qi521z) before initializing another..."
      ],
      "text/plain": [
       "<IPython.core.display.HTML object>"
      ]
     },
     "metadata": {},
     "output_type": "display_data"
    },
    {
     "data": {
      "text/html": [
       " View run <strong style=\"color:#cdcd00\">polar-wildflower-260</strong> at: <a href='https://wandb.ai/shaicahana-hebrew-university-of-jerusalem/my-tf-integration/runs/b9qi521z' target=\"_blank\">https://wandb.ai/shaicahana-hebrew-university-of-jerusalem/my-tf-integration/runs/b9qi521z</a><br/> View project at: <a href='https://wandb.ai/shaicahana-hebrew-university-of-jerusalem/my-tf-integration' target=\"_blank\">https://wandb.ai/shaicahana-hebrew-university-of-jerusalem/my-tf-integration</a><br/>Synced 5 W&B file(s), 0 media file(s), 0 artifact file(s) and 0 other file(s)"
      ],
      "text/plain": [
       "<IPython.core.display.HTML object>"
      ]
     },
     "metadata": {},
     "output_type": "display_data"
    },
    {
     "data": {
      "text/html": [
       "Find logs at: <code>./wandb/run-20241028_221736-b9qi521z/logs</code>"
      ],
      "text/plain": [
       "<IPython.core.display.HTML object>"
      ]
     },
     "metadata": {},
     "output_type": "display_data"
    },
    {
     "data": {
      "text/html": [
       "Successfully finished last run (ID:b9qi521z). Initializing new run:<br/>"
      ],
      "text/plain": [
       "<IPython.core.display.HTML object>"
      ]
     },
     "metadata": {},
     "output_type": "display_data"
    },
    {
     "data": {
      "application/vnd.jupyter.widget-view+json": {
       "model_id": "eafba5986b1545c09765f1950aca80eb",
       "version_major": 2,
       "version_minor": 0
      },
      "text/plain": [
       "VBox(children=(Label(value='Waiting for wandb.init()...\\r'), FloatProgress(value=0.011167108788888274, max=1.0…"
      ]
     },
     "metadata": {},
     "output_type": "display_data"
    },
    {
     "data": {
      "text/html": [
       "Tracking run with wandb version 0.18.5"
      ],
      "text/plain": [
       "<IPython.core.display.HTML object>"
      ]
     },
     "metadata": {},
     "output_type": "display_data"
    },
    {
     "data": {
      "text/html": [
       "Run data is saved locally in <code>/Users/shaicahana/Documents/AI_DL/colab/AI-DL/project-1/wandb/run-20241028_221739-7r646zr3</code>"
      ],
      "text/plain": [
       "<IPython.core.display.HTML object>"
      ]
     },
     "metadata": {},
     "output_type": "display_data"
    },
    {
     "data": {
      "text/html": [
       "Syncing run <strong><a href='https://wandb.ai/shaicahana-hebrew-university-of-jerusalem/my-tf-integration/runs/7r646zr3' target=\"_blank\">dutiful-universe-261</a></strong> to <a href='https://wandb.ai/shaicahana-hebrew-university-of-jerusalem/my-tf-integration' target=\"_blank\">Weights & Biases</a> (<a href='https://wandb.me/run' target=\"_blank\">docs</a>)<br/>"
      ],
      "text/plain": [
       "<IPython.core.display.HTML object>"
      ]
     },
     "metadata": {},
     "output_type": "display_data"
    },
    {
     "data": {
      "text/html": [
       " View project at <a href='https://wandb.ai/shaicahana-hebrew-university-of-jerusalem/my-tf-integration' target=\"_blank\">https://wandb.ai/shaicahana-hebrew-university-of-jerusalem/my-tf-integration</a>"
      ],
      "text/plain": [
       "<IPython.core.display.HTML object>"
      ]
     },
     "metadata": {},
     "output_type": "display_data"
    },
    {
     "data": {
      "text/html": [
       " View run at <a href='https://wandb.ai/shaicahana-hebrew-university-of-jerusalem/my-tf-integration/runs/7r646zr3' target=\"_blank\">https://wandb.ai/shaicahana-hebrew-university-of-jerusalem/my-tf-integration/runs/7r646zr3</a>"
      ],
      "text/plain": [
       "<IPython.core.display.HTML object>"
      ]
     },
     "metadata": {},
     "output_type": "display_data"
    },
    {
     "name": "stdout",
     "output_type": "stream",
     "text": [
      "\n",
      "Start of epoch 0\n"
     ]
    },
    {
     "name": "stderr",
     "output_type": "stream",
     "text": [
      "2024-10-28 22:17:43.269964: W tensorflow/core/framework/op_kernel.cc:1841] OP_REQUIRES failed at sparse_xent_op.cc:103 : INVALID_ARGUMENT: Received a label value of 1 which is outside the valid range of [0, 1).  Label values: 1 1 1 1 0 0 1 0 0 0 1 0 0 0 1 0 0 1 0 0 0 1 0 1 0 0 1 1 1 1 0 0 0 0 1 0 1 1 1 0 1 0 0 0 0 1 0 1 1 0 0 0 0 0 0 0 1 0 1 1 1 1 0 1\n"
     ]
    },
    {
     "data": {
      "text/html": [
       "Finishing last run (ID:7r646zr3) before initializing another..."
      ],
      "text/plain": [
       "<IPython.core.display.HTML object>"
      ]
     },
     "metadata": {},
     "output_type": "display_data"
    },
    {
     "data": {
      "text/html": [
       " View run <strong style=\"color:#cdcd00\">dutiful-universe-261</strong> at: <a href='https://wandb.ai/shaicahana-hebrew-university-of-jerusalem/my-tf-integration/runs/7r646zr3' target=\"_blank\">https://wandb.ai/shaicahana-hebrew-university-of-jerusalem/my-tf-integration/runs/7r646zr3</a><br/> View project at: <a href='https://wandb.ai/shaicahana-hebrew-university-of-jerusalem/my-tf-integration' target=\"_blank\">https://wandb.ai/shaicahana-hebrew-university-of-jerusalem/my-tf-integration</a><br/>Synced 5 W&B file(s), 0 media file(s), 0 artifact file(s) and 0 other file(s)"
      ],
      "text/plain": [
       "<IPython.core.display.HTML object>"
      ]
     },
     "metadata": {},
     "output_type": "display_data"
    },
    {
     "data": {
      "text/html": [
       "Find logs at: <code>./wandb/run-20241028_221739-7r646zr3/logs</code>"
      ],
      "text/plain": [
       "<IPython.core.display.HTML object>"
      ]
     },
     "metadata": {},
     "output_type": "display_data"
    },
    {
     "data": {
      "text/html": [
       "Successfully finished last run (ID:7r646zr3). Initializing new run:<br/>"
      ],
      "text/plain": [
       "<IPython.core.display.HTML object>"
      ]
     },
     "metadata": {},
     "output_type": "display_data"
    },
    {
     "data": {
      "text/html": [
       "Tracking run with wandb version 0.18.5"
      ],
      "text/plain": [
       "<IPython.core.display.HTML object>"
      ]
     },
     "metadata": {},
     "output_type": "display_data"
    },
    {
     "data": {
      "text/html": [
       "Run data is saved locally in <code>/Users/shaicahana/Documents/AI_DL/colab/AI-DL/project-1/wandb/run-20241028_221743-304siqna</code>"
      ],
      "text/plain": [
       "<IPython.core.display.HTML object>"
      ]
     },
     "metadata": {},
     "output_type": "display_data"
    },
    {
     "data": {
      "text/html": [
       "Syncing run <strong><a href='https://wandb.ai/shaicahana-hebrew-university-of-jerusalem/my-tf-integration/runs/304siqna' target=\"_blank\">toasty-snowball-262</a></strong> to <a href='https://wandb.ai/shaicahana-hebrew-university-of-jerusalem/my-tf-integration' target=\"_blank\">Weights & Biases</a> (<a href='https://wandb.me/run' target=\"_blank\">docs</a>)<br/>"
      ],
      "text/plain": [
       "<IPython.core.display.HTML object>"
      ]
     },
     "metadata": {},
     "output_type": "display_data"
    },
    {
     "data": {
      "text/html": [
       " View project at <a href='https://wandb.ai/shaicahana-hebrew-university-of-jerusalem/my-tf-integration' target=\"_blank\">https://wandb.ai/shaicahana-hebrew-university-of-jerusalem/my-tf-integration</a>"
      ],
      "text/plain": [
       "<IPython.core.display.HTML object>"
      ]
     },
     "metadata": {},
     "output_type": "display_data"
    },
    {
     "data": {
      "text/html": [
       " View run at <a href='https://wandb.ai/shaicahana-hebrew-university-of-jerusalem/my-tf-integration/runs/304siqna' target=\"_blank\">https://wandb.ai/shaicahana-hebrew-university-of-jerusalem/my-tf-integration/runs/304siqna</a>"
      ],
      "text/plain": [
       "<IPython.core.display.HTML object>"
      ]
     },
     "metadata": {},
     "output_type": "display_data"
    },
    {
     "name": "stdout",
     "output_type": "stream",
     "text": [
      "\n",
      "Start of epoch 0\n"
     ]
    },
    {
     "name": "stderr",
     "output_type": "stream",
     "text": [
      "2024-10-28 22:17:46.220757: W tensorflow/core/framework/op_kernel.cc:1841] OP_REQUIRES failed at sparse_xent_op.cc:103 : INVALID_ARGUMENT: Received a label value of 1 which is outside the valid range of [0, 1).  Label values: 0 0 1 0 1 1 0 1 1 0 0 0 1 1 0 0 1 0 0 1 0 1 1 0 0 1 0 0 0 0 0 0 0 1 0 1 0 1 1 1 1 0 1 0 0 0 1 0 0 1 1 0 1 0 0 0 1 0 0 0 1 0 0 0\n"
     ]
    },
    {
     "data": {
      "text/html": [
       "Finishing last run (ID:304siqna) before initializing another..."
      ],
      "text/plain": [
       "<IPython.core.display.HTML object>"
      ]
     },
     "metadata": {},
     "output_type": "display_data"
    },
    {
     "data": {
      "text/html": [
       " View run <strong style=\"color:#cdcd00\">toasty-snowball-262</strong> at: <a href='https://wandb.ai/shaicahana-hebrew-university-of-jerusalem/my-tf-integration/runs/304siqna' target=\"_blank\">https://wandb.ai/shaicahana-hebrew-university-of-jerusalem/my-tf-integration/runs/304siqna</a><br/> View project at: <a href='https://wandb.ai/shaicahana-hebrew-university-of-jerusalem/my-tf-integration' target=\"_blank\">https://wandb.ai/shaicahana-hebrew-university-of-jerusalem/my-tf-integration</a><br/>Synced 5 W&B file(s), 0 media file(s), 0 artifact file(s) and 0 other file(s)"
      ],
      "text/plain": [
       "<IPython.core.display.HTML object>"
      ]
     },
     "metadata": {},
     "output_type": "display_data"
    },
    {
     "data": {
      "text/html": [
       "Find logs at: <code>./wandb/run-20241028_221743-304siqna/logs</code>"
      ],
      "text/plain": [
       "<IPython.core.display.HTML object>"
      ]
     },
     "metadata": {},
     "output_type": "display_data"
    },
    {
     "data": {
      "text/html": [
       "Successfully finished last run (ID:304siqna). Initializing new run:<br/>"
      ],
      "text/plain": [
       "<IPython.core.display.HTML object>"
      ]
     },
     "metadata": {},
     "output_type": "display_data"
    },
    {
     "data": {
      "text/html": [
       "Tracking run with wandb version 0.18.5"
      ],
      "text/plain": [
       "<IPython.core.display.HTML object>"
      ]
     },
     "metadata": {},
     "output_type": "display_data"
    },
    {
     "data": {
      "text/html": [
       "Run data is saved locally in <code>/Users/shaicahana/Documents/AI_DL/colab/AI-DL/project-1/wandb/run-20241028_221746-olkypkwn</code>"
      ],
      "text/plain": [
       "<IPython.core.display.HTML object>"
      ]
     },
     "metadata": {},
     "output_type": "display_data"
    },
    {
     "data": {
      "text/html": [
       "Syncing run <strong><a href='https://wandb.ai/shaicahana-hebrew-university-of-jerusalem/my-tf-integration/runs/olkypkwn' target=\"_blank\">grateful-wave-263</a></strong> to <a href='https://wandb.ai/shaicahana-hebrew-university-of-jerusalem/my-tf-integration' target=\"_blank\">Weights & Biases</a> (<a href='https://wandb.me/run' target=\"_blank\">docs</a>)<br/>"
      ],
      "text/plain": [
       "<IPython.core.display.HTML object>"
      ]
     },
     "metadata": {},
     "output_type": "display_data"
    },
    {
     "data": {
      "text/html": [
       " View project at <a href='https://wandb.ai/shaicahana-hebrew-university-of-jerusalem/my-tf-integration' target=\"_blank\">https://wandb.ai/shaicahana-hebrew-university-of-jerusalem/my-tf-integration</a>"
      ],
      "text/plain": [
       "<IPython.core.display.HTML object>"
      ]
     },
     "metadata": {},
     "output_type": "display_data"
    },
    {
     "data": {
      "text/html": [
       " View run at <a href='https://wandb.ai/shaicahana-hebrew-university-of-jerusalem/my-tf-integration/runs/olkypkwn' target=\"_blank\">https://wandb.ai/shaicahana-hebrew-university-of-jerusalem/my-tf-integration/runs/olkypkwn</a>"
      ],
      "text/plain": [
       "<IPython.core.display.HTML object>"
      ]
     },
     "metadata": {},
     "output_type": "display_data"
    },
    {
     "name": "stdout",
     "output_type": "stream",
     "text": [
      "\n",
      "Start of epoch 0\n"
     ]
    },
    {
     "name": "stderr",
     "output_type": "stream",
     "text": [
      "2024-10-28 22:17:49.496983: W tensorflow/core/framework/op_kernel.cc:1841] OP_REQUIRES failed at sparse_xent_op.cc:103 : INVALID_ARGUMENT: Received a label value of 1 which is outside the valid range of [0, 1).  Label values: 1 0 1 0 0 1 0 0 1 0 0 1 0 0 0 1 0 0 0 0 0 1 1 0 1 0 1 0 1 1 1 0 1 0 1 0 1 0 1 1 0 0 1 1 1 0 1 0 1 1 1 1 1 1 0 0 0 0 1 1 0 1 1 0\n"
     ]
    },
    {
     "data": {
      "text/html": [
       "Finishing last run (ID:olkypkwn) before initializing another..."
      ],
      "text/plain": [
       "<IPython.core.display.HTML object>"
      ]
     },
     "metadata": {},
     "output_type": "display_data"
    },
    {
     "data": {
      "text/html": [
       " View run <strong style=\"color:#cdcd00\">grateful-wave-263</strong> at: <a href='https://wandb.ai/shaicahana-hebrew-university-of-jerusalem/my-tf-integration/runs/olkypkwn' target=\"_blank\">https://wandb.ai/shaicahana-hebrew-university-of-jerusalem/my-tf-integration/runs/olkypkwn</a><br/> View project at: <a href='https://wandb.ai/shaicahana-hebrew-university-of-jerusalem/my-tf-integration' target=\"_blank\">https://wandb.ai/shaicahana-hebrew-university-of-jerusalem/my-tf-integration</a><br/>Synced 5 W&B file(s), 0 media file(s), 0 artifact file(s) and 0 other file(s)"
      ],
      "text/plain": [
       "<IPython.core.display.HTML object>"
      ]
     },
     "metadata": {},
     "output_type": "display_data"
    },
    {
     "data": {
      "text/html": [
       "Find logs at: <code>./wandb/run-20241028_221746-olkypkwn/logs</code>"
      ],
      "text/plain": [
       "<IPython.core.display.HTML object>"
      ]
     },
     "metadata": {},
     "output_type": "display_data"
    },
    {
     "data": {
      "text/html": [
       "Successfully finished last run (ID:olkypkwn). Initializing new run:<br/>"
      ],
      "text/plain": [
       "<IPython.core.display.HTML object>"
      ]
     },
     "metadata": {},
     "output_type": "display_data"
    },
    {
     "data": {
      "text/html": [
       "Tracking run with wandb version 0.18.5"
      ],
      "text/plain": [
       "<IPython.core.display.HTML object>"
      ]
     },
     "metadata": {},
     "output_type": "display_data"
    },
    {
     "data": {
      "text/html": [
       "Run data is saved locally in <code>/Users/shaicahana/Documents/AI_DL/colab/AI-DL/project-1/wandb/run-20241028_221749-6dojm1jn</code>"
      ],
      "text/plain": [
       "<IPython.core.display.HTML object>"
      ]
     },
     "metadata": {},
     "output_type": "display_data"
    },
    {
     "data": {
      "text/html": [
       "Syncing run <strong><a href='https://wandb.ai/shaicahana-hebrew-university-of-jerusalem/my-tf-integration/runs/6dojm1jn' target=\"_blank\">fine-water-264</a></strong> to <a href='https://wandb.ai/shaicahana-hebrew-university-of-jerusalem/my-tf-integration' target=\"_blank\">Weights & Biases</a> (<a href='https://wandb.me/run' target=\"_blank\">docs</a>)<br/>"
      ],
      "text/plain": [
       "<IPython.core.display.HTML object>"
      ]
     },
     "metadata": {},
     "output_type": "display_data"
    },
    {
     "data": {
      "text/html": [
       " View project at <a href='https://wandb.ai/shaicahana-hebrew-university-of-jerusalem/my-tf-integration' target=\"_blank\">https://wandb.ai/shaicahana-hebrew-university-of-jerusalem/my-tf-integration</a>"
      ],
      "text/plain": [
       "<IPython.core.display.HTML object>"
      ]
     },
     "metadata": {},
     "output_type": "display_data"
    },
    {
     "data": {
      "text/html": [
       " View run at <a href='https://wandb.ai/shaicahana-hebrew-university-of-jerusalem/my-tf-integration/runs/6dojm1jn' target=\"_blank\">https://wandb.ai/shaicahana-hebrew-university-of-jerusalem/my-tf-integration/runs/6dojm1jn</a>"
      ],
      "text/plain": [
       "<IPython.core.display.HTML object>"
      ]
     },
     "metadata": {},
     "output_type": "display_data"
    },
    {
     "name": "stdout",
     "output_type": "stream",
     "text": [
      "\n",
      "Start of epoch 0\n"
     ]
    },
    {
     "name": "stderr",
     "output_type": "stream",
     "text": [
      "2024-10-28 22:17:52.366642: W tensorflow/core/framework/op_kernel.cc:1841] OP_REQUIRES failed at sparse_xent_op.cc:103 : INVALID_ARGUMENT: Received a label value of 1 which is outside the valid range of [0, 1).  Label values: 1 1 1 0 1 1 1 1 0 0 1 1 0 1 0 1 1 0 0 1 0 1 1 1 1 1 0 0 0 0 0 1 0 0 1 0 0 1 1 0 1 1 0 0 1 1 0 1 0 1 0 1 1 1 0 0 0 0 1 1 0 1 0 0\n"
     ]
    },
    {
     "data": {
      "text/html": [
       "Finishing last run (ID:6dojm1jn) before initializing another..."
      ],
      "text/plain": [
       "<IPython.core.display.HTML object>"
      ]
     },
     "metadata": {},
     "output_type": "display_data"
    },
    {
     "data": {
      "text/html": [
       " View run <strong style=\"color:#cdcd00\">fine-water-264</strong> at: <a href='https://wandb.ai/shaicahana-hebrew-university-of-jerusalem/my-tf-integration/runs/6dojm1jn' target=\"_blank\">https://wandb.ai/shaicahana-hebrew-university-of-jerusalem/my-tf-integration/runs/6dojm1jn</a><br/> View project at: <a href='https://wandb.ai/shaicahana-hebrew-university-of-jerusalem/my-tf-integration' target=\"_blank\">https://wandb.ai/shaicahana-hebrew-university-of-jerusalem/my-tf-integration</a><br/>Synced 5 W&B file(s), 0 media file(s), 0 artifact file(s) and 0 other file(s)"
      ],
      "text/plain": [
       "<IPython.core.display.HTML object>"
      ]
     },
     "metadata": {},
     "output_type": "display_data"
    },
    {
     "data": {
      "text/html": [
       "Find logs at: <code>./wandb/run-20241028_221749-6dojm1jn/logs</code>"
      ],
      "text/plain": [
       "<IPython.core.display.HTML object>"
      ]
     },
     "metadata": {},
     "output_type": "display_data"
    },
    {
     "data": {
      "text/html": [
       "Successfully finished last run (ID:6dojm1jn). Initializing new run:<br/>"
      ],
      "text/plain": [
       "<IPython.core.display.HTML object>"
      ]
     },
     "metadata": {},
     "output_type": "display_data"
    },
    {
     "data": {
      "text/html": [
       "Tracking run with wandb version 0.18.5"
      ],
      "text/plain": [
       "<IPython.core.display.HTML object>"
      ]
     },
     "metadata": {},
     "output_type": "display_data"
    },
    {
     "data": {
      "text/html": [
       "Run data is saved locally in <code>/Users/shaicahana/Documents/AI_DL/colab/AI-DL/project-1/wandb/run-20241028_221752-9z5tc2tq</code>"
      ],
      "text/plain": [
       "<IPython.core.display.HTML object>"
      ]
     },
     "metadata": {},
     "output_type": "display_data"
    },
    {
     "data": {
      "text/html": [
       "Syncing run <strong><a href='https://wandb.ai/shaicahana-hebrew-university-of-jerusalem/my-tf-integration/runs/9z5tc2tq' target=\"_blank\">wise-water-265</a></strong> to <a href='https://wandb.ai/shaicahana-hebrew-university-of-jerusalem/my-tf-integration' target=\"_blank\">Weights & Biases</a> (<a href='https://wandb.me/run' target=\"_blank\">docs</a>)<br/>"
      ],
      "text/plain": [
       "<IPython.core.display.HTML object>"
      ]
     },
     "metadata": {},
     "output_type": "display_data"
    },
    {
     "data": {
      "text/html": [
       " View project at <a href='https://wandb.ai/shaicahana-hebrew-university-of-jerusalem/my-tf-integration' target=\"_blank\">https://wandb.ai/shaicahana-hebrew-university-of-jerusalem/my-tf-integration</a>"
      ],
      "text/plain": [
       "<IPython.core.display.HTML object>"
      ]
     },
     "metadata": {},
     "output_type": "display_data"
    },
    {
     "data": {
      "text/html": [
       " View run at <a href='https://wandb.ai/shaicahana-hebrew-university-of-jerusalem/my-tf-integration/runs/9z5tc2tq' target=\"_blank\">https://wandb.ai/shaicahana-hebrew-university-of-jerusalem/my-tf-integration/runs/9z5tc2tq</a>"
      ],
      "text/plain": [
       "<IPython.core.display.HTML object>"
      ]
     },
     "metadata": {},
     "output_type": "display_data"
    },
    {
     "name": "stdout",
     "output_type": "stream",
     "text": [
      "\n",
      "Start of epoch 0\n"
     ]
    },
    {
     "name": "stderr",
     "output_type": "stream",
     "text": [
      "2024-10-28 22:17:55.920021: W tensorflow/core/framework/op_kernel.cc:1841] OP_REQUIRES failed at sparse_xent_op.cc:103 : INVALID_ARGUMENT: Received a label value of 1 which is outside the valid range of [0, 1).  Label values: 0 0 0 0 0 0 1 0 0 0 0 0 1 1 0 1 0 0 1 0 0 0 0 1 1 0 1 0 0 1 1 1 0 1 1 0 0 1 1 1 1 0 0 0 0 1 1 0 1 0 0 0 1 0 1 1 0 0 1 0 0 0 1 1\n"
     ]
    },
    {
     "data": {
      "text/html": [
       "Finishing last run (ID:9z5tc2tq) before initializing another..."
      ],
      "text/plain": [
       "<IPython.core.display.HTML object>"
      ]
     },
     "metadata": {},
     "output_type": "display_data"
    },
    {
     "data": {
      "text/html": [
       " View run <strong style=\"color:#cdcd00\">wise-water-265</strong> at: <a href='https://wandb.ai/shaicahana-hebrew-university-of-jerusalem/my-tf-integration/runs/9z5tc2tq' target=\"_blank\">https://wandb.ai/shaicahana-hebrew-university-of-jerusalem/my-tf-integration/runs/9z5tc2tq</a><br/> View project at: <a href='https://wandb.ai/shaicahana-hebrew-university-of-jerusalem/my-tf-integration' target=\"_blank\">https://wandb.ai/shaicahana-hebrew-university-of-jerusalem/my-tf-integration</a><br/>Synced 5 W&B file(s), 0 media file(s), 0 artifact file(s) and 0 other file(s)"
      ],
      "text/plain": [
       "<IPython.core.display.HTML object>"
      ]
     },
     "metadata": {},
     "output_type": "display_data"
    },
    {
     "data": {
      "text/html": [
       "Find logs at: <code>./wandb/run-20241028_221752-9z5tc2tq/logs</code>"
      ],
      "text/plain": [
       "<IPython.core.display.HTML object>"
      ]
     },
     "metadata": {},
     "output_type": "display_data"
    },
    {
     "data": {
      "text/html": [
       "Successfully finished last run (ID:9z5tc2tq). Initializing new run:<br/>"
      ],
      "text/plain": [
       "<IPython.core.display.HTML object>"
      ]
     },
     "metadata": {},
     "output_type": "display_data"
    },
    {
     "data": {
      "text/html": [
       "Tracking run with wandb version 0.18.5"
      ],
      "text/plain": [
       "<IPython.core.display.HTML object>"
      ]
     },
     "metadata": {},
     "output_type": "display_data"
    },
    {
     "data": {
      "text/html": [
       "Run data is saved locally in <code>/Users/shaicahana/Documents/AI_DL/colab/AI-DL/project-1/wandb/run-20241028_221755-44ifgn9n</code>"
      ],
      "text/plain": [
       "<IPython.core.display.HTML object>"
      ]
     },
     "metadata": {},
     "output_type": "display_data"
    },
    {
     "data": {
      "text/html": [
       "Syncing run <strong><a href='https://wandb.ai/shaicahana-hebrew-university-of-jerusalem/my-tf-integration/runs/44ifgn9n' target=\"_blank\">treasured-pond-266</a></strong> to <a href='https://wandb.ai/shaicahana-hebrew-university-of-jerusalem/my-tf-integration' target=\"_blank\">Weights & Biases</a> (<a href='https://wandb.me/run' target=\"_blank\">docs</a>)<br/>"
      ],
      "text/plain": [
       "<IPython.core.display.HTML object>"
      ]
     },
     "metadata": {},
     "output_type": "display_data"
    },
    {
     "data": {
      "text/html": [
       " View project at <a href='https://wandb.ai/shaicahana-hebrew-university-of-jerusalem/my-tf-integration' target=\"_blank\">https://wandb.ai/shaicahana-hebrew-university-of-jerusalem/my-tf-integration</a>"
      ],
      "text/plain": [
       "<IPython.core.display.HTML object>"
      ]
     },
     "metadata": {},
     "output_type": "display_data"
    },
    {
     "data": {
      "text/html": [
       " View run at <a href='https://wandb.ai/shaicahana-hebrew-university-of-jerusalem/my-tf-integration/runs/44ifgn9n' target=\"_blank\">https://wandb.ai/shaicahana-hebrew-university-of-jerusalem/my-tf-integration/runs/44ifgn9n</a>"
      ],
      "text/plain": [
       "<IPython.core.display.HTML object>"
      ]
     },
     "metadata": {},
     "output_type": "display_data"
    },
    {
     "name": "stdout",
     "output_type": "stream",
     "text": [
      "\n",
      "Start of epoch 0\n"
     ]
    },
    {
     "name": "stderr",
     "output_type": "stream",
     "text": [
      "2024-10-28 22:17:59.010354: W tensorflow/core/framework/op_kernel.cc:1841] OP_REQUIRES failed at sparse_xent_op.cc:103 : INVALID_ARGUMENT: Received a label value of 1 which is outside the valid range of [0, 1).  Label values: 0 1 1 1 0 1 1 1 1 1 1 0 1 1 1 0 1 1 0 0 0 0 1 1 1 1 1 1 0 0 1 0 0 0 0 1 1 1 0 1 1 0 0 1 0 1 0 0 0 0 1 0 1 0 0 1 1 1 0 1 1 0 1 1\n"
     ]
    },
    {
     "data": {
      "text/html": [
       "Finishing last run (ID:44ifgn9n) before initializing another..."
      ],
      "text/plain": [
       "<IPython.core.display.HTML object>"
      ]
     },
     "metadata": {},
     "output_type": "display_data"
    },
    {
     "data": {
      "text/html": [
       " View run <strong style=\"color:#cdcd00\">treasured-pond-266</strong> at: <a href='https://wandb.ai/shaicahana-hebrew-university-of-jerusalem/my-tf-integration/runs/44ifgn9n' target=\"_blank\">https://wandb.ai/shaicahana-hebrew-university-of-jerusalem/my-tf-integration/runs/44ifgn9n</a><br/> View project at: <a href='https://wandb.ai/shaicahana-hebrew-university-of-jerusalem/my-tf-integration' target=\"_blank\">https://wandb.ai/shaicahana-hebrew-university-of-jerusalem/my-tf-integration</a><br/>Synced 5 W&B file(s), 0 media file(s), 0 artifact file(s) and 0 other file(s)"
      ],
      "text/plain": [
       "<IPython.core.display.HTML object>"
      ]
     },
     "metadata": {},
     "output_type": "display_data"
    },
    {
     "data": {
      "text/html": [
       "Find logs at: <code>./wandb/run-20241028_221755-44ifgn9n/logs</code>"
      ],
      "text/plain": [
       "<IPython.core.display.HTML object>"
      ]
     },
     "metadata": {},
     "output_type": "display_data"
    },
    {
     "data": {
      "text/html": [
       "Successfully finished last run (ID:44ifgn9n). Initializing new run:<br/>"
      ],
      "text/plain": [
       "<IPython.core.display.HTML object>"
      ]
     },
     "metadata": {},
     "output_type": "display_data"
    },
    {
     "data": {
      "text/html": [
       "Tracking run with wandb version 0.18.5"
      ],
      "text/plain": [
       "<IPython.core.display.HTML object>"
      ]
     },
     "metadata": {},
     "output_type": "display_data"
    },
    {
     "data": {
      "text/html": [
       "Run data is saved locally in <code>/Users/shaicahana/Documents/AI_DL/colab/AI-DL/project-1/wandb/run-20241028_221759-v9ovm3gi</code>"
      ],
      "text/plain": [
       "<IPython.core.display.HTML object>"
      ]
     },
     "metadata": {},
     "output_type": "display_data"
    },
    {
     "data": {
      "text/html": [
       "Syncing run <strong><a href='https://wandb.ai/shaicahana-hebrew-university-of-jerusalem/my-tf-integration/runs/v9ovm3gi' target=\"_blank\">revived-surf-267</a></strong> to <a href='https://wandb.ai/shaicahana-hebrew-university-of-jerusalem/my-tf-integration' target=\"_blank\">Weights & Biases</a> (<a href='https://wandb.me/run' target=\"_blank\">docs</a>)<br/>"
      ],
      "text/plain": [
       "<IPython.core.display.HTML object>"
      ]
     },
     "metadata": {},
     "output_type": "display_data"
    },
    {
     "data": {
      "text/html": [
       " View project at <a href='https://wandb.ai/shaicahana-hebrew-university-of-jerusalem/my-tf-integration' target=\"_blank\">https://wandb.ai/shaicahana-hebrew-university-of-jerusalem/my-tf-integration</a>"
      ],
      "text/plain": [
       "<IPython.core.display.HTML object>"
      ]
     },
     "metadata": {},
     "output_type": "display_data"
    },
    {
     "data": {
      "text/html": [
       " View run at <a href='https://wandb.ai/shaicahana-hebrew-university-of-jerusalem/my-tf-integration/runs/v9ovm3gi' target=\"_blank\">https://wandb.ai/shaicahana-hebrew-university-of-jerusalem/my-tf-integration/runs/v9ovm3gi</a>"
      ],
      "text/plain": [
       "<IPython.core.display.HTML object>"
      ]
     },
     "metadata": {},
     "output_type": "display_data"
    },
    {
     "name": "stdout",
     "output_type": "stream",
     "text": [
      "\n",
      "Start of epoch 0\n"
     ]
    },
    {
     "name": "stderr",
     "output_type": "stream",
     "text": [
      "2024-10-28 22:18:01.954321: W tensorflow/core/framework/op_kernel.cc:1841] OP_REQUIRES failed at sparse_xent_op.cc:103 : INVALID_ARGUMENT: Received a label value of 1 which is outside the valid range of [0, 1).  Label values: 0 1 0 0 0 0 0 1 0 0 1 0 0 0 1 1 0 1 0 0 1 1 0 0 1 1 1 0 0 0 0 1 0 0 1 0 0 0 1 1 0 0 0 0 1 0 1 0 1 0 1 1 1 1 1 1 1 0 0 1 1 0 0 1\n"
     ]
    },
    {
     "data": {
      "text/html": [
       "Finishing last run (ID:v9ovm3gi) before initializing another..."
      ],
      "text/plain": [
       "<IPython.core.display.HTML object>"
      ]
     },
     "metadata": {},
     "output_type": "display_data"
    },
    {
     "data": {
      "text/html": [
       " View run <strong style=\"color:#cdcd00\">revived-surf-267</strong> at: <a href='https://wandb.ai/shaicahana-hebrew-university-of-jerusalem/my-tf-integration/runs/v9ovm3gi' target=\"_blank\">https://wandb.ai/shaicahana-hebrew-university-of-jerusalem/my-tf-integration/runs/v9ovm3gi</a><br/> View project at: <a href='https://wandb.ai/shaicahana-hebrew-university-of-jerusalem/my-tf-integration' target=\"_blank\">https://wandb.ai/shaicahana-hebrew-university-of-jerusalem/my-tf-integration</a><br/>Synced 5 W&B file(s), 0 media file(s), 0 artifact file(s) and 0 other file(s)"
      ],
      "text/plain": [
       "<IPython.core.display.HTML object>"
      ]
     },
     "metadata": {},
     "output_type": "display_data"
    },
    {
     "data": {
      "text/html": [
       "Find logs at: <code>./wandb/run-20241028_221759-v9ovm3gi/logs</code>"
      ],
      "text/plain": [
       "<IPython.core.display.HTML object>"
      ]
     },
     "metadata": {},
     "output_type": "display_data"
    },
    {
     "data": {
      "text/html": [
       "Successfully finished last run (ID:v9ovm3gi). Initializing new run:<br/>"
      ],
      "text/plain": [
       "<IPython.core.display.HTML object>"
      ]
     },
     "metadata": {},
     "output_type": "display_data"
    },
    {
     "data": {
      "text/html": [
       "Tracking run with wandb version 0.18.5"
      ],
      "text/plain": [
       "<IPython.core.display.HTML object>"
      ]
     },
     "metadata": {},
     "output_type": "display_data"
    },
    {
     "data": {
      "text/html": [
       "Run data is saved locally in <code>/Users/shaicahana/Documents/AI_DL/colab/AI-DL/project-1/wandb/run-20241028_221801-ysnwyysw</code>"
      ],
      "text/plain": [
       "<IPython.core.display.HTML object>"
      ]
     },
     "metadata": {},
     "output_type": "display_data"
    },
    {
     "data": {
      "text/html": [
       "Syncing run <strong><a href='https://wandb.ai/shaicahana-hebrew-university-of-jerusalem/my-tf-integration/runs/ysnwyysw' target=\"_blank\">splendid-night-268</a></strong> to <a href='https://wandb.ai/shaicahana-hebrew-university-of-jerusalem/my-tf-integration' target=\"_blank\">Weights & Biases</a> (<a href='https://wandb.me/run' target=\"_blank\">docs</a>)<br/>"
      ],
      "text/plain": [
       "<IPython.core.display.HTML object>"
      ]
     },
     "metadata": {},
     "output_type": "display_data"
    },
    {
     "data": {
      "text/html": [
       " View project at <a href='https://wandb.ai/shaicahana-hebrew-university-of-jerusalem/my-tf-integration' target=\"_blank\">https://wandb.ai/shaicahana-hebrew-university-of-jerusalem/my-tf-integration</a>"
      ],
      "text/plain": [
       "<IPython.core.display.HTML object>"
      ]
     },
     "metadata": {},
     "output_type": "display_data"
    },
    {
     "data": {
      "text/html": [
       " View run at <a href='https://wandb.ai/shaicahana-hebrew-university-of-jerusalem/my-tf-integration/runs/ysnwyysw' target=\"_blank\">https://wandb.ai/shaicahana-hebrew-university-of-jerusalem/my-tf-integration/runs/ysnwyysw</a>"
      ],
      "text/plain": [
       "<IPython.core.display.HTML object>"
      ]
     },
     "metadata": {},
     "output_type": "display_data"
    },
    {
     "name": "stdout",
     "output_type": "stream",
     "text": [
      "\n",
      "Start of epoch 0\n"
     ]
    },
    {
     "name": "stderr",
     "output_type": "stream",
     "text": [
      "2024-10-28 22:18:05.038814: W tensorflow/core/framework/op_kernel.cc:1841] OP_REQUIRES failed at sparse_xent_op.cc:103 : INVALID_ARGUMENT: Received a label value of 1 which is outside the valid range of [0, 1).  Label values: 0 1 0 0 1 1 1 0 0 0 1 0 1 1 0 1 0 0 1 1 1 0 0 0 0 0 0 0 1 1 0 0 0 0 0 1 0 0 0 0 0 1 1 1 1 0 0 0 1 0 0 0 1 1 0 1 1 0 0 1 0 0 0 1\n"
     ]
    },
    {
     "data": {
      "text/html": [
       "Finishing last run (ID:ysnwyysw) before initializing another..."
      ],
      "text/plain": [
       "<IPython.core.display.HTML object>"
      ]
     },
     "metadata": {},
     "output_type": "display_data"
    },
    {
     "data": {
      "text/html": [
       " View run <strong style=\"color:#cdcd00\">splendid-night-268</strong> at: <a href='https://wandb.ai/shaicahana-hebrew-university-of-jerusalem/my-tf-integration/runs/ysnwyysw' target=\"_blank\">https://wandb.ai/shaicahana-hebrew-university-of-jerusalem/my-tf-integration/runs/ysnwyysw</a><br/> View project at: <a href='https://wandb.ai/shaicahana-hebrew-university-of-jerusalem/my-tf-integration' target=\"_blank\">https://wandb.ai/shaicahana-hebrew-university-of-jerusalem/my-tf-integration</a><br/>Synced 5 W&B file(s), 0 media file(s), 0 artifact file(s) and 0 other file(s)"
      ],
      "text/plain": [
       "<IPython.core.display.HTML object>"
      ]
     },
     "metadata": {},
     "output_type": "display_data"
    },
    {
     "data": {
      "text/html": [
       "Find logs at: <code>./wandb/run-20241028_221801-ysnwyysw/logs</code>"
      ],
      "text/plain": [
       "<IPython.core.display.HTML object>"
      ]
     },
     "metadata": {},
     "output_type": "display_data"
    },
    {
     "data": {
      "text/html": [
       "Successfully finished last run (ID:ysnwyysw). Initializing new run:<br/>"
      ],
      "text/plain": [
       "<IPython.core.display.HTML object>"
      ]
     },
     "metadata": {},
     "output_type": "display_data"
    },
    {
     "data": {
      "text/html": [
       "Tracking run with wandb version 0.18.5"
      ],
      "text/plain": [
       "<IPython.core.display.HTML object>"
      ]
     },
     "metadata": {},
     "output_type": "display_data"
    },
    {
     "data": {
      "text/html": [
       "Run data is saved locally in <code>/Users/shaicahana/Documents/AI_DL/colab/AI-DL/project-1/wandb/run-20241028_221805-mpybz4hb</code>"
      ],
      "text/plain": [
       "<IPython.core.display.HTML object>"
      ]
     },
     "metadata": {},
     "output_type": "display_data"
    },
    {
     "data": {
      "text/html": [
       "Syncing run <strong><a href='https://wandb.ai/shaicahana-hebrew-university-of-jerusalem/my-tf-integration/runs/mpybz4hb' target=\"_blank\">curious-durian-269</a></strong> to <a href='https://wandb.ai/shaicahana-hebrew-university-of-jerusalem/my-tf-integration' target=\"_blank\">Weights & Biases</a> (<a href='https://wandb.me/run' target=\"_blank\">docs</a>)<br/>"
      ],
      "text/plain": [
       "<IPython.core.display.HTML object>"
      ]
     },
     "metadata": {},
     "output_type": "display_data"
    },
    {
     "data": {
      "text/html": [
       " View project at <a href='https://wandb.ai/shaicahana-hebrew-university-of-jerusalem/my-tf-integration' target=\"_blank\">https://wandb.ai/shaicahana-hebrew-university-of-jerusalem/my-tf-integration</a>"
      ],
      "text/plain": [
       "<IPython.core.display.HTML object>"
      ]
     },
     "metadata": {},
     "output_type": "display_data"
    },
    {
     "data": {
      "text/html": [
       " View run at <a href='https://wandb.ai/shaicahana-hebrew-university-of-jerusalem/my-tf-integration/runs/mpybz4hb' target=\"_blank\">https://wandb.ai/shaicahana-hebrew-university-of-jerusalem/my-tf-integration/runs/mpybz4hb</a>"
      ],
      "text/plain": [
       "<IPython.core.display.HTML object>"
      ]
     },
     "metadata": {},
     "output_type": "display_data"
    },
    {
     "name": "stdout",
     "output_type": "stream",
     "text": [
      "\n",
      "Start of epoch 0\n"
     ]
    },
    {
     "name": "stderr",
     "output_type": "stream",
     "text": [
      "2024-10-28 22:18:08.027460: W tensorflow/core/framework/op_kernel.cc:1841] OP_REQUIRES failed at sparse_xent_op.cc:103 : INVALID_ARGUMENT: Received a label value of 1 which is outside the valid range of [0, 1).  Label values: 0 0 1 0 0 1 0 0 1 0 0 0 1 0 0 0 0 0 0 0 0 1 0 1 1 1 1 0 1 1 0 1 0 1 1 1 1 0 1 0 1 0 0 0 1 0 0 0 0 1 0 1 0 1 0 1 1 1 1 0 0 1 1 1\n"
     ]
    },
    {
     "data": {
      "text/html": [
       "Finishing last run (ID:mpybz4hb) before initializing another..."
      ],
      "text/plain": [
       "<IPython.core.display.HTML object>"
      ]
     },
     "metadata": {},
     "output_type": "display_data"
    },
    {
     "data": {
      "text/html": [
       " View run <strong style=\"color:#cdcd00\">curious-durian-269</strong> at: <a href='https://wandb.ai/shaicahana-hebrew-university-of-jerusalem/my-tf-integration/runs/mpybz4hb' target=\"_blank\">https://wandb.ai/shaicahana-hebrew-university-of-jerusalem/my-tf-integration/runs/mpybz4hb</a><br/> View project at: <a href='https://wandb.ai/shaicahana-hebrew-university-of-jerusalem/my-tf-integration' target=\"_blank\">https://wandb.ai/shaicahana-hebrew-university-of-jerusalem/my-tf-integration</a><br/>Synced 5 W&B file(s), 0 media file(s), 0 artifact file(s) and 0 other file(s)"
      ],
      "text/plain": [
       "<IPython.core.display.HTML object>"
      ]
     },
     "metadata": {},
     "output_type": "display_data"
    },
    {
     "data": {
      "text/html": [
       "Find logs at: <code>./wandb/run-20241028_221805-mpybz4hb/logs</code>"
      ],
      "text/plain": [
       "<IPython.core.display.HTML object>"
      ]
     },
     "metadata": {},
     "output_type": "display_data"
    },
    {
     "data": {
      "text/html": [
       "Successfully finished last run (ID:mpybz4hb). Initializing new run:<br/>"
      ],
      "text/plain": [
       "<IPython.core.display.HTML object>"
      ]
     },
     "metadata": {},
     "output_type": "display_data"
    },
    {
     "data": {
      "text/html": [
       "Tracking run with wandb version 0.18.5"
      ],
      "text/plain": [
       "<IPython.core.display.HTML object>"
      ]
     },
     "metadata": {},
     "output_type": "display_data"
    },
    {
     "data": {
      "text/html": [
       "Run data is saved locally in <code>/Users/shaicahana/Documents/AI_DL/colab/AI-DL/project-1/wandb/run-20241028_221808-nbo7tc64</code>"
      ],
      "text/plain": [
       "<IPython.core.display.HTML object>"
      ]
     },
     "metadata": {},
     "output_type": "display_data"
    },
    {
     "data": {
      "text/html": [
       "Syncing run <strong><a href='https://wandb.ai/shaicahana-hebrew-university-of-jerusalem/my-tf-integration/runs/nbo7tc64' target=\"_blank\">fallen-valley-270</a></strong> to <a href='https://wandb.ai/shaicahana-hebrew-university-of-jerusalem/my-tf-integration' target=\"_blank\">Weights & Biases</a> (<a href='https://wandb.me/run' target=\"_blank\">docs</a>)<br/>"
      ],
      "text/plain": [
       "<IPython.core.display.HTML object>"
      ]
     },
     "metadata": {},
     "output_type": "display_data"
    },
    {
     "data": {
      "text/html": [
       " View project at <a href='https://wandb.ai/shaicahana-hebrew-university-of-jerusalem/my-tf-integration' target=\"_blank\">https://wandb.ai/shaicahana-hebrew-university-of-jerusalem/my-tf-integration</a>"
      ],
      "text/plain": [
       "<IPython.core.display.HTML object>"
      ]
     },
     "metadata": {},
     "output_type": "display_data"
    },
    {
     "data": {
      "text/html": [
       " View run at <a href='https://wandb.ai/shaicahana-hebrew-university-of-jerusalem/my-tf-integration/runs/nbo7tc64' target=\"_blank\">https://wandb.ai/shaicahana-hebrew-university-of-jerusalem/my-tf-integration/runs/nbo7tc64</a>"
      ],
      "text/plain": [
       "<IPython.core.display.HTML object>"
      ]
     },
     "metadata": {},
     "output_type": "display_data"
    },
    {
     "name": "stdout",
     "output_type": "stream",
     "text": [
      "\n",
      "Start of epoch 0\n"
     ]
    },
    {
     "name": "stderr",
     "output_type": "stream",
     "text": [
      "2024-10-28 22:18:11.578266: W tensorflow/core/framework/op_kernel.cc:1841] OP_REQUIRES failed at sparse_xent_op.cc:103 : INVALID_ARGUMENT: Received a label value of 1 which is outside the valid range of [0, 1).  Label values: 1 0 1 1 0 1 1 0 1 0 0 1 0 1 0 1 0 1 0 0 1 1 1 1 0 1 1 1 0 0 0 0 0 0 0 0 0 0 0 0 1 0 1 1 1 0 0 0 1 1 1 0 0 0 0 1 1 1 1 0 1 1 1 1\n"
     ]
    },
    {
     "data": {
      "text/html": [
       "Finishing last run (ID:nbo7tc64) before initializing another..."
      ],
      "text/plain": [
       "<IPython.core.display.HTML object>"
      ]
     },
     "metadata": {},
     "output_type": "display_data"
    },
    {
     "data": {
      "application/vnd.jupyter.widget-view+json": {
       "model_id": "3f98b25f96d74f5788ba06b49071703b",
       "version_major": 2,
       "version_minor": 0
      },
      "text/plain": [
       "VBox(children=(Label(value='0.008 MB of 0.008 MB uploaded\\r'), FloatProgress(value=1.0, max=1.0)))"
      ]
     },
     "metadata": {},
     "output_type": "display_data"
    },
    {
     "data": {
      "text/html": [
       " View run <strong style=\"color:#cdcd00\">fallen-valley-270</strong> at: <a href='https://wandb.ai/shaicahana-hebrew-university-of-jerusalem/my-tf-integration/runs/nbo7tc64' target=\"_blank\">https://wandb.ai/shaicahana-hebrew-university-of-jerusalem/my-tf-integration/runs/nbo7tc64</a><br/> View project at: <a href='https://wandb.ai/shaicahana-hebrew-university-of-jerusalem/my-tf-integration' target=\"_blank\">https://wandb.ai/shaicahana-hebrew-university-of-jerusalem/my-tf-integration</a><br/>Synced 5 W&B file(s), 0 media file(s), 0 artifact file(s) and 0 other file(s)"
      ],
      "text/plain": [
       "<IPython.core.display.HTML object>"
      ]
     },
     "metadata": {},
     "output_type": "display_data"
    },
    {
     "data": {
      "text/html": [
       "Find logs at: <code>./wandb/run-20241028_221808-nbo7tc64/logs</code>"
      ],
      "text/plain": [
       "<IPython.core.display.HTML object>"
      ]
     },
     "metadata": {},
     "output_type": "display_data"
    },
    {
     "data": {
      "text/html": [
       "Successfully finished last run (ID:nbo7tc64). Initializing new run:<br/>"
      ],
      "text/plain": [
       "<IPython.core.display.HTML object>"
      ]
     },
     "metadata": {},
     "output_type": "display_data"
    },
    {
     "data": {
      "text/html": [
       "Tracking run with wandb version 0.18.5"
      ],
      "text/plain": [
       "<IPython.core.display.HTML object>"
      ]
     },
     "metadata": {},
     "output_type": "display_data"
    },
    {
     "data": {
      "text/html": [
       "Run data is saved locally in <code>/Users/shaicahana/Documents/AI_DL/colab/AI-DL/project-1/wandb/run-20241028_221811-0zgx8frp</code>"
      ],
      "text/plain": [
       "<IPython.core.display.HTML object>"
      ]
     },
     "metadata": {},
     "output_type": "display_data"
    },
    {
     "data": {
      "text/html": [
       "Syncing run <strong><a href='https://wandb.ai/shaicahana-hebrew-university-of-jerusalem/my-tf-integration/runs/0zgx8frp' target=\"_blank\">vibrant-snowball-271</a></strong> to <a href='https://wandb.ai/shaicahana-hebrew-university-of-jerusalem/my-tf-integration' target=\"_blank\">Weights & Biases</a> (<a href='https://wandb.me/run' target=\"_blank\">docs</a>)<br/>"
      ],
      "text/plain": [
       "<IPython.core.display.HTML object>"
      ]
     },
     "metadata": {},
     "output_type": "display_data"
    },
    {
     "data": {
      "text/html": [
       " View project at <a href='https://wandb.ai/shaicahana-hebrew-university-of-jerusalem/my-tf-integration' target=\"_blank\">https://wandb.ai/shaicahana-hebrew-university-of-jerusalem/my-tf-integration</a>"
      ],
      "text/plain": [
       "<IPython.core.display.HTML object>"
      ]
     },
     "metadata": {},
     "output_type": "display_data"
    },
    {
     "data": {
      "text/html": [
       " View run at <a href='https://wandb.ai/shaicahana-hebrew-university-of-jerusalem/my-tf-integration/runs/0zgx8frp' target=\"_blank\">https://wandb.ai/shaicahana-hebrew-university-of-jerusalem/my-tf-integration/runs/0zgx8frp</a>"
      ],
      "text/plain": [
       "<IPython.core.display.HTML object>"
      ]
     },
     "metadata": {},
     "output_type": "display_data"
    },
    {
     "name": "stdout",
     "output_type": "stream",
     "text": [
      "\n",
      "Start of epoch 0\n"
     ]
    },
    {
     "name": "stderr",
     "output_type": "stream",
     "text": [
      "2024-10-28 22:18:15.777394: W tensorflow/core/framework/op_kernel.cc:1841] OP_REQUIRES failed at sparse_xent_op.cc:103 : INVALID_ARGUMENT: Received a label value of 1 which is outside the valid range of [0, 1).  Label values: 0 1 1 1 1 1 0 0 0 0 0 0 1 0 0 0 0 0 1 1 0 1 1 1 0 0 1 1 0 1 1 0 0 0 1 1 0 0 1 1 1 1 1 1 0 1 0 1 0 1 0 0 1 1 1 0 0 1 1 1 0 0 0 0\n"
     ]
    },
    {
     "data": {
      "text/html": [
       "Finishing last run (ID:0zgx8frp) before initializing another..."
      ],
      "text/plain": [
       "<IPython.core.display.HTML object>"
      ]
     },
     "metadata": {},
     "output_type": "display_data"
    },
    {
     "data": {
      "text/html": [
       " View run <strong style=\"color:#cdcd00\">vibrant-snowball-271</strong> at: <a href='https://wandb.ai/shaicahana-hebrew-university-of-jerusalem/my-tf-integration/runs/0zgx8frp' target=\"_blank\">https://wandb.ai/shaicahana-hebrew-university-of-jerusalem/my-tf-integration/runs/0zgx8frp</a><br/> View project at: <a href='https://wandb.ai/shaicahana-hebrew-university-of-jerusalem/my-tf-integration' target=\"_blank\">https://wandb.ai/shaicahana-hebrew-university-of-jerusalem/my-tf-integration</a><br/>Synced 5 W&B file(s), 0 media file(s), 0 artifact file(s) and 0 other file(s)"
      ],
      "text/plain": [
       "<IPython.core.display.HTML object>"
      ]
     },
     "metadata": {},
     "output_type": "display_data"
    },
    {
     "data": {
      "text/html": [
       "Find logs at: <code>./wandb/run-20241028_221811-0zgx8frp/logs</code>"
      ],
      "text/plain": [
       "<IPython.core.display.HTML object>"
      ]
     },
     "metadata": {},
     "output_type": "display_data"
    },
    {
     "data": {
      "text/html": [
       "Successfully finished last run (ID:0zgx8frp). Initializing new run:<br/>"
      ],
      "text/plain": [
       "<IPython.core.display.HTML object>"
      ]
     },
     "metadata": {},
     "output_type": "display_data"
    },
    {
     "data": {
      "text/html": [
       "Tracking run with wandb version 0.18.5"
      ],
      "text/plain": [
       "<IPython.core.display.HTML object>"
      ]
     },
     "metadata": {},
     "output_type": "display_data"
    },
    {
     "data": {
      "text/html": [
       "Run data is saved locally in <code>/Users/shaicahana/Documents/AI_DL/colab/AI-DL/project-1/wandb/run-20241028_221815-pjzko509</code>"
      ],
      "text/plain": [
       "<IPython.core.display.HTML object>"
      ]
     },
     "metadata": {},
     "output_type": "display_data"
    },
    {
     "data": {
      "text/html": [
       "Syncing run <strong><a href='https://wandb.ai/shaicahana-hebrew-university-of-jerusalem/my-tf-integration/runs/pjzko509' target=\"_blank\">whole-water-272</a></strong> to <a href='https://wandb.ai/shaicahana-hebrew-university-of-jerusalem/my-tf-integration' target=\"_blank\">Weights & Biases</a> (<a href='https://wandb.me/run' target=\"_blank\">docs</a>)<br/>"
      ],
      "text/plain": [
       "<IPython.core.display.HTML object>"
      ]
     },
     "metadata": {},
     "output_type": "display_data"
    },
    {
     "data": {
      "text/html": [
       " View project at <a href='https://wandb.ai/shaicahana-hebrew-university-of-jerusalem/my-tf-integration' target=\"_blank\">https://wandb.ai/shaicahana-hebrew-university-of-jerusalem/my-tf-integration</a>"
      ],
      "text/plain": [
       "<IPython.core.display.HTML object>"
      ]
     },
     "metadata": {},
     "output_type": "display_data"
    },
    {
     "data": {
      "text/html": [
       " View run at <a href='https://wandb.ai/shaicahana-hebrew-university-of-jerusalem/my-tf-integration/runs/pjzko509' target=\"_blank\">https://wandb.ai/shaicahana-hebrew-university-of-jerusalem/my-tf-integration/runs/pjzko509</a>"
      ],
      "text/plain": [
       "<IPython.core.display.HTML object>"
      ]
     },
     "metadata": {},
     "output_type": "display_data"
    },
    {
     "name": "stdout",
     "output_type": "stream",
     "text": [
      "\n",
      "Start of epoch 0\n"
     ]
    },
    {
     "name": "stderr",
     "output_type": "stream",
     "text": [
      "2024-10-28 22:18:18.744145: W tensorflow/core/framework/op_kernel.cc:1841] OP_REQUIRES failed at sparse_xent_op.cc:103 : INVALID_ARGUMENT: Received a label value of 1 which is outside the valid range of [0, 1).  Label values: 0 1 0 1 1 0 1 0 0 1 0 1 0 1 1 1 0 0 0 1 1 0 0 0 0 1 0 1 1 1 0 1 1 1 0 1 1 0 1 1 1 0 0 1 1 1 0 1 0 1 1 0 0 0 0 1 1 1 0 0 0 1 1 0\n"
     ]
    },
    {
     "data": {
      "text/html": [
       "Finishing last run (ID:pjzko509) before initializing another..."
      ],
      "text/plain": [
       "<IPython.core.display.HTML object>"
      ]
     },
     "metadata": {},
     "output_type": "display_data"
    },
    {
     "data": {
      "text/html": [
       " View run <strong style=\"color:#cdcd00\">whole-water-272</strong> at: <a href='https://wandb.ai/shaicahana-hebrew-university-of-jerusalem/my-tf-integration/runs/pjzko509' target=\"_blank\">https://wandb.ai/shaicahana-hebrew-university-of-jerusalem/my-tf-integration/runs/pjzko509</a><br/> View project at: <a href='https://wandb.ai/shaicahana-hebrew-university-of-jerusalem/my-tf-integration' target=\"_blank\">https://wandb.ai/shaicahana-hebrew-university-of-jerusalem/my-tf-integration</a><br/>Synced 5 W&B file(s), 0 media file(s), 0 artifact file(s) and 0 other file(s)"
      ],
      "text/plain": [
       "<IPython.core.display.HTML object>"
      ]
     },
     "metadata": {},
     "output_type": "display_data"
    },
    {
     "data": {
      "text/html": [
       "Find logs at: <code>./wandb/run-20241028_221815-pjzko509/logs</code>"
      ],
      "text/plain": [
       "<IPython.core.display.HTML object>"
      ]
     },
     "metadata": {},
     "output_type": "display_data"
    },
    {
     "data": {
      "text/html": [
       "Successfully finished last run (ID:pjzko509). Initializing new run:<br/>"
      ],
      "text/plain": [
       "<IPython.core.display.HTML object>"
      ]
     },
     "metadata": {},
     "output_type": "display_data"
    },
    {
     "data": {
      "text/html": [
       "Tracking run with wandb version 0.18.5"
      ],
      "text/plain": [
       "<IPython.core.display.HTML object>"
      ]
     },
     "metadata": {},
     "output_type": "display_data"
    },
    {
     "data": {
      "text/html": [
       "Run data is saved locally in <code>/Users/shaicahana/Documents/AI_DL/colab/AI-DL/project-1/wandb/run-20241028_221818-y84cvds7</code>"
      ],
      "text/plain": [
       "<IPython.core.display.HTML object>"
      ]
     },
     "metadata": {},
     "output_type": "display_data"
    },
    {
     "data": {
      "text/html": [
       "Syncing run <strong><a href='https://wandb.ai/shaicahana-hebrew-university-of-jerusalem/my-tf-integration/runs/y84cvds7' target=\"_blank\">lilac-yogurt-273</a></strong> to <a href='https://wandb.ai/shaicahana-hebrew-university-of-jerusalem/my-tf-integration' target=\"_blank\">Weights & Biases</a> (<a href='https://wandb.me/run' target=\"_blank\">docs</a>)<br/>"
      ],
      "text/plain": [
       "<IPython.core.display.HTML object>"
      ]
     },
     "metadata": {},
     "output_type": "display_data"
    },
    {
     "data": {
      "text/html": [
       " View project at <a href='https://wandb.ai/shaicahana-hebrew-university-of-jerusalem/my-tf-integration' target=\"_blank\">https://wandb.ai/shaicahana-hebrew-university-of-jerusalem/my-tf-integration</a>"
      ],
      "text/plain": [
       "<IPython.core.display.HTML object>"
      ]
     },
     "metadata": {},
     "output_type": "display_data"
    },
    {
     "data": {
      "text/html": [
       " View run at <a href='https://wandb.ai/shaicahana-hebrew-university-of-jerusalem/my-tf-integration/runs/y84cvds7' target=\"_blank\">https://wandb.ai/shaicahana-hebrew-university-of-jerusalem/my-tf-integration/runs/y84cvds7</a>"
      ],
      "text/plain": [
       "<IPython.core.display.HTML object>"
      ]
     },
     "metadata": {},
     "output_type": "display_data"
    },
    {
     "name": "stdout",
     "output_type": "stream",
     "text": [
      "\n",
      "Start of epoch 0\n"
     ]
    },
    {
     "name": "stderr",
     "output_type": "stream",
     "text": [
      "2024-10-28 22:18:22.114830: W tensorflow/core/framework/op_kernel.cc:1841] OP_REQUIRES failed at sparse_xent_op.cc:103 : INVALID_ARGUMENT: Received a label value of 1 which is outside the valid range of [0, 1).  Label values: 1 1 1 0 1 1 1 0 0 1 0 1 0 1 1 0 1 1 0 0 1 0 1 1 1 0 1 1 0 0 0 0 1 0 0 0 0 0 1 1 0 1 1 0 0 0 1 0 0 0 0 1 1 1 1 0 0 0 0 1 1 1 0 1\n"
     ]
    },
    {
     "data": {
      "text/html": [
       "Finishing last run (ID:y84cvds7) before initializing another..."
      ],
      "text/plain": [
       "<IPython.core.display.HTML object>"
      ]
     },
     "metadata": {},
     "output_type": "display_data"
    },
    {
     "data": {
      "text/html": [
       " View run <strong style=\"color:#cdcd00\">lilac-yogurt-273</strong> at: <a href='https://wandb.ai/shaicahana-hebrew-university-of-jerusalem/my-tf-integration/runs/y84cvds7' target=\"_blank\">https://wandb.ai/shaicahana-hebrew-university-of-jerusalem/my-tf-integration/runs/y84cvds7</a><br/> View project at: <a href='https://wandb.ai/shaicahana-hebrew-university-of-jerusalem/my-tf-integration' target=\"_blank\">https://wandb.ai/shaicahana-hebrew-university-of-jerusalem/my-tf-integration</a><br/>Synced 5 W&B file(s), 0 media file(s), 0 artifact file(s) and 0 other file(s)"
      ],
      "text/plain": [
       "<IPython.core.display.HTML object>"
      ]
     },
     "metadata": {},
     "output_type": "display_data"
    },
    {
     "data": {
      "text/html": [
       "Find logs at: <code>./wandb/run-20241028_221818-y84cvds7/logs</code>"
      ],
      "text/plain": [
       "<IPython.core.display.HTML object>"
      ]
     },
     "metadata": {},
     "output_type": "display_data"
    },
    {
     "data": {
      "text/html": [
       "Successfully finished last run (ID:y84cvds7). Initializing new run:<br/>"
      ],
      "text/plain": [
       "<IPython.core.display.HTML object>"
      ]
     },
     "metadata": {},
     "output_type": "display_data"
    },
    {
     "data": {
      "text/html": [
       "Tracking run with wandb version 0.18.5"
      ],
      "text/plain": [
       "<IPython.core.display.HTML object>"
      ]
     },
     "metadata": {},
     "output_type": "display_data"
    },
    {
     "data": {
      "text/html": [
       "Run data is saved locally in <code>/Users/shaicahana/Documents/AI_DL/colab/AI-DL/project-1/wandb/run-20241028_221822-a63dwf8h</code>"
      ],
      "text/plain": [
       "<IPython.core.display.HTML object>"
      ]
     },
     "metadata": {},
     "output_type": "display_data"
    },
    {
     "data": {
      "text/html": [
       "Syncing run <strong><a href='https://wandb.ai/shaicahana-hebrew-university-of-jerusalem/my-tf-integration/runs/a63dwf8h' target=\"_blank\">light-oath-274</a></strong> to <a href='https://wandb.ai/shaicahana-hebrew-university-of-jerusalem/my-tf-integration' target=\"_blank\">Weights & Biases</a> (<a href='https://wandb.me/run' target=\"_blank\">docs</a>)<br/>"
      ],
      "text/plain": [
       "<IPython.core.display.HTML object>"
      ]
     },
     "metadata": {},
     "output_type": "display_data"
    },
    {
     "data": {
      "text/html": [
       " View project at <a href='https://wandb.ai/shaicahana-hebrew-university-of-jerusalem/my-tf-integration' target=\"_blank\">https://wandb.ai/shaicahana-hebrew-university-of-jerusalem/my-tf-integration</a>"
      ],
      "text/plain": [
       "<IPython.core.display.HTML object>"
      ]
     },
     "metadata": {},
     "output_type": "display_data"
    },
    {
     "data": {
      "text/html": [
       " View run at <a href='https://wandb.ai/shaicahana-hebrew-university-of-jerusalem/my-tf-integration/runs/a63dwf8h' target=\"_blank\">https://wandb.ai/shaicahana-hebrew-university-of-jerusalem/my-tf-integration/runs/a63dwf8h</a>"
      ],
      "text/plain": [
       "<IPython.core.display.HTML object>"
      ]
     },
     "metadata": {},
     "output_type": "display_data"
    },
    {
     "name": "stdout",
     "output_type": "stream",
     "text": [
      "\n",
      "Start of epoch 0\n"
     ]
    },
    {
     "name": "stderr",
     "output_type": "stream",
     "text": [
      "2024-10-28 22:18:25.249088: W tensorflow/core/framework/op_kernel.cc:1841] OP_REQUIRES failed at sparse_xent_op.cc:103 : INVALID_ARGUMENT: Received a label value of 1 which is outside the valid range of [0, 1).  Label values: 1 1 1 0 1 1 1 0 1 1 1 0 1 0 1 0 1 0 0 1 1 0 1 1 0 1 0 1 0 1 0 0 1 1 1 0 0 0 1 1 0 0 0 1 1 0 0 1 1 1 1 1 1 1 0 0 0 1 0 0 1 1 0 1\n"
     ]
    }
   ],
   "source": [
    "data_keys = data.drop(columns=['outcome']).keys()\n",
    "len(data_keys)\n",
    "# data_keys = data_keys[ \n",
    "\n",
    "train_acc_dict = dict.fromkeys(data_keys, 0)\n",
    "val_acc_dict = dict.fromkeys(data_keys, 0)\n",
    "\n",
    "for elem in data_keys:\n",
    "    try:\n",
    "        run_with_feature([elem])\n",
    "        train_acc_dict[elem] = train_acc_metric\n",
    "        val_acc_dict[elem] = val_acc_dict\n",
    "    except:\n",
    "        pass\n"
   ]
  },
  {
   "cell_type": "code",
   "execution_count": 13,
   "metadata": {},
   "outputs": [
    {
     "data": {
      "text/html": [
       "Finishing last run (ID:a63dwf8h) before initializing another..."
      ],
      "text/plain": [
       "<IPython.core.display.HTML object>"
      ]
     },
     "metadata": {},
     "output_type": "display_data"
    },
    {
     "data": {
      "text/html": [
       " View run <strong style=\"color:#cdcd00\">light-oath-274</strong> at: <a href='https://wandb.ai/shaicahana-hebrew-university-of-jerusalem/my-tf-integration/runs/a63dwf8h' target=\"_blank\">https://wandb.ai/shaicahana-hebrew-university-of-jerusalem/my-tf-integration/runs/a63dwf8h</a><br/> View project at: <a href='https://wandb.ai/shaicahana-hebrew-university-of-jerusalem/my-tf-integration' target=\"_blank\">https://wandb.ai/shaicahana-hebrew-university-of-jerusalem/my-tf-integration</a><br/>Synced 5 W&B file(s), 0 media file(s), 0 artifact file(s) and 0 other file(s)"
      ],
      "text/plain": [
       "<IPython.core.display.HTML object>"
      ]
     },
     "metadata": {},
     "output_type": "display_data"
    },
    {
     "data": {
      "text/html": [
       "Find logs at: <code>./wandb/run-20241028_221822-a63dwf8h/logs</code>"
      ],
      "text/plain": [
       "<IPython.core.display.HTML object>"
      ]
     },
     "metadata": {},
     "output_type": "display_data"
    },
    {
     "data": {
      "text/html": [
       "Successfully finished last run (ID:a63dwf8h). Initializing new run:<br/>"
      ],
      "text/plain": [
       "<IPython.core.display.HTML object>"
      ]
     },
     "metadata": {},
     "output_type": "display_data"
    },
    {
     "data": {
      "text/html": [
       "Tracking run with wandb version 0.18.5"
      ],
      "text/plain": [
       "<IPython.core.display.HTML object>"
      ]
     },
     "metadata": {},
     "output_type": "display_data"
    },
    {
     "data": {
      "text/html": [
       "Run data is saved locally in <code>/Users/shaicahana/Documents/AI_DL/colab/AI-DL/project-1/wandb/run-20241028_221855-q3ah7f2m</code>"
      ],
      "text/plain": [
       "<IPython.core.display.HTML object>"
      ]
     },
     "metadata": {},
     "output_type": "display_data"
    },
    {
     "data": {
      "text/html": [
       "Syncing run <strong><a href='https://wandb.ai/shaicahana-hebrew-university-of-jerusalem/my-tf-integration/runs/q3ah7f2m' target=\"_blank\">quiet-blaze-275</a></strong> to <a href='https://wandb.ai/shaicahana-hebrew-university-of-jerusalem/my-tf-integration' target=\"_blank\">Weights & Biases</a> (<a href='https://wandb.me/run' target=\"_blank\">docs</a>)<br/>"
      ],
      "text/plain": [
       "<IPython.core.display.HTML object>"
      ]
     },
     "metadata": {},
     "output_type": "display_data"
    },
    {
     "data": {
      "text/html": [
       " View project at <a href='https://wandb.ai/shaicahana-hebrew-university-of-jerusalem/my-tf-integration' target=\"_blank\">https://wandb.ai/shaicahana-hebrew-university-of-jerusalem/my-tf-integration</a>"
      ],
      "text/plain": [
       "<IPython.core.display.HTML object>"
      ]
     },
     "metadata": {},
     "output_type": "display_data"
    },
    {
     "data": {
      "text/html": [
       " View run at <a href='https://wandb.ai/shaicahana-hebrew-university-of-jerusalem/my-tf-integration/runs/q3ah7f2m' target=\"_blank\">https://wandb.ai/shaicahana-hebrew-university-of-jerusalem/my-tf-integration/runs/q3ah7f2m</a>"
      ],
      "text/plain": [
       "<IPython.core.display.HTML object>"
      ]
     },
     "metadata": {},
     "output_type": "display_data"
    },
    {
     "name": "stdout",
     "output_type": "stream",
     "text": [
      "\n",
      "Start of epoch 0\n"
     ]
    },
    {
     "name": "stderr",
     "output_type": "stream",
     "text": [
      "2024-10-28 22:18:58.036142: W tensorflow/core/framework/op_kernel.cc:1841] OP_REQUIRES failed at sparse_xent_op.cc:103 : INVALID_ARGUMENT: Received a label value of 1 which is outside the valid range of [0, 1).  Label values: 1 0 1 1 1 0 0 0 0 1 1 1 1 0 1 0 0 0 1 1 1 1 0 0 1 1 0 1 1 1 1 0 1 0 1 1 1 1 0 1 0 1 1 1 0 0 0 0 1 1 1 1 0 1 0 1 1 1 0 0 0 1 0 0\n"
     ]
    },
    {
     "ename": "InvalidArgumentError",
     "evalue": "{{function_node __wrapped__SparseSoftmaxCrossEntropyWithLogits_device_/job:localhost/replica:0/task:0/device:CPU:0}} Received a label value of 1 which is outside the valid range of [0, 1).  Label values: 1 0 1 1 1 0 0 0 0 1 1 1 1 0 1 0 0 0 1 1 1 1 0 0 1 1 0 1 1 1 1 0 1 0 1 1 1 1 0 1 0 1 1 1 0 0 0 0 1 1 1 1 0 1 0 1 1 1 0 0 0 1 0 0 [Op:SparseSoftmaxCrossEntropyWithLogits] name: ",
     "output_type": "error",
     "traceback": [
      "\u001b[0;31m---------------------------------------------------------------------------\u001b[0m",
      "\u001b[0;31mInvalidArgumentError\u001b[0m                      Traceback (most recent call last)",
      "Cell \u001b[0;32mIn[13], line 14\u001b[0m\n\u001b[1;32m      1\u001b[0m \u001b[38;5;66;03m# feature0 = ['Urine output', 'Lymphocyte', 'Bicarbonate', 'Leucocyte', 'Urea nitrogen', 'Anion gap', 'Neutrophils', 'Blood calcium', 'Lactic acid','PH']\u001b[39;00m\n\u001b[1;32m      2\u001b[0m \u001b[38;5;66;03m# run_with_feature(feature0)\u001b[39;00m\n\u001b[1;32m      4\u001b[0m feature1 \u001b[38;5;241m=\u001b[39m[\u001b[38;5;124m\"\u001b[39m\u001b[38;5;124mUrine output\u001b[39m\u001b[38;5;124m\"\u001b[39m, \u001b[38;5;124m\"\u001b[39m\u001b[38;5;124mLymphocyte\u001b[39m\u001b[38;5;124m\"\u001b[39m, \u001b[38;5;124m\"\u001b[39m\u001b[38;5;124mBicarbonate\u001b[39m\u001b[38;5;124m\"\u001b[39m, \u001b[38;5;124m\"\u001b[39m\u001b[38;5;124mLeucocyte\u001b[39m\u001b[38;5;124m\"\u001b[39m, \u001b[38;5;124m\"\u001b[39m\u001b[38;5;124mUrea nitrogen\u001b[39m\u001b[38;5;124m\"\u001b[39m,\n\u001b[1;32m      5\u001b[0m     \u001b[38;5;124m\"\u001b[39m\u001b[38;5;124mAnion gap\u001b[39m\u001b[38;5;124m\"\u001b[39m, \u001b[38;5;124m\"\u001b[39m\u001b[38;5;124mNeutrophils\u001b[39m\u001b[38;5;124m\"\u001b[39m, \u001b[38;5;124m\"\u001b[39m\u001b[38;5;124mBlood calcium\u001b[39m\u001b[38;5;124m\"\u001b[39m, \u001b[38;5;124m\"\u001b[39m\u001b[38;5;124mLactic acid\u001b[39m\u001b[38;5;124m\"\u001b[39m, \u001b[38;5;124m\"\u001b[39m\u001b[38;5;124mPH\u001b[39m\u001b[38;5;124m\"\u001b[39m, \u001b[38;5;124m\"\u001b[39m\u001b[38;5;124mBasophils\u001b[39m\u001b[38;5;124m\"\u001b[39m,\n\u001b[1;32m      6\u001b[0m     \u001b[38;5;124m\"\u001b[39m\u001b[38;5;124mRespiratory rate\u001b[39m\u001b[38;5;124m\"\u001b[39m, \u001b[38;5;124m\"\u001b[39m\u001b[38;5;124mBlood sodium\u001b[39m\u001b[38;5;124m\"\u001b[39m, \u001b[38;5;124m\"\u001b[39m\u001b[38;5;124mRDW\u001b[39m\u001b[38;5;124m\"\u001b[39m, \u001b[38;5;124m\"\u001b[39m\u001b[38;5;124mBlood potassium\u001b[39m\u001b[38;5;124m\"\u001b[39m, \u001b[38;5;124m\"\u001b[39m\u001b[38;5;124mNT-proBNP\u001b[39m\u001b[38;5;124m\"\u001b[39m, \u001b[38;5;124m\"\u001b[39m\u001b[38;5;124mPT\u001b[39m\u001b[38;5;124m\"\u001b[39m,\n\u001b[0;32m   (...)\u001b[0m\n\u001b[1;32m     11\u001b[0m     \u001b[38;5;124m\"\u001b[39m\u001b[38;5;124mCOPD\u001b[39m\u001b[38;5;124m\"\u001b[39m, \u001b[38;5;124m\"\u001b[39m\u001b[38;5;124mCHD with no MI\u001b[39m\u001b[38;5;124m\"\u001b[39m, \u001b[38;5;124m\"\u001b[39m\u001b[38;5;124mCreatine kinase\u001b[39m\u001b[38;5;124m\"\u001b[39m, \u001b[38;5;124m\"\u001b[39m\u001b[38;5;124mglucose\u001b[39m\u001b[38;5;124m\"\u001b[39m, \u001b[38;5;124m\"\u001b[39m\u001b[38;5;124mgendera\u001b[39m\u001b[38;5;124m\"\u001b[39m, \u001b[38;5;124m\"\u001b[39m\u001b[38;5;124mdepression\u001b[39m\u001b[38;5;124m\"\u001b[39m\n\u001b[1;32m     12\u001b[0m ]\n\u001b[0;32m---> 14\u001b[0m \u001b[43mrun_with_feature\u001b[49m\u001b[43m(\u001b[49m\u001b[43mfeature1\u001b[49m\u001b[43m)\u001b[49m\n",
      "Cell \u001b[0;32mIn[10], line 35\u001b[0m, in \u001b[0;36mrun_with_feature\u001b[0;34m(feature)\u001b[0m\n\u001b[1;32m     31\u001b[0m train_acc_metric \u001b[38;5;241m=\u001b[39m keras\u001b[38;5;241m.\u001b[39mmetrics\u001b[38;5;241m.\u001b[39mSparseCategoricalAccuracy()\n\u001b[1;32m     32\u001b[0m val_acc_metric \u001b[38;5;241m=\u001b[39m keras\u001b[38;5;241m.\u001b[39mmetrics\u001b[38;5;241m.\u001b[39mSparseCategoricalAccuracy()\n\u001b[0;32m---> 35\u001b[0m \u001b[43mtrain\u001b[49m\u001b[43m(\u001b[49m\u001b[43mtrain_dataset\u001b[49m\u001b[43m,\u001b[49m\n\u001b[1;32m     36\u001b[0m \u001b[43m      \u001b[49m\u001b[43mval_dataset\u001b[49m\u001b[43m,\u001b[49m\u001b[43m \u001b[49m\n\u001b[1;32m     37\u001b[0m \u001b[43m      \u001b[49m\u001b[43mmodel\u001b[49m\u001b[43m,\u001b[49m\n\u001b[1;32m     38\u001b[0m \u001b[43m      \u001b[49m\u001b[43moptimizer\u001b[49m\u001b[43m,\u001b[49m\n\u001b[1;32m     39\u001b[0m \u001b[43m      \u001b[49m\u001b[43mtrain_acc_metric\u001b[49m\u001b[43m,\u001b[49m\n\u001b[1;32m     40\u001b[0m \u001b[43m      \u001b[49m\u001b[43mval_acc_metric\u001b[49m\u001b[43m,\u001b[49m\n\u001b[1;32m     41\u001b[0m \u001b[43m      \u001b[49m\u001b[43mloss_fn\u001b[49m\u001b[43m,\u001b[49m\n\u001b[1;32m     42\u001b[0m \u001b[43m      \u001b[49m\u001b[43mepochs\u001b[49m\u001b[38;5;241;43m=\u001b[39;49m\u001b[43mconfig\u001b[49m\u001b[38;5;241;43m.\u001b[39;49m\u001b[43mepochs\u001b[49m\u001b[43m,\u001b[49m\u001b[43m \u001b[49m\n\u001b[1;32m     43\u001b[0m \u001b[43m      \u001b[49m\u001b[43mlog_step\u001b[49m\u001b[38;5;241;43m=\u001b[39;49m\u001b[43mconfig\u001b[49m\u001b[38;5;241;43m.\u001b[39;49m\u001b[43mlog_step\u001b[49m\u001b[43m,\u001b[49m\u001b[43m \u001b[49m\n\u001b[1;32m     44\u001b[0m \u001b[43m      \u001b[49m\u001b[43mval_log_step\u001b[49m\u001b[38;5;241;43m=\u001b[39;49m\u001b[43mconfig\u001b[49m\u001b[38;5;241;43m.\u001b[39;49m\u001b[43mval_log_step\u001b[49m\u001b[43m)\u001b[49m\n\u001b[1;32m     46\u001b[0m run\u001b[38;5;241m.\u001b[39mfinish()\n",
      "Cell \u001b[0;32mIn[8], line 32\u001b[0m, in \u001b[0;36mtrain\u001b[0;34m(train_dataset, val_dataset, model, optimizer, train_acc_metric, val_acc_metric, loss_fn, epochs, log_step, val_log_step)\u001b[0m\n\u001b[1;32m     30\u001b[0m \u001b[38;5;66;03m# Iterate over the batches of the dataset\u001b[39;00m\n\u001b[1;32m     31\u001b[0m \u001b[38;5;28;01mfor\u001b[39;00m step, (x_batch_train, y_batch_train) \u001b[38;5;129;01min\u001b[39;00m \u001b[38;5;28menumerate\u001b[39m(train_dataset):\n\u001b[0;32m---> 32\u001b[0m     loss_value \u001b[38;5;241m=\u001b[39m \u001b[43mtrain_step\u001b[49m\u001b[43m(\u001b[49m\u001b[43mx_batch_train\u001b[49m\u001b[43m,\u001b[49m\u001b[43m \u001b[49m\u001b[43my_batch_train\u001b[49m\u001b[43m,\u001b[49m\u001b[43m \u001b[49m\n\u001b[1;32m     33\u001b[0m \u001b[43m                            \u001b[49m\u001b[43mmodel\u001b[49m\u001b[43m,\u001b[49m\u001b[43m \u001b[49m\u001b[43moptimizer\u001b[49m\u001b[43m,\u001b[49m\u001b[43m \u001b[49m\n\u001b[1;32m     34\u001b[0m \u001b[43m                            \u001b[49m\u001b[43mloss_fn\u001b[49m\u001b[43m,\u001b[49m\u001b[43m \u001b[49m\u001b[43mtrain_acc_metric\u001b[49m\u001b[43m)\u001b[49m\n\u001b[1;32m     35\u001b[0m     train_loss\u001b[38;5;241m.\u001b[39mappend(\u001b[38;5;28mfloat\u001b[39m(loss_value))\n\u001b[1;32m     37\u001b[0m \u001b[38;5;66;03m# Run a validation loop at the end of each epoch\u001b[39;00m\n",
      "Cell \u001b[0;32mIn[8], line 4\u001b[0m, in \u001b[0;36mtrain_step\u001b[0;34m(x, y, model, optimizer, loss_fn, train_acc_metric)\u001b[0m\n\u001b[1;32m      2\u001b[0m \u001b[38;5;28;01mwith\u001b[39;00m tf\u001b[38;5;241m.\u001b[39mGradientTape() \u001b[38;5;28;01mas\u001b[39;00m tape:\n\u001b[1;32m      3\u001b[0m     logits \u001b[38;5;241m=\u001b[39m model(x, training\u001b[38;5;241m=\u001b[39m\u001b[38;5;28;01mTrue\u001b[39;00m)\n\u001b[0;32m----> 4\u001b[0m     loss_value \u001b[38;5;241m=\u001b[39m \u001b[43mloss_fn\u001b[49m\u001b[43m(\u001b[49m\u001b[43my\u001b[49m\u001b[43m,\u001b[49m\u001b[43m \u001b[49m\u001b[43mlogits\u001b[49m\u001b[43m)\u001b[49m\n\u001b[1;32m      6\u001b[0m grads \u001b[38;5;241m=\u001b[39m tape\u001b[38;5;241m.\u001b[39mgradient(loss_value, model\u001b[38;5;241m.\u001b[39mtrainable_weights)\n\u001b[1;32m      7\u001b[0m optimizer\u001b[38;5;241m.\u001b[39mapply_gradients(\u001b[38;5;28mzip\u001b[39m(grads, model\u001b[38;5;241m.\u001b[39mtrainable_weights))\n",
      "File \u001b[0;32m/opt/anaconda3/lib/python3.12/site-packages/keras/src/losses/loss.py:60\u001b[0m, in \u001b[0;36mLoss.__call__\u001b[0;34m(self, y_true, y_pred, sample_weight)\u001b[0m\n\u001b[1;32m     53\u001b[0m y_pred \u001b[38;5;241m=\u001b[39m tree\u001b[38;5;241m.\u001b[39mmap_structure(\n\u001b[1;32m     54\u001b[0m     \u001b[38;5;28;01mlambda\u001b[39;00m x: ops\u001b[38;5;241m.\u001b[39mconvert_to_tensor(x, dtype\u001b[38;5;241m=\u001b[39m\u001b[38;5;28mself\u001b[39m\u001b[38;5;241m.\u001b[39mdtype), y_pred\n\u001b[1;32m     55\u001b[0m )\n\u001b[1;32m     56\u001b[0m y_true \u001b[38;5;241m=\u001b[39m tree\u001b[38;5;241m.\u001b[39mmap_structure(\n\u001b[1;32m     57\u001b[0m     \u001b[38;5;28;01mlambda\u001b[39;00m x: ops\u001b[38;5;241m.\u001b[39mconvert_to_tensor(x, dtype\u001b[38;5;241m=\u001b[39m\u001b[38;5;28mself\u001b[39m\u001b[38;5;241m.\u001b[39mdtype), y_true\n\u001b[1;32m     58\u001b[0m )\n\u001b[0;32m---> 60\u001b[0m losses \u001b[38;5;241m=\u001b[39m \u001b[38;5;28;43mself\u001b[39;49m\u001b[38;5;241;43m.\u001b[39;49m\u001b[43mcall\u001b[49m\u001b[43m(\u001b[49m\u001b[43my_true\u001b[49m\u001b[43m,\u001b[49m\u001b[43m \u001b[49m\u001b[43my_pred\u001b[49m\u001b[43m)\u001b[49m\n\u001b[1;32m     61\u001b[0m out_mask \u001b[38;5;241m=\u001b[39m backend\u001b[38;5;241m.\u001b[39mget_keras_mask(losses)\n\u001b[1;32m     63\u001b[0m \u001b[38;5;28;01mif\u001b[39;00m in_mask \u001b[38;5;129;01mis\u001b[39;00m \u001b[38;5;129;01mnot\u001b[39;00m \u001b[38;5;28;01mNone\u001b[39;00m \u001b[38;5;129;01mand\u001b[39;00m out_mask \u001b[38;5;129;01mis\u001b[39;00m \u001b[38;5;129;01mnot\u001b[39;00m \u001b[38;5;28;01mNone\u001b[39;00m:\n",
      "File \u001b[0;32m/opt/anaconda3/lib/python3.12/site-packages/keras/src/losses/losses.py:27\u001b[0m, in \u001b[0;36mLossFunctionWrapper.call\u001b[0;34m(self, y_true, y_pred)\u001b[0m\n\u001b[1;32m     25\u001b[0m \u001b[38;5;28;01mdef\u001b[39;00m \u001b[38;5;21mcall\u001b[39m(\u001b[38;5;28mself\u001b[39m, y_true, y_pred):\n\u001b[1;32m     26\u001b[0m     y_true, y_pred \u001b[38;5;241m=\u001b[39m squeeze_or_expand_to_same_rank(y_true, y_pred)\n\u001b[0;32m---> 27\u001b[0m     \u001b[38;5;28;01mreturn\u001b[39;00m \u001b[38;5;28;43mself\u001b[39;49m\u001b[38;5;241;43m.\u001b[39;49m\u001b[43mfn\u001b[49m\u001b[43m(\u001b[49m\u001b[43my_true\u001b[49m\u001b[43m,\u001b[49m\u001b[43m \u001b[49m\u001b[43my_pred\u001b[49m\u001b[43m,\u001b[49m\u001b[43m \u001b[49m\u001b[38;5;241;43m*\u001b[39;49m\u001b[38;5;241;43m*\u001b[39;49m\u001b[38;5;28;43mself\u001b[39;49m\u001b[38;5;241;43m.\u001b[39;49m\u001b[43m_fn_kwargs\u001b[49m\u001b[43m)\u001b[49m\n",
      "File \u001b[0;32m/opt/anaconda3/lib/python3.12/site-packages/keras/src/losses/losses.py:1870\u001b[0m, in \u001b[0;36msparse_categorical_crossentropy\u001b[0;34m(y_true, y_pred, from_logits, ignore_class, axis)\u001b[0m\n\u001b[1;32m   1865\u001b[0m     y_true \u001b[38;5;241m=\u001b[39m y_true \u001b[38;5;241m*\u001b[39m ops\u001b[38;5;241m.\u001b[39mcast(valid_mask, y_true\u001b[38;5;241m.\u001b[39mdtype)\n\u001b[1;32m   1866\u001b[0m     y_pred \u001b[38;5;241m=\u001b[39m y_pred \u001b[38;5;241m*\u001b[39m ops\u001b[38;5;241m.\u001b[39mcast(\n\u001b[1;32m   1867\u001b[0m         ops\u001b[38;5;241m.\u001b[39mexpand_dims(valid_mask, \u001b[38;5;241m-\u001b[39m\u001b[38;5;241m1\u001b[39m), y_pred\u001b[38;5;241m.\u001b[39mdtype\n\u001b[1;32m   1868\u001b[0m     )\n\u001b[0;32m-> 1870\u001b[0m res \u001b[38;5;241m=\u001b[39m \u001b[43mops\u001b[49m\u001b[38;5;241;43m.\u001b[39;49m\u001b[43msparse_categorical_crossentropy\u001b[49m\u001b[43m(\u001b[49m\n\u001b[1;32m   1871\u001b[0m \u001b[43m    \u001b[49m\u001b[43my_true\u001b[49m\u001b[43m,\u001b[49m\n\u001b[1;32m   1872\u001b[0m \u001b[43m    \u001b[49m\u001b[43my_pred\u001b[49m\u001b[43m,\u001b[49m\n\u001b[1;32m   1873\u001b[0m \u001b[43m    \u001b[49m\u001b[43mfrom_logits\u001b[49m\u001b[38;5;241;43m=\u001b[39;49m\u001b[43mfrom_logits\u001b[49m\u001b[43m,\u001b[49m\n\u001b[1;32m   1874\u001b[0m \u001b[43m    \u001b[49m\u001b[43maxis\u001b[49m\u001b[38;5;241;43m=\u001b[39;49m\u001b[43maxis\u001b[49m\u001b[43m,\u001b[49m\n\u001b[1;32m   1875\u001b[0m \u001b[43m\u001b[49m\u001b[43m)\u001b[49m\n\u001b[1;32m   1877\u001b[0m \u001b[38;5;28;01mif\u001b[39;00m ignore_class \u001b[38;5;129;01mis\u001b[39;00m \u001b[38;5;129;01mnot\u001b[39;00m \u001b[38;5;28;01mNone\u001b[39;00m:\n\u001b[1;32m   1878\u001b[0m     valid_mask \u001b[38;5;241m=\u001b[39m ops\u001b[38;5;241m.\u001b[39mreshape(valid_mask, res_shape)\n",
      "File \u001b[0;32m/opt/anaconda3/lib/python3.12/site-packages/keras/src/ops/nn.py:1559\u001b[0m, in \u001b[0;36msparse_categorical_crossentropy\u001b[0;34m(target, output, from_logits, axis)\u001b[0m\n\u001b[1;32m   1555\u001b[0m \u001b[38;5;28;01mif\u001b[39;00m any_symbolic_tensors((target, output)):\n\u001b[1;32m   1556\u001b[0m     \u001b[38;5;28;01mreturn\u001b[39;00m SparseCategoricalCrossentropy(\n\u001b[1;32m   1557\u001b[0m         from_logits\u001b[38;5;241m=\u001b[39mfrom_logits, axis\u001b[38;5;241m=\u001b[39maxis\n\u001b[1;32m   1558\u001b[0m     )\u001b[38;5;241m.\u001b[39msymbolic_call(target, output)\n\u001b[0;32m-> 1559\u001b[0m \u001b[38;5;28;01mreturn\u001b[39;00m \u001b[43mbackend\u001b[49m\u001b[38;5;241;43m.\u001b[39;49m\u001b[43mnn\u001b[49m\u001b[38;5;241;43m.\u001b[39;49m\u001b[43msparse_categorical_crossentropy\u001b[49m\u001b[43m(\u001b[49m\n\u001b[1;32m   1560\u001b[0m \u001b[43m    \u001b[49m\u001b[43mtarget\u001b[49m\u001b[43m,\u001b[49m\u001b[43m \u001b[49m\u001b[43moutput\u001b[49m\u001b[43m,\u001b[49m\u001b[43m \u001b[49m\u001b[43mfrom_logits\u001b[49m\u001b[38;5;241;43m=\u001b[39;49m\u001b[43mfrom_logits\u001b[49m\u001b[43m,\u001b[49m\u001b[43m \u001b[49m\u001b[43maxis\u001b[49m\u001b[38;5;241;43m=\u001b[39;49m\u001b[43maxis\u001b[49m\n\u001b[1;32m   1561\u001b[0m \u001b[43m\u001b[49m\u001b[43m)\u001b[49m\n",
      "File \u001b[0;32m/opt/anaconda3/lib/python3.12/site-packages/keras/src/backend/tensorflow/nn.py:671\u001b[0m, in \u001b[0;36msparse_categorical_crossentropy\u001b[0;34m(target, output, from_logits, axis)\u001b[0m\n\u001b[1;32m    666\u001b[0m     output \u001b[38;5;241m=\u001b[39m tf\u001b[38;5;241m.\u001b[39mclip_by_value(\n\u001b[1;32m    667\u001b[0m         output, backend\u001b[38;5;241m.\u001b[39mepsilon(), \u001b[38;5;241m1\u001b[39m \u001b[38;5;241m-\u001b[39m backend\u001b[38;5;241m.\u001b[39mepsilon()\n\u001b[1;32m    668\u001b[0m     )\n\u001b[1;32m    669\u001b[0m     output \u001b[38;5;241m=\u001b[39m tf\u001b[38;5;241m.\u001b[39mmath\u001b[38;5;241m.\u001b[39mlog(output)\n\u001b[0;32m--> 671\u001b[0m result \u001b[38;5;241m=\u001b[39m \u001b[43mtf\u001b[49m\u001b[38;5;241;43m.\u001b[39;49m\u001b[43mnn\u001b[49m\u001b[38;5;241;43m.\u001b[39;49m\u001b[43msparse_softmax_cross_entropy_with_logits\u001b[49m\u001b[43m(\u001b[49m\n\u001b[1;32m    672\u001b[0m \u001b[43m    \u001b[49m\u001b[43mlabels\u001b[49m\u001b[38;5;241;43m=\u001b[39;49m\u001b[43mtarget\u001b[49m\u001b[43m,\u001b[49m\u001b[43m \u001b[49m\u001b[43mlogits\u001b[49m\u001b[38;5;241;43m=\u001b[39;49m\u001b[43moutput\u001b[49m\n\u001b[1;32m    673\u001b[0m \u001b[43m\u001b[49m\u001b[43m)\u001b[49m\n\u001b[1;32m    674\u001b[0m \u001b[38;5;28;01mreturn\u001b[39;00m result\n",
      "File \u001b[0;32m/opt/anaconda3/lib/python3.12/site-packages/tensorflow/python/util/traceback_utils.py:153\u001b[0m, in \u001b[0;36mfilter_traceback.<locals>.error_handler\u001b[0;34m(*args, **kwargs)\u001b[0m\n\u001b[1;32m    151\u001b[0m \u001b[38;5;28;01mexcept\u001b[39;00m \u001b[38;5;167;01mException\u001b[39;00m \u001b[38;5;28;01mas\u001b[39;00m e:\n\u001b[1;32m    152\u001b[0m   filtered_tb \u001b[38;5;241m=\u001b[39m _process_traceback_frames(e\u001b[38;5;241m.\u001b[39m__traceback__)\n\u001b[0;32m--> 153\u001b[0m   \u001b[38;5;28;01mraise\u001b[39;00m e\u001b[38;5;241m.\u001b[39mwith_traceback(filtered_tb) \u001b[38;5;28;01mfrom\u001b[39;00m \u001b[38;5;28;01mNone\u001b[39;00m\n\u001b[1;32m    154\u001b[0m \u001b[38;5;28;01mfinally\u001b[39;00m:\n\u001b[1;32m    155\u001b[0m   \u001b[38;5;28;01mdel\u001b[39;00m filtered_tb\n",
      "File \u001b[0;32m/opt/anaconda3/lib/python3.12/site-packages/tensorflow/python/framework/ops.py:6002\u001b[0m, in \u001b[0;36mraise_from_not_ok_status\u001b[0;34m(e, name)\u001b[0m\n\u001b[1;32m   6000\u001b[0m \u001b[38;5;28;01mdef\u001b[39;00m \u001b[38;5;21mraise_from_not_ok_status\u001b[39m(e, name) \u001b[38;5;241m-\u001b[39m\u001b[38;5;241m>\u001b[39m NoReturn:\n\u001b[1;32m   6001\u001b[0m   e\u001b[38;5;241m.\u001b[39mmessage \u001b[38;5;241m+\u001b[39m\u001b[38;5;241m=\u001b[39m (\u001b[38;5;124m\"\u001b[39m\u001b[38;5;124m name: \u001b[39m\u001b[38;5;124m\"\u001b[39m \u001b[38;5;241m+\u001b[39m \u001b[38;5;28mstr\u001b[39m(name \u001b[38;5;28;01mif\u001b[39;00m name \u001b[38;5;129;01mis\u001b[39;00m \u001b[38;5;129;01mnot\u001b[39;00m \u001b[38;5;28;01mNone\u001b[39;00m \u001b[38;5;28;01melse\u001b[39;00m \u001b[38;5;124m\"\u001b[39m\u001b[38;5;124m\"\u001b[39m))\n\u001b[0;32m-> 6002\u001b[0m   \u001b[38;5;28;01mraise\u001b[39;00m core\u001b[38;5;241m.\u001b[39m_status_to_exception(e) \u001b[38;5;28;01mfrom\u001b[39;00m \u001b[38;5;28;01mNone\u001b[39;00m\n",
      "\u001b[0;31mInvalidArgumentError\u001b[0m: {{function_node __wrapped__SparseSoftmaxCrossEntropyWithLogits_device_/job:localhost/replica:0/task:0/device:CPU:0}} Received a label value of 1 which is outside the valid range of [0, 1).  Label values: 1 0 1 1 1 0 0 0 0 1 1 1 1 0 1 0 0 0 1 1 1 1 0 0 1 1 0 1 1 1 1 0 1 0 1 1 1 1 0 1 0 1 1 1 0 0 0 0 1 1 1 1 0 1 0 1 1 1 0 0 0 1 0 0 [Op:SparseSoftmaxCrossEntropyWithLogits] name: "
     ]
    }
   ],
   "source": [
    "\n",
    "\n",
    "# feature0 = ['Urine output', 'Lymphocyte', 'Bicarbonate', 'Leucocyte', 'Urea nitrogen', 'Anion gap', 'Neutrophils', 'Blood calcium', 'Lactic acid','PH']\n",
    "# run_with_feature(feature0)\n",
    "\n",
    "feature1 =[\"Urine output\", \"Lymphocyte\", \"Bicarbonate\", \"Leucocyte\", \"Urea nitrogen\",\n",
    "    \"Anion gap\", \"Neutrophils\", \"Blood calcium\", \"Lactic acid\", \"PH\", \"Basophils\",\n",
    "    \"Respiratory rate\", \"Blood sodium\", \"RDW\", \"Blood potassium\", \"NT-proBNP\", \"PT\",\n",
    "    \"Systolic blood pressure\", \"heart rate\", \"Renal failure\", \"Chloride\", \"Platelets\",\n",
    "    \"INR\", \"atrialfibrillation\", \"deficiencyanemias\", \"Diastolic blood pressure\",\n",
    "    \"hypertensive\", \"EF\", \"BMI\", \"Magnesium ion\", \"temperature\", \"Creatinine\", \"MCH\",\n",
    "    \"PCO2\", \"SP O2\", \"hematocrit\", \"MCV\", \"diabetes\", \"Hyperlipemia\", \"age\", \"ID\",\n",
    "    \"COPD\", \"CHD with no MI\", \"Creatine kinase\", \"glucose\", \"gendera\", \"depression\"\n",
    "]\n",
    "\n",
    "run_with_feature(feature1)\n",
    "\n"
   ]
  },
  {
   "cell_type": "code",
   "execution_count": 14,
   "metadata": {},
   "outputs": [
    {
     "ename": "NameError",
     "evalue": "name 'clean_data' is not defined",
     "output_type": "error",
     "traceback": [
      "\u001b[0;31m---------------------------------------------------------------------------\u001b[0m",
      "\u001b[0;31mNameError\u001b[0m                                 Traceback (most recent call last)",
      "Cell \u001b[0;32mIn[14], line 2\u001b[0m\n\u001b[1;32m      1\u001b[0m \u001b[38;5;66;03m# Now for practice sake I will also write this NN with the same normal annotation we learned in class.\u001b[39;00m\n\u001b[0;32m----> 2\u001b[0m X \u001b[38;5;241m=\u001b[39m \u001b[43mclean_data\u001b[49m[[\u001b[38;5;124m'\u001b[39m\u001b[38;5;124mage\u001b[39m\u001b[38;5;124m'\u001b[39m,\u001b[38;5;124m'\u001b[39m\u001b[38;5;124mBlood sodium\u001b[39m\u001b[38;5;124m'\u001b[39m]]\n\u001b[1;32m      3\u001b[0m y \u001b[38;5;241m=\u001b[39m clean_data[[\u001b[38;5;124m'\u001b[39m\u001b[38;5;124moutcome\u001b[39m\u001b[38;5;124m'\u001b[39m]]\n\u001b[1;32m      5\u001b[0m \u001b[38;5;66;03m# standardtize the data\u001b[39;00m\n",
      "\u001b[0;31mNameError\u001b[0m: name 'clean_data' is not defined"
     ]
    }
   ],
   "source": [
    "# Now for practice sake I will also write this NN with the same normal annotation we learned in class.\n",
    "X = clean_data[['age','Blood sodium']]\n",
    "y = clean_data[['outcome']]\n",
    "\n",
    "# standardtize the data\n",
    "X_standrd = StandardScaler()\n",
    "X_standrd = X_standrd.fit_transform(X)\n",
    "\n",
    "\n",
    "# 2\n",
    "X_train, X_test, y_train, y_test = train_test_split(X_standrd, y, test_size=0.2, random_state=42)\n",
    "\n",
    "# 3 construct DNN\n",
    "model = Sequential([\n",
    "    Dense(64, activation='relu',input_shape=(X_train.shape[1],)),\n",
    "    Dropout(0.5),\n",
    "    Dense(64, activation='relu'),\n",
    "    Dropout(0.3),\n",
    "    Dense(10, activation='relu'),\n",
    "    Dense(1, activation='sigmoid')\n",
    "])\n",
    "\n",
    "# 4 Compile the model\n",
    "model.compile(optimizer='adam', loss='binary_crossentropy', metrics=['accuracy'])\n",
    "\n",
    "# Train the model\n",
    "history = model.fit(X_train, y_train, epochs=20, validation_split=0.2, verbose=1, batch_size=32)\n",
    "\n",
    "# what does this does?\n",
    "eval_ = model.evaluate(X_test, y_test, verbose=1)[1]\n",
    "print(eval_)\n"
   ]
  }
 ],
 "metadata": {
  "kernelspec": {
   "display_name": "base",
   "language": "python",
   "name": "python3"
  },
  "language_info": {
   "codemirror_mode": {
    "name": "ipython",
    "version": 3
   },
   "file_extension": ".py",
   "mimetype": "text/x-python",
   "name": "python",
   "nbconvert_exporter": "python",
   "pygments_lexer": "ipython3",
   "version": "3.12.7"
  }
 },
 "nbformat": 4,
 "nbformat_minor": 2
}
