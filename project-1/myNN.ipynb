{
 "cells": [
  {
   "cell_type": "code",
   "execution_count": 1,
   "metadata": {},
   "outputs": [
    {
     "name": "stderr",
     "output_type": "stream",
     "text": [
      "/Users/shaicahana/opt/anaconda3/lib/python3.8/site-packages/pandas/core/computation/expressions.py:20: UserWarning: Pandas requires version '2.7.3' or newer of 'numexpr' (version '2.7.1' currently installed).\n",
      "  from pandas.core.computation.check import NUMEXPR_INSTALLED\n",
      "<frozen importlib._bootstrap>:219: RuntimeWarning: scipy._lib.messagestream.MessageStream size changed, may indicate binary incompatibility. Expected 56 from C header, got 64 from PyObject\n",
      "2024-10-26 17:20:29.922831: I tensorflow/core/platform/cpu_feature_guard.cc:182] This TensorFlow binary is optimized to use available CPU instructions in performance-critical operations.\n",
      "To enable the following instructions: AVX2 FMA, in other operations, rebuild TensorFlow with the appropriate compiler flags.\n",
      "\u001b[34m\u001b[1mwandb\u001b[0m: Using wandb-core as the SDK backend. Please refer to https://wandb.me/wandb-core for more information.\n",
      "\u001b[34m\u001b[1mwandb\u001b[0m: Currently logged in as: \u001b[33mshaicahana\u001b[0m (\u001b[33mshaicahana-hebrew-university-of-jerusalem\u001b[0m). Use \u001b[1m`wandb login --relogin`\u001b[0m to force relogin\n"
     ]
    }
   ],
   "source": [
    "import pandas as pd\n",
    "import numpy as np\n",
    "from scipy import stats\n",
    "import matplotlib.pyplot as plt\n",
    "from sklearn.model_selection import train_test_split\n",
    "from sklearn.preprocessing import StandardScaler\n",
    "import matplotlib.pyplot as plt\n",
    "import seaborn as sns\n",
    "import numpy as np\n",
    "import tensorflow as tf\n",
    "from tensorflow import keras\n",
    "\n",
    "import os\n",
    "import numpy as np\n",
    "import pandas as pd\n",
    "import matplotlib.pyplot as plt\n",
    "\n",
    "import wandb\n",
    "from wandb.integration.keras import WandbCallback\n",
    "\n",
    "# Load the data\n",
    "wandb.login()\n",
    "data = pd.read_csv(\"./MIMIC_data.csv\")\n"
   ]
  },
  {
   "cell_type": "code",
   "execution_count": 2,
   "metadata": {},
   "outputs": [
    {
     "name": "stdout",
     "output_type": "stream",
     "text": [
      "Original class distribution:\n",
      "outcome\n",
      "0.0    1017\n",
      "1.0     159\n",
      "Name: count, dtype: int64\n",
      "\n"
     ]
    },
    {
     "ename": "NameError",
     "evalue": "name 'resample' is not defined",
     "output_type": "error",
     "traceback": [
      "\u001b[0;31m---------------------------------------------------------------------------\u001b[0m",
      "\u001b[0;31mNameError\u001b[0m                                 Traceback (most recent call last)",
      "Cell \u001b[0;32mIn[2], line 53\u001b[0m\n\u001b[1;32m     48\u001b[0m     \u001b[38;5;28mprint\u001b[39m(\u001b[38;5;124mf\u001b[39m\u001b[38;5;124m\"\u001b[39m\u001b[38;5;124mBalanced class distribution:\u001b[39m\u001b[38;5;130;01m\\n\u001b[39;00m\u001b[38;5;132;01m{\u001b[39;00mbalanced_df[column]\u001b[38;5;241m.\u001b[39mvalue_counts()\u001b[38;5;132;01m}\u001b[39;00m\u001b[38;5;124m\"\u001b[39m)\n\u001b[1;32m     49\u001b[0m     \u001b[38;5;28;01mreturn\u001b[39;00m balanced_df\u001b[38;5;241m.\u001b[39mreset_index(drop\u001b[38;5;241m=\u001b[39m\u001b[38;5;28;01mTrue\u001b[39;00m)\n\u001b[0;32m---> 53\u001b[0m balanced_data_under \u001b[38;5;241m=\u001b[39m \u001b[43mbalance_dataset\u001b[49m\u001b[43m(\u001b[49m\u001b[43mdata\u001b[49m\u001b[43m,\u001b[49m\u001b[43m \u001b[49m\u001b[38;5;124;43m'\u001b[39;49m\u001b[38;5;124;43moutcome\u001b[39;49m\u001b[38;5;124;43m'\u001b[39;49m\u001b[43m,\u001b[49m\u001b[43m \u001b[49m\u001b[43mmethod\u001b[49m\u001b[38;5;241;43m=\u001b[39;49m\u001b[38;5;124;43m'\u001b[39;49m\u001b[38;5;124;43mundersample\u001b[39;49m\u001b[38;5;124;43m'\u001b[39;49m\u001b[43m,\u001b[49m\u001b[43m \u001b[49m\u001b[43mrandom_state\u001b[49m\u001b[38;5;241;43m=\u001b[39;49m\u001b[38;5;241;43m42\u001b[39;49m\u001b[43m)\u001b[49m\n\u001b[1;32m     54\u001b[0m balanced_data_over \u001b[38;5;241m=\u001b[39m balance_dataset(data, \u001b[38;5;124m'\u001b[39m\u001b[38;5;124moutcome\u001b[39m\u001b[38;5;124m'\u001b[39m, method\u001b[38;5;241m=\u001b[39m\u001b[38;5;124m'\u001b[39m\u001b[38;5;124moversample\u001b[39m\u001b[38;5;124m'\u001b[39m, random_state\u001b[38;5;241m=\u001b[39m\u001b[38;5;241m42\u001b[39m)\n\u001b[1;32m     56\u001b[0m \u001b[38;5;28mprint\u001b[39m(data\u001b[38;5;241m.\u001b[39mshape)\n",
      "Cell \u001b[0;32mIn[2], line 26\u001b[0m, in \u001b[0;36mbalance_dataset\u001b[0;34m(df, column, method, random_state)\u001b[0m\n\u001b[1;32m     23\u001b[0m     min_count \u001b[38;5;241m=\u001b[39m value_counts\u001b[38;5;241m.\u001b[39mmin()\n\u001b[1;32m     25\u001b[0m     \u001b[38;5;66;03m# Create balanced dataframe\u001b[39;00m\n\u001b[0;32m---> 26\u001b[0m     balanced_df \u001b[38;5;241m=\u001b[39m pd\u001b[38;5;241m.\u001b[39mconcat([\n\u001b[1;32m     27\u001b[0m         resample(df[df[column] \u001b[38;5;241m==\u001b[39m val],\n\u001b[1;32m     28\u001b[0m                 replace\u001b[38;5;241m=\u001b[39m\u001b[38;5;28;01mFalse\u001b[39;00m,\n\u001b[1;32m     29\u001b[0m                 n_samples\u001b[38;5;241m=\u001b[39mmin_count,\n\u001b[1;32m     30\u001b[0m                 random_state\u001b[38;5;241m=\u001b[39mrandom_state)\n\u001b[1;32m     31\u001b[0m         \u001b[38;5;28;01mfor\u001b[39;00m val \u001b[38;5;129;01min\u001b[39;00m value_counts\u001b[38;5;241m.\u001b[39mindex\n\u001b[1;32m     32\u001b[0m     ])\n\u001b[1;32m     34\u001b[0m \u001b[38;5;28;01melif\u001b[39;00m method \u001b[38;5;241m==\u001b[39m \u001b[38;5;124m'\u001b[39m\u001b[38;5;124moversample\u001b[39m\u001b[38;5;124m'\u001b[39m:\n\u001b[1;32m     35\u001b[0m     \u001b[38;5;66;03m# Get the maximum class count\u001b[39;00m\n\u001b[1;32m     36\u001b[0m     max_count \u001b[38;5;241m=\u001b[39m value_counts\u001b[38;5;241m.\u001b[39mmax()\n",
      "Cell \u001b[0;32mIn[2], line 27\u001b[0m, in \u001b[0;36m<listcomp>\u001b[0;34m(.0)\u001b[0m\n\u001b[1;32m     23\u001b[0m     min_count \u001b[38;5;241m=\u001b[39m value_counts\u001b[38;5;241m.\u001b[39mmin()\n\u001b[1;32m     25\u001b[0m     \u001b[38;5;66;03m# Create balanced dataframe\u001b[39;00m\n\u001b[1;32m     26\u001b[0m     balanced_df \u001b[38;5;241m=\u001b[39m pd\u001b[38;5;241m.\u001b[39mconcat([\n\u001b[0;32m---> 27\u001b[0m         \u001b[43mresample\u001b[49m(df[df[column] \u001b[38;5;241m==\u001b[39m val],\n\u001b[1;32m     28\u001b[0m                 replace\u001b[38;5;241m=\u001b[39m\u001b[38;5;28;01mFalse\u001b[39;00m,\n\u001b[1;32m     29\u001b[0m                 n_samples\u001b[38;5;241m=\u001b[39mmin_count,\n\u001b[1;32m     30\u001b[0m                 random_state\u001b[38;5;241m=\u001b[39mrandom_state)\n\u001b[1;32m     31\u001b[0m         \u001b[38;5;28;01mfor\u001b[39;00m val \u001b[38;5;129;01min\u001b[39;00m value_counts\u001b[38;5;241m.\u001b[39mindex\n\u001b[1;32m     32\u001b[0m     ])\n\u001b[1;32m     34\u001b[0m \u001b[38;5;28;01melif\u001b[39;00m method \u001b[38;5;241m==\u001b[39m \u001b[38;5;124m'\u001b[39m\u001b[38;5;124moversample\u001b[39m\u001b[38;5;124m'\u001b[39m:\n\u001b[1;32m     35\u001b[0m     \u001b[38;5;66;03m# Get the maximum class count\u001b[39;00m\n\u001b[1;32m     36\u001b[0m     max_count \u001b[38;5;241m=\u001b[39m value_counts\u001b[38;5;241m.\u001b[39mmax()\n",
      "\u001b[0;31mNameError\u001b[0m: name 'resample' is not defined"
     ]
    }
   ],
   "source": [
    "\n",
    "from sklearn.utils import resample\n",
    "# data_clean = data.dropna()\n",
    "# y = data_clean['outcome']\n",
    "# X = data_clean.drop(columns='outcome')\n",
    "def balance_dataset(df, column, method='undersample', random_state=42):\n",
    "    \"\"\"\n",
    "    Balance a dataset based on the values in a specified column.\n",
    "    \n",
    "    Parameters:\n",
    "    df (pandas.DataFrame): Input DataFrame\n",
    "    column (str): Column name to balance by\n",
    "    method (str): 'undersample' or 'oversample'\n",
    "    random_state (int): Random state for reproducibility\n",
    "    \n",
    "    Returns:\n",
    "    pandas.DataFrame: Balanced DataFrame\n",
    "    \"\"\"\n",
    "    # Get value counts\n",
    "    value_counts = df[column].value_counts()\n",
    "    print(f\"Original class distribution:\\n{value_counts}\\n\")\n",
    "    \n",
    "    if method == 'undersample':\n",
    "        # Get the minimum class count\n",
    "        min_count = value_counts.min()\n",
    "        \n",
    "        # Create balanced dataframe\n",
    "        balanced_df = pd.concat([\n",
    "            resample(df[df[column] == val],\n",
    "                    replace=False,\n",
    "                    n_samples=min_count,\n",
    "                    random_state=random_state)\n",
    "            for val in value_counts.index\n",
    "        ])\n",
    "        \n",
    "    elif method == 'oversample':\n",
    "        # Get the maximum class count\n",
    "        max_count = value_counts.max()\n",
    "        \n",
    "        # Create balanced dataframe\n",
    "        balanced_df = pd.concat([\n",
    "            resample(df[df[column] == val],\n",
    "                    replace=True,\n",
    "                    n_samples=max_count,\n",
    "                    random_state=random_state)\n",
    "            if count < max_count else df[df[column] == val]\n",
    "            for val, count in value_counts.items()\n",
    "        ])\n",
    "    \n",
    "    print(f\"Balanced class distribution:\\n{balanced_df[column].value_counts()}\")\n",
    "    return balanced_df.reset_index(drop=True)\n",
    "\n",
    "\n",
    "\n",
    "balanced_data_under = balance_dataset(data, 'outcome', method='undersample', random_state=42)\n",
    "balanced_data_over = balance_dataset(data, 'outcome', method='oversample', random_state=42)\n",
    "\n",
    "print(data.shape)\n",
    "print(balanced_data_under.shape)\n",
    "print(balanced_data_over.shape)\n",
    "\n",
    "data = balanced_data_over"
   ]
  },
  {
   "cell_type": "code",
   "execution_count": null,
   "metadata": {},
   "outputs": [],
   "source": [
    "\n",
    "\n",
    "# build input pipeline using tf.data\n",
    "\n",
    "\n",
    "def get_train_and_val(data_feaure_and_prediction, BATCH_SIZE = 64):\n",
    "    \"\"\"_summary_\n",
    "    this function gets the relevant feaure and variables \n",
    "    Args:\n",
    "        data_feaure_and_prediction (_type_): the last colum should be the output, the first ones should be the feature(s)\n",
    "        BATCH_SIZE (int, optional): _description_. Defaults to 64.\n",
    "\n",
    "    Returns:\n",
    "        _type_: _description_\n",
    "    \"\"\"\n",
    "    # data_feaure_and_prediction = data_feaure_and_prediction.dropna() # drop the irrelevant values\n",
    "    X = data_feaure_and_prediction[data_feaure_and_prediction.keys()[:-1]] # the feature\n",
    "    y = data_feaure_and_prediction[data_feaure_and_prediction.keys()[-1]] # its prediction\n",
    "\n",
    "    X_standard = StandardScaler()\n",
    "    X_standard = X_standard.fit_transform(X)\n",
    "    X_train, X_test, y_train, y_test = train_test_split(X_standard, y, test_size=0.2, random_state=42)\n",
    "\n",
    "    train_dataset = tf.data.Dataset.from_tensor_slices((X_train, y_train))\n",
    "    train_dataset = train_dataset.shuffle(buffer_size=1024).batch(BATCH_SIZE)\n",
    "\n",
    "    val_dataset = tf.data.Dataset.from_tensor_slices((X_test, y_test))\n",
    "    val_dataset = val_dataset.batch(BATCH_SIZE)\n",
    "    return [train_dataset, val_dataset]\n"
   ]
  },
  {
   "cell_type": "code",
   "execution_count": null,
   "metadata": {},
   "outputs": [],
   "source": [
    "def make_model(feature_num, input_name=\"input name\"):\n",
    "    inputs = keras.Input((feature_num,), name=input_name)\n",
    "    x1 = keras.layers.Dense(64, activation=\"relu\")(inputs)\n",
    "    x1 = keras.layers.Dropout(0.3)(x1)\n",
    "\n",
    "    x2 = keras.layers.Dense(64, activation=\"relu\")(x1)\n",
    "    x2 = keras.layers.Dropout(0.3)(x2)\n",
    "\n",
    "    outputs = keras.layers.Dense(10, name=\"predictions\")(x2)\n",
    "\n",
    "    return keras.Model(inputs=inputs, outputs=outputs)\n",
    "\n"
   ]
  },
  {
   "cell_type": "code",
   "execution_count": null,
   "metadata": {},
   "outputs": [],
   "source": [
    "def train_step(x, y, model, optimizer, loss_fn, train_acc_metric):\n",
    "    with tf.GradientTape() as tape:\n",
    "        logits = model(x, training=True)\n",
    "        loss_value = loss_fn(y, logits)\n",
    "\n",
    "    grads = tape.gradient(loss_value, model.trainable_weights)\n",
    "    optimizer.apply_gradients(zip(grads, model.trainable_weights))\n",
    "\n",
    "    train_acc_metric.update_state(y, logits) # update the weights of the network\n",
    "\n",
    "    return loss_value\n",
    "\n",
    "def test_step(x, y, model, loss_fn, val_acc_metric):\n",
    "    val_logits = model(x, training=False)\n",
    "    loss_value = loss_fn(y, val_logits)\n",
    "    val_acc_metric.update_state(y, val_logits)\n",
    "\n",
    "    return loss_value\n",
    "\n",
    "def train(train_dataset, val_dataset,  model, optimizer,\n",
    "          train_acc_metric, val_acc_metric, loss_fn,\n",
    "          epochs=10, log_step=200, val_log_step=50):\n",
    "  \n",
    "    for epoch in range(epochs):\n",
    "        print(\"\\nStart of epoch %d\" % (epoch,))\n",
    "\n",
    "        train_loss = []   \n",
    "        val_loss = []\n",
    "\n",
    "        # Iterate over the batches of the dataset\n",
    "        for step, (x_batch_train, y_batch_train) in enumerate(train_dataset):\n",
    "            loss_value = train_step(x_batch_train, y_batch_train, \n",
    "                                    model, optimizer, \n",
    "                                    loss_fn, train_acc_metric)\n",
    "            train_loss.append(float(loss_value))\n",
    "\n",
    "        # Run a validation loop at the end of each epoch\n",
    "        for step, (x_batch_val, y_batch_val) in enumerate(val_dataset):\n",
    "            val_loss_value = test_step(x_batch_val, y_batch_val, \n",
    "                                       model, loss_fn, \n",
    "                                       val_acc_metric)\n",
    "            val_loss.append(float(val_loss_value))\n",
    "            \n",
    "        # Display metrics at the end of each epoch\n",
    "        train_acc = train_acc_metric.result()\n",
    "        print(\"Training acc over epoch: %.4f\" % (float(train_acc),))\n",
    "\n",
    "        val_acc = val_acc_metric.result()\n",
    "        print(\"Validation acc: %.4f\" % (float(val_acc),))\n",
    "\n",
    "        # Reset metrics at the end of each epoch\n",
    "        train_acc_metric.reset_state()\n",
    "        val_acc_metric.reset_state()\n",
    "\n",
    "        # ⭐: log metrics using wandb.log\n",
    "        wandb.log({'epochs': epoch,\n",
    "                   'loss': np.mean(train_loss),\n",
    "                   'acc': float(train_acc), \n",
    "                   'val_loss': np.mean(val_loss),\n",
    "                   'val_acc':float(val_acc)})"
   ]
  },
  {
   "cell_type": "code",
   "execution_count": null,
   "metadata": {},
   "outputs": [],
   "source": [
    "# # initialize wandb with your project name and optionally with configutations.\n",
    "# # play around with the config values and see the result on your wandb dashboard.\n",
    "# feature = [\"age\"]\n",
    "\n",
    "# config = {\n",
    "#             \"epochs\": 10,\n",
    "#             \"batch_size\": 32,\n",
    "#             \"log_step\": 200,\n",
    "#             \"val_log_step\": 50,\n",
    "#             \"architecture\": \"CNN\",\n",
    "#             \"dataset\": \"MIMIC\"\n",
    "#     }\n",
    "\n",
    "# run = wandb.init(project='my-tf-integration', config=config)\n",
    "# config = wandb.config\n",
    "\n",
    "# prediction = \"outcome\"\n",
    "\n",
    "# model_data = data[feature+[prediction]].dropna()\n",
    "# [train_dataset, val_dataset] = get_train_and_val(model_data)\n",
    "\n",
    "\n",
    "# # Initialize model.\n",
    "# model = make_model(len(feature))\n",
    "\n",
    "# # Instantiate an optimizer to train the model.\n",
    "# optimizer = keras.optimizers.Adam()\n",
    "# # Instantiate a loss function.\n",
    "# loss_fn = tf.keras.losses.SparseCategoricalCrossentropy(from_logits=True)\n",
    "\n",
    "# # Prepare the metrics.\n",
    "# train_acc_metric = keras.metrics.SparseCategoricalAccuracy()\n",
    "# val_acc_metric = keras.metrics.SparseCategoricalAccuracy()\n",
    "\n",
    "\n",
    "# train(train_dataset,\n",
    "#     val_dataset, \n",
    "#     model,\n",
    "#     optimizer,\n",
    "#     train_acc_metric,\n",
    "#     val_acc_metric,\n",
    "#     epochs=config.epochs, \n",
    "#     log_step=config.log_step, \n",
    "#     val_log_step=config.val_log_step)\n",
    "\n",
    "# run.finish()  # In Jupyter/Colab, let us know you're finished!\n",
    "\n",
    "\n"
   ]
  },
  {
   "cell_type": "code",
   "execution_count": null,
   "metadata": {},
   "outputs": [],
   "source": [
    "# initialize wandb with your project name and optionally with configutations.\n",
    "# play around with the config values and see the result on your wandb dashboard.\n",
    "\n",
    "def run_with_feature(feature):\n",
    "      config = {\n",
    "            \"epochs\": 20,\n",
    "            \"batch_size\": 32,\n",
    "            \"log_step\": 200,\n",
    "            \"val_log_step\": 50,\n",
    "            \"feature_used\": str(feature[0])\n",
    "      }\n",
    "\n",
    "      run = wandb.init(project='my-tf-integration', config=config)\n",
    "      config = wandb.config\n",
    "\n",
    "      prediction = \"outcome\"\n",
    "\n",
    "      model_data = data[feature+[prediction]].dropna()\n",
    "      [train_dataset, val_dataset] = get_train_and_val(model_data)\n",
    "\n",
    "\n",
    "      # Initialize model.\n",
    "      model = make_model(len(feature))\n",
    "\n",
    "      # Instantiate an optimizer to train the model.\n",
    "      optimizer = keras.optimizers.Adam()\n",
    "      # Instantiate a loss function.\n",
    "      loss_fn = tf.keras.losses.SparseCategoricalCrossentropy(from_logits=True)\n",
    "\n",
    "      # Prepare the metrics.\n",
    "      train_acc_metric = keras.metrics.SparseCategoricalAccuracy()\n",
    "      val_acc_metric = keras.metrics.SparseCategoricalAccuracy()\n",
    "\n",
    "\n",
    "      train(train_dataset,\n",
    "            val_dataset, \n",
    "            model,\n",
    "            optimizer,\n",
    "            train_acc_metric,\n",
    "            val_acc_metric,\n",
    "            loss_fn,\n",
    "            epochs=config.epochs, \n",
    "            log_step=config.log_step, \n",
    "            val_log_step=config.val_log_step)\n",
    "\n",
    "      run.finish()  # In Jupyter/Colab, let us know you're finished!\n",
    "\n",
    "\n",
    "# feature = [\"age\"]\n",
    "# run_with_feature(feature)"
   ]
  },
  {
   "cell_type": "code",
   "execution_count": null,
   "metadata": {},
   "outputs": [
    {
     "data": {
      "text/html": [
       "Tracking run with wandb version 0.18.5"
      ],
      "text/plain": [
       "<IPython.core.display.HTML object>"
      ]
     },
     "metadata": {},
     "output_type": "display_data"
    },
    {
     "data": {
      "text/html": [
       "Run data is saved locally in <code>/Users/shaicahana/Documents/AI_DL/colab/AI-DL/project-1/wandb/run-20241026_153347-ixtwtb7m</code>"
      ],
      "text/plain": [
       "<IPython.core.display.HTML object>"
      ]
     },
     "metadata": {},
     "output_type": "display_data"
    },
    {
     "data": {
      "text/html": [
       "Syncing run <strong><a href='https://wandb.ai/shaicahana-hebrew-university-of-jerusalem/my-tf-integration/runs/ixtwtb7m' target=\"_blank\">earnest-bush-115</a></strong> to <a href='https://wandb.ai/shaicahana-hebrew-university-of-jerusalem/my-tf-integration' target=\"_blank\">Weights & Biases</a> (<a href='https://wandb.me/run' target=\"_blank\">docs</a>)<br/>"
      ],
      "text/plain": [
       "<IPython.core.display.HTML object>"
      ]
     },
     "metadata": {},
     "output_type": "display_data"
    },
    {
     "data": {
      "text/html": [
       " View project at <a href='https://wandb.ai/shaicahana-hebrew-university-of-jerusalem/my-tf-integration' target=\"_blank\">https://wandb.ai/shaicahana-hebrew-university-of-jerusalem/my-tf-integration</a>"
      ],
      "text/plain": [
       "<IPython.core.display.HTML object>"
      ]
     },
     "metadata": {},
     "output_type": "display_data"
    },
    {
     "data": {
      "text/html": [
       " View run at <a href='https://wandb.ai/shaicahana-hebrew-university-of-jerusalem/my-tf-integration/runs/ixtwtb7m' target=\"_blank\">https://wandb.ai/shaicahana-hebrew-university-of-jerusalem/my-tf-integration/runs/ixtwtb7m</a>"
      ],
      "text/plain": [
       "<IPython.core.display.HTML object>"
      ]
     },
     "metadata": {},
     "output_type": "display_data"
    },
    {
     "name": "stdout",
     "output_type": "stream",
     "text": [
      "\n",
      "Start of epoch 0\n",
      "Training acc over epoch: 0.3691\n",
      "Validation acc: 0.8305\n",
      "\n",
      "Start of epoch 1\n",
      "Training acc over epoch: 0.8681\n",
      "Validation acc: 0.8305\n",
      "\n",
      "Start of epoch 2\n",
      "Training acc over epoch: 0.8734\n",
      "Validation acc: 0.8305\n",
      "\n",
      "Start of epoch 3\n",
      "Training acc over epoch: 0.8734\n",
      "Validation acc: 0.8305\n",
      "\n",
      "Start of epoch 4\n",
      "Training acc over epoch: 0.8734\n",
      "Validation acc: 0.8305\n",
      "\n",
      "Start of epoch 5\n",
      "Training acc over epoch: 0.8734\n",
      "Validation acc: 0.8305\n",
      "\n",
      "Start of epoch 6\n",
      "Training acc over epoch: 0.8734\n",
      "Validation acc: 0.8305\n",
      "\n",
      "Start of epoch 7\n",
      "Training acc over epoch: 0.8734\n",
      "Validation acc: 0.8305\n",
      "\n",
      "Start of epoch 8\n",
      "Training acc over epoch: 0.8734\n",
      "Validation acc: 0.8305\n",
      "\n",
      "Start of epoch 9\n",
      "Training acc over epoch: 0.8734\n",
      "Validation acc: 0.8305\n",
      "\n",
      "Start of epoch 10\n",
      "Training acc over epoch: 0.8734\n",
      "Validation acc: 0.8305\n",
      "\n",
      "Start of epoch 11\n",
      "Training acc over epoch: 0.8734\n",
      "Validation acc: 0.8305\n",
      "\n",
      "Start of epoch 12\n",
      "Training acc over epoch: 0.8734\n",
      "Validation acc: 0.8305\n",
      "\n",
      "Start of epoch 13\n",
      "Training acc over epoch: 0.8734\n",
      "Validation acc: 0.8305\n",
      "\n",
      "Start of epoch 14\n",
      "Training acc over epoch: 0.8734\n",
      "Validation acc: 0.8305\n",
      "\n",
      "Start of epoch 15\n",
      "Training acc over epoch: 0.8734\n",
      "Validation acc: 0.8305\n",
      "\n",
      "Start of epoch 16\n",
      "Training acc over epoch: 0.8734\n",
      "Validation acc: 0.8305\n",
      "\n",
      "Start of epoch 17\n",
      "Training acc over epoch: 0.8734\n",
      "Validation acc: 0.8305\n",
      "\n",
      "Start of epoch 18\n",
      "Training acc over epoch: 0.8734\n",
      "Validation acc: 0.8305\n",
      "\n",
      "Start of epoch 19\n",
      "Training acc over epoch: 0.8734\n",
      "Validation acc: 0.8305\n"
     ]
    },
    {
     "data": {
      "application/vnd.jupyter.widget-view+json": {
       "model_id": "305cbf81276042b49076b7fce16980f9",
       "version_major": 2,
       "version_minor": 0
      },
      "text/plain": [
       "VBox(children=(Label(value='0.009 MB of 0.009 MB uploaded\\r'), FloatProgress(value=1.0, max=1.0)))"
      ]
     },
     "metadata": {},
     "output_type": "display_data"
    },
    {
     "data": {
      "text/html": [
       "<style>\n",
       "    table.wandb td:nth-child(1) { padding: 0 10px; text-align: left ; width: auto;} td:nth-child(2) {text-align: left ; width: 100%}\n",
       "    .wandb-row { display: flex; flex-direction: row; flex-wrap: wrap; justify-content: flex-start; width: 100% }\n",
       "    .wandb-col { display: flex; flex-direction: column; flex-basis: 100%; flex: 1; padding: 10px; }\n",
       "    </style>\n",
       "<div class=\"wandb-row\"><div class=\"wandb-col\"><h3>Run history:</h3><br/><table class=\"wandb\"><tr><td>acc</td><td>▁███████████████████</td></tr><tr><td>epochs</td><td>▁▁▂▂▂▃▃▄▄▄▅▅▅▆▆▇▇▇██</td></tr><tr><td>loss</td><td>█▆▄▂▂▁▁▁▁▁▁▁▁▁▁▁▁▁▁▁</td></tr><tr><td>val_acc</td><td>▁▁▁▁▁▁▁▁▁▁▁▁▁▁▁▁▁▁▁▁</td></tr><tr><td>val_loss</td><td>█▆▃▂▁▁▁▁▁▁▁▁▁▁▁▁▁▁▁▁</td></tr></table><br/></div><div class=\"wandb-col\"><h3>Run summary:</h3><br/><table class=\"wandb\"><tr><td>acc</td><td>0.8734</td></tr><tr><td>epochs</td><td>19</td></tr><tr><td>loss</td><td>0.38691</td></tr><tr><td>val_acc</td><td>0.83051</td></tr><tr><td>val_loss</td><td>0.46417</td></tr></table><br/></div></div>"
      ],
      "text/plain": [
       "<IPython.core.display.HTML object>"
      ]
     },
     "metadata": {},
     "output_type": "display_data"
    },
    {
     "data": {
      "text/html": [
       " View run <strong style=\"color:#cdcd00\">earnest-bush-115</strong> at: <a href='https://wandb.ai/shaicahana-hebrew-university-of-jerusalem/my-tf-integration/runs/ixtwtb7m' target=\"_blank\">https://wandb.ai/shaicahana-hebrew-university-of-jerusalem/my-tf-integration/runs/ixtwtb7m</a><br/> View project at: <a href='https://wandb.ai/shaicahana-hebrew-university-of-jerusalem/my-tf-integration' target=\"_blank\">https://wandb.ai/shaicahana-hebrew-university-of-jerusalem/my-tf-integration</a><br/>Synced 5 W&B file(s), 0 media file(s), 2 artifact file(s) and 0 other file(s)"
      ],
      "text/plain": [
       "<IPython.core.display.HTML object>"
      ]
     },
     "metadata": {},
     "output_type": "display_data"
    },
    {
     "data": {
      "text/html": [
       "Find logs at: <code>./wandb/run-20241026_153347-ixtwtb7m/logs</code>"
      ],
      "text/plain": [
       "<IPython.core.display.HTML object>"
      ]
     },
     "metadata": {},
     "output_type": "display_data"
    },
    {
     "data": {
      "text/html": [
       "Tracking run with wandb version 0.18.5"
      ],
      "text/plain": [
       "<IPython.core.display.HTML object>"
      ]
     },
     "metadata": {},
     "output_type": "display_data"
    },
    {
     "data": {
      "text/html": [
       "Run data is saved locally in <code>/Users/shaicahana/Documents/AI_DL/colab/AI-DL/project-1/wandb/run-20241026_153403-6y0ht6nb</code>"
      ],
      "text/plain": [
       "<IPython.core.display.HTML object>"
      ]
     },
     "metadata": {},
     "output_type": "display_data"
    },
    {
     "data": {
      "text/html": [
       "Syncing run <strong><a href='https://wandb.ai/shaicahana-hebrew-university-of-jerusalem/my-tf-integration/runs/6y0ht6nb' target=\"_blank\">likely-bush-116</a></strong> to <a href='https://wandb.ai/shaicahana-hebrew-university-of-jerusalem/my-tf-integration' target=\"_blank\">Weights & Biases</a> (<a href='https://wandb.me/run' target=\"_blank\">docs</a>)<br/>"
      ],
      "text/plain": [
       "<IPython.core.display.HTML object>"
      ]
     },
     "metadata": {},
     "output_type": "display_data"
    },
    {
     "data": {
      "text/html": [
       " View project at <a href='https://wandb.ai/shaicahana-hebrew-university-of-jerusalem/my-tf-integration' target=\"_blank\">https://wandb.ai/shaicahana-hebrew-university-of-jerusalem/my-tf-integration</a>"
      ],
      "text/plain": [
       "<IPython.core.display.HTML object>"
      ]
     },
     "metadata": {},
     "output_type": "display_data"
    },
    {
     "data": {
      "text/html": [
       " View run at <a href='https://wandb.ai/shaicahana-hebrew-university-of-jerusalem/my-tf-integration/runs/6y0ht6nb' target=\"_blank\">https://wandb.ai/shaicahana-hebrew-university-of-jerusalem/my-tf-integration/runs/6y0ht6nb</a>"
      ],
      "text/plain": [
       "<IPython.core.display.HTML object>"
      ]
     },
     "metadata": {},
     "output_type": "display_data"
    },
    {
     "name": "stdout",
     "output_type": "stream",
     "text": [
      "\n",
      "Start of epoch 0\n",
      "Training acc over epoch: 0.3894\n",
      "Validation acc: 0.8305\n",
      "\n",
      "Start of epoch 1\n",
      "Training acc over epoch: 0.8628\n",
      "Validation acc: 0.8305\n",
      "\n",
      "Start of epoch 2\n",
      "Training acc over epoch: 0.8734\n",
      "Validation acc: 0.8305\n",
      "\n",
      "Start of epoch 3\n",
      "Training acc over epoch: 0.8734\n",
      "Validation acc: 0.8305\n",
      "\n",
      "Start of epoch 4\n",
      "Training acc over epoch: 0.8734\n",
      "Validation acc: 0.8305\n",
      "\n",
      "Start of epoch 5\n",
      "Training acc over epoch: 0.8734\n",
      "Validation acc: 0.8305\n",
      "\n",
      "Start of epoch 6\n",
      "Training acc over epoch: 0.8734\n",
      "Validation acc: 0.8305\n",
      "\n",
      "Start of epoch 7\n",
      "Training acc over epoch: 0.8723\n",
      "Validation acc: 0.8305\n",
      "\n",
      "Start of epoch 8\n",
      "Training acc over epoch: 0.8745\n",
      "Validation acc: 0.8305\n",
      "\n",
      "Start of epoch 9\n",
      "Training acc over epoch: 0.8734\n",
      "Validation acc: 0.8305\n",
      "\n",
      "Start of epoch 10\n",
      "Training acc over epoch: 0.8734\n",
      "Validation acc: 0.8305\n",
      "\n",
      "Start of epoch 11\n",
      "Training acc over epoch: 0.8734\n",
      "Validation acc: 0.8305\n",
      "\n",
      "Start of epoch 12\n",
      "Training acc over epoch: 0.8723\n",
      "Validation acc: 0.8305\n",
      "\n",
      "Start of epoch 13\n",
      "Training acc over epoch: 0.8734\n",
      "Validation acc: 0.8305\n",
      "\n",
      "Start of epoch 14\n",
      "Training acc over epoch: 0.8723\n",
      "Validation acc: 0.8305\n",
      "\n",
      "Start of epoch 15\n",
      "Training acc over epoch: 0.8723\n",
      "Validation acc: 0.8305\n",
      "\n",
      "Start of epoch 16\n",
      "Training acc over epoch: 0.8734\n",
      "Validation acc: 0.8305\n",
      "\n",
      "Start of epoch 17\n",
      "Training acc over epoch: 0.8723\n",
      "Validation acc: 0.8305\n",
      "\n",
      "Start of epoch 18\n",
      "Training acc over epoch: 0.8734\n",
      "Validation acc: 0.8305\n",
      "\n",
      "Start of epoch 19\n",
      "Training acc over epoch: 0.8734\n",
      "Validation acc: 0.8305\n"
     ]
    },
    {
     "data": {
      "text/html": [
       "<style>\n",
       "    table.wandb td:nth-child(1) { padding: 0 10px; text-align: left ; width: auto;} td:nth-child(2) {text-align: left ; width: 100%}\n",
       "    .wandb-row { display: flex; flex-direction: row; flex-wrap: wrap; justify-content: flex-start; width: 100% }\n",
       "    .wandb-col { display: flex; flex-direction: column; flex-basis: 100%; flex: 1; padding: 10px; }\n",
       "    </style>\n",
       "<div class=\"wandb-row\"><div class=\"wandb-col\"><h3>Run history:</h3><br/><table class=\"wandb\"><tr><td>acc</td><td>▁███████████████████</td></tr><tr><td>epochs</td><td>▁▁▂▂▂▃▃▄▄▄▅▅▅▆▆▇▇▇██</td></tr><tr><td>loss</td><td>█▇▅▃▂▁▁▁▁▁▁▁▁▁▁▁▁▁▁▁</td></tr><tr><td>val_acc</td><td>▁▁▁▁▁▁▁▁▁▁▁▁▁▁▁▁▁▁▁▁</td></tr><tr><td>val_loss</td><td>█▆▄▂▂▁▁▁▁▁▁▁▁▁▁▁▁▁▁▁</td></tr></table><br/></div><div class=\"wandb-col\"><h3>Run summary:</h3><br/><table class=\"wandb\"><tr><td>acc</td><td>0.8734</td></tr><tr><td>epochs</td><td>19</td></tr><tr><td>loss</td><td>0.39419</td></tr><tr><td>val_acc</td><td>0.83051</td></tr><tr><td>val_loss</td><td>0.46276</td></tr></table><br/></div></div>"
      ],
      "text/plain": [
       "<IPython.core.display.HTML object>"
      ]
     },
     "metadata": {},
     "output_type": "display_data"
    },
    {
     "data": {
      "text/html": [
       " View run <strong style=\"color:#cdcd00\">likely-bush-116</strong> at: <a href='https://wandb.ai/shaicahana-hebrew-university-of-jerusalem/my-tf-integration/runs/6y0ht6nb' target=\"_blank\">https://wandb.ai/shaicahana-hebrew-university-of-jerusalem/my-tf-integration/runs/6y0ht6nb</a><br/> View project at: <a href='https://wandb.ai/shaicahana-hebrew-university-of-jerusalem/my-tf-integration' target=\"_blank\">https://wandb.ai/shaicahana-hebrew-university-of-jerusalem/my-tf-integration</a><br/>Synced 5 W&B file(s), 0 media file(s), 0 artifact file(s) and 0 other file(s)"
      ],
      "text/plain": [
       "<IPython.core.display.HTML object>"
      ]
     },
     "metadata": {},
     "output_type": "display_data"
    },
    {
     "data": {
      "text/html": [
       "Find logs at: <code>./wandb/run-20241026_153403-6y0ht6nb/logs</code>"
      ],
      "text/plain": [
       "<IPython.core.display.HTML object>"
      ]
     },
     "metadata": {},
     "output_type": "display_data"
    },
    {
     "data": {
      "text/html": [
       "Tracking run with wandb version 0.18.5"
      ],
      "text/plain": [
       "<IPython.core.display.HTML object>"
      ]
     },
     "metadata": {},
     "output_type": "display_data"
    },
    {
     "data": {
      "text/html": [
       "Run data is saved locally in <code>/Users/shaicahana/Documents/AI_DL/colab/AI-DL/project-1/wandb/run-20241026_153414-v66ry29j</code>"
      ],
      "text/plain": [
       "<IPython.core.display.HTML object>"
      ]
     },
     "metadata": {},
     "output_type": "display_data"
    },
    {
     "data": {
      "text/html": [
       "Syncing run <strong><a href='https://wandb.ai/shaicahana-hebrew-university-of-jerusalem/my-tf-integration/runs/v66ry29j' target=\"_blank\">fiery-puddle-117</a></strong> to <a href='https://wandb.ai/shaicahana-hebrew-university-of-jerusalem/my-tf-integration' target=\"_blank\">Weights & Biases</a> (<a href='https://wandb.me/run' target=\"_blank\">docs</a>)<br/>"
      ],
      "text/plain": [
       "<IPython.core.display.HTML object>"
      ]
     },
     "metadata": {},
     "output_type": "display_data"
    },
    {
     "data": {
      "text/html": [
       " View project at <a href='https://wandb.ai/shaicahana-hebrew-university-of-jerusalem/my-tf-integration' target=\"_blank\">https://wandb.ai/shaicahana-hebrew-university-of-jerusalem/my-tf-integration</a>"
      ],
      "text/plain": [
       "<IPython.core.display.HTML object>"
      ]
     },
     "metadata": {},
     "output_type": "display_data"
    },
    {
     "data": {
      "text/html": [
       " View run at <a href='https://wandb.ai/shaicahana-hebrew-university-of-jerusalem/my-tf-integration/runs/v66ry29j' target=\"_blank\">https://wandb.ai/shaicahana-hebrew-university-of-jerusalem/my-tf-integration/runs/v66ry29j</a>"
      ],
      "text/plain": [
       "<IPython.core.display.HTML object>"
      ]
     },
     "metadata": {},
     "output_type": "display_data"
    },
    {
     "name": "stdout",
     "output_type": "stream",
     "text": [
      "\n",
      "Start of epoch 0\n",
      "Training acc over epoch: 0.4298\n",
      "Validation acc: 0.8305\n",
      "\n",
      "Start of epoch 1\n",
      "Training acc over epoch: 0.8585\n",
      "Validation acc: 0.8305\n",
      "\n",
      "Start of epoch 2\n",
      "Training acc over epoch: 0.8734\n",
      "Validation acc: 0.8305\n",
      "\n",
      "Start of epoch 3\n",
      "Training acc over epoch: 0.8734\n",
      "Validation acc: 0.8305\n",
      "\n",
      "Start of epoch 4\n",
      "Training acc over epoch: 0.8734\n",
      "Validation acc: 0.8305\n",
      "\n",
      "Start of epoch 5\n",
      "Training acc over epoch: 0.8734\n",
      "Validation acc: 0.8305\n",
      "\n",
      "Start of epoch 6\n",
      "Training acc over epoch: 0.8734\n",
      "Validation acc: 0.8305\n",
      "\n",
      "Start of epoch 7\n",
      "Training acc over epoch: 0.8723\n",
      "Validation acc: 0.8305\n",
      "\n",
      "Start of epoch 8\n",
      "Training acc over epoch: 0.8734\n",
      "Validation acc: 0.8305\n",
      "\n",
      "Start of epoch 9\n",
      "Training acc over epoch: 0.8734\n",
      "Validation acc: 0.8305\n",
      "\n",
      "Start of epoch 10\n",
      "Training acc over epoch: 0.8734\n",
      "Validation acc: 0.8305\n",
      "\n",
      "Start of epoch 11\n",
      "Training acc over epoch: 0.8734\n",
      "Validation acc: 0.8305\n",
      "\n",
      "Start of epoch 12\n",
      "Training acc over epoch: 0.8734\n",
      "Validation acc: 0.8305\n",
      "\n",
      "Start of epoch 13\n",
      "Training acc over epoch: 0.8734\n",
      "Validation acc: 0.8305\n",
      "\n",
      "Start of epoch 14\n",
      "Training acc over epoch: 0.8734\n",
      "Validation acc: 0.8305\n",
      "\n",
      "Start of epoch 15\n",
      "Training acc over epoch: 0.8734\n",
      "Validation acc: 0.8305\n",
      "\n",
      "Start of epoch 16\n",
      "Training acc over epoch: 0.8734\n",
      "Validation acc: 0.8305\n",
      "\n",
      "Start of epoch 17\n",
      "Training acc over epoch: 0.8734\n",
      "Validation acc: 0.8305\n",
      "\n",
      "Start of epoch 18\n",
      "Training acc over epoch: 0.8734\n",
      "Validation acc: 0.8305\n",
      "\n",
      "Start of epoch 19\n",
      "Training acc over epoch: 0.8734\n",
      "Validation acc: 0.8305\n"
     ]
    },
    {
     "data": {
      "text/html": [
       "<style>\n",
       "    table.wandb td:nth-child(1) { padding: 0 10px; text-align: left ; width: auto;} td:nth-child(2) {text-align: left ; width: 100%}\n",
       "    .wandb-row { display: flex; flex-direction: row; flex-wrap: wrap; justify-content: flex-start; width: 100% }\n",
       "    .wandb-col { display: flex; flex-direction: column; flex-basis: 100%; flex: 1; padding: 10px; }\n",
       "    </style>\n",
       "<div class=\"wandb-row\"><div class=\"wandb-col\"><h3>Run history:</h3><br/><table class=\"wandb\"><tr><td>acc</td><td>▁███████████████████</td></tr><tr><td>epochs</td><td>▁▁▂▂▂▃▃▄▄▄▅▅▅▆▆▇▇▇██</td></tr><tr><td>loss</td><td>█▆▄▂▂▁▁▁▁▁▁▁▁▁▁▁▁▁▁▁</td></tr><tr><td>val_acc</td><td>▁▁▁▁▁▁▁▁▁▁▁▁▁▁▁▁▁▁▁▁</td></tr><tr><td>val_loss</td><td>█▆▃▂▁▁▁▁▁▁▁▁▁▁▁▁▁▁▁▁</td></tr></table><br/></div><div class=\"wandb-col\"><h3>Run summary:</h3><br/><table class=\"wandb\"><tr><td>acc</td><td>0.8734</td></tr><tr><td>epochs</td><td>19</td></tr><tr><td>loss</td><td>0.39616</td></tr><tr><td>val_acc</td><td>0.83051</td></tr><tr><td>val_loss</td><td>0.48315</td></tr></table><br/></div></div>"
      ],
      "text/plain": [
       "<IPython.core.display.HTML object>"
      ]
     },
     "metadata": {},
     "output_type": "display_data"
    },
    {
     "data": {
      "text/html": [
       " View run <strong style=\"color:#cdcd00\">fiery-puddle-117</strong> at: <a href='https://wandb.ai/shaicahana-hebrew-university-of-jerusalem/my-tf-integration/runs/v66ry29j' target=\"_blank\">https://wandb.ai/shaicahana-hebrew-university-of-jerusalem/my-tf-integration/runs/v66ry29j</a><br/> View project at: <a href='https://wandb.ai/shaicahana-hebrew-university-of-jerusalem/my-tf-integration' target=\"_blank\">https://wandb.ai/shaicahana-hebrew-university-of-jerusalem/my-tf-integration</a><br/>Synced 5 W&B file(s), 0 media file(s), 0 artifact file(s) and 0 other file(s)"
      ],
      "text/plain": [
       "<IPython.core.display.HTML object>"
      ]
     },
     "metadata": {},
     "output_type": "display_data"
    },
    {
     "data": {
      "text/html": [
       "Find logs at: <code>./wandb/run-20241026_153414-v66ry29j/logs</code>"
      ],
      "text/plain": [
       "<IPython.core.display.HTML object>"
      ]
     },
     "metadata": {},
     "output_type": "display_data"
    },
    {
     "data": {
      "text/html": [
       "Tracking run with wandb version 0.18.5"
      ],
      "text/plain": [
       "<IPython.core.display.HTML object>"
      ]
     },
     "metadata": {},
     "output_type": "display_data"
    },
    {
     "data": {
      "text/html": [
       "Run data is saved locally in <code>/Users/shaicahana/Documents/AI_DL/colab/AI-DL/project-1/wandb/run-20241026_153423-l3t216na</code>"
      ],
      "text/plain": [
       "<IPython.core.display.HTML object>"
      ]
     },
     "metadata": {},
     "output_type": "display_data"
    },
    {
     "data": {
      "text/html": [
       "Syncing run <strong><a href='https://wandb.ai/shaicahana-hebrew-university-of-jerusalem/my-tf-integration/runs/l3t216na' target=\"_blank\">earnest-microwave-118</a></strong> to <a href='https://wandb.ai/shaicahana-hebrew-university-of-jerusalem/my-tf-integration' target=\"_blank\">Weights & Biases</a> (<a href='https://wandb.me/run' target=\"_blank\">docs</a>)<br/>"
      ],
      "text/plain": [
       "<IPython.core.display.HTML object>"
      ]
     },
     "metadata": {},
     "output_type": "display_data"
    },
    {
     "data": {
      "text/html": [
       " View project at <a href='https://wandb.ai/shaicahana-hebrew-university-of-jerusalem/my-tf-integration' target=\"_blank\">https://wandb.ai/shaicahana-hebrew-university-of-jerusalem/my-tf-integration</a>"
      ],
      "text/plain": [
       "<IPython.core.display.HTML object>"
      ]
     },
     "metadata": {},
     "output_type": "display_data"
    },
    {
     "data": {
      "text/html": [
       " View run at <a href='https://wandb.ai/shaicahana-hebrew-university-of-jerusalem/my-tf-integration/runs/l3t216na' target=\"_blank\">https://wandb.ai/shaicahana-hebrew-university-of-jerusalem/my-tf-integration/runs/l3t216na</a>"
      ],
      "text/plain": [
       "<IPython.core.display.HTML object>"
      ]
     },
     "metadata": {},
     "output_type": "display_data"
    },
    {
     "name": "stdout",
     "output_type": "stream",
     "text": [
      "\n",
      "Start of epoch 0\n",
      "Training acc over epoch: 0.3926\n",
      "Validation acc: 0.8305\n",
      "\n",
      "Start of epoch 1\n",
      "Training acc over epoch: 0.8457\n",
      "Validation acc: 0.8305\n",
      "\n",
      "Start of epoch 2\n",
      "Training acc over epoch: 0.8723\n",
      "Validation acc: 0.8305\n",
      "\n",
      "Start of epoch 3\n",
      "Training acc over epoch: 0.8734\n",
      "Validation acc: 0.8305\n",
      "\n",
      "Start of epoch 4\n",
      "Training acc over epoch: 0.8734\n",
      "Validation acc: 0.8305\n",
      "\n",
      "Start of epoch 5\n",
      "Training acc over epoch: 0.8734\n",
      "Validation acc: 0.8305\n",
      "\n",
      "Start of epoch 6\n",
      "Training acc over epoch: 0.8734\n",
      "Validation acc: 0.8305\n",
      "\n",
      "Start of epoch 7\n",
      "Training acc over epoch: 0.8734\n",
      "Validation acc: 0.8305\n",
      "\n",
      "Start of epoch 8\n",
      "Training acc over epoch: 0.8734\n",
      "Validation acc: 0.8305\n",
      "\n",
      "Start of epoch 9\n",
      "Training acc over epoch: 0.8734\n",
      "Validation acc: 0.8305\n",
      "\n",
      "Start of epoch 10\n",
      "Training acc over epoch: 0.8734\n",
      "Validation acc: 0.8305\n",
      "\n",
      "Start of epoch 11\n",
      "Training acc over epoch: 0.8734\n",
      "Validation acc: 0.8305\n",
      "\n",
      "Start of epoch 12\n",
      "Training acc over epoch: 0.8734\n",
      "Validation acc: 0.8305\n",
      "\n",
      "Start of epoch 13\n",
      "Training acc over epoch: 0.8734\n",
      "Validation acc: 0.8305\n",
      "\n",
      "Start of epoch 14\n",
      "Training acc over epoch: 0.8734\n",
      "Validation acc: 0.8305\n",
      "\n",
      "Start of epoch 15\n",
      "Training acc over epoch: 0.8734\n",
      "Validation acc: 0.8305\n",
      "\n",
      "Start of epoch 16\n",
      "Training acc over epoch: 0.8734\n",
      "Validation acc: 0.8305\n",
      "\n",
      "Start of epoch 17\n",
      "Training acc over epoch: 0.8734\n",
      "Validation acc: 0.8305\n",
      "\n",
      "Start of epoch 18\n",
      "Training acc over epoch: 0.8734\n",
      "Validation acc: 0.8305\n",
      "\n",
      "Start of epoch 19\n",
      "Training acc over epoch: 0.8734\n",
      "Validation acc: 0.8305\n"
     ]
    },
    {
     "data": {
      "text/html": [
       "<style>\n",
       "    table.wandb td:nth-child(1) { padding: 0 10px; text-align: left ; width: auto;} td:nth-child(2) {text-align: left ; width: 100%}\n",
       "    .wandb-row { display: flex; flex-direction: row; flex-wrap: wrap; justify-content: flex-start; width: 100% }\n",
       "    .wandb-col { display: flex; flex-direction: column; flex-basis: 100%; flex: 1; padding: 10px; }\n",
       "    </style>\n",
       "<div class=\"wandb-row\"><div class=\"wandb-col\"><h3>Run history:</h3><br/><table class=\"wandb\"><tr><td>acc</td><td>▁███████████████████</td></tr><tr><td>epochs</td><td>▁▁▂▂▂▃▃▄▄▄▅▅▅▆▆▇▇▇██</td></tr><tr><td>loss</td><td>█▆▄▂▁▁▁▁▁▁▁▁▁▁▁▁▁▁▁▁</td></tr><tr><td>val_acc</td><td>▁▁▁▁▁▁▁▁▁▁▁▁▁▁▁▁▁▁▁▁</td></tr><tr><td>val_loss</td><td>█▅▃▂▁▁▁▁▁▁▁▁▁▁▁▁▁▁▁▁</td></tr></table><br/></div><div class=\"wandb-col\"><h3>Run summary:</h3><br/><table class=\"wandb\"><tr><td>acc</td><td>0.8734</td></tr><tr><td>epochs</td><td>19</td></tr><tr><td>loss</td><td>0.3919</td></tr><tr><td>val_acc</td><td>0.83051</td></tr><tr><td>val_loss</td><td>0.46408</td></tr></table><br/></div></div>"
      ],
      "text/plain": [
       "<IPython.core.display.HTML object>"
      ]
     },
     "metadata": {},
     "output_type": "display_data"
    },
    {
     "data": {
      "text/html": [
       " View run <strong style=\"color:#cdcd00\">earnest-microwave-118</strong> at: <a href='https://wandb.ai/shaicahana-hebrew-university-of-jerusalem/my-tf-integration/runs/l3t216na' target=\"_blank\">https://wandb.ai/shaicahana-hebrew-university-of-jerusalem/my-tf-integration/runs/l3t216na</a><br/> View project at: <a href='https://wandb.ai/shaicahana-hebrew-university-of-jerusalem/my-tf-integration' target=\"_blank\">https://wandb.ai/shaicahana-hebrew-university-of-jerusalem/my-tf-integration</a><br/>Synced 5 W&B file(s), 0 media file(s), 0 artifact file(s) and 0 other file(s)"
      ],
      "text/plain": [
       "<IPython.core.display.HTML object>"
      ]
     },
     "metadata": {},
     "output_type": "display_data"
    },
    {
     "data": {
      "text/html": [
       "Find logs at: <code>./wandb/run-20241026_153423-l3t216na/logs</code>"
      ],
      "text/plain": [
       "<IPython.core.display.HTML object>"
      ]
     },
     "metadata": {},
     "output_type": "display_data"
    },
    {
     "data": {
      "text/html": [
       "Tracking run with wandb version 0.18.5"
      ],
      "text/plain": [
       "<IPython.core.display.HTML object>"
      ]
     },
     "metadata": {},
     "output_type": "display_data"
    },
    {
     "data": {
      "text/html": [
       "Run data is saved locally in <code>/Users/shaicahana/Documents/AI_DL/colab/AI-DL/project-1/wandb/run-20241026_153432-j51etkpc</code>"
      ],
      "text/plain": [
       "<IPython.core.display.HTML object>"
      ]
     },
     "metadata": {},
     "output_type": "display_data"
    },
    {
     "data": {
      "text/html": [
       "Syncing run <strong><a href='https://wandb.ai/shaicahana-hebrew-university-of-jerusalem/my-tf-integration/runs/j51etkpc' target=\"_blank\">eternal-valley-119</a></strong> to <a href='https://wandb.ai/shaicahana-hebrew-university-of-jerusalem/my-tf-integration' target=\"_blank\">Weights & Biases</a> (<a href='https://wandb.me/run' target=\"_blank\">docs</a>)<br/>"
      ],
      "text/plain": [
       "<IPython.core.display.HTML object>"
      ]
     },
     "metadata": {},
     "output_type": "display_data"
    },
    {
     "data": {
      "text/html": [
       " View project at <a href='https://wandb.ai/shaicahana-hebrew-university-of-jerusalem/my-tf-integration' target=\"_blank\">https://wandb.ai/shaicahana-hebrew-university-of-jerusalem/my-tf-integration</a>"
      ],
      "text/plain": [
       "<IPython.core.display.HTML object>"
      ]
     },
     "metadata": {},
     "output_type": "display_data"
    },
    {
     "data": {
      "text/html": [
       " View run at <a href='https://wandb.ai/shaicahana-hebrew-university-of-jerusalem/my-tf-integration/runs/j51etkpc' target=\"_blank\">https://wandb.ai/shaicahana-hebrew-university-of-jerusalem/my-tf-integration/runs/j51etkpc</a>"
      ],
      "text/plain": [
       "<IPython.core.display.HTML object>"
      ]
     },
     "metadata": {},
     "output_type": "display_data"
    },
    {
     "name": "stdout",
     "output_type": "stream",
     "text": [
      "\n",
      "Start of epoch 0\n",
      "Training acc over epoch: 0.5124\n",
      "Validation acc: 0.8549\n",
      "\n",
      "Start of epoch 1\n",
      "Training acc over epoch: 0.8817\n",
      "Validation acc: 0.8549\n",
      "\n",
      "Start of epoch 2\n",
      "Training acc over epoch: 0.8882\n",
      "Validation acc: 0.8549\n",
      "\n",
      "Start of epoch 3\n",
      "Training acc over epoch: 0.8882\n",
      "Validation acc: 0.8549\n",
      "\n",
      "Start of epoch 4\n",
      "Training acc over epoch: 0.8882\n",
      "Validation acc: 0.8549\n",
      "\n",
      "Start of epoch 5\n",
      "Training acc over epoch: 0.8882\n",
      "Validation acc: 0.8549\n",
      "\n",
      "Start of epoch 6\n",
      "Training acc over epoch: 0.8882\n",
      "Validation acc: 0.8549\n",
      "\n",
      "Start of epoch 7\n",
      "Training acc over epoch: 0.8882\n",
      "Validation acc: 0.8549\n",
      "\n",
      "Start of epoch 8\n",
      "Training acc over epoch: 0.8882\n",
      "Validation acc: 0.8549\n",
      "\n",
      "Start of epoch 9\n",
      "Training acc over epoch: 0.8882\n",
      "Validation acc: 0.8549\n",
      "\n",
      "Start of epoch 10\n",
      "Training acc over epoch: 0.8882\n",
      "Validation acc: 0.8549\n",
      "\n",
      "Start of epoch 11\n",
      "Training acc over epoch: 0.8882\n",
      "Validation acc: 0.8549\n",
      "\n",
      "Start of epoch 12\n",
      "Training acc over epoch: 0.8882\n",
      "Validation acc: 0.8549\n",
      "\n",
      "Start of epoch 13\n",
      "Training acc over epoch: 0.8882\n",
      "Validation acc: 0.8549\n",
      "\n",
      "Start of epoch 14\n",
      "Training acc over epoch: 0.8882\n",
      "Validation acc: 0.8549\n",
      "\n",
      "Start of epoch 15\n",
      "Training acc over epoch: 0.8882\n",
      "Validation acc: 0.8549\n",
      "\n",
      "Start of epoch 16\n",
      "Training acc over epoch: 0.8882\n",
      "Validation acc: 0.8549\n",
      "\n",
      "Start of epoch 17\n",
      "Training acc over epoch: 0.8882\n",
      "Validation acc: 0.8549\n",
      "\n",
      "Start of epoch 18\n",
      "Training acc over epoch: 0.8882\n",
      "Validation acc: 0.8549\n",
      "\n",
      "Start of epoch 19\n",
      "Training acc over epoch: 0.8882\n",
      "Validation acc: 0.8549\n"
     ]
    },
    {
     "data": {
      "text/html": [
       "<style>\n",
       "    table.wandb td:nth-child(1) { padding: 0 10px; text-align: left ; width: auto;} td:nth-child(2) {text-align: left ; width: 100%}\n",
       "    .wandb-row { display: flex; flex-direction: row; flex-wrap: wrap; justify-content: flex-start; width: 100% }\n",
       "    .wandb-col { display: flex; flex-direction: column; flex-basis: 100%; flex: 1; padding: 10px; }\n",
       "    </style>\n",
       "<div class=\"wandb-row\"><div class=\"wandb-col\"><h3>Run history:</h3><br/><table class=\"wandb\"><tr><td>acc</td><td>▁███████████████████</td></tr><tr><td>epochs</td><td>▁▁▂▂▂▃▃▄▄▄▅▅▅▆▆▇▇▇██</td></tr><tr><td>loss</td><td>█▇▆▄▃▂▁▁▁▁▁▁▁▁▁▁▁▁▁▁</td></tr><tr><td>val_acc</td><td>▁▁▁▁▁▁▁▁▁▁▁▁▁▁▁▁▁▁▁▁</td></tr><tr><td>val_loss</td><td>█▆▅▃▂▂▁▁▁▁▁▁▁▁▁▁▁▁▁▁</td></tr></table><br/></div><div class=\"wandb-col\"><h3>Run summary:</h3><br/><table class=\"wandb\"><tr><td>acc</td><td>0.88817</td></tr><tr><td>epochs</td><td>19</td></tr><tr><td>loss</td><td>0.38299</td></tr><tr><td>val_acc</td><td>0.85492</td></tr><tr><td>val_loss</td><td>0.3334</td></tr></table><br/></div></div>"
      ],
      "text/plain": [
       "<IPython.core.display.HTML object>"
      ]
     },
     "metadata": {},
     "output_type": "display_data"
    },
    {
     "data": {
      "text/html": [
       " View run <strong style=\"color:#cdcd00\">eternal-valley-119</strong> at: <a href='https://wandb.ai/shaicahana-hebrew-university-of-jerusalem/my-tf-integration/runs/j51etkpc' target=\"_blank\">https://wandb.ai/shaicahana-hebrew-university-of-jerusalem/my-tf-integration/runs/j51etkpc</a><br/> View project at: <a href='https://wandb.ai/shaicahana-hebrew-university-of-jerusalem/my-tf-integration' target=\"_blank\">https://wandb.ai/shaicahana-hebrew-university-of-jerusalem/my-tf-integration</a><br/>Synced 5 W&B file(s), 0 media file(s), 0 artifact file(s) and 0 other file(s)"
      ],
      "text/plain": [
       "<IPython.core.display.HTML object>"
      ]
     },
     "metadata": {},
     "output_type": "display_data"
    },
    {
     "data": {
      "text/html": [
       "Find logs at: <code>./wandb/run-20241026_153432-j51etkpc/logs</code>"
      ],
      "text/plain": [
       "<IPython.core.display.HTML object>"
      ]
     },
     "metadata": {},
     "output_type": "display_data"
    },
    {
     "data": {
      "application/vnd.jupyter.widget-view+json": {
       "model_id": "ea581d9155f3483f9a80f10ddb4f5528",
       "version_major": 2,
       "version_minor": 0
      },
      "text/plain": [
       "VBox(children=(Label(value='Waiting for wandb.init()...\\r'), FloatProgress(value=0.011154974911111044, max=1.0…"
      ]
     },
     "metadata": {},
     "output_type": "display_data"
    },
    {
     "data": {
      "text/html": [
       "Tracking run with wandb version 0.18.5"
      ],
      "text/plain": [
       "<IPython.core.display.HTML object>"
      ]
     },
     "metadata": {},
     "output_type": "display_data"
    },
    {
     "data": {
      "text/html": [
       "Run data is saved locally in <code>/Users/shaicahana/Documents/AI_DL/colab/AI-DL/project-1/wandb/run-20241026_153441-3z9z7zr8</code>"
      ],
      "text/plain": [
       "<IPython.core.display.HTML object>"
      ]
     },
     "metadata": {},
     "output_type": "display_data"
    },
    {
     "data": {
      "text/html": [
       "Syncing run <strong><a href='https://wandb.ai/shaicahana-hebrew-university-of-jerusalem/my-tf-integration/runs/3z9z7zr8' target=\"_blank\">deft-durian-120</a></strong> to <a href='https://wandb.ai/shaicahana-hebrew-university-of-jerusalem/my-tf-integration' target=\"_blank\">Weights & Biases</a> (<a href='https://wandb.me/run' target=\"_blank\">docs</a>)<br/>"
      ],
      "text/plain": [
       "<IPython.core.display.HTML object>"
      ]
     },
     "metadata": {},
     "output_type": "display_data"
    },
    {
     "data": {
      "text/html": [
       " View project at <a href='https://wandb.ai/shaicahana-hebrew-university-of-jerusalem/my-tf-integration' target=\"_blank\">https://wandb.ai/shaicahana-hebrew-university-of-jerusalem/my-tf-integration</a>"
      ],
      "text/plain": [
       "<IPython.core.display.HTML object>"
      ]
     },
     "metadata": {},
     "output_type": "display_data"
    },
    {
     "data": {
      "text/html": [
       " View run at <a href='https://wandb.ai/shaicahana-hebrew-university-of-jerusalem/my-tf-integration/runs/3z9z7zr8' target=\"_blank\">https://wandb.ai/shaicahana-hebrew-university-of-jerusalem/my-tf-integration/runs/3z9z7zr8</a>"
      ],
      "text/plain": [
       "<IPython.core.display.HTML object>"
      ]
     },
     "metadata": {},
     "output_type": "display_data"
    },
    {
     "name": "stdout",
     "output_type": "stream",
     "text": [
      "\n",
      "Start of epoch 0\n",
      "Training acc over epoch: 0.5638\n",
      "Validation acc: 0.8305\n",
      "\n",
      "Start of epoch 1\n",
      "Training acc over epoch: 0.8723\n",
      "Validation acc: 0.8305\n",
      "\n",
      "Start of epoch 2\n",
      "Training acc over epoch: 0.8734\n",
      "Validation acc: 0.8305\n",
      "\n",
      "Start of epoch 3\n",
      "Training acc over epoch: 0.8734\n",
      "Validation acc: 0.8305\n",
      "\n",
      "Start of epoch 4\n",
      "Training acc over epoch: 0.8734\n",
      "Validation acc: 0.8305\n",
      "\n",
      "Start of epoch 5\n",
      "Training acc over epoch: 0.8734\n",
      "Validation acc: 0.8305\n",
      "\n",
      "Start of epoch 6\n",
      "Training acc over epoch: 0.8723\n",
      "Validation acc: 0.8305\n",
      "\n",
      "Start of epoch 7\n",
      "Training acc over epoch: 0.8734\n",
      "Validation acc: 0.8305\n",
      "\n",
      "Start of epoch 8\n",
      "Training acc over epoch: 0.8734\n",
      "Validation acc: 0.8305\n",
      "\n",
      "Start of epoch 9\n",
      "Training acc over epoch: 0.8734\n",
      "Validation acc: 0.8305\n",
      "\n",
      "Start of epoch 10\n",
      "Training acc over epoch: 0.8734\n",
      "Validation acc: 0.8305\n",
      "\n",
      "Start of epoch 11\n",
      "Training acc over epoch: 0.8734\n",
      "Validation acc: 0.8305\n",
      "\n",
      "Start of epoch 12\n",
      "Training acc over epoch: 0.8734\n",
      "Validation acc: 0.8305\n",
      "\n",
      "Start of epoch 13\n",
      "Training acc over epoch: 0.8734\n",
      "Validation acc: 0.8305\n",
      "\n",
      "Start of epoch 14\n",
      "Training acc over epoch: 0.8734\n",
      "Validation acc: 0.8305\n",
      "\n",
      "Start of epoch 15\n",
      "Training acc over epoch: 0.8734\n",
      "Validation acc: 0.8305\n",
      "\n",
      "Start of epoch 16\n",
      "Training acc over epoch: 0.8734\n",
      "Validation acc: 0.8305\n",
      "\n",
      "Start of epoch 17\n",
      "Training acc over epoch: 0.8734\n",
      "Validation acc: 0.8305\n",
      "\n",
      "Start of epoch 18\n",
      "Training acc over epoch: 0.8734\n",
      "Validation acc: 0.8305\n",
      "\n",
      "Start of epoch 19\n",
      "Training acc over epoch: 0.8734\n",
      "Validation acc: 0.8305\n"
     ]
    },
    {
     "data": {
      "text/html": [
       "<style>\n",
       "    table.wandb td:nth-child(1) { padding: 0 10px; text-align: left ; width: auto;} td:nth-child(2) {text-align: left ; width: 100%}\n",
       "    .wandb-row { display: flex; flex-direction: row; flex-wrap: wrap; justify-content: flex-start; width: 100% }\n",
       "    .wandb-col { display: flex; flex-direction: column; flex-basis: 100%; flex: 1; padding: 10px; }\n",
       "    </style>\n",
       "<div class=\"wandb-row\"><div class=\"wandb-col\"><h3>Run history:</h3><br/><table class=\"wandb\"><tr><td>acc</td><td>▁███████████████████</td></tr><tr><td>epochs</td><td>▁▁▂▂▂▃▃▄▄▄▅▅▅▆▆▇▇▇██</td></tr><tr><td>loss</td><td>█▆▄▂▂▁▁▁▁▁▁▁▁▁▁▁▁▁▁▁</td></tr><tr><td>val_acc</td><td>▁▁▁▁▁▁▁▁▁▁▁▁▁▁▁▁▁▁▁▁</td></tr><tr><td>val_loss</td><td>█▆▃▂▂▁▁▁▁▁▁▁▁▁▁▁▁▁▁▁</td></tr></table><br/></div><div class=\"wandb-col\"><h3>Run summary:</h3><br/><table class=\"wandb\"><tr><td>acc</td><td>0.8734</td></tr><tr><td>epochs</td><td>19</td></tr><tr><td>loss</td><td>0.40291</td></tr><tr><td>val_acc</td><td>0.83051</td></tr><tr><td>val_loss</td><td>0.46039</td></tr></table><br/></div></div>"
      ],
      "text/plain": [
       "<IPython.core.display.HTML object>"
      ]
     },
     "metadata": {},
     "output_type": "display_data"
    },
    {
     "data": {
      "text/html": [
       " View run <strong style=\"color:#cdcd00\">deft-durian-120</strong> at: <a href='https://wandb.ai/shaicahana-hebrew-university-of-jerusalem/my-tf-integration/runs/3z9z7zr8' target=\"_blank\">https://wandb.ai/shaicahana-hebrew-university-of-jerusalem/my-tf-integration/runs/3z9z7zr8</a><br/> View project at: <a href='https://wandb.ai/shaicahana-hebrew-university-of-jerusalem/my-tf-integration' target=\"_blank\">https://wandb.ai/shaicahana-hebrew-university-of-jerusalem/my-tf-integration</a><br/>Synced 5 W&B file(s), 0 media file(s), 0 artifact file(s) and 0 other file(s)"
      ],
      "text/plain": [
       "<IPython.core.display.HTML object>"
      ]
     },
     "metadata": {},
     "output_type": "display_data"
    },
    {
     "data": {
      "text/html": [
       "Find logs at: <code>./wandb/run-20241026_153441-3z9z7zr8/logs</code>"
      ],
      "text/plain": [
       "<IPython.core.display.HTML object>"
      ]
     },
     "metadata": {},
     "output_type": "display_data"
    },
    {
     "data": {
      "text/html": [
       "Tracking run with wandb version 0.18.5"
      ],
      "text/plain": [
       "<IPython.core.display.HTML object>"
      ]
     },
     "metadata": {},
     "output_type": "display_data"
    },
    {
     "data": {
      "text/html": [
       "Run data is saved locally in <code>/Users/shaicahana/Documents/AI_DL/colab/AI-DL/project-1/wandb/run-20241026_153453-gqvz307w</code>"
      ],
      "text/plain": [
       "<IPython.core.display.HTML object>"
      ]
     },
     "metadata": {},
     "output_type": "display_data"
    },
    {
     "data": {
      "text/html": [
       "Syncing run <strong><a href='https://wandb.ai/shaicahana-hebrew-university-of-jerusalem/my-tf-integration/runs/gqvz307w' target=\"_blank\">spring-forest-121</a></strong> to <a href='https://wandb.ai/shaicahana-hebrew-university-of-jerusalem/my-tf-integration' target=\"_blank\">Weights & Biases</a> (<a href='https://wandb.me/run' target=\"_blank\">docs</a>)<br/>"
      ],
      "text/plain": [
       "<IPython.core.display.HTML object>"
      ]
     },
     "metadata": {},
     "output_type": "display_data"
    },
    {
     "data": {
      "text/html": [
       " View project at <a href='https://wandb.ai/shaicahana-hebrew-university-of-jerusalem/my-tf-integration' target=\"_blank\">https://wandb.ai/shaicahana-hebrew-university-of-jerusalem/my-tf-integration</a>"
      ],
      "text/plain": [
       "<IPython.core.display.HTML object>"
      ]
     },
     "metadata": {},
     "output_type": "display_data"
    },
    {
     "data": {
      "text/html": [
       " View run at <a href='https://wandb.ai/shaicahana-hebrew-university-of-jerusalem/my-tf-integration/runs/gqvz307w' target=\"_blank\">https://wandb.ai/shaicahana-hebrew-university-of-jerusalem/my-tf-integration/runs/gqvz307w</a>"
      ],
      "text/plain": [
       "<IPython.core.display.HTML object>"
      ]
     },
     "metadata": {},
     "output_type": "display_data"
    },
    {
     "name": "stdout",
     "output_type": "stream",
     "text": [
      "\n",
      "Start of epoch 0\n",
      "Training acc over epoch: 0.4170\n",
      "Validation acc: 0.8305\n",
      "\n",
      "Start of epoch 1\n",
      "Training acc over epoch: 0.8606\n",
      "Validation acc: 0.8305\n",
      "\n",
      "Start of epoch 2\n",
      "Training acc over epoch: 0.8723\n",
      "Validation acc: 0.8305\n",
      "\n",
      "Start of epoch 3\n",
      "Training acc over epoch: 0.8734\n",
      "Validation acc: 0.8305\n",
      "\n",
      "Start of epoch 4\n",
      "Training acc over epoch: 0.8734\n",
      "Validation acc: 0.8305\n",
      "\n",
      "Start of epoch 5\n",
      "Training acc over epoch: 0.8734\n",
      "Validation acc: 0.8305\n",
      "\n",
      "Start of epoch 6\n",
      "Training acc over epoch: 0.8734\n",
      "Validation acc: 0.8305\n",
      "\n",
      "Start of epoch 7\n",
      "Training acc over epoch: 0.8734\n",
      "Validation acc: 0.8305\n",
      "\n",
      "Start of epoch 8\n",
      "Training acc over epoch: 0.8734\n",
      "Validation acc: 0.8305\n",
      "\n",
      "Start of epoch 9\n",
      "Training acc over epoch: 0.8734\n",
      "Validation acc: 0.8305\n",
      "\n",
      "Start of epoch 10\n",
      "Training acc over epoch: 0.8734\n",
      "Validation acc: 0.8305\n",
      "\n",
      "Start of epoch 11\n",
      "Training acc over epoch: 0.8734\n",
      "Validation acc: 0.8305\n",
      "\n",
      "Start of epoch 12\n",
      "Training acc over epoch: 0.8734\n",
      "Validation acc: 0.8305\n",
      "\n",
      "Start of epoch 13\n",
      "Training acc over epoch: 0.8734\n",
      "Validation acc: 0.8305\n",
      "\n",
      "Start of epoch 14\n",
      "Training acc over epoch: 0.8723\n",
      "Validation acc: 0.8305\n",
      "\n",
      "Start of epoch 15\n",
      "Training acc over epoch: 0.8734\n",
      "Validation acc: 0.8305\n",
      "\n",
      "Start of epoch 16\n",
      "Training acc over epoch: 0.8734\n",
      "Validation acc: 0.8305\n",
      "\n",
      "Start of epoch 17\n",
      "Training acc over epoch: 0.8734\n",
      "Validation acc: 0.8305\n",
      "\n",
      "Start of epoch 18\n",
      "Training acc over epoch: 0.8734\n",
      "Validation acc: 0.8305\n",
      "\n",
      "Start of epoch 19\n",
      "Training acc over epoch: 0.8734\n",
      "Validation acc: 0.8305\n"
     ]
    },
    {
     "data": {
      "text/html": [
       "<style>\n",
       "    table.wandb td:nth-child(1) { padding: 0 10px; text-align: left ; width: auto;} td:nth-child(2) {text-align: left ; width: 100%}\n",
       "    .wandb-row { display: flex; flex-direction: row; flex-wrap: wrap; justify-content: flex-start; width: 100% }\n",
       "    .wandb-col { display: flex; flex-direction: column; flex-basis: 100%; flex: 1; padding: 10px; }\n",
       "    </style>\n",
       "<div class=\"wandb-row\"><div class=\"wandb-col\"><h3>Run history:</h3><br/><table class=\"wandb\"><tr><td>acc</td><td>▁███████████████████</td></tr><tr><td>epochs</td><td>▁▁▂▂▂▃▃▄▄▄▅▅▅▆▆▇▇▇██</td></tr><tr><td>loss</td><td>█▆▄▂▁▁▁▁▁▁▁▁▁▁▁▁▁▁▁▁</td></tr><tr><td>val_acc</td><td>▁▁▁▁▁▁▁▁▁▁▁▁▁▁▁▁▁▁▁▁</td></tr><tr><td>val_loss</td><td>█▆▃▂▁▁▁▁▁▁▁▁▁▁▁▁▁▁▁▁</td></tr></table><br/></div><div class=\"wandb-col\"><h3>Run summary:</h3><br/><table class=\"wandb\"><tr><td>acc</td><td>0.8734</td></tr><tr><td>epochs</td><td>19</td></tr><tr><td>loss</td><td>0.39603</td></tr><tr><td>val_acc</td><td>0.83051</td></tr><tr><td>val_loss</td><td>0.46341</td></tr></table><br/></div></div>"
      ],
      "text/plain": [
       "<IPython.core.display.HTML object>"
      ]
     },
     "metadata": {},
     "output_type": "display_data"
    },
    {
     "data": {
      "text/html": [
       " View run <strong style=\"color:#cdcd00\">spring-forest-121</strong> at: <a href='https://wandb.ai/shaicahana-hebrew-university-of-jerusalem/my-tf-integration/runs/gqvz307w' target=\"_blank\">https://wandb.ai/shaicahana-hebrew-university-of-jerusalem/my-tf-integration/runs/gqvz307w</a><br/> View project at: <a href='https://wandb.ai/shaicahana-hebrew-university-of-jerusalem/my-tf-integration' target=\"_blank\">https://wandb.ai/shaicahana-hebrew-university-of-jerusalem/my-tf-integration</a><br/>Synced 5 W&B file(s), 0 media file(s), 0 artifact file(s) and 0 other file(s)"
      ],
      "text/plain": [
       "<IPython.core.display.HTML object>"
      ]
     },
     "metadata": {},
     "output_type": "display_data"
    },
    {
     "data": {
      "text/html": [
       "Find logs at: <code>./wandb/run-20241026_153453-gqvz307w/logs</code>"
      ],
      "text/plain": [
       "<IPython.core.display.HTML object>"
      ]
     },
     "metadata": {},
     "output_type": "display_data"
    },
    {
     "data": {
      "text/html": [
       "Tracking run with wandb version 0.18.5"
      ],
      "text/plain": [
       "<IPython.core.display.HTML object>"
      ]
     },
     "metadata": {},
     "output_type": "display_data"
    },
    {
     "data": {
      "text/html": [
       "Run data is saved locally in <code>/Users/shaicahana/Documents/AI_DL/colab/AI-DL/project-1/wandb/run-20241026_153503-vi0tdn51</code>"
      ],
      "text/plain": [
       "<IPython.core.display.HTML object>"
      ]
     },
     "metadata": {},
     "output_type": "display_data"
    },
    {
     "data": {
      "text/html": [
       "Syncing run <strong><a href='https://wandb.ai/shaicahana-hebrew-university-of-jerusalem/my-tf-integration/runs/vi0tdn51' target=\"_blank\">graceful-waterfall-122</a></strong> to <a href='https://wandb.ai/shaicahana-hebrew-university-of-jerusalem/my-tf-integration' target=\"_blank\">Weights & Biases</a> (<a href='https://wandb.me/run' target=\"_blank\">docs</a>)<br/>"
      ],
      "text/plain": [
       "<IPython.core.display.HTML object>"
      ]
     },
     "metadata": {},
     "output_type": "display_data"
    },
    {
     "data": {
      "text/html": [
       " View project at <a href='https://wandb.ai/shaicahana-hebrew-university-of-jerusalem/my-tf-integration' target=\"_blank\">https://wandb.ai/shaicahana-hebrew-university-of-jerusalem/my-tf-integration</a>"
      ],
      "text/plain": [
       "<IPython.core.display.HTML object>"
      ]
     },
     "metadata": {},
     "output_type": "display_data"
    },
    {
     "data": {
      "text/html": [
       " View run at <a href='https://wandb.ai/shaicahana-hebrew-university-of-jerusalem/my-tf-integration/runs/vi0tdn51' target=\"_blank\">https://wandb.ai/shaicahana-hebrew-university-of-jerusalem/my-tf-integration/runs/vi0tdn51</a>"
      ],
      "text/plain": [
       "<IPython.core.display.HTML object>"
      ]
     },
     "metadata": {},
     "output_type": "display_data"
    },
    {
     "name": "stdout",
     "output_type": "stream",
     "text": [
      "\n",
      "Start of epoch 0\n",
      "Training acc over epoch: 0.6809\n",
      "Validation acc: 0.8305\n",
      "\n",
      "Start of epoch 1\n",
      "Training acc over epoch: 0.8681\n",
      "Validation acc: 0.8305\n",
      "\n",
      "Start of epoch 2\n",
      "Training acc over epoch: 0.8734\n",
      "Validation acc: 0.8305\n",
      "\n",
      "Start of epoch 3\n",
      "Training acc over epoch: 0.8734\n",
      "Validation acc: 0.8305\n",
      "\n",
      "Start of epoch 4\n",
      "Training acc over epoch: 0.8734\n",
      "Validation acc: 0.8305\n",
      "\n",
      "Start of epoch 5\n",
      "Training acc over epoch: 0.8734\n",
      "Validation acc: 0.8305\n",
      "\n",
      "Start of epoch 6\n",
      "Training acc over epoch: 0.8734\n",
      "Validation acc: 0.8305\n",
      "\n",
      "Start of epoch 7\n",
      "Training acc over epoch: 0.8734\n",
      "Validation acc: 0.8305\n",
      "\n",
      "Start of epoch 8\n",
      "Training acc over epoch: 0.8734\n",
      "Validation acc: 0.8305\n",
      "\n",
      "Start of epoch 9\n",
      "Training acc over epoch: 0.8734\n",
      "Validation acc: 0.8305\n",
      "\n",
      "Start of epoch 10\n",
      "Training acc over epoch: 0.8734\n",
      "Validation acc: 0.8305\n",
      "\n",
      "Start of epoch 11\n",
      "Training acc over epoch: 0.8734\n",
      "Validation acc: 0.8305\n",
      "\n",
      "Start of epoch 12\n",
      "Training acc over epoch: 0.8734\n",
      "Validation acc: 0.8305\n",
      "\n",
      "Start of epoch 13\n",
      "Training acc over epoch: 0.8734\n",
      "Validation acc: 0.8305\n",
      "\n",
      "Start of epoch 14\n",
      "Training acc over epoch: 0.8734\n",
      "Validation acc: 0.8305\n",
      "\n",
      "Start of epoch 15\n",
      "Training acc over epoch: 0.8734\n",
      "Validation acc: 0.8305\n",
      "\n",
      "Start of epoch 16\n",
      "Training acc over epoch: 0.8734\n",
      "Validation acc: 0.8305\n",
      "\n",
      "Start of epoch 17\n",
      "Training acc over epoch: 0.8734\n",
      "Validation acc: 0.8305\n",
      "\n",
      "Start of epoch 18\n",
      "Training acc over epoch: 0.8734\n",
      "Validation acc: 0.8305\n",
      "\n",
      "Start of epoch 19\n",
      "Training acc over epoch: 0.8734\n",
      "Validation acc: 0.8305\n"
     ]
    },
    {
     "data": {
      "text/html": [
       "<style>\n",
       "    table.wandb td:nth-child(1) { padding: 0 10px; text-align: left ; width: auto;} td:nth-child(2) {text-align: left ; width: 100%}\n",
       "    .wandb-row { display: flex; flex-direction: row; flex-wrap: wrap; justify-content: flex-start; width: 100% }\n",
       "    .wandb-col { display: flex; flex-direction: column; flex-basis: 100%; flex: 1; padding: 10px; }\n",
       "    </style>\n",
       "<div class=\"wandb-row\"><div class=\"wandb-col\"><h3>Run history:</h3><br/><table class=\"wandb\"><tr><td>acc</td><td>▁███████████████████</td></tr><tr><td>epochs</td><td>▁▁▂▂▂▃▃▄▄▄▅▅▅▆▆▇▇▇██</td></tr><tr><td>loss</td><td>█▇▅▃▂▁▁▁▁▁▁▁▁▁▁▁▁▁▁▁</td></tr><tr><td>val_acc</td><td>▁▁▁▁▁▁▁▁▁▁▁▁▁▁▁▁▁▁▁▁</td></tr><tr><td>val_loss</td><td>█▇▅▃▂▁▁▁▁▁▁▁▁▁▁▁▁▁▁▁</td></tr></table><br/></div><div class=\"wandb-col\"><h3>Run summary:</h3><br/><table class=\"wandb\"><tr><td>acc</td><td>0.8734</td></tr><tr><td>epochs</td><td>19</td></tr><tr><td>loss</td><td>0.38573</td></tr><tr><td>val_acc</td><td>0.83051</td></tr><tr><td>val_loss</td><td>0.46766</td></tr></table><br/></div></div>"
      ],
      "text/plain": [
       "<IPython.core.display.HTML object>"
      ]
     },
     "metadata": {},
     "output_type": "display_data"
    },
    {
     "data": {
      "text/html": [
       " View run <strong style=\"color:#cdcd00\">graceful-waterfall-122</strong> at: <a href='https://wandb.ai/shaicahana-hebrew-university-of-jerusalem/my-tf-integration/runs/vi0tdn51' target=\"_blank\">https://wandb.ai/shaicahana-hebrew-university-of-jerusalem/my-tf-integration/runs/vi0tdn51</a><br/> View project at: <a href='https://wandb.ai/shaicahana-hebrew-university-of-jerusalem/my-tf-integration' target=\"_blank\">https://wandb.ai/shaicahana-hebrew-university-of-jerusalem/my-tf-integration</a><br/>Synced 5 W&B file(s), 0 media file(s), 0 artifact file(s) and 0 other file(s)"
      ],
      "text/plain": [
       "<IPython.core.display.HTML object>"
      ]
     },
     "metadata": {},
     "output_type": "display_data"
    },
    {
     "data": {
      "text/html": [
       "Find logs at: <code>./wandb/run-20241026_153503-vi0tdn51/logs</code>"
      ],
      "text/plain": [
       "<IPython.core.display.HTML object>"
      ]
     },
     "metadata": {},
     "output_type": "display_data"
    },
    {
     "data": {
      "text/html": [
       "Tracking run with wandb version 0.18.5"
      ],
      "text/plain": [
       "<IPython.core.display.HTML object>"
      ]
     },
     "metadata": {},
     "output_type": "display_data"
    },
    {
     "data": {
      "text/html": [
       "Run data is saved locally in <code>/Users/shaicahana/Documents/AI_DL/colab/AI-DL/project-1/wandb/run-20241026_153512-gkbw78zy</code>"
      ],
      "text/plain": [
       "<IPython.core.display.HTML object>"
      ]
     },
     "metadata": {},
     "output_type": "display_data"
    },
    {
     "data": {
      "text/html": [
       "Syncing run <strong><a href='https://wandb.ai/shaicahana-hebrew-university-of-jerusalem/my-tf-integration/runs/gkbw78zy' target=\"_blank\">glowing-grass-123</a></strong> to <a href='https://wandb.ai/shaicahana-hebrew-university-of-jerusalem/my-tf-integration' target=\"_blank\">Weights & Biases</a> (<a href='https://wandb.me/run' target=\"_blank\">docs</a>)<br/>"
      ],
      "text/plain": [
       "<IPython.core.display.HTML object>"
      ]
     },
     "metadata": {},
     "output_type": "display_data"
    },
    {
     "data": {
      "text/html": [
       " View project at <a href='https://wandb.ai/shaicahana-hebrew-university-of-jerusalem/my-tf-integration' target=\"_blank\">https://wandb.ai/shaicahana-hebrew-university-of-jerusalem/my-tf-integration</a>"
      ],
      "text/plain": [
       "<IPython.core.display.HTML object>"
      ]
     },
     "metadata": {},
     "output_type": "display_data"
    },
    {
     "data": {
      "text/html": [
       " View run at <a href='https://wandb.ai/shaicahana-hebrew-university-of-jerusalem/my-tf-integration/runs/gkbw78zy' target=\"_blank\">https://wandb.ai/shaicahana-hebrew-university-of-jerusalem/my-tf-integration/runs/gkbw78zy</a>"
      ],
      "text/plain": [
       "<IPython.core.display.HTML object>"
      ]
     },
     "metadata": {},
     "output_type": "display_data"
    },
    {
     "name": "stdout",
     "output_type": "stream",
     "text": [
      "\n",
      "Start of epoch 0\n",
      "Training acc over epoch: 0.6085\n",
      "Validation acc: 0.8305\n",
      "\n",
      "Start of epoch 1\n",
      "Training acc over epoch: 0.8713\n",
      "Validation acc: 0.8305\n",
      "\n",
      "Start of epoch 2\n",
      "Training acc over epoch: 0.8734\n",
      "Validation acc: 0.8305\n",
      "\n",
      "Start of epoch 3\n",
      "Training acc over epoch: 0.8734\n",
      "Validation acc: 0.8305\n",
      "\n",
      "Start of epoch 4\n",
      "Training acc over epoch: 0.8734\n",
      "Validation acc: 0.8305\n",
      "\n",
      "Start of epoch 5\n",
      "Training acc over epoch: 0.8734\n",
      "Validation acc: 0.8305\n",
      "\n",
      "Start of epoch 6\n",
      "Training acc over epoch: 0.8734\n",
      "Validation acc: 0.8305\n",
      "\n",
      "Start of epoch 7\n",
      "Training acc over epoch: 0.8734\n",
      "Validation acc: 0.8305\n",
      "\n",
      "Start of epoch 8\n",
      "Training acc over epoch: 0.8734\n",
      "Validation acc: 0.8305\n",
      "\n",
      "Start of epoch 9\n",
      "Training acc over epoch: 0.8734\n",
      "Validation acc: 0.8305\n",
      "\n",
      "Start of epoch 10\n",
      "Training acc over epoch: 0.8734\n",
      "Validation acc: 0.8305\n",
      "\n",
      "Start of epoch 11\n",
      "Training acc over epoch: 0.8723\n",
      "Validation acc: 0.8305\n",
      "\n",
      "Start of epoch 12\n",
      "Training acc over epoch: 0.8734\n",
      "Validation acc: 0.8305\n",
      "\n",
      "Start of epoch 13\n",
      "Training acc over epoch: 0.8734\n",
      "Validation acc: 0.8305\n",
      "\n",
      "Start of epoch 14\n",
      "Training acc over epoch: 0.8734\n",
      "Validation acc: 0.8305\n",
      "\n",
      "Start of epoch 15\n",
      "Training acc over epoch: 0.8734\n",
      "Validation acc: 0.8305\n",
      "\n",
      "Start of epoch 16\n",
      "Training acc over epoch: 0.8734\n",
      "Validation acc: 0.8305\n",
      "\n",
      "Start of epoch 17\n",
      "Training acc over epoch: 0.8734\n",
      "Validation acc: 0.8305\n",
      "\n",
      "Start of epoch 18\n",
      "Training acc over epoch: 0.8734\n",
      "Validation acc: 0.8305\n",
      "\n",
      "Start of epoch 19\n",
      "Training acc over epoch: 0.8734\n",
      "Validation acc: 0.8305\n"
     ]
    },
    {
     "data": {
      "text/html": [
       "<style>\n",
       "    table.wandb td:nth-child(1) { padding: 0 10px; text-align: left ; width: auto;} td:nth-child(2) {text-align: left ; width: 100%}\n",
       "    .wandb-row { display: flex; flex-direction: row; flex-wrap: wrap; justify-content: flex-start; width: 100% }\n",
       "    .wandb-col { display: flex; flex-direction: column; flex-basis: 100%; flex: 1; padding: 10px; }\n",
       "    </style>\n",
       "<div class=\"wandb-row\"><div class=\"wandb-col\"><h3>Run history:</h3><br/><table class=\"wandb\"><tr><td>acc</td><td>▁███████████████████</td></tr><tr><td>epochs</td><td>▁▁▂▂▂▃▃▄▄▄▅▅▅▆▆▇▇▇██</td></tr><tr><td>loss</td><td>█▆▄▂▂▁▁▁▁▁▁▁▁▁▁▁▁▁▁▁</td></tr><tr><td>val_acc</td><td>▁▁▁▁▁▁▁▁▁▁▁▁▁▁▁▁▁▁▁▁</td></tr><tr><td>val_loss</td><td>█▅▃▂▁▁▁▁▁▁▁▁▁▁▁▁▁▁▁▁</td></tr></table><br/></div><div class=\"wandb-col\"><h3>Run summary:</h3><br/><table class=\"wandb\"><tr><td>acc</td><td>0.8734</td></tr><tr><td>epochs</td><td>19</td></tr><tr><td>loss</td><td>0.39761</td></tr><tr><td>val_acc</td><td>0.83051</td></tr><tr><td>val_loss</td><td>0.46283</td></tr></table><br/></div></div>"
      ],
      "text/plain": [
       "<IPython.core.display.HTML object>"
      ]
     },
     "metadata": {},
     "output_type": "display_data"
    },
    {
     "data": {
      "text/html": [
       " View run <strong style=\"color:#cdcd00\">glowing-grass-123</strong> at: <a href='https://wandb.ai/shaicahana-hebrew-university-of-jerusalem/my-tf-integration/runs/gkbw78zy' target=\"_blank\">https://wandb.ai/shaicahana-hebrew-university-of-jerusalem/my-tf-integration/runs/gkbw78zy</a><br/> View project at: <a href='https://wandb.ai/shaicahana-hebrew-university-of-jerusalem/my-tf-integration' target=\"_blank\">https://wandb.ai/shaicahana-hebrew-university-of-jerusalem/my-tf-integration</a><br/>Synced 5 W&B file(s), 0 media file(s), 0 artifact file(s) and 0 other file(s)"
      ],
      "text/plain": [
       "<IPython.core.display.HTML object>"
      ]
     },
     "metadata": {},
     "output_type": "display_data"
    },
    {
     "data": {
      "text/html": [
       "Find logs at: <code>./wandb/run-20241026_153512-gkbw78zy/logs</code>"
      ],
      "text/plain": [
       "<IPython.core.display.HTML object>"
      ]
     },
     "metadata": {},
     "output_type": "display_data"
    },
    {
     "data": {
      "text/html": [
       "Tracking run with wandb version 0.18.5"
      ],
      "text/plain": [
       "<IPython.core.display.HTML object>"
      ]
     },
     "metadata": {},
     "output_type": "display_data"
    },
    {
     "data": {
      "text/html": [
       "Run data is saved locally in <code>/Users/shaicahana/Documents/AI_DL/colab/AI-DL/project-1/wandb/run-20241026_153523-nv073w59</code>"
      ],
      "text/plain": [
       "<IPython.core.display.HTML object>"
      ]
     },
     "metadata": {},
     "output_type": "display_data"
    },
    {
     "data": {
      "text/html": [
       "Syncing run <strong><a href='https://wandb.ai/shaicahana-hebrew-university-of-jerusalem/my-tf-integration/runs/nv073w59' target=\"_blank\">iconic-monkey-124</a></strong> to <a href='https://wandb.ai/shaicahana-hebrew-university-of-jerusalem/my-tf-integration' target=\"_blank\">Weights & Biases</a> (<a href='https://wandb.me/run' target=\"_blank\">docs</a>)<br/>"
      ],
      "text/plain": [
       "<IPython.core.display.HTML object>"
      ]
     },
     "metadata": {},
     "output_type": "display_data"
    },
    {
     "data": {
      "text/html": [
       " View project at <a href='https://wandb.ai/shaicahana-hebrew-university-of-jerusalem/my-tf-integration' target=\"_blank\">https://wandb.ai/shaicahana-hebrew-university-of-jerusalem/my-tf-integration</a>"
      ],
      "text/plain": [
       "<IPython.core.display.HTML object>"
      ]
     },
     "metadata": {},
     "output_type": "display_data"
    },
    {
     "data": {
      "text/html": [
       " View run at <a href='https://wandb.ai/shaicahana-hebrew-university-of-jerusalem/my-tf-integration/runs/nv073w59' target=\"_blank\">https://wandb.ai/shaicahana-hebrew-university-of-jerusalem/my-tf-integration/runs/nv073w59</a>"
      ],
      "text/plain": [
       "<IPython.core.display.HTML object>"
      ]
     },
     "metadata": {},
     "output_type": "display_data"
    },
    {
     "name": "stdout",
     "output_type": "stream",
     "text": [
      "\n",
      "Start of epoch 0\n",
      "Training acc over epoch: 0.5181\n",
      "Validation acc: 0.8305\n",
      "\n",
      "Start of epoch 1\n",
      "Training acc over epoch: 0.8585\n",
      "Validation acc: 0.8305\n",
      "\n",
      "Start of epoch 2\n",
      "Training acc over epoch: 0.8734\n",
      "Validation acc: 0.8305\n",
      "\n",
      "Start of epoch 3\n",
      "Training acc over epoch: 0.8734\n",
      "Validation acc: 0.8305\n",
      "\n",
      "Start of epoch 4\n",
      "Training acc over epoch: 0.8734\n",
      "Validation acc: 0.8305\n",
      "\n",
      "Start of epoch 5\n",
      "Training acc over epoch: 0.8734\n",
      "Validation acc: 0.8305\n",
      "\n",
      "Start of epoch 6\n",
      "Training acc over epoch: 0.8734\n",
      "Validation acc: 0.8305\n",
      "\n",
      "Start of epoch 7\n",
      "Training acc over epoch: 0.8734\n",
      "Validation acc: 0.8305\n",
      "\n",
      "Start of epoch 8\n",
      "Training acc over epoch: 0.8734\n",
      "Validation acc: 0.8305\n",
      "\n",
      "Start of epoch 9\n",
      "Training acc over epoch: 0.8734\n",
      "Validation acc: 0.8305\n",
      "\n",
      "Start of epoch 10\n",
      "Training acc over epoch: 0.8734\n",
      "Validation acc: 0.8305\n",
      "\n",
      "Start of epoch 11\n",
      "Training acc over epoch: 0.8734\n",
      "Validation acc: 0.8305\n",
      "\n",
      "Start of epoch 12\n",
      "Training acc over epoch: 0.8734\n",
      "Validation acc: 0.8305\n",
      "\n",
      "Start of epoch 13\n",
      "Training acc over epoch: 0.8734\n",
      "Validation acc: 0.8305\n",
      "\n",
      "Start of epoch 14\n",
      "Training acc over epoch: 0.8734\n",
      "Validation acc: 0.8305\n",
      "\n",
      "Start of epoch 15\n",
      "Training acc over epoch: 0.8734\n",
      "Validation acc: 0.8305\n",
      "\n",
      "Start of epoch 16\n",
      "Training acc over epoch: 0.8734\n",
      "Validation acc: 0.8305\n",
      "\n",
      "Start of epoch 17\n",
      "Training acc over epoch: 0.8734\n",
      "Validation acc: 0.8305\n",
      "\n",
      "Start of epoch 18\n",
      "Training acc over epoch: 0.8734\n",
      "Validation acc: 0.8305\n",
      "\n",
      "Start of epoch 19\n",
      "Training acc over epoch: 0.8734\n",
      "Validation acc: 0.8305\n"
     ]
    },
    {
     "data": {
      "text/html": [
       "<style>\n",
       "    table.wandb td:nth-child(1) { padding: 0 10px; text-align: left ; width: auto;} td:nth-child(2) {text-align: left ; width: 100%}\n",
       "    .wandb-row { display: flex; flex-direction: row; flex-wrap: wrap; justify-content: flex-start; width: 100% }\n",
       "    .wandb-col { display: flex; flex-direction: column; flex-basis: 100%; flex: 1; padding: 10px; }\n",
       "    </style>\n",
       "<div class=\"wandb-row\"><div class=\"wandb-col\"><h3>Run history:</h3><br/><table class=\"wandb\"><tr><td>acc</td><td>▁███████████████████</td></tr><tr><td>epochs</td><td>▁▁▂▂▂▃▃▄▄▄▅▅▅▆▆▇▇▇██</td></tr><tr><td>loss</td><td>█▆▄▂▁▁▁▁▁▁▁▁▁▁▁▁▁▁▁▁</td></tr><tr><td>val_acc</td><td>▁▁▁▁▁▁▁▁▁▁▁▁▁▁▁▁▁▁▁▁</td></tr><tr><td>val_loss</td><td>█▅▃▂▁▁▁▁▁▁▁▁▁▁▁▁▁▁▁▁</td></tr></table><br/></div><div class=\"wandb-col\"><h3>Run summary:</h3><br/><table class=\"wandb\"><tr><td>acc</td><td>0.8734</td></tr><tr><td>epochs</td><td>19</td></tr><tr><td>loss</td><td>0.39341</td></tr><tr><td>val_acc</td><td>0.83051</td></tr><tr><td>val_loss</td><td>0.46041</td></tr></table><br/></div></div>"
      ],
      "text/plain": [
       "<IPython.core.display.HTML object>"
      ]
     },
     "metadata": {},
     "output_type": "display_data"
    },
    {
     "data": {
      "text/html": [
       " View run <strong style=\"color:#cdcd00\">iconic-monkey-124</strong> at: <a href='https://wandb.ai/shaicahana-hebrew-university-of-jerusalem/my-tf-integration/runs/nv073w59' target=\"_blank\">https://wandb.ai/shaicahana-hebrew-university-of-jerusalem/my-tf-integration/runs/nv073w59</a><br/> View project at: <a href='https://wandb.ai/shaicahana-hebrew-university-of-jerusalem/my-tf-integration' target=\"_blank\">https://wandb.ai/shaicahana-hebrew-university-of-jerusalem/my-tf-integration</a><br/>Synced 5 W&B file(s), 0 media file(s), 0 artifact file(s) and 0 other file(s)"
      ],
      "text/plain": [
       "<IPython.core.display.HTML object>"
      ]
     },
     "metadata": {},
     "output_type": "display_data"
    },
    {
     "data": {
      "text/html": [
       "Find logs at: <code>./wandb/run-20241026_153523-nv073w59/logs</code>"
      ],
      "text/plain": [
       "<IPython.core.display.HTML object>"
      ]
     },
     "metadata": {},
     "output_type": "display_data"
    },
    {
     "data": {
      "text/html": [
       "Tracking run with wandb version 0.18.5"
      ],
      "text/plain": [
       "<IPython.core.display.HTML object>"
      ]
     },
     "metadata": {},
     "output_type": "display_data"
    },
    {
     "data": {
      "text/html": [
       "Run data is saved locally in <code>/Users/shaicahana/Documents/AI_DL/colab/AI-DL/project-1/wandb/run-20241026_153533-sznt1cxh</code>"
      ],
      "text/plain": [
       "<IPython.core.display.HTML object>"
      ]
     },
     "metadata": {},
     "output_type": "display_data"
    },
    {
     "data": {
      "text/html": [
       "Syncing run <strong><a href='https://wandb.ai/shaicahana-hebrew-university-of-jerusalem/my-tf-integration/runs/sznt1cxh' target=\"_blank\">copper-sound-125</a></strong> to <a href='https://wandb.ai/shaicahana-hebrew-university-of-jerusalem/my-tf-integration' target=\"_blank\">Weights & Biases</a> (<a href='https://wandb.me/run' target=\"_blank\">docs</a>)<br/>"
      ],
      "text/plain": [
       "<IPython.core.display.HTML object>"
      ]
     },
     "metadata": {},
     "output_type": "display_data"
    },
    {
     "data": {
      "text/html": [
       " View project at <a href='https://wandb.ai/shaicahana-hebrew-university-of-jerusalem/my-tf-integration' target=\"_blank\">https://wandb.ai/shaicahana-hebrew-university-of-jerusalem/my-tf-integration</a>"
      ],
      "text/plain": [
       "<IPython.core.display.HTML object>"
      ]
     },
     "metadata": {},
     "output_type": "display_data"
    },
    {
     "data": {
      "text/html": [
       " View run at <a href='https://wandb.ai/shaicahana-hebrew-university-of-jerusalem/my-tf-integration/runs/sznt1cxh' target=\"_blank\">https://wandb.ai/shaicahana-hebrew-university-of-jerusalem/my-tf-integration/runs/sznt1cxh</a>"
      ],
      "text/plain": [
       "<IPython.core.display.HTML object>"
      ]
     },
     "metadata": {},
     "output_type": "display_data"
    },
    {
     "name": "stdout",
     "output_type": "stream",
     "text": [
      "\n",
      "Start of epoch 0\n",
      "Training acc over epoch: 0.7766\n",
      "Validation acc: 0.8305\n",
      "\n",
      "Start of epoch 1\n",
      "Training acc over epoch: 0.8734\n",
      "Validation acc: 0.8305\n",
      "\n",
      "Start of epoch 2\n",
      "Training acc over epoch: 0.8734\n",
      "Validation acc: 0.8305\n",
      "\n",
      "Start of epoch 3\n",
      "Training acc over epoch: 0.8734\n",
      "Validation acc: 0.8305\n",
      "\n",
      "Start of epoch 4\n",
      "Training acc over epoch: 0.8734\n",
      "Validation acc: 0.8305\n",
      "\n",
      "Start of epoch 5\n",
      "Training acc over epoch: 0.8734\n",
      "Validation acc: 0.8305\n",
      "\n",
      "Start of epoch 6\n",
      "Training acc over epoch: 0.8734\n",
      "Validation acc: 0.8305\n",
      "\n",
      "Start of epoch 7\n",
      "Training acc over epoch: 0.8734\n",
      "Validation acc: 0.8305\n",
      "\n",
      "Start of epoch 8\n",
      "Training acc over epoch: 0.8734\n",
      "Validation acc: 0.8305\n",
      "\n",
      "Start of epoch 9\n",
      "Training acc over epoch: 0.8734\n",
      "Validation acc: 0.8305\n",
      "\n",
      "Start of epoch 10\n",
      "Training acc over epoch: 0.8734\n",
      "Validation acc: 0.8305\n",
      "\n",
      "Start of epoch 11\n",
      "Training acc over epoch: 0.8734\n",
      "Validation acc: 0.8305\n",
      "\n",
      "Start of epoch 12\n",
      "Training acc over epoch: 0.8734\n",
      "Validation acc: 0.8305\n",
      "\n",
      "Start of epoch 13\n",
      "Training acc over epoch: 0.8734\n",
      "Validation acc: 0.8305\n",
      "\n",
      "Start of epoch 14\n",
      "Training acc over epoch: 0.8734\n",
      "Validation acc: 0.8305\n",
      "\n",
      "Start of epoch 15\n",
      "Training acc over epoch: 0.8734\n",
      "Validation acc: 0.8305\n",
      "\n",
      "Start of epoch 16\n",
      "Training acc over epoch: 0.8734\n",
      "Validation acc: 0.8305\n",
      "\n",
      "Start of epoch 17\n",
      "Training acc over epoch: 0.8734\n",
      "Validation acc: 0.8305\n",
      "\n",
      "Start of epoch 18\n",
      "Training acc over epoch: 0.8734\n",
      "Validation acc: 0.8305\n",
      "\n",
      "Start of epoch 19\n",
      "Training acc over epoch: 0.8734\n",
      "Validation acc: 0.8305\n"
     ]
    },
    {
     "data": {
      "application/vnd.jupyter.widget-view+json": {
       "model_id": "474123bc0e994df4a08410641d20f3c2",
       "version_major": 2,
       "version_minor": 0
      },
      "text/plain": [
       "VBox(children=(Label(value='0.007 MB of 0.007 MB uploaded\\r'), FloatProgress(value=1.0, max=1.0)))"
      ]
     },
     "metadata": {},
     "output_type": "display_data"
    },
    {
     "data": {
      "text/html": [
       "<style>\n",
       "    table.wandb td:nth-child(1) { padding: 0 10px; text-align: left ; width: auto;} td:nth-child(2) {text-align: left ; width: 100%}\n",
       "    .wandb-row { display: flex; flex-direction: row; flex-wrap: wrap; justify-content: flex-start; width: 100% }\n",
       "    .wandb-col { display: flex; flex-direction: column; flex-basis: 100%; flex: 1; padding: 10px; }\n",
       "    </style>\n",
       "<div class=\"wandb-row\"><div class=\"wandb-col\"><h3>Run history:</h3><br/><table class=\"wandb\"><tr><td>acc</td><td>▁███████████████████</td></tr><tr><td>epochs</td><td>▁▁▂▂▂▃▃▄▄▄▅▅▅▆▆▇▇▇██</td></tr><tr><td>loss</td><td>█▆▄▂▁▁▁▁▁▁▁▁▁▁▁▁▁▁▁▁</td></tr><tr><td>val_acc</td><td>▁▁▁▁▁▁▁▁▁▁▁▁▁▁▁▁▁▁▁▁</td></tr><tr><td>val_loss</td><td>█▆▃▂▁▁▁▁▁▁▁▁▁▁▁▁▁▁▁▁</td></tr></table><br/></div><div class=\"wandb-col\"><h3>Run summary:</h3><br/><table class=\"wandb\"><tr><td>acc</td><td>0.8734</td></tr><tr><td>epochs</td><td>19</td></tr><tr><td>loss</td><td>0.39588</td></tr><tr><td>val_acc</td><td>0.83051</td></tr><tr><td>val_loss</td><td>0.46068</td></tr></table><br/></div></div>"
      ],
      "text/plain": [
       "<IPython.core.display.HTML object>"
      ]
     },
     "metadata": {},
     "output_type": "display_data"
    },
    {
     "data": {
      "text/html": [
       " View run <strong style=\"color:#cdcd00\">copper-sound-125</strong> at: <a href='https://wandb.ai/shaicahana-hebrew-university-of-jerusalem/my-tf-integration/runs/sznt1cxh' target=\"_blank\">https://wandb.ai/shaicahana-hebrew-university-of-jerusalem/my-tf-integration/runs/sznt1cxh</a><br/> View project at: <a href='https://wandb.ai/shaicahana-hebrew-university-of-jerusalem/my-tf-integration' target=\"_blank\">https://wandb.ai/shaicahana-hebrew-university-of-jerusalem/my-tf-integration</a><br/>Synced 5 W&B file(s), 0 media file(s), 0 artifact file(s) and 0 other file(s)"
      ],
      "text/plain": [
       "<IPython.core.display.HTML object>"
      ]
     },
     "metadata": {},
     "output_type": "display_data"
    },
    {
     "data": {
      "text/html": [
       "Find logs at: <code>./wandb/run-20241026_153533-sznt1cxh/logs</code>"
      ],
      "text/plain": [
       "<IPython.core.display.HTML object>"
      ]
     },
     "metadata": {},
     "output_type": "display_data"
    },
    {
     "data": {
      "text/html": [
       "Tracking run with wandb version 0.18.5"
      ],
      "text/plain": [
       "<IPython.core.display.HTML object>"
      ]
     },
     "metadata": {},
     "output_type": "display_data"
    },
    {
     "data": {
      "text/html": [
       "Run data is saved locally in <code>/Users/shaicahana/Documents/AI_DL/colab/AI-DL/project-1/wandb/run-20241026_153545-e9xruhqs</code>"
      ],
      "text/plain": [
       "<IPython.core.display.HTML object>"
      ]
     },
     "metadata": {},
     "output_type": "display_data"
    },
    {
     "data": {
      "text/html": [
       "Syncing run <strong><a href='https://wandb.ai/shaicahana-hebrew-university-of-jerusalem/my-tf-integration/runs/e9xruhqs' target=\"_blank\">good-valley-126</a></strong> to <a href='https://wandb.ai/shaicahana-hebrew-university-of-jerusalem/my-tf-integration' target=\"_blank\">Weights & Biases</a> (<a href='https://wandb.me/run' target=\"_blank\">docs</a>)<br/>"
      ],
      "text/plain": [
       "<IPython.core.display.HTML object>"
      ]
     },
     "metadata": {},
     "output_type": "display_data"
    },
    {
     "data": {
      "text/html": [
       " View project at <a href='https://wandb.ai/shaicahana-hebrew-university-of-jerusalem/my-tf-integration' target=\"_blank\">https://wandb.ai/shaicahana-hebrew-university-of-jerusalem/my-tf-integration</a>"
      ],
      "text/plain": [
       "<IPython.core.display.HTML object>"
      ]
     },
     "metadata": {},
     "output_type": "display_data"
    },
    {
     "data": {
      "text/html": [
       " View run at <a href='https://wandb.ai/shaicahana-hebrew-university-of-jerusalem/my-tf-integration/runs/e9xruhqs' target=\"_blank\">https://wandb.ai/shaicahana-hebrew-university-of-jerusalem/my-tf-integration/runs/e9xruhqs</a>"
      ],
      "text/plain": [
       "<IPython.core.display.HTML object>"
      ]
     },
     "metadata": {},
     "output_type": "display_data"
    },
    {
     "name": "stdout",
     "output_type": "stream",
     "text": [
      "\n",
      "Start of epoch 0\n",
      "Training acc over epoch: 0.4351\n",
      "Validation acc: 0.8305\n",
      "\n",
      "Start of epoch 1\n",
      "Training acc over epoch: 0.8670\n",
      "Validation acc: 0.8305\n",
      "\n",
      "Start of epoch 2\n",
      "Training acc over epoch: 0.8734\n",
      "Validation acc: 0.8305\n",
      "\n",
      "Start of epoch 3\n",
      "Training acc over epoch: 0.8734\n",
      "Validation acc: 0.8305\n",
      "\n",
      "Start of epoch 4\n",
      "Training acc over epoch: 0.8734\n",
      "Validation acc: 0.8305\n",
      "\n",
      "Start of epoch 5\n",
      "Training acc over epoch: 0.8734\n",
      "Validation acc: 0.8305\n",
      "\n",
      "Start of epoch 6\n",
      "Training acc over epoch: 0.8734\n",
      "Validation acc: 0.8305\n",
      "\n",
      "Start of epoch 7\n",
      "Training acc over epoch: 0.8734\n",
      "Validation acc: 0.8305\n",
      "\n",
      "Start of epoch 8\n",
      "Training acc over epoch: 0.8734\n",
      "Validation acc: 0.8305\n",
      "\n",
      "Start of epoch 9\n",
      "Training acc over epoch: 0.8734\n",
      "Validation acc: 0.8305\n",
      "\n",
      "Start of epoch 10\n",
      "Training acc over epoch: 0.8734\n",
      "Validation acc: 0.8305\n",
      "\n",
      "Start of epoch 11\n",
      "Training acc over epoch: 0.8734\n",
      "Validation acc: 0.8305\n",
      "\n",
      "Start of epoch 12\n",
      "Training acc over epoch: 0.8734\n",
      "Validation acc: 0.8305\n",
      "\n",
      "Start of epoch 13\n",
      "Training acc over epoch: 0.8734\n",
      "Validation acc: 0.8305\n",
      "\n",
      "Start of epoch 14\n",
      "Training acc over epoch: 0.8734\n",
      "Validation acc: 0.8305\n",
      "\n",
      "Start of epoch 15\n",
      "Training acc over epoch: 0.8734\n",
      "Validation acc: 0.8305\n",
      "\n",
      "Start of epoch 16\n",
      "Training acc over epoch: 0.8734\n",
      "Validation acc: 0.8305\n",
      "\n",
      "Start of epoch 17\n",
      "Training acc over epoch: 0.8734\n",
      "Validation acc: 0.8305\n",
      "\n",
      "Start of epoch 18\n",
      "Training acc over epoch: 0.8734\n",
      "Validation acc: 0.8305\n",
      "\n",
      "Start of epoch 19\n",
      "Training acc over epoch: 0.8734\n",
      "Validation acc: 0.8305\n"
     ]
    },
    {
     "data": {
      "text/html": [
       "<style>\n",
       "    table.wandb td:nth-child(1) { padding: 0 10px; text-align: left ; width: auto;} td:nth-child(2) {text-align: left ; width: 100%}\n",
       "    .wandb-row { display: flex; flex-direction: row; flex-wrap: wrap; justify-content: flex-start; width: 100% }\n",
       "    .wandb-col { display: flex; flex-direction: column; flex-basis: 100%; flex: 1; padding: 10px; }\n",
       "    </style>\n",
       "<div class=\"wandb-row\"><div class=\"wandb-col\"><h3>Run history:</h3><br/><table class=\"wandb\"><tr><td>acc</td><td>▁███████████████████</td></tr><tr><td>epochs</td><td>▁▁▂▂▂▃▃▄▄▄▅▅▅▆▆▇▇▇██</td></tr><tr><td>loss</td><td>█▆▄▂▁▁▁▁▁▁▁▁▁▁▁▁▁▁▁▁</td></tr><tr><td>val_acc</td><td>▁▁▁▁▁▁▁▁▁▁▁▁▁▁▁▁▁▁▁▁</td></tr><tr><td>val_loss</td><td>█▅▃▂▁▁▁▁▁▁▁▁▁▁▁▁▁▁▁▁</td></tr></table><br/></div><div class=\"wandb-col\"><h3>Run summary:</h3><br/><table class=\"wandb\"><tr><td>acc</td><td>0.8734</td></tr><tr><td>epochs</td><td>19</td></tr><tr><td>loss</td><td>0.38651</td></tr><tr><td>val_acc</td><td>0.83051</td></tr><tr><td>val_loss</td><td>0.47622</td></tr></table><br/></div></div>"
      ],
      "text/plain": [
       "<IPython.core.display.HTML object>"
      ]
     },
     "metadata": {},
     "output_type": "display_data"
    },
    {
     "data": {
      "text/html": [
       " View run <strong style=\"color:#cdcd00\">good-valley-126</strong> at: <a href='https://wandb.ai/shaicahana-hebrew-university-of-jerusalem/my-tf-integration/runs/e9xruhqs' target=\"_blank\">https://wandb.ai/shaicahana-hebrew-university-of-jerusalem/my-tf-integration/runs/e9xruhqs</a><br/> View project at: <a href='https://wandb.ai/shaicahana-hebrew-university-of-jerusalem/my-tf-integration' target=\"_blank\">https://wandb.ai/shaicahana-hebrew-university-of-jerusalem/my-tf-integration</a><br/>Synced 5 W&B file(s), 0 media file(s), 0 artifact file(s) and 0 other file(s)"
      ],
      "text/plain": [
       "<IPython.core.display.HTML object>"
      ]
     },
     "metadata": {},
     "output_type": "display_data"
    },
    {
     "data": {
      "text/html": [
       "Find logs at: <code>./wandb/run-20241026_153545-e9xruhqs/logs</code>"
      ],
      "text/plain": [
       "<IPython.core.display.HTML object>"
      ]
     },
     "metadata": {},
     "output_type": "display_data"
    },
    {
     "data": {
      "text/html": [
       "Tracking run with wandb version 0.18.5"
      ],
      "text/plain": [
       "<IPython.core.display.HTML object>"
      ]
     },
     "metadata": {},
     "output_type": "display_data"
    },
    {
     "data": {
      "text/html": [
       "Run data is saved locally in <code>/Users/shaicahana/Documents/AI_DL/colab/AI-DL/project-1/wandb/run-20241026_153555-r1i34e5q</code>"
      ],
      "text/plain": [
       "<IPython.core.display.HTML object>"
      ]
     },
     "metadata": {},
     "output_type": "display_data"
    },
    {
     "data": {
      "text/html": [
       "Syncing run <strong><a href='https://wandb.ai/shaicahana-hebrew-university-of-jerusalem/my-tf-integration/runs/r1i34e5q' target=\"_blank\">fiery-sound-127</a></strong> to <a href='https://wandb.ai/shaicahana-hebrew-university-of-jerusalem/my-tf-integration' target=\"_blank\">Weights & Biases</a> (<a href='https://wandb.me/run' target=\"_blank\">docs</a>)<br/>"
      ],
      "text/plain": [
       "<IPython.core.display.HTML object>"
      ]
     },
     "metadata": {},
     "output_type": "display_data"
    },
    {
     "data": {
      "text/html": [
       " View project at <a href='https://wandb.ai/shaicahana-hebrew-university-of-jerusalem/my-tf-integration' target=\"_blank\">https://wandb.ai/shaicahana-hebrew-university-of-jerusalem/my-tf-integration</a>"
      ],
      "text/plain": [
       "<IPython.core.display.HTML object>"
      ]
     },
     "metadata": {},
     "output_type": "display_data"
    },
    {
     "data": {
      "text/html": [
       " View run at <a href='https://wandb.ai/shaicahana-hebrew-university-of-jerusalem/my-tf-integration/runs/r1i34e5q' target=\"_blank\">https://wandb.ai/shaicahana-hebrew-university-of-jerusalem/my-tf-integration/runs/r1i34e5q</a>"
      ],
      "text/plain": [
       "<IPython.core.display.HTML object>"
      ]
     },
     "metadata": {},
     "output_type": "display_data"
    },
    {
     "name": "stdout",
     "output_type": "stream",
     "text": [
      "\n",
      "Start of epoch 0\n",
      "Training acc over epoch: 0.5511\n",
      "Validation acc: 0.8305\n",
      "\n",
      "Start of epoch 1\n",
      "Training acc over epoch: 0.8670\n",
      "Validation acc: 0.8305\n",
      "\n",
      "Start of epoch 2\n",
      "Training acc over epoch: 0.8734\n",
      "Validation acc: 0.8305\n",
      "\n",
      "Start of epoch 3\n",
      "Training acc over epoch: 0.8734\n",
      "Validation acc: 0.8305\n",
      "\n",
      "Start of epoch 4\n",
      "Training acc over epoch: 0.8734\n",
      "Validation acc: 0.8305\n",
      "\n",
      "Start of epoch 5\n",
      "Training acc over epoch: 0.8734\n",
      "Validation acc: 0.8305\n",
      "\n",
      "Start of epoch 6\n",
      "Training acc over epoch: 0.8734\n",
      "Validation acc: 0.8305\n",
      "\n",
      "Start of epoch 7\n",
      "Training acc over epoch: 0.8734\n",
      "Validation acc: 0.8305\n",
      "\n",
      "Start of epoch 8\n",
      "Training acc over epoch: 0.8734\n",
      "Validation acc: 0.8305\n",
      "\n",
      "Start of epoch 9\n",
      "Training acc over epoch: 0.8734\n",
      "Validation acc: 0.8305\n",
      "\n",
      "Start of epoch 10\n",
      "Training acc over epoch: 0.8734\n",
      "Validation acc: 0.8305\n",
      "\n",
      "Start of epoch 11\n",
      "Training acc over epoch: 0.8734\n",
      "Validation acc: 0.8305\n",
      "\n",
      "Start of epoch 12\n",
      "Training acc over epoch: 0.8734\n",
      "Validation acc: 0.8305\n",
      "\n",
      "Start of epoch 13\n",
      "Training acc over epoch: 0.8734\n",
      "Validation acc: 0.8305\n",
      "\n",
      "Start of epoch 14\n",
      "Training acc over epoch: 0.8734\n",
      "Validation acc: 0.8305\n",
      "\n",
      "Start of epoch 15\n",
      "Training acc over epoch: 0.8734\n",
      "Validation acc: 0.8305\n",
      "\n",
      "Start of epoch 16\n",
      "Training acc over epoch: 0.8734\n",
      "Validation acc: 0.8305\n",
      "\n",
      "Start of epoch 17\n",
      "Training acc over epoch: 0.8734\n",
      "Validation acc: 0.8305\n",
      "\n",
      "Start of epoch 18\n",
      "Training acc over epoch: 0.8734\n",
      "Validation acc: 0.8305\n",
      "\n",
      "Start of epoch 19\n",
      "Training acc over epoch: 0.8734\n",
      "Validation acc: 0.8305\n"
     ]
    },
    {
     "data": {
      "text/html": [
       "<style>\n",
       "    table.wandb td:nth-child(1) { padding: 0 10px; text-align: left ; width: auto;} td:nth-child(2) {text-align: left ; width: 100%}\n",
       "    .wandb-row { display: flex; flex-direction: row; flex-wrap: wrap; justify-content: flex-start; width: 100% }\n",
       "    .wandb-col { display: flex; flex-direction: column; flex-basis: 100%; flex: 1; padding: 10px; }\n",
       "    </style>\n",
       "<div class=\"wandb-row\"><div class=\"wandb-col\"><h3>Run history:</h3><br/><table class=\"wandb\"><tr><td>acc</td><td>▁███████████████████</td></tr><tr><td>epochs</td><td>▁▁▂▂▂▃▃▄▄▄▅▅▅▆▆▇▇▇██</td></tr><tr><td>loss</td><td>█▆▄▂▁▁▁▁▁▁▁▁▁▁▁▁▁▁▁▁</td></tr><tr><td>val_acc</td><td>▁▁▁▁▁▁▁▁▁▁▁▁▁▁▁▁▁▁▁▁</td></tr><tr><td>val_loss</td><td>█▅▃▂▁▁▁▁▁▁▁▁▁▁▁▁▁▁▁▁</td></tr></table><br/></div><div class=\"wandb-col\"><h3>Run summary:</h3><br/><table class=\"wandb\"><tr><td>acc</td><td>0.8734</td></tr><tr><td>epochs</td><td>19</td></tr><tr><td>loss</td><td>0.38691</td></tr><tr><td>val_acc</td><td>0.83051</td></tr><tr><td>val_loss</td><td>0.45568</td></tr></table><br/></div></div>"
      ],
      "text/plain": [
       "<IPython.core.display.HTML object>"
      ]
     },
     "metadata": {},
     "output_type": "display_data"
    },
    {
     "data": {
      "text/html": [
       " View run <strong style=\"color:#cdcd00\">fiery-sound-127</strong> at: <a href='https://wandb.ai/shaicahana-hebrew-university-of-jerusalem/my-tf-integration/runs/r1i34e5q' target=\"_blank\">https://wandb.ai/shaicahana-hebrew-university-of-jerusalem/my-tf-integration/runs/r1i34e5q</a><br/> View project at: <a href='https://wandb.ai/shaicahana-hebrew-university-of-jerusalem/my-tf-integration' target=\"_blank\">https://wandb.ai/shaicahana-hebrew-university-of-jerusalem/my-tf-integration</a><br/>Synced 5 W&B file(s), 0 media file(s), 0 artifact file(s) and 0 other file(s)"
      ],
      "text/plain": [
       "<IPython.core.display.HTML object>"
      ]
     },
     "metadata": {},
     "output_type": "display_data"
    },
    {
     "data": {
      "text/html": [
       "Find logs at: <code>./wandb/run-20241026_153555-r1i34e5q/logs</code>"
      ],
      "text/plain": [
       "<IPython.core.display.HTML object>"
      ]
     },
     "metadata": {},
     "output_type": "display_data"
    },
    {
     "data": {
      "text/html": [
       "Tracking run with wandb version 0.18.5"
      ],
      "text/plain": [
       "<IPython.core.display.HTML object>"
      ]
     },
     "metadata": {},
     "output_type": "display_data"
    },
    {
     "data": {
      "text/html": [
       "Run data is saved locally in <code>/Users/shaicahana/Documents/AI_DL/colab/AI-DL/project-1/wandb/run-20241026_153606-bgij7o9v</code>"
      ],
      "text/plain": [
       "<IPython.core.display.HTML object>"
      ]
     },
     "metadata": {},
     "output_type": "display_data"
    },
    {
     "data": {
      "text/html": [
       "Syncing run <strong><a href='https://wandb.ai/shaicahana-hebrew-university-of-jerusalem/my-tf-integration/runs/bgij7o9v' target=\"_blank\">rich-sponge-128</a></strong> to <a href='https://wandb.ai/shaicahana-hebrew-university-of-jerusalem/my-tf-integration' target=\"_blank\">Weights & Biases</a> (<a href='https://wandb.me/run' target=\"_blank\">docs</a>)<br/>"
      ],
      "text/plain": [
       "<IPython.core.display.HTML object>"
      ]
     },
     "metadata": {},
     "output_type": "display_data"
    },
    {
     "data": {
      "text/html": [
       " View project at <a href='https://wandb.ai/shaicahana-hebrew-university-of-jerusalem/my-tf-integration' target=\"_blank\">https://wandb.ai/shaicahana-hebrew-university-of-jerusalem/my-tf-integration</a>"
      ],
      "text/plain": [
       "<IPython.core.display.HTML object>"
      ]
     },
     "metadata": {},
     "output_type": "display_data"
    },
    {
     "data": {
      "text/html": [
       " View run at <a href='https://wandb.ai/shaicahana-hebrew-university-of-jerusalem/my-tf-integration/runs/bgij7o9v' target=\"_blank\">https://wandb.ai/shaicahana-hebrew-university-of-jerusalem/my-tf-integration/runs/bgij7o9v</a>"
      ],
      "text/plain": [
       "<IPython.core.display.HTML object>"
      ]
     },
     "metadata": {},
     "output_type": "display_data"
    },
    {
     "name": "stdout",
     "output_type": "stream",
     "text": [
      "\n",
      "Start of epoch 0\n",
      "Training acc over epoch: 0.6777\n",
      "Validation acc: 0.8305\n",
      "\n",
      "Start of epoch 1\n",
      "Training acc over epoch: 0.8734\n",
      "Validation acc: 0.8305\n",
      "\n",
      "Start of epoch 2\n",
      "Training acc over epoch: 0.8734\n",
      "Validation acc: 0.8305\n",
      "\n",
      "Start of epoch 3\n",
      "Training acc over epoch: 0.8734\n",
      "Validation acc: 0.8305\n",
      "\n",
      "Start of epoch 4\n",
      "Training acc over epoch: 0.8734\n",
      "Validation acc: 0.8305\n",
      "\n",
      "Start of epoch 5\n",
      "Training acc over epoch: 0.8734\n",
      "Validation acc: 0.8305\n",
      "\n",
      "Start of epoch 6\n",
      "Training acc over epoch: 0.8734\n",
      "Validation acc: 0.8305\n",
      "\n",
      "Start of epoch 7\n",
      "Training acc over epoch: 0.8734\n",
      "Validation acc: 0.8305\n",
      "\n",
      "Start of epoch 8\n",
      "Training acc over epoch: 0.8734\n",
      "Validation acc: 0.8305\n",
      "\n",
      "Start of epoch 9\n",
      "Training acc over epoch: 0.8734\n",
      "Validation acc: 0.8305\n",
      "\n",
      "Start of epoch 10\n",
      "Training acc over epoch: 0.8734\n",
      "Validation acc: 0.8305\n",
      "\n",
      "Start of epoch 11\n",
      "Training acc over epoch: 0.8734\n",
      "Validation acc: 0.8305\n",
      "\n",
      "Start of epoch 12\n",
      "Training acc over epoch: 0.8734\n",
      "Validation acc: 0.8305\n",
      "\n",
      "Start of epoch 13\n",
      "Training acc over epoch: 0.8734\n",
      "Validation acc: 0.8305\n",
      "\n",
      "Start of epoch 14\n",
      "Training acc over epoch: 0.8734\n",
      "Validation acc: 0.8305\n",
      "\n",
      "Start of epoch 15\n",
      "Training acc over epoch: 0.8734\n",
      "Validation acc: 0.8305\n",
      "\n",
      "Start of epoch 16\n",
      "Training acc over epoch: 0.8734\n",
      "Validation acc: 0.8305\n",
      "\n",
      "Start of epoch 17\n",
      "Training acc over epoch: 0.8734\n",
      "Validation acc: 0.8305\n",
      "\n",
      "Start of epoch 18\n",
      "Training acc over epoch: 0.8734\n",
      "Validation acc: 0.8305\n",
      "\n",
      "Start of epoch 19\n",
      "Training acc over epoch: 0.8734\n",
      "Validation acc: 0.8305\n"
     ]
    },
    {
     "data": {
      "text/html": [
       "<style>\n",
       "    table.wandb td:nth-child(1) { padding: 0 10px; text-align: left ; width: auto;} td:nth-child(2) {text-align: left ; width: 100%}\n",
       "    .wandb-row { display: flex; flex-direction: row; flex-wrap: wrap; justify-content: flex-start; width: 100% }\n",
       "    .wandb-col { display: flex; flex-direction: column; flex-basis: 100%; flex: 1; padding: 10px; }\n",
       "    </style>\n",
       "<div class=\"wandb-row\"><div class=\"wandb-col\"><h3>Run history:</h3><br/><table class=\"wandb\"><tr><td>acc</td><td>▁███████████████████</td></tr><tr><td>epochs</td><td>▁▁▂▂▂▃▃▄▄▄▅▅▅▆▆▇▇▇██</td></tr><tr><td>loss</td><td>█▇▅▂▂▁▁▁▁▁▁▁▁▁▁▁▁▁▁▁</td></tr><tr><td>val_acc</td><td>▁▁▁▁▁▁▁▁▁▁▁▁▁▁▁▁▁▁▁▁</td></tr><tr><td>val_loss</td><td>█▆▄▂▂▁▁▁▁▁▁▁▁▁▁▁▁▁▁▁</td></tr></table><br/></div><div class=\"wandb-col\"><h3>Run summary:</h3><br/><table class=\"wandb\"><tr><td>acc</td><td>0.8734</td></tr><tr><td>epochs</td><td>19</td></tr><tr><td>loss</td><td>0.39352</td></tr><tr><td>val_acc</td><td>0.83051</td></tr><tr><td>val_loss</td><td>0.47782</td></tr></table><br/></div></div>"
      ],
      "text/plain": [
       "<IPython.core.display.HTML object>"
      ]
     },
     "metadata": {},
     "output_type": "display_data"
    },
    {
     "data": {
      "text/html": [
       " View run <strong style=\"color:#cdcd00\">rich-sponge-128</strong> at: <a href='https://wandb.ai/shaicahana-hebrew-university-of-jerusalem/my-tf-integration/runs/bgij7o9v' target=\"_blank\">https://wandb.ai/shaicahana-hebrew-university-of-jerusalem/my-tf-integration/runs/bgij7o9v</a><br/> View project at: <a href='https://wandb.ai/shaicahana-hebrew-university-of-jerusalem/my-tf-integration' target=\"_blank\">https://wandb.ai/shaicahana-hebrew-university-of-jerusalem/my-tf-integration</a><br/>Synced 5 W&B file(s), 0 media file(s), 0 artifact file(s) and 0 other file(s)"
      ],
      "text/plain": [
       "<IPython.core.display.HTML object>"
      ]
     },
     "metadata": {},
     "output_type": "display_data"
    },
    {
     "data": {
      "text/html": [
       "Find logs at: <code>./wandb/run-20241026_153606-bgij7o9v/logs</code>"
      ],
      "text/plain": [
       "<IPython.core.display.HTML object>"
      ]
     },
     "metadata": {},
     "output_type": "display_data"
    },
    {
     "data": {
      "text/html": [
       "Tracking run with wandb version 0.18.5"
      ],
      "text/plain": [
       "<IPython.core.display.HTML object>"
      ]
     },
     "metadata": {},
     "output_type": "display_data"
    },
    {
     "data": {
      "text/html": [
       "Run data is saved locally in <code>/Users/shaicahana/Documents/AI_DL/colab/AI-DL/project-1/wandb/run-20241026_153615-wof5mfn6</code>"
      ],
      "text/plain": [
       "<IPython.core.display.HTML object>"
      ]
     },
     "metadata": {},
     "output_type": "display_data"
    },
    {
     "data": {
      "text/html": [
       "Syncing run <strong><a href='https://wandb.ai/shaicahana-hebrew-university-of-jerusalem/my-tf-integration/runs/wof5mfn6' target=\"_blank\">ruby-paper-129</a></strong> to <a href='https://wandb.ai/shaicahana-hebrew-university-of-jerusalem/my-tf-integration' target=\"_blank\">Weights & Biases</a> (<a href='https://wandb.me/run' target=\"_blank\">docs</a>)<br/>"
      ],
      "text/plain": [
       "<IPython.core.display.HTML object>"
      ]
     },
     "metadata": {},
     "output_type": "display_data"
    },
    {
     "data": {
      "text/html": [
       " View project at <a href='https://wandb.ai/shaicahana-hebrew-university-of-jerusalem/my-tf-integration' target=\"_blank\">https://wandb.ai/shaicahana-hebrew-university-of-jerusalem/my-tf-integration</a>"
      ],
      "text/plain": [
       "<IPython.core.display.HTML object>"
      ]
     },
     "metadata": {},
     "output_type": "display_data"
    },
    {
     "data": {
      "text/html": [
       " View run at <a href='https://wandb.ai/shaicahana-hebrew-university-of-jerusalem/my-tf-integration/runs/wof5mfn6' target=\"_blank\">https://wandb.ai/shaicahana-hebrew-university-of-jerusalem/my-tf-integration/runs/wof5mfn6</a>"
      ],
      "text/plain": [
       "<IPython.core.display.HTML object>"
      ]
     },
     "metadata": {},
     "output_type": "display_data"
    },
    {
     "name": "stdout",
     "output_type": "stream",
     "text": [
      "\n",
      "Start of epoch 0\n",
      "Training acc over epoch: 0.2782\n",
      "Validation acc: 0.8584\n",
      "\n",
      "Start of epoch 1\n",
      "Training acc over epoch: 0.8131\n",
      "Validation acc: 0.8584\n",
      "\n",
      "Start of epoch 2\n",
      "Training acc over epoch: 0.8657\n",
      "Validation acc: 0.8584\n",
      "\n",
      "Start of epoch 3\n",
      "Training acc over epoch: 0.8657\n",
      "Validation acc: 0.8584\n",
      "\n",
      "Start of epoch 4\n",
      "Training acc over epoch: 0.8657\n",
      "Validation acc: 0.8584\n",
      "\n",
      "Start of epoch 5\n",
      "Training acc over epoch: 0.8657\n",
      "Validation acc: 0.8584\n",
      "\n",
      "Start of epoch 6\n",
      "Training acc over epoch: 0.8657\n",
      "Validation acc: 0.8584\n",
      "\n",
      "Start of epoch 7\n",
      "Training acc over epoch: 0.8647\n",
      "Validation acc: 0.8584\n",
      "\n",
      "Start of epoch 8\n",
      "Training acc over epoch: 0.8647\n",
      "Validation acc: 0.8584\n",
      "\n",
      "Start of epoch 9\n",
      "Training acc over epoch: 0.8657\n",
      "Validation acc: 0.8584\n",
      "\n",
      "Start of epoch 10\n",
      "Training acc over epoch: 0.8668\n",
      "Validation acc: 0.8584\n",
      "\n",
      "Start of epoch 11\n",
      "Training acc over epoch: 0.8625\n",
      "Validation acc: 0.8584\n",
      "\n",
      "Start of epoch 12\n",
      "Training acc over epoch: 0.8636\n",
      "Validation acc: 0.8584\n",
      "\n",
      "Start of epoch 13\n",
      "Training acc over epoch: 0.8647\n",
      "Validation acc: 0.8584\n",
      "\n",
      "Start of epoch 14\n",
      "Training acc over epoch: 0.8636\n",
      "Validation acc: 0.8584\n",
      "\n",
      "Start of epoch 15\n",
      "Training acc over epoch: 0.8668\n",
      "Validation acc: 0.8584\n",
      "\n",
      "Start of epoch 16\n",
      "Training acc over epoch: 0.8647\n",
      "Validation acc: 0.8584\n",
      "\n",
      "Start of epoch 17\n",
      "Training acc over epoch: 0.8657\n",
      "Validation acc: 0.8584\n",
      "\n",
      "Start of epoch 18\n",
      "Training acc over epoch: 0.8647\n",
      "Validation acc: 0.8584\n",
      "\n",
      "Start of epoch 19\n",
      "Training acc over epoch: 0.8657\n",
      "Validation acc: 0.8584\n"
     ]
    },
    {
     "data": {
      "text/html": [
       "<style>\n",
       "    table.wandb td:nth-child(1) { padding: 0 10px; text-align: left ; width: auto;} td:nth-child(2) {text-align: left ; width: 100%}\n",
       "    .wandb-row { display: flex; flex-direction: row; flex-wrap: wrap; justify-content: flex-start; width: 100% }\n",
       "    .wandb-col { display: flex; flex-direction: column; flex-basis: 100%; flex: 1; padding: 10px; }\n",
       "    </style>\n",
       "<div class=\"wandb-row\"><div class=\"wandb-col\"><h3>Run history:</h3><br/><table class=\"wandb\"><tr><td>acc</td><td>▁▇██████████████████</td></tr><tr><td>epochs</td><td>▁▁▂▂▂▃▃▄▄▄▅▅▅▆▆▇▇▇██</td></tr><tr><td>loss</td><td>█▇▅▄▂▂▁▁▁▁▁▁▁▁▁▁▁▁▁▁</td></tr><tr><td>val_acc</td><td>▁▁▁▁▁▁▁▁▁▁▁▁▁▁▁▁▁▁▁▁</td></tr><tr><td>val_loss</td><td>█▇▅▃▂▁▁▁▁▁▁▁▁▁▁▁▁▁▁▁</td></tr></table><br/></div><div class=\"wandb-col\"><h3>Run summary:</h3><br/><table class=\"wandb\"><tr><td>acc</td><td>0.86574</td></tr><tr><td>epochs</td><td>19</td></tr><tr><td>loss</td><td>0.41657</td></tr><tr><td>val_acc</td><td>0.85837</td></tr><tr><td>val_loss</td><td>0.40774</td></tr></table><br/></div></div>"
      ],
      "text/plain": [
       "<IPython.core.display.HTML object>"
      ]
     },
     "metadata": {},
     "output_type": "display_data"
    },
    {
     "data": {
      "text/html": [
       " View run <strong style=\"color:#cdcd00\">ruby-paper-129</strong> at: <a href='https://wandb.ai/shaicahana-hebrew-university-of-jerusalem/my-tf-integration/runs/wof5mfn6' target=\"_blank\">https://wandb.ai/shaicahana-hebrew-university-of-jerusalem/my-tf-integration/runs/wof5mfn6</a><br/> View project at: <a href='https://wandb.ai/shaicahana-hebrew-university-of-jerusalem/my-tf-integration' target=\"_blank\">https://wandb.ai/shaicahana-hebrew-university-of-jerusalem/my-tf-integration</a><br/>Synced 5 W&B file(s), 0 media file(s), 0 artifact file(s) and 0 other file(s)"
      ],
      "text/plain": [
       "<IPython.core.display.HTML object>"
      ]
     },
     "metadata": {},
     "output_type": "display_data"
    },
    {
     "data": {
      "text/html": [
       "Find logs at: <code>./wandb/run-20241026_153615-wof5mfn6/logs</code>"
      ],
      "text/plain": [
       "<IPython.core.display.HTML object>"
      ]
     },
     "metadata": {},
     "output_type": "display_data"
    },
    {
     "data": {
      "text/html": [
       "Tracking run with wandb version 0.18.5"
      ],
      "text/plain": [
       "<IPython.core.display.HTML object>"
      ]
     },
     "metadata": {},
     "output_type": "display_data"
    },
    {
     "data": {
      "text/html": [
       "Run data is saved locally in <code>/Users/shaicahana/Documents/AI_DL/colab/AI-DL/project-1/wandb/run-20241026_153625-jss3ujqj</code>"
      ],
      "text/plain": [
       "<IPython.core.display.HTML object>"
      ]
     },
     "metadata": {},
     "output_type": "display_data"
    },
    {
     "data": {
      "text/html": [
       "Syncing run <strong><a href='https://wandb.ai/shaicahana-hebrew-university-of-jerusalem/my-tf-integration/runs/jss3ujqj' target=\"_blank\">crimson-grass-130</a></strong> to <a href='https://wandb.ai/shaicahana-hebrew-university-of-jerusalem/my-tf-integration' target=\"_blank\">Weights & Biases</a> (<a href='https://wandb.me/run' target=\"_blank\">docs</a>)<br/>"
      ],
      "text/plain": [
       "<IPython.core.display.HTML object>"
      ]
     },
     "metadata": {},
     "output_type": "display_data"
    },
    {
     "data": {
      "text/html": [
       " View project at <a href='https://wandb.ai/shaicahana-hebrew-university-of-jerusalem/my-tf-integration' target=\"_blank\">https://wandb.ai/shaicahana-hebrew-university-of-jerusalem/my-tf-integration</a>"
      ],
      "text/plain": [
       "<IPython.core.display.HTML object>"
      ]
     },
     "metadata": {},
     "output_type": "display_data"
    },
    {
     "data": {
      "text/html": [
       " View run at <a href='https://wandb.ai/shaicahana-hebrew-university-of-jerusalem/my-tf-integration/runs/jss3ujqj' target=\"_blank\">https://wandb.ai/shaicahana-hebrew-university-of-jerusalem/my-tf-integration/runs/jss3ujqj</a>"
      ],
      "text/plain": [
       "<IPython.core.display.HTML object>"
      ]
     },
     "metadata": {},
     "output_type": "display_data"
    },
    {
     "name": "stdout",
     "output_type": "stream",
     "text": [
      "\n",
      "Start of epoch 0\n",
      "Training acc over epoch: 0.4547\n",
      "Validation acc: 0.8498\n",
      "\n",
      "Start of epoch 1\n",
      "Training acc over epoch: 0.8556\n",
      "Validation acc: 0.8498\n",
      "\n",
      "Start of epoch 2\n",
      "Training acc over epoch: 0.8675\n",
      "Validation acc: 0.8498\n",
      "\n",
      "Start of epoch 3\n",
      "Training acc over epoch: 0.8675\n",
      "Validation acc: 0.8498\n",
      "\n",
      "Start of epoch 4\n",
      "Training acc over epoch: 0.8675\n",
      "Validation acc: 0.8498\n",
      "\n",
      "Start of epoch 5\n",
      "Training acc over epoch: 0.8675\n",
      "Validation acc: 0.8498\n",
      "\n",
      "Start of epoch 6\n",
      "Training acc over epoch: 0.8675\n",
      "Validation acc: 0.8498\n",
      "\n",
      "Start of epoch 7\n",
      "Training acc over epoch: 0.8675\n",
      "Validation acc: 0.8498\n",
      "\n",
      "Start of epoch 8\n",
      "Training acc over epoch: 0.8675\n",
      "Validation acc: 0.8498\n",
      "\n",
      "Start of epoch 9\n",
      "Training acc over epoch: 0.8675\n",
      "Validation acc: 0.8498\n",
      "\n",
      "Start of epoch 10\n",
      "Training acc over epoch: 0.8675\n",
      "Validation acc: 0.8498\n",
      "\n",
      "Start of epoch 11\n",
      "Training acc over epoch: 0.8675\n",
      "Validation acc: 0.8498\n",
      "\n",
      "Start of epoch 12\n",
      "Training acc over epoch: 0.8675\n",
      "Validation acc: 0.8498\n",
      "\n",
      "Start of epoch 13\n",
      "Training acc over epoch: 0.8675\n",
      "Validation acc: 0.8498\n",
      "\n",
      "Start of epoch 14\n",
      "Training acc over epoch: 0.8685\n",
      "Validation acc: 0.8498\n",
      "\n",
      "Start of epoch 15\n",
      "Training acc over epoch: 0.8675\n",
      "Validation acc: 0.8498\n",
      "\n",
      "Start of epoch 16\n",
      "Training acc over epoch: 0.8675\n",
      "Validation acc: 0.8498\n",
      "\n",
      "Start of epoch 17\n",
      "Training acc over epoch: 0.8675\n",
      "Validation acc: 0.8498\n",
      "\n",
      "Start of epoch 18\n",
      "Training acc over epoch: 0.8675\n",
      "Validation acc: 0.8498\n",
      "\n",
      "Start of epoch 19\n",
      "Training acc over epoch: 0.8675\n",
      "Validation acc: 0.8498\n"
     ]
    },
    {
     "data": {
      "text/html": [
       "<style>\n",
       "    table.wandb td:nth-child(1) { padding: 0 10px; text-align: left ; width: auto;} td:nth-child(2) {text-align: left ; width: 100%}\n",
       "    .wandb-row { display: flex; flex-direction: row; flex-wrap: wrap; justify-content: flex-start; width: 100% }\n",
       "    .wandb-col { display: flex; flex-direction: column; flex-basis: 100%; flex: 1; padding: 10px; }\n",
       "    </style>\n",
       "<div class=\"wandb-row\"><div class=\"wandb-col\"><h3>Run history:</h3><br/><table class=\"wandb\"><tr><td>acc</td><td>▁███████████████████</td></tr><tr><td>epochs</td><td>▁▁▂▂▂▃▃▄▄▄▅▅▅▆▆▇▇▇██</td></tr><tr><td>loss</td><td>█▆▅▃▂▁▁▁▁▁▁▁▁▁▁▁▁▁▁▁</td></tr><tr><td>val_acc</td><td>▁▁▁▁▁▁▁▁▁▁▁▁▁▁▁▁▁▁▁▁</td></tr><tr><td>val_loss</td><td>█▆▄▂▂▁▁▁▁▁▁▁▁▁▁▁▁▁▁▁</td></tr></table><br/></div><div class=\"wandb-col\"><h3>Run summary:</h3><br/><table class=\"wandb\"><tr><td>acc</td><td>0.86746</td></tr><tr><td>epochs</td><td>19</td></tr><tr><td>loss</td><td>0.39611</td></tr><tr><td>val_acc</td><td>0.84979</td></tr><tr><td>val_loss</td><td>0.42574</td></tr></table><br/></div></div>"
      ],
      "text/plain": [
       "<IPython.core.display.HTML object>"
      ]
     },
     "metadata": {},
     "output_type": "display_data"
    },
    {
     "data": {
      "text/html": [
       " View run <strong style=\"color:#cdcd00\">crimson-grass-130</strong> at: <a href='https://wandb.ai/shaicahana-hebrew-university-of-jerusalem/my-tf-integration/runs/jss3ujqj' target=\"_blank\">https://wandb.ai/shaicahana-hebrew-university-of-jerusalem/my-tf-integration/runs/jss3ujqj</a><br/> View project at: <a href='https://wandb.ai/shaicahana-hebrew-university-of-jerusalem/my-tf-integration' target=\"_blank\">https://wandb.ai/shaicahana-hebrew-university-of-jerusalem/my-tf-integration</a><br/>Synced 5 W&B file(s), 0 media file(s), 0 artifact file(s) and 0 other file(s)"
      ],
      "text/plain": [
       "<IPython.core.display.HTML object>"
      ]
     },
     "metadata": {},
     "output_type": "display_data"
    },
    {
     "data": {
      "text/html": [
       "Find logs at: <code>./wandb/run-20241026_153625-jss3ujqj/logs</code>"
      ],
      "text/plain": [
       "<IPython.core.display.HTML object>"
      ]
     },
     "metadata": {},
     "output_type": "display_data"
    },
    {
     "data": {
      "text/html": [
       "Tracking run with wandb version 0.18.5"
      ],
      "text/plain": [
       "<IPython.core.display.HTML object>"
      ]
     },
     "metadata": {},
     "output_type": "display_data"
    },
    {
     "data": {
      "text/html": [
       "Run data is saved locally in <code>/Users/shaicahana/Documents/AI_DL/colab/AI-DL/project-1/wandb/run-20241026_153635-2ylyqtbp</code>"
      ],
      "text/plain": [
       "<IPython.core.display.HTML object>"
      ]
     },
     "metadata": {},
     "output_type": "display_data"
    },
    {
     "data": {
      "text/html": [
       "Syncing run <strong><a href='https://wandb.ai/shaicahana-hebrew-university-of-jerusalem/my-tf-integration/runs/2ylyqtbp' target=\"_blank\">vague-forest-131</a></strong> to <a href='https://wandb.ai/shaicahana-hebrew-university-of-jerusalem/my-tf-integration' target=\"_blank\">Weights & Biases</a> (<a href='https://wandb.me/run' target=\"_blank\">docs</a>)<br/>"
      ],
      "text/plain": [
       "<IPython.core.display.HTML object>"
      ]
     },
     "metadata": {},
     "output_type": "display_data"
    },
    {
     "data": {
      "text/html": [
       " View project at <a href='https://wandb.ai/shaicahana-hebrew-university-of-jerusalem/my-tf-integration' target=\"_blank\">https://wandb.ai/shaicahana-hebrew-university-of-jerusalem/my-tf-integration</a>"
      ],
      "text/plain": [
       "<IPython.core.display.HTML object>"
      ]
     },
     "metadata": {},
     "output_type": "display_data"
    },
    {
     "data": {
      "text/html": [
       " View run at <a href='https://wandb.ai/shaicahana-hebrew-university-of-jerusalem/my-tf-integration/runs/2ylyqtbp' target=\"_blank\">https://wandb.ai/shaicahana-hebrew-university-of-jerusalem/my-tf-integration/runs/2ylyqtbp</a>"
      ],
      "text/plain": [
       "<IPython.core.display.HTML object>"
      ]
     },
     "metadata": {},
     "output_type": "display_data"
    },
    {
     "name": "stdout",
     "output_type": "stream",
     "text": [
      "\n",
      "Start of epoch 0\n",
      "Training acc over epoch: 0.3944\n",
      "Validation acc: 0.8498\n",
      "\n",
      "Start of epoch 1\n",
      "Training acc over epoch: 0.8502\n",
      "Validation acc: 0.8498\n",
      "\n",
      "Start of epoch 2\n",
      "Training acc over epoch: 0.8675\n",
      "Validation acc: 0.8498\n",
      "\n",
      "Start of epoch 3\n",
      "Training acc over epoch: 0.8675\n",
      "Validation acc: 0.8498\n",
      "\n",
      "Start of epoch 4\n",
      "Training acc over epoch: 0.8675\n",
      "Validation acc: 0.8498\n",
      "\n",
      "Start of epoch 5\n",
      "Training acc over epoch: 0.8675\n",
      "Validation acc: 0.8498\n",
      "\n",
      "Start of epoch 6\n",
      "Training acc over epoch: 0.8675\n",
      "Validation acc: 0.8498\n",
      "\n",
      "Start of epoch 7\n",
      "Training acc over epoch: 0.8675\n",
      "Validation acc: 0.8498\n",
      "\n",
      "Start of epoch 8\n",
      "Training acc over epoch: 0.8653\n",
      "Validation acc: 0.8498\n",
      "\n",
      "Start of epoch 9\n",
      "Training acc over epoch: 0.8675\n",
      "Validation acc: 0.8498\n",
      "\n",
      "Start of epoch 10\n",
      "Training acc over epoch: 0.8675\n",
      "Validation acc: 0.8498\n",
      "\n",
      "Start of epoch 11\n",
      "Training acc over epoch: 0.8664\n",
      "Validation acc: 0.8498\n",
      "\n",
      "Start of epoch 12\n",
      "Training acc over epoch: 0.8664\n",
      "Validation acc: 0.8498\n",
      "\n",
      "Start of epoch 13\n",
      "Training acc over epoch: 0.8664\n",
      "Validation acc: 0.8498\n",
      "\n",
      "Start of epoch 14\n",
      "Training acc over epoch: 0.8664\n",
      "Validation acc: 0.8498\n",
      "\n",
      "Start of epoch 15\n",
      "Training acc over epoch: 0.8664\n",
      "Validation acc: 0.8498\n",
      "\n",
      "Start of epoch 16\n",
      "Training acc over epoch: 0.8675\n",
      "Validation acc: 0.8498\n",
      "\n",
      "Start of epoch 17\n",
      "Training acc over epoch: 0.8675\n",
      "Validation acc: 0.8498\n",
      "\n",
      "Start of epoch 18\n",
      "Training acc over epoch: 0.8664\n",
      "Validation acc: 0.8498\n",
      "\n",
      "Start of epoch 19\n",
      "Training acc over epoch: 0.8675\n",
      "Validation acc: 0.8498\n"
     ]
    },
    {
     "data": {
      "text/html": [
       "<style>\n",
       "    table.wandb td:nth-child(1) { padding: 0 10px; text-align: left ; width: auto;} td:nth-child(2) {text-align: left ; width: 100%}\n",
       "    .wandb-row { display: flex; flex-direction: row; flex-wrap: wrap; justify-content: flex-start; width: 100% }\n",
       "    .wandb-col { display: flex; flex-direction: column; flex-basis: 100%; flex: 1; padding: 10px; }\n",
       "    </style>\n",
       "<div class=\"wandb-row\"><div class=\"wandb-col\"><h3>Run history:</h3><br/><table class=\"wandb\"><tr><td>acc</td><td>▁███████████████████</td></tr><tr><td>epochs</td><td>▁▁▂▂▂▃▃▄▄▄▅▅▅▆▆▇▇▇██</td></tr><tr><td>loss</td><td>█▇▅▃▂▁▁▁▁▁▁▁▁▁▁▁▁▁▁▁</td></tr><tr><td>val_acc</td><td>▁▁▁▁▁▁▁▁▁▁▁▁▁▁▁▁▁▁▁▁</td></tr><tr><td>val_loss</td><td>█▆▄▃▂▁▁▁▁▁▁▁▁▁▁▁▁▁▁▁</td></tr></table><br/></div><div class=\"wandb-col\"><h3>Run summary:</h3><br/><table class=\"wandb\"><tr><td>acc</td><td>0.86746</td></tr><tr><td>epochs</td><td>19</td></tr><tr><td>loss</td><td>0.40138</td></tr><tr><td>val_acc</td><td>0.84979</td></tr><tr><td>val_loss</td><td>0.42102</td></tr></table><br/></div></div>"
      ],
      "text/plain": [
       "<IPython.core.display.HTML object>"
      ]
     },
     "metadata": {},
     "output_type": "display_data"
    },
    {
     "data": {
      "text/html": [
       " View run <strong style=\"color:#cdcd00\">vague-forest-131</strong> at: <a href='https://wandb.ai/shaicahana-hebrew-university-of-jerusalem/my-tf-integration/runs/2ylyqtbp' target=\"_blank\">https://wandb.ai/shaicahana-hebrew-university-of-jerusalem/my-tf-integration/runs/2ylyqtbp</a><br/> View project at: <a href='https://wandb.ai/shaicahana-hebrew-university-of-jerusalem/my-tf-integration' target=\"_blank\">https://wandb.ai/shaicahana-hebrew-university-of-jerusalem/my-tf-integration</a><br/>Synced 5 W&B file(s), 0 media file(s), 0 artifact file(s) and 0 other file(s)"
      ],
      "text/plain": [
       "<IPython.core.display.HTML object>"
      ]
     },
     "metadata": {},
     "output_type": "display_data"
    },
    {
     "data": {
      "text/html": [
       "Find logs at: <code>./wandb/run-20241026_153635-2ylyqtbp/logs</code>"
      ],
      "text/plain": [
       "<IPython.core.display.HTML object>"
      ]
     },
     "metadata": {},
     "output_type": "display_data"
    },
    {
     "data": {
      "text/html": [
       "Tracking run with wandb version 0.18.5"
      ],
      "text/plain": [
       "<IPython.core.display.HTML object>"
      ]
     },
     "metadata": {},
     "output_type": "display_data"
    },
    {
     "data": {
      "text/html": [
       "Run data is saved locally in <code>/Users/shaicahana/Documents/AI_DL/colab/AI-DL/project-1/wandb/run-20241026_153645-np0fnhdj</code>"
      ],
      "text/plain": [
       "<IPython.core.display.HTML object>"
      ]
     },
     "metadata": {},
     "output_type": "display_data"
    },
    {
     "data": {
      "text/html": [
       "Syncing run <strong><a href='https://wandb.ai/shaicahana-hebrew-university-of-jerusalem/my-tf-integration/runs/np0fnhdj' target=\"_blank\">bumbling-water-132</a></strong> to <a href='https://wandb.ai/shaicahana-hebrew-university-of-jerusalem/my-tf-integration' target=\"_blank\">Weights & Biases</a> (<a href='https://wandb.me/run' target=\"_blank\">docs</a>)<br/>"
      ],
      "text/plain": [
       "<IPython.core.display.HTML object>"
      ]
     },
     "metadata": {},
     "output_type": "display_data"
    },
    {
     "data": {
      "text/html": [
       " View project at <a href='https://wandb.ai/shaicahana-hebrew-university-of-jerusalem/my-tf-integration' target=\"_blank\">https://wandb.ai/shaicahana-hebrew-university-of-jerusalem/my-tf-integration</a>"
      ],
      "text/plain": [
       "<IPython.core.display.HTML object>"
      ]
     },
     "metadata": {},
     "output_type": "display_data"
    },
    {
     "data": {
      "text/html": [
       " View run at <a href='https://wandb.ai/shaicahana-hebrew-university-of-jerusalem/my-tf-integration/runs/np0fnhdj' target=\"_blank\">https://wandb.ai/shaicahana-hebrew-university-of-jerusalem/my-tf-integration/runs/np0fnhdj</a>"
      ],
      "text/plain": [
       "<IPython.core.display.HTML object>"
      ]
     },
     "metadata": {},
     "output_type": "display_data"
    },
    {
     "name": "stdout",
     "output_type": "stream",
     "text": [
      "\n",
      "Start of epoch 0\n",
      "Training acc over epoch: 0.3867\n",
      "Validation acc: 0.8584\n",
      "\n",
      "Start of epoch 1\n",
      "Training acc over epoch: 0.8410\n",
      "Validation acc: 0.8584\n",
      "\n",
      "Start of epoch 2\n",
      "Training acc over epoch: 0.8625\n",
      "Validation acc: 0.8584\n",
      "\n",
      "Start of epoch 3\n",
      "Training acc over epoch: 0.8657\n",
      "Validation acc: 0.8584\n",
      "\n",
      "Start of epoch 4\n",
      "Training acc over epoch: 0.8657\n",
      "Validation acc: 0.8584\n",
      "\n",
      "Start of epoch 5\n",
      "Training acc over epoch: 0.8657\n",
      "Validation acc: 0.8584\n",
      "\n",
      "Start of epoch 6\n",
      "Training acc over epoch: 0.8625\n",
      "Validation acc: 0.8584\n",
      "\n",
      "Start of epoch 7\n",
      "Training acc over epoch: 0.8604\n",
      "Validation acc: 0.8584\n",
      "\n",
      "Start of epoch 8\n",
      "Training acc over epoch: 0.8647\n",
      "Validation acc: 0.8584\n",
      "\n",
      "Start of epoch 9\n",
      "Training acc over epoch: 0.8668\n",
      "Validation acc: 0.8584\n",
      "\n",
      "Start of epoch 10\n",
      "Training acc over epoch: 0.8625\n",
      "Validation acc: 0.8584\n",
      "\n",
      "Start of epoch 11\n",
      "Training acc over epoch: 0.8636\n",
      "Validation acc: 0.8584\n",
      "\n",
      "Start of epoch 12\n",
      "Training acc over epoch: 0.8668\n",
      "Validation acc: 0.8584\n",
      "\n",
      "Start of epoch 13\n",
      "Training acc over epoch: 0.8614\n",
      "Validation acc: 0.8584\n",
      "\n",
      "Start of epoch 14\n",
      "Training acc over epoch: 0.8593\n",
      "Validation acc: 0.8584\n",
      "\n",
      "Start of epoch 15\n",
      "Training acc over epoch: 0.8657\n",
      "Validation acc: 0.8584\n",
      "\n",
      "Start of epoch 16\n",
      "Training acc over epoch: 0.8657\n",
      "Validation acc: 0.8584\n",
      "\n",
      "Start of epoch 17\n",
      "Training acc over epoch: 0.8614\n",
      "Validation acc: 0.8584\n",
      "\n",
      "Start of epoch 18\n",
      "Training acc over epoch: 0.8647\n",
      "Validation acc: 0.8584\n",
      "\n",
      "Start of epoch 19\n",
      "Training acc over epoch: 0.8614\n",
      "Validation acc: 0.8584\n"
     ]
    },
    {
     "data": {
      "text/html": [
       "<style>\n",
       "    table.wandb td:nth-child(1) { padding: 0 10px; text-align: left ; width: auto;} td:nth-child(2) {text-align: left ; width: 100%}\n",
       "    .wandb-row { display: flex; flex-direction: row; flex-wrap: wrap; justify-content: flex-start; width: 100% }\n",
       "    .wandb-col { display: flex; flex-direction: column; flex-basis: 100%; flex: 1; padding: 10px; }\n",
       "    </style>\n",
       "<div class=\"wandb-row\"><div class=\"wandb-col\"><h3>Run history:</h3><br/><table class=\"wandb\"><tr><td>acc</td><td>▁███████████████████</td></tr><tr><td>epochs</td><td>▁▁▂▂▂▃▃▄▄▄▅▅▅▆▆▇▇▇██</td></tr><tr><td>loss</td><td>█▆▄▃▂▁▁▁▁▁▁▁▁▁▁▁▁▁▁▁</td></tr><tr><td>val_acc</td><td>▁▁▁▁▁▁▁▁▁▁▁▁▁▁▁▁▁▁▁▁</td></tr><tr><td>val_loss</td><td>█▆▃▂▂▁▁▁▁▁▁▁▁▁▁▁▁▁▁▁</td></tr></table><br/></div><div class=\"wandb-col\"><h3>Run summary:</h3><br/><table class=\"wandb\"><tr><td>acc</td><td>0.86144</td></tr><tr><td>epochs</td><td>19</td></tr><tr><td>loss</td><td>0.41734</td></tr><tr><td>val_acc</td><td>0.85837</td></tr><tr><td>val_loss</td><td>0.41206</td></tr></table><br/></div></div>"
      ],
      "text/plain": [
       "<IPython.core.display.HTML object>"
      ]
     },
     "metadata": {},
     "output_type": "display_data"
    },
    {
     "data": {
      "text/html": [
       " View run <strong style=\"color:#cdcd00\">bumbling-water-132</strong> at: <a href='https://wandb.ai/shaicahana-hebrew-university-of-jerusalem/my-tf-integration/runs/np0fnhdj' target=\"_blank\">https://wandb.ai/shaicahana-hebrew-university-of-jerusalem/my-tf-integration/runs/np0fnhdj</a><br/> View project at: <a href='https://wandb.ai/shaicahana-hebrew-university-of-jerusalem/my-tf-integration' target=\"_blank\">https://wandb.ai/shaicahana-hebrew-university-of-jerusalem/my-tf-integration</a><br/>Synced 5 W&B file(s), 0 media file(s), 0 artifact file(s) and 0 other file(s)"
      ],
      "text/plain": [
       "<IPython.core.display.HTML object>"
      ]
     },
     "metadata": {},
     "output_type": "display_data"
    },
    {
     "data": {
      "text/html": [
       "Find logs at: <code>./wandb/run-20241026_153645-np0fnhdj/logs</code>"
      ],
      "text/plain": [
       "<IPython.core.display.HTML object>"
      ]
     },
     "metadata": {},
     "output_type": "display_data"
    },
    {
     "data": {
      "text/html": [
       "Tracking run with wandb version 0.18.5"
      ],
      "text/plain": [
       "<IPython.core.display.HTML object>"
      ]
     },
     "metadata": {},
     "output_type": "display_data"
    },
    {
     "data": {
      "text/html": [
       "Run data is saved locally in <code>/Users/shaicahana/Documents/AI_DL/colab/AI-DL/project-1/wandb/run-20241026_153656-v0ah89r0</code>"
      ],
      "text/plain": [
       "<IPython.core.display.HTML object>"
      ]
     },
     "metadata": {},
     "output_type": "display_data"
    },
    {
     "data": {
      "text/html": [
       "Syncing run <strong><a href='https://wandb.ai/shaicahana-hebrew-university-of-jerusalem/my-tf-integration/runs/v0ah89r0' target=\"_blank\">chocolate-surf-133</a></strong> to <a href='https://wandb.ai/shaicahana-hebrew-university-of-jerusalem/my-tf-integration' target=\"_blank\">Weights & Biases</a> (<a href='https://wandb.me/run' target=\"_blank\">docs</a>)<br/>"
      ],
      "text/plain": [
       "<IPython.core.display.HTML object>"
      ]
     },
     "metadata": {},
     "output_type": "display_data"
    },
    {
     "data": {
      "text/html": [
       " View project at <a href='https://wandb.ai/shaicahana-hebrew-university-of-jerusalem/my-tf-integration' target=\"_blank\">https://wandb.ai/shaicahana-hebrew-university-of-jerusalem/my-tf-integration</a>"
      ],
      "text/plain": [
       "<IPython.core.display.HTML object>"
      ]
     },
     "metadata": {},
     "output_type": "display_data"
    },
    {
     "data": {
      "text/html": [
       " View run at <a href='https://wandb.ai/shaicahana-hebrew-university-of-jerusalem/my-tf-integration/runs/v0ah89r0' target=\"_blank\">https://wandb.ai/shaicahana-hebrew-university-of-jerusalem/my-tf-integration/runs/v0ah89r0</a>"
      ],
      "text/plain": [
       "<IPython.core.display.HTML object>"
      ]
     },
     "metadata": {},
     "output_type": "display_data"
    },
    {
     "name": "stdout",
     "output_type": "stream",
     "text": [
      "\n",
      "Start of epoch 0\n",
      "Training acc over epoch: 0.4460\n",
      "Validation acc: 0.8319\n",
      "\n",
      "Start of epoch 1\n",
      "Training acc over epoch: 0.8542\n",
      "Validation acc: 0.8319\n",
      "\n",
      "Start of epoch 2\n",
      "Training acc over epoch: 0.8715\n",
      "Validation acc: 0.8319\n",
      "\n",
      "Start of epoch 3\n",
      "Training acc over epoch: 0.8715\n",
      "Validation acc: 0.8319\n",
      "\n",
      "Start of epoch 4\n",
      "Training acc over epoch: 0.8715\n",
      "Validation acc: 0.8319\n",
      "\n",
      "Start of epoch 5\n",
      "Training acc over epoch: 0.8715\n",
      "Validation acc: 0.8319\n",
      "\n",
      "Start of epoch 6\n",
      "Training acc over epoch: 0.8683\n",
      "Validation acc: 0.8319\n",
      "\n",
      "Start of epoch 7\n",
      "Training acc over epoch: 0.8704\n",
      "Validation acc: 0.8319\n",
      "\n",
      "Start of epoch 8\n",
      "Training acc over epoch: 0.8704\n",
      "Validation acc: 0.8319\n",
      "\n",
      "Start of epoch 9\n",
      "Training acc over epoch: 0.8661\n",
      "Validation acc: 0.8319\n",
      "\n",
      "Start of epoch 10\n",
      "Training acc over epoch: 0.8715\n",
      "Validation acc: 0.8319\n",
      "\n",
      "Start of epoch 11\n",
      "Training acc over epoch: 0.8726\n",
      "Validation acc: 0.8319\n",
      "\n",
      "Start of epoch 12\n",
      "Training acc over epoch: 0.8672\n",
      "Validation acc: 0.8319\n",
      "\n",
      "Start of epoch 13\n",
      "Training acc over epoch: 0.8715\n",
      "Validation acc: 0.8319\n",
      "\n",
      "Start of epoch 14\n",
      "Training acc over epoch: 0.8715\n",
      "Validation acc: 0.8319\n",
      "\n",
      "Start of epoch 15\n",
      "Training acc over epoch: 0.8693\n",
      "Validation acc: 0.8319\n",
      "\n",
      "Start of epoch 16\n",
      "Training acc over epoch: 0.8693\n",
      "Validation acc: 0.8319\n",
      "\n",
      "Start of epoch 17\n",
      "Training acc over epoch: 0.8672\n",
      "Validation acc: 0.8319\n",
      "\n",
      "Start of epoch 18\n",
      "Training acc over epoch: 0.8672\n",
      "Validation acc: 0.8319\n",
      "\n",
      "Start of epoch 19\n",
      "Training acc over epoch: 0.8672\n",
      "Validation acc: 0.8319\n"
     ]
    },
    {
     "data": {
      "text/html": [
       "<style>\n",
       "    table.wandb td:nth-child(1) { padding: 0 10px; text-align: left ; width: auto;} td:nth-child(2) {text-align: left ; width: 100%}\n",
       "    .wandb-row { display: flex; flex-direction: row; flex-wrap: wrap; justify-content: flex-start; width: 100% }\n",
       "    .wandb-col { display: flex; flex-direction: column; flex-basis: 100%; flex: 1; padding: 10px; }\n",
       "    </style>\n",
       "<div class=\"wandb-row\"><div class=\"wandb-col\"><h3>Run history:</h3><br/><table class=\"wandb\"><tr><td>acc</td><td>▁███████████████████</td></tr><tr><td>epochs</td><td>▁▁▂▂▂▃▃▄▄▄▅▅▅▆▆▇▇▇██</td></tr><tr><td>loss</td><td>█▇▅▃▂▂▁▁▁▁▁▁▁▁▁▁▁▁▁▁</td></tr><tr><td>val_acc</td><td>▁▁▁▁▁▁▁▁▁▁▁▁▁▁▁▁▁▁▁▁</td></tr><tr><td>val_loss</td><td>█▆▄▃▂▂▁▁▁▁▁▁▁▁▁▁▁▁▁▁</td></tr></table><br/></div><div class=\"wandb-col\"><h3>Run summary:</h3><br/><table class=\"wandb\"><tr><td>acc</td><td>0.86717</td></tr><tr><td>epochs</td><td>19</td></tr><tr><td>loss</td><td>0.41566</td></tr><tr><td>val_acc</td><td>0.8319</td></tr><tr><td>val_loss</td><td>0.45739</td></tr></table><br/></div></div>"
      ],
      "text/plain": [
       "<IPython.core.display.HTML object>"
      ]
     },
     "metadata": {},
     "output_type": "display_data"
    },
    {
     "data": {
      "text/html": [
       " View run <strong style=\"color:#cdcd00\">chocolate-surf-133</strong> at: <a href='https://wandb.ai/shaicahana-hebrew-university-of-jerusalem/my-tf-integration/runs/v0ah89r0' target=\"_blank\">https://wandb.ai/shaicahana-hebrew-university-of-jerusalem/my-tf-integration/runs/v0ah89r0</a><br/> View project at: <a href='https://wandb.ai/shaicahana-hebrew-university-of-jerusalem/my-tf-integration' target=\"_blank\">https://wandb.ai/shaicahana-hebrew-university-of-jerusalem/my-tf-integration</a><br/>Synced 5 W&B file(s), 0 media file(s), 0 artifact file(s) and 0 other file(s)"
      ],
      "text/plain": [
       "<IPython.core.display.HTML object>"
      ]
     },
     "metadata": {},
     "output_type": "display_data"
    },
    {
     "data": {
      "text/html": [
       "Find logs at: <code>./wandb/run-20241026_153656-v0ah89r0/logs</code>"
      ],
      "text/plain": [
       "<IPython.core.display.HTML object>"
      ]
     },
     "metadata": {},
     "output_type": "display_data"
    },
    {
     "data": {
      "text/html": [
       "Tracking run with wandb version 0.18.5"
      ],
      "text/plain": [
       "<IPython.core.display.HTML object>"
      ]
     },
     "metadata": {},
     "output_type": "display_data"
    },
    {
     "data": {
      "text/html": [
       "Run data is saved locally in <code>/Users/shaicahana/Documents/AI_DL/colab/AI-DL/project-1/wandb/run-20241026_153707-g99rb29k</code>"
      ],
      "text/plain": [
       "<IPython.core.display.HTML object>"
      ]
     },
     "metadata": {},
     "output_type": "display_data"
    },
    {
     "data": {
      "text/html": [
       "Syncing run <strong><a href='https://wandb.ai/shaicahana-hebrew-university-of-jerusalem/my-tf-integration/runs/g99rb29k' target=\"_blank\">wandering-dragon-134</a></strong> to <a href='https://wandb.ai/shaicahana-hebrew-university-of-jerusalem/my-tf-integration' target=\"_blank\">Weights & Biases</a> (<a href='https://wandb.me/run' target=\"_blank\">docs</a>)<br/>"
      ],
      "text/plain": [
       "<IPython.core.display.HTML object>"
      ]
     },
     "metadata": {},
     "output_type": "display_data"
    },
    {
     "data": {
      "text/html": [
       " View project at <a href='https://wandb.ai/shaicahana-hebrew-university-of-jerusalem/my-tf-integration' target=\"_blank\">https://wandb.ai/shaicahana-hebrew-university-of-jerusalem/my-tf-integration</a>"
      ],
      "text/plain": [
       "<IPython.core.display.HTML object>"
      ]
     },
     "metadata": {},
     "output_type": "display_data"
    },
    {
     "data": {
      "text/html": [
       " View run at <a href='https://wandb.ai/shaicahana-hebrew-university-of-jerusalem/my-tf-integration/runs/g99rb29k' target=\"_blank\">https://wandb.ai/shaicahana-hebrew-university-of-jerusalem/my-tf-integration/runs/g99rb29k</a>"
      ],
      "text/plain": [
       "<IPython.core.display.HTML object>"
      ]
     },
     "metadata": {},
     "output_type": "display_data"
    },
    {
     "name": "stdout",
     "output_type": "stream",
     "text": [
      "\n",
      "Start of epoch 0\n",
      "Training acc over epoch: 0.3953\n",
      "Validation acc: 0.8584\n",
      "\n",
      "Start of epoch 1\n",
      "Training acc over epoch: 0.8571\n",
      "Validation acc: 0.8584\n",
      "\n",
      "Start of epoch 2\n",
      "Training acc over epoch: 0.8657\n",
      "Validation acc: 0.8584\n",
      "\n",
      "Start of epoch 3\n",
      "Training acc over epoch: 0.8657\n",
      "Validation acc: 0.8584\n",
      "\n",
      "Start of epoch 4\n",
      "Training acc over epoch: 0.8657\n",
      "Validation acc: 0.8584\n",
      "\n",
      "Start of epoch 5\n",
      "Training acc over epoch: 0.8657\n",
      "Validation acc: 0.8584\n",
      "\n",
      "Start of epoch 6\n",
      "Training acc over epoch: 0.8657\n",
      "Validation acc: 0.8584\n",
      "\n",
      "Start of epoch 7\n",
      "Training acc over epoch: 0.8657\n",
      "Validation acc: 0.8584\n",
      "\n",
      "Start of epoch 8\n",
      "Training acc over epoch: 0.8657\n",
      "Validation acc: 0.8584\n",
      "\n",
      "Start of epoch 9\n",
      "Training acc over epoch: 0.8636\n",
      "Validation acc: 0.8584\n",
      "\n",
      "Start of epoch 10\n",
      "Training acc over epoch: 0.8657\n",
      "Validation acc: 0.8584\n",
      "\n",
      "Start of epoch 11\n",
      "Training acc over epoch: 0.8657\n",
      "Validation acc: 0.8584\n",
      "\n",
      "Start of epoch 12\n",
      "Training acc over epoch: 0.8657\n",
      "Validation acc: 0.8584\n",
      "\n",
      "Start of epoch 13\n",
      "Training acc over epoch: 0.8636\n",
      "Validation acc: 0.8584\n",
      "\n",
      "Start of epoch 14\n",
      "Training acc over epoch: 0.8647\n",
      "Validation acc: 0.8584\n",
      "\n",
      "Start of epoch 15\n",
      "Training acc over epoch: 0.8647\n",
      "Validation acc: 0.8584\n",
      "\n",
      "Start of epoch 16\n",
      "Training acc over epoch: 0.8657\n",
      "Validation acc: 0.8584\n",
      "\n",
      "Start of epoch 17\n",
      "Training acc over epoch: 0.8668\n",
      "Validation acc: 0.8584\n",
      "\n",
      "Start of epoch 18\n",
      "Training acc over epoch: 0.8647\n",
      "Validation acc: 0.8584\n",
      "\n",
      "Start of epoch 19\n",
      "Training acc over epoch: 0.8657\n",
      "Validation acc: 0.8584\n"
     ]
    },
    {
     "data": {
      "text/html": [
       "<style>\n",
       "    table.wandb td:nth-child(1) { padding: 0 10px; text-align: left ; width: auto;} td:nth-child(2) {text-align: left ; width: 100%}\n",
       "    .wandb-row { display: flex; flex-direction: row; flex-wrap: wrap; justify-content: flex-start; width: 100% }\n",
       "    .wandb-col { display: flex; flex-direction: column; flex-basis: 100%; flex: 1; padding: 10px; }\n",
       "    </style>\n",
       "<div class=\"wandb-row\"><div class=\"wandb-col\"><h3>Run history:</h3><br/><table class=\"wandb\"><tr><td>acc</td><td>▁███████████████████</td></tr><tr><td>epochs</td><td>▁▁▂▂▂▃▃▄▄▄▅▅▅▆▆▇▇▇██</td></tr><tr><td>loss</td><td>█▇▅▃▂▂▁▁▁▁▁▁▁▁▁▁▁▁▁▁</td></tr><tr><td>val_acc</td><td>▁▁▁▁▁▁▁▁▁▁▁▁▁▁▁▁▁▁▁▁</td></tr><tr><td>val_loss</td><td>█▆▄▃▂▂▁▁▁▁▁▁▁▁▁▁▁▁▁▁</td></tr></table><br/></div><div class=\"wandb-col\"><h3>Run summary:</h3><br/><table class=\"wandb\"><tr><td>acc</td><td>0.86574</td></tr><tr><td>epochs</td><td>19</td></tr><tr><td>loss</td><td>0.41485</td></tr><tr><td>val_acc</td><td>0.85837</td></tr><tr><td>val_loss</td><td>0.41037</td></tr></table><br/></div></div>"
      ],
      "text/plain": [
       "<IPython.core.display.HTML object>"
      ]
     },
     "metadata": {},
     "output_type": "display_data"
    },
    {
     "data": {
      "text/html": [
       " View run <strong style=\"color:#cdcd00\">wandering-dragon-134</strong> at: <a href='https://wandb.ai/shaicahana-hebrew-university-of-jerusalem/my-tf-integration/runs/g99rb29k' target=\"_blank\">https://wandb.ai/shaicahana-hebrew-university-of-jerusalem/my-tf-integration/runs/g99rb29k</a><br/> View project at: <a href='https://wandb.ai/shaicahana-hebrew-university-of-jerusalem/my-tf-integration' target=\"_blank\">https://wandb.ai/shaicahana-hebrew-university-of-jerusalem/my-tf-integration</a><br/>Synced 5 W&B file(s), 0 media file(s), 0 artifact file(s) and 0 other file(s)"
      ],
      "text/plain": [
       "<IPython.core.display.HTML object>"
      ]
     },
     "metadata": {},
     "output_type": "display_data"
    },
    {
     "data": {
      "text/html": [
       "Find logs at: <code>./wandb/run-20241026_153707-g99rb29k/logs</code>"
      ],
      "text/plain": [
       "<IPython.core.display.HTML object>"
      ]
     },
     "metadata": {},
     "output_type": "display_data"
    },
    {
     "data": {
      "text/html": [
       "Tracking run with wandb version 0.18.5"
      ],
      "text/plain": [
       "<IPython.core.display.HTML object>"
      ]
     },
     "metadata": {},
     "output_type": "display_data"
    },
    {
     "data": {
      "text/html": [
       "Run data is saved locally in <code>/Users/shaicahana/Documents/AI_DL/colab/AI-DL/project-1/wandb/run-20241026_153718-macz22ry</code>"
      ],
      "text/plain": [
       "<IPython.core.display.HTML object>"
      ]
     },
     "metadata": {},
     "output_type": "display_data"
    },
    {
     "data": {
      "text/html": [
       "Syncing run <strong><a href='https://wandb.ai/shaicahana-hebrew-university-of-jerusalem/my-tf-integration/runs/macz22ry' target=\"_blank\">whole-disco-135</a></strong> to <a href='https://wandb.ai/shaicahana-hebrew-university-of-jerusalem/my-tf-integration' target=\"_blank\">Weights & Biases</a> (<a href='https://wandb.me/run' target=\"_blank\">docs</a>)<br/>"
      ],
      "text/plain": [
       "<IPython.core.display.HTML object>"
      ]
     },
     "metadata": {},
     "output_type": "display_data"
    },
    {
     "data": {
      "text/html": [
       " View project at <a href='https://wandb.ai/shaicahana-hebrew-university-of-jerusalem/my-tf-integration' target=\"_blank\">https://wandb.ai/shaicahana-hebrew-university-of-jerusalem/my-tf-integration</a>"
      ],
      "text/plain": [
       "<IPython.core.display.HTML object>"
      ]
     },
     "metadata": {},
     "output_type": "display_data"
    },
    {
     "data": {
      "text/html": [
       " View run at <a href='https://wandb.ai/shaicahana-hebrew-university-of-jerusalem/my-tf-integration/runs/macz22ry' target=\"_blank\">https://wandb.ai/shaicahana-hebrew-university-of-jerusalem/my-tf-integration/runs/macz22ry</a>"
      ],
      "text/plain": [
       "<IPython.core.display.HTML object>"
      ]
     },
     "metadata": {},
     "output_type": "display_data"
    },
    {
     "name": "stdout",
     "output_type": "stream",
     "text": [
      "\n",
      "Start of epoch 0\n",
      "Training acc over epoch: 0.4836\n",
      "Validation acc: 0.8865\n",
      "\n",
      "Start of epoch 1\n",
      "Training acc over epoch: 0.8443\n",
      "Validation acc: 0.8865\n",
      "\n",
      "Start of epoch 2\n",
      "Training acc over epoch: 0.8564\n",
      "Validation acc: 0.8865\n",
      "\n",
      "Start of epoch 3\n",
      "Training acc over epoch: 0.8575\n",
      "Validation acc: 0.8865\n",
      "\n",
      "Start of epoch 4\n",
      "Training acc over epoch: 0.8575\n",
      "Validation acc: 0.8865\n",
      "\n",
      "Start of epoch 5\n",
      "Training acc over epoch: 0.8575\n",
      "Validation acc: 0.8865\n",
      "\n",
      "Start of epoch 6\n",
      "Training acc over epoch: 0.8564\n",
      "Validation acc: 0.8865\n",
      "\n",
      "Start of epoch 7\n",
      "Training acc over epoch: 0.8575\n",
      "Validation acc: 0.8865\n",
      "\n",
      "Start of epoch 8\n",
      "Training acc over epoch: 0.8575\n",
      "Validation acc: 0.8865\n",
      "\n",
      "Start of epoch 9\n",
      "Training acc over epoch: 0.8564\n",
      "Validation acc: 0.8865\n",
      "\n",
      "Start of epoch 10\n",
      "Training acc over epoch: 0.8553\n",
      "Validation acc: 0.8865\n",
      "\n",
      "Start of epoch 11\n",
      "Training acc over epoch: 0.8564\n",
      "Validation acc: 0.8865\n",
      "\n",
      "Start of epoch 12\n",
      "Training acc over epoch: 0.8575\n",
      "Validation acc: 0.8865\n",
      "\n",
      "Start of epoch 13\n",
      "Training acc over epoch: 0.8575\n",
      "Validation acc: 0.8865\n",
      "\n",
      "Start of epoch 14\n",
      "Training acc over epoch: 0.8564\n",
      "Validation acc: 0.8865\n",
      "\n",
      "Start of epoch 15\n",
      "Training acc over epoch: 0.8531\n",
      "Validation acc: 0.8865\n",
      "\n",
      "Start of epoch 16\n",
      "Training acc over epoch: 0.8542\n",
      "Validation acc: 0.8865\n",
      "\n",
      "Start of epoch 17\n",
      "Training acc over epoch: 0.8575\n",
      "Validation acc: 0.8865\n",
      "\n",
      "Start of epoch 18\n",
      "Training acc over epoch: 0.8553\n",
      "Validation acc: 0.8865\n",
      "\n",
      "Start of epoch 19\n",
      "Training acc over epoch: 0.8553\n",
      "Validation acc: 0.8865\n"
     ]
    },
    {
     "data": {
      "text/html": [
       "<style>\n",
       "    table.wandb td:nth-child(1) { padding: 0 10px; text-align: left ; width: auto;} td:nth-child(2) {text-align: left ; width: 100%}\n",
       "    .wandb-row { display: flex; flex-direction: row; flex-wrap: wrap; justify-content: flex-start; width: 100% }\n",
       "    .wandb-col { display: flex; flex-direction: column; flex-basis: 100%; flex: 1; padding: 10px; }\n",
       "    </style>\n",
       "<div class=\"wandb-row\"><div class=\"wandb-col\"><h3>Run history:</h3><br/><table class=\"wandb\"><tr><td>acc</td><td>▁███████████████████</td></tr><tr><td>epochs</td><td>▁▁▂▂▂▃▃▄▄▄▅▅▅▆▆▇▇▇██</td></tr><tr><td>loss</td><td>█▇▅▃▂▁▁▁▁▁▁▁▁▁▁▁▁▁▁▁</td></tr><tr><td>val_acc</td><td>▁▁▁▁▁▁▁▁▁▁▁▁▁▁▁▁▁▁▁▁</td></tr><tr><td>val_loss</td><td>█▆▄▂▂▁▁▁▁▁▁▁▁▁▁▁▁▁▁▁</td></tr></table><br/></div><div class=\"wandb-col\"><h3>Run summary:</h3><br/><table class=\"wandb\"><tr><td>acc</td><td>0.85526</td></tr><tr><td>epochs</td><td>19</td></tr><tr><td>loss</td><td>0.39939</td></tr><tr><td>val_acc</td><td>0.88646</td></tr><tr><td>val_loss</td><td>0.37639</td></tr></table><br/></div></div>"
      ],
      "text/plain": [
       "<IPython.core.display.HTML object>"
      ]
     },
     "metadata": {},
     "output_type": "display_data"
    },
    {
     "data": {
      "text/html": [
       " View run <strong style=\"color:#cdcd00\">whole-disco-135</strong> at: <a href='https://wandb.ai/shaicahana-hebrew-university-of-jerusalem/my-tf-integration/runs/macz22ry' target=\"_blank\">https://wandb.ai/shaicahana-hebrew-university-of-jerusalem/my-tf-integration/runs/macz22ry</a><br/> View project at: <a href='https://wandb.ai/shaicahana-hebrew-university-of-jerusalem/my-tf-integration' target=\"_blank\">https://wandb.ai/shaicahana-hebrew-university-of-jerusalem/my-tf-integration</a><br/>Synced 5 W&B file(s), 0 media file(s), 0 artifact file(s) and 0 other file(s)"
      ],
      "text/plain": [
       "<IPython.core.display.HTML object>"
      ]
     },
     "metadata": {},
     "output_type": "display_data"
    },
    {
     "data": {
      "text/html": [
       "Find logs at: <code>./wandb/run-20241026_153718-macz22ry/logs</code>"
      ],
      "text/plain": [
       "<IPython.core.display.HTML object>"
      ]
     },
     "metadata": {},
     "output_type": "display_data"
    },
    {
     "data": {
      "text/html": [
       "Tracking run with wandb version 0.18.5"
      ],
      "text/plain": [
       "<IPython.core.display.HTML object>"
      ]
     },
     "metadata": {},
     "output_type": "display_data"
    },
    {
     "data": {
      "text/html": [
       "Run data is saved locally in <code>/Users/shaicahana/Documents/AI_DL/colab/AI-DL/project-1/wandb/run-20241026_153729-v5b7tryh</code>"
      ],
      "text/plain": [
       "<IPython.core.display.HTML object>"
      ]
     },
     "metadata": {},
     "output_type": "display_data"
    },
    {
     "data": {
      "text/html": [
       "Syncing run <strong><a href='https://wandb.ai/shaicahana-hebrew-university-of-jerusalem/my-tf-integration/runs/v5b7tryh' target=\"_blank\">radiant-silence-136</a></strong> to <a href='https://wandb.ai/shaicahana-hebrew-university-of-jerusalem/my-tf-integration' target=\"_blank\">Weights & Biases</a> (<a href='https://wandb.me/run' target=\"_blank\">docs</a>)<br/>"
      ],
      "text/plain": [
       "<IPython.core.display.HTML object>"
      ]
     },
     "metadata": {},
     "output_type": "display_data"
    },
    {
     "data": {
      "text/html": [
       " View project at <a href='https://wandb.ai/shaicahana-hebrew-university-of-jerusalem/my-tf-integration' target=\"_blank\">https://wandb.ai/shaicahana-hebrew-university-of-jerusalem/my-tf-integration</a>"
      ],
      "text/plain": [
       "<IPython.core.display.HTML object>"
      ]
     },
     "metadata": {},
     "output_type": "display_data"
    },
    {
     "data": {
      "text/html": [
       " View run at <a href='https://wandb.ai/shaicahana-hebrew-university-of-jerusalem/my-tf-integration/runs/v5b7tryh' target=\"_blank\">https://wandb.ai/shaicahana-hebrew-university-of-jerusalem/my-tf-integration/runs/v5b7tryh</a>"
      ],
      "text/plain": [
       "<IPython.core.display.HTML object>"
      ]
     },
     "metadata": {},
     "output_type": "display_data"
    },
    {
     "name": "stdout",
     "output_type": "stream",
     "text": [
      "\n",
      "Start of epoch 0\n",
      "Training acc over epoch: 0.6904\n",
      "Validation acc: 0.8305\n",
      "\n",
      "Start of epoch 1\n",
      "Training acc over epoch: 0.8734\n",
      "Validation acc: 0.8305\n",
      "\n",
      "Start of epoch 2\n",
      "Training acc over epoch: 0.8734\n",
      "Validation acc: 0.8305\n",
      "\n",
      "Start of epoch 3\n",
      "Training acc over epoch: 0.8734\n",
      "Validation acc: 0.8305\n",
      "\n",
      "Start of epoch 4\n",
      "Training acc over epoch: 0.8734\n",
      "Validation acc: 0.8305\n",
      "\n",
      "Start of epoch 5\n",
      "Training acc over epoch: 0.8734\n",
      "Validation acc: 0.8305\n",
      "\n",
      "Start of epoch 6\n",
      "Training acc over epoch: 0.8734\n",
      "Validation acc: 0.8305\n",
      "\n",
      "Start of epoch 7\n",
      "Training acc over epoch: 0.8734\n",
      "Validation acc: 0.8305\n",
      "\n",
      "Start of epoch 8\n",
      "Training acc over epoch: 0.8723\n",
      "Validation acc: 0.8305\n",
      "\n",
      "Start of epoch 9\n",
      "Training acc over epoch: 0.8734\n",
      "Validation acc: 0.8305\n",
      "\n",
      "Start of epoch 10\n",
      "Training acc over epoch: 0.8734\n",
      "Validation acc: 0.8305\n",
      "\n",
      "Start of epoch 11\n",
      "Training acc over epoch: 0.8734\n",
      "Validation acc: 0.8305\n",
      "\n",
      "Start of epoch 12\n",
      "Training acc over epoch: 0.8734\n",
      "Validation acc: 0.8305\n",
      "\n",
      "Start of epoch 13\n",
      "Training acc over epoch: 0.8734\n",
      "Validation acc: 0.8305\n",
      "\n",
      "Start of epoch 14\n",
      "Training acc over epoch: 0.8734\n",
      "Validation acc: 0.8305\n",
      "\n",
      "Start of epoch 15\n",
      "Training acc over epoch: 0.8734\n",
      "Validation acc: 0.8305\n",
      "\n",
      "Start of epoch 16\n",
      "Training acc over epoch: 0.8734\n",
      "Validation acc: 0.8305\n",
      "\n",
      "Start of epoch 17\n",
      "Training acc over epoch: 0.8734\n",
      "Validation acc: 0.8305\n",
      "\n",
      "Start of epoch 18\n",
      "Training acc over epoch: 0.8734\n",
      "Validation acc: 0.8305\n",
      "\n",
      "Start of epoch 19\n",
      "Training acc over epoch: 0.8734\n",
      "Validation acc: 0.8305\n"
     ]
    },
    {
     "data": {
      "text/html": [
       "<style>\n",
       "    table.wandb td:nth-child(1) { padding: 0 10px; text-align: left ; width: auto;} td:nth-child(2) {text-align: left ; width: 100%}\n",
       "    .wandb-row { display: flex; flex-direction: row; flex-wrap: wrap; justify-content: flex-start; width: 100% }\n",
       "    .wandb-col { display: flex; flex-direction: column; flex-basis: 100%; flex: 1; padding: 10px; }\n",
       "    </style>\n",
       "<div class=\"wandb-row\"><div class=\"wandb-col\"><h3>Run history:</h3><br/><table class=\"wandb\"><tr><td>acc</td><td>▁███████████████████</td></tr><tr><td>epochs</td><td>▁▁▂▂▂▃▃▄▄▄▅▅▅▆▆▇▇▇██</td></tr><tr><td>loss</td><td>█▆▄▃▂▂▁▁▁▁▁▁▁▁▁▁▁▁▁▁</td></tr><tr><td>val_acc</td><td>▁▁▁▁▁▁▁▁▁▁▁▁▁▁▁▁▁▁▁▁</td></tr><tr><td>val_loss</td><td>█▆▄▃▂▂▁▁▁▁▁▁▁▁▁▁▁▁▁▁</td></tr></table><br/></div><div class=\"wandb-col\"><h3>Run summary:</h3><br/><table class=\"wandb\"><tr><td>acc</td><td>0.8734</td></tr><tr><td>epochs</td><td>19</td></tr><tr><td>loss</td><td>0.40704</td></tr><tr><td>val_acc</td><td>0.83051</td></tr><tr><td>val_loss</td><td>0.48783</td></tr></table><br/></div></div>"
      ],
      "text/plain": [
       "<IPython.core.display.HTML object>"
      ]
     },
     "metadata": {},
     "output_type": "display_data"
    },
    {
     "data": {
      "text/html": [
       " View run <strong style=\"color:#cdcd00\">radiant-silence-136</strong> at: <a href='https://wandb.ai/shaicahana-hebrew-university-of-jerusalem/my-tf-integration/runs/v5b7tryh' target=\"_blank\">https://wandb.ai/shaicahana-hebrew-university-of-jerusalem/my-tf-integration/runs/v5b7tryh</a><br/> View project at: <a href='https://wandb.ai/shaicahana-hebrew-university-of-jerusalem/my-tf-integration' target=\"_blank\">https://wandb.ai/shaicahana-hebrew-university-of-jerusalem/my-tf-integration</a><br/>Synced 5 W&B file(s), 0 media file(s), 0 artifact file(s) and 0 other file(s)"
      ],
      "text/plain": [
       "<IPython.core.display.HTML object>"
      ]
     },
     "metadata": {},
     "output_type": "display_data"
    },
    {
     "data": {
      "text/html": [
       "Find logs at: <code>./wandb/run-20241026_153729-v5b7tryh/logs</code>"
      ],
      "text/plain": [
       "<IPython.core.display.HTML object>"
      ]
     },
     "metadata": {},
     "output_type": "display_data"
    },
    {
     "data": {
      "application/vnd.jupyter.widget-view+json": {
       "model_id": "a1424798bdcb4fb287c936961d1976e9",
       "version_major": 2,
       "version_minor": 0
      },
      "text/plain": [
       "VBox(children=(Label(value='Waiting for wandb.init()...\\r'), FloatProgress(value=0.011147234833333325, max=1.0…"
      ]
     },
     "metadata": {},
     "output_type": "display_data"
    },
    {
     "data": {
      "text/html": [
       "Tracking run with wandb version 0.18.5"
      ],
      "text/plain": [
       "<IPython.core.display.HTML object>"
      ]
     },
     "metadata": {},
     "output_type": "display_data"
    },
    {
     "data": {
      "text/html": [
       "Run data is saved locally in <code>/Users/shaicahana/Documents/AI_DL/colab/AI-DL/project-1/wandb/run-20241026_153741-rj65h8i8</code>"
      ],
      "text/plain": [
       "<IPython.core.display.HTML object>"
      ]
     },
     "metadata": {},
     "output_type": "display_data"
    },
    {
     "data": {
      "text/html": [
       "Syncing run <strong><a href='https://wandb.ai/shaicahana-hebrew-university-of-jerusalem/my-tf-integration/runs/rj65h8i8' target=\"_blank\">swift-salad-137</a></strong> to <a href='https://wandb.ai/shaicahana-hebrew-university-of-jerusalem/my-tf-integration' target=\"_blank\">Weights & Biases</a> (<a href='https://wandb.me/run' target=\"_blank\">docs</a>)<br/>"
      ],
      "text/plain": [
       "<IPython.core.display.HTML object>"
      ]
     },
     "metadata": {},
     "output_type": "display_data"
    },
    {
     "data": {
      "text/html": [
       " View project at <a href='https://wandb.ai/shaicahana-hebrew-university-of-jerusalem/my-tf-integration' target=\"_blank\">https://wandb.ai/shaicahana-hebrew-university-of-jerusalem/my-tf-integration</a>"
      ],
      "text/plain": [
       "<IPython.core.display.HTML object>"
      ]
     },
     "metadata": {},
     "output_type": "display_data"
    },
    {
     "data": {
      "text/html": [
       " View run at <a href='https://wandb.ai/shaicahana-hebrew-university-of-jerusalem/my-tf-integration/runs/rj65h8i8' target=\"_blank\">https://wandb.ai/shaicahana-hebrew-university-of-jerusalem/my-tf-integration/runs/rj65h8i8</a>"
      ],
      "text/plain": [
       "<IPython.core.display.HTML object>"
      ]
     },
     "metadata": {},
     "output_type": "display_data"
    },
    {
     "name": "stdout",
     "output_type": "stream",
     "text": [
      "\n",
      "Start of epoch 0\n",
      "Training acc over epoch: 0.5117\n",
      "Validation acc: 0.8305\n",
      "\n",
      "Start of epoch 1\n",
      "Training acc over epoch: 0.8628\n",
      "Validation acc: 0.8305\n",
      "\n",
      "Start of epoch 2\n",
      "Training acc over epoch: 0.8734\n",
      "Validation acc: 0.8305\n",
      "\n",
      "Start of epoch 3\n",
      "Training acc over epoch: 0.8734\n",
      "Validation acc: 0.8305\n",
      "\n",
      "Start of epoch 4\n",
      "Training acc over epoch: 0.8734\n",
      "Validation acc: 0.8305\n",
      "\n",
      "Start of epoch 5\n",
      "Training acc over epoch: 0.8734\n",
      "Validation acc: 0.8305\n",
      "\n",
      "Start of epoch 6\n",
      "Training acc over epoch: 0.8734\n",
      "Validation acc: 0.8305\n",
      "\n",
      "Start of epoch 7\n",
      "Training acc over epoch: 0.8734\n",
      "Validation acc: 0.8305\n",
      "\n",
      "Start of epoch 8\n",
      "Training acc over epoch: 0.8734\n",
      "Validation acc: 0.8305\n",
      "\n",
      "Start of epoch 9\n",
      "Training acc over epoch: 0.8734\n",
      "Validation acc: 0.8305\n",
      "\n",
      "Start of epoch 10\n",
      "Training acc over epoch: 0.8734\n",
      "Validation acc: 0.8305\n",
      "\n",
      "Start of epoch 11\n",
      "Training acc over epoch: 0.8734\n",
      "Validation acc: 0.8305\n",
      "\n",
      "Start of epoch 12\n",
      "Training acc over epoch: 0.8734\n",
      "Validation acc: 0.8305\n",
      "\n",
      "Start of epoch 13\n",
      "Training acc over epoch: 0.8734\n",
      "Validation acc: 0.8305\n",
      "\n",
      "Start of epoch 14\n",
      "Training acc over epoch: 0.8734\n",
      "Validation acc: 0.8305\n",
      "\n",
      "Start of epoch 15\n",
      "Training acc over epoch: 0.8734\n",
      "Validation acc: 0.8305\n",
      "\n",
      "Start of epoch 16\n",
      "Training acc over epoch: 0.8734\n",
      "Validation acc: 0.8305\n",
      "\n",
      "Start of epoch 17\n",
      "Training acc over epoch: 0.8734\n",
      "Validation acc: 0.8305\n",
      "\n",
      "Start of epoch 18\n",
      "Training acc over epoch: 0.8734\n",
      "Validation acc: 0.8305\n",
      "\n",
      "Start of epoch 19\n",
      "Training acc over epoch: 0.8734\n",
      "Validation acc: 0.8305\n"
     ]
    },
    {
     "data": {
      "text/html": [
       "<style>\n",
       "    table.wandb td:nth-child(1) { padding: 0 10px; text-align: left ; width: auto;} td:nth-child(2) {text-align: left ; width: 100%}\n",
       "    .wandb-row { display: flex; flex-direction: row; flex-wrap: wrap; justify-content: flex-start; width: 100% }\n",
       "    .wandb-col { display: flex; flex-direction: column; flex-basis: 100%; flex: 1; padding: 10px; }\n",
       "    </style>\n",
       "<div class=\"wandb-row\"><div class=\"wandb-col\"><h3>Run history:</h3><br/><table class=\"wandb\"><tr><td>acc</td><td>▁███████████████████</td></tr><tr><td>epochs</td><td>▁▁▂▂▂▃▃▄▄▄▅▅▅▆▆▇▇▇██</td></tr><tr><td>loss</td><td>█▆▅▃▂▁▁▁▁▁▁▁▁▁▁▁▁▁▁▁</td></tr><tr><td>val_acc</td><td>▁▁▁▁▁▁▁▁▁▁▁▁▁▁▁▁▁▁▁▁</td></tr><tr><td>val_loss</td><td>█▆▄▂▂▂▁▁▁▁▁▁▁▁▁▁▁▁▁▁</td></tr></table><br/></div><div class=\"wandb-col\"><h3>Run summary:</h3><br/><table class=\"wandb\"><tr><td>acc</td><td>0.8734</td></tr><tr><td>epochs</td><td>19</td></tr><tr><td>loss</td><td>0.40451</td></tr><tr><td>val_acc</td><td>0.83051</td></tr><tr><td>val_loss</td><td>0.47922</td></tr></table><br/></div></div>"
      ],
      "text/plain": [
       "<IPython.core.display.HTML object>"
      ]
     },
     "metadata": {},
     "output_type": "display_data"
    },
    {
     "data": {
      "text/html": [
       " View run <strong style=\"color:#cdcd00\">swift-salad-137</strong> at: <a href='https://wandb.ai/shaicahana-hebrew-university-of-jerusalem/my-tf-integration/runs/rj65h8i8' target=\"_blank\">https://wandb.ai/shaicahana-hebrew-university-of-jerusalem/my-tf-integration/runs/rj65h8i8</a><br/> View project at: <a href='https://wandb.ai/shaicahana-hebrew-university-of-jerusalem/my-tf-integration' target=\"_blank\">https://wandb.ai/shaicahana-hebrew-university-of-jerusalem/my-tf-integration</a><br/>Synced 5 W&B file(s), 0 media file(s), 0 artifact file(s) and 0 other file(s)"
      ],
      "text/plain": [
       "<IPython.core.display.HTML object>"
      ]
     },
     "metadata": {},
     "output_type": "display_data"
    },
    {
     "data": {
      "text/html": [
       "Find logs at: <code>./wandb/run-20241026_153741-rj65h8i8/logs</code>"
      ],
      "text/plain": [
       "<IPython.core.display.HTML object>"
      ]
     },
     "metadata": {},
     "output_type": "display_data"
    },
    {
     "data": {
      "text/html": [
       "Tracking run with wandb version 0.18.5"
      ],
      "text/plain": [
       "<IPython.core.display.HTML object>"
      ]
     },
     "metadata": {},
     "output_type": "display_data"
    },
    {
     "data": {
      "text/html": [
       "Run data is saved locally in <code>/Users/shaicahana/Documents/AI_DL/colab/AI-DL/project-1/wandb/run-20241026_153753-91iaart6</code>"
      ],
      "text/plain": [
       "<IPython.core.display.HTML object>"
      ]
     },
     "metadata": {},
     "output_type": "display_data"
    },
    {
     "data": {
      "text/html": [
       "Syncing run <strong><a href='https://wandb.ai/shaicahana-hebrew-university-of-jerusalem/my-tf-integration/runs/91iaart6' target=\"_blank\">laced-snow-138</a></strong> to <a href='https://wandb.ai/shaicahana-hebrew-university-of-jerusalem/my-tf-integration' target=\"_blank\">Weights & Biases</a> (<a href='https://wandb.me/run' target=\"_blank\">docs</a>)<br/>"
      ],
      "text/plain": [
       "<IPython.core.display.HTML object>"
      ]
     },
     "metadata": {},
     "output_type": "display_data"
    },
    {
     "data": {
      "text/html": [
       " View project at <a href='https://wandb.ai/shaicahana-hebrew-university-of-jerusalem/my-tf-integration' target=\"_blank\">https://wandb.ai/shaicahana-hebrew-university-of-jerusalem/my-tf-integration</a>"
      ],
      "text/plain": [
       "<IPython.core.display.HTML object>"
      ]
     },
     "metadata": {},
     "output_type": "display_data"
    },
    {
     "data": {
      "text/html": [
       " View run at <a href='https://wandb.ai/shaicahana-hebrew-university-of-jerusalem/my-tf-integration/runs/91iaart6' target=\"_blank\">https://wandb.ai/shaicahana-hebrew-university-of-jerusalem/my-tf-integration/runs/91iaart6</a>"
      ],
      "text/plain": [
       "<IPython.core.display.HTML object>"
      ]
     },
     "metadata": {},
     "output_type": "display_data"
    },
    {
     "name": "stdout",
     "output_type": "stream",
     "text": [
      "\n",
      "Start of epoch 0\n",
      "Training acc over epoch: 0.4532\n",
      "Validation acc: 0.8305\n",
      "\n",
      "Start of epoch 1\n",
      "Training acc over epoch: 0.8681\n",
      "Validation acc: 0.8305\n",
      "\n",
      "Start of epoch 2\n",
      "Training acc over epoch: 0.8734\n",
      "Validation acc: 0.8305\n",
      "\n",
      "Start of epoch 3\n",
      "Training acc over epoch: 0.8734\n",
      "Validation acc: 0.8305\n",
      "\n",
      "Start of epoch 4\n",
      "Training acc over epoch: 0.8734\n",
      "Validation acc: 0.8305\n",
      "\n",
      "Start of epoch 5\n",
      "Training acc over epoch: 0.8734\n",
      "Validation acc: 0.8305\n",
      "\n",
      "Start of epoch 6\n",
      "Training acc over epoch: 0.8734\n",
      "Validation acc: 0.8305\n",
      "\n",
      "Start of epoch 7\n",
      "Training acc over epoch: 0.8734\n",
      "Validation acc: 0.8305\n",
      "\n",
      "Start of epoch 8\n",
      "Training acc over epoch: 0.8734\n",
      "Validation acc: 0.8305\n",
      "\n",
      "Start of epoch 9\n",
      "Training acc over epoch: 0.8734\n",
      "Validation acc: 0.8305\n",
      "\n",
      "Start of epoch 10\n",
      "Training acc over epoch: 0.8734\n",
      "Validation acc: 0.8305\n",
      "\n",
      "Start of epoch 11\n",
      "Training acc over epoch: 0.8734\n",
      "Validation acc: 0.8305\n",
      "\n",
      "Start of epoch 12\n",
      "Training acc over epoch: 0.8723\n",
      "Validation acc: 0.8305\n",
      "\n",
      "Start of epoch 13\n",
      "Training acc over epoch: 0.8734\n",
      "Validation acc: 0.8305\n",
      "\n",
      "Start of epoch 14\n",
      "Training acc over epoch: 0.8734\n",
      "Validation acc: 0.8305\n",
      "\n",
      "Start of epoch 15\n",
      "Training acc over epoch: 0.8734\n",
      "Validation acc: 0.8305\n",
      "\n",
      "Start of epoch 16\n",
      "Training acc over epoch: 0.8734\n",
      "Validation acc: 0.8305\n",
      "\n",
      "Start of epoch 17\n",
      "Training acc over epoch: 0.8734\n",
      "Validation acc: 0.8305\n",
      "\n",
      "Start of epoch 18\n",
      "Training acc over epoch: 0.8734\n",
      "Validation acc: 0.8305\n",
      "\n",
      "Start of epoch 19\n",
      "Training acc over epoch: 0.8734\n",
      "Validation acc: 0.8305\n"
     ]
    },
    {
     "data": {
      "text/html": [
       "<style>\n",
       "    table.wandb td:nth-child(1) { padding: 0 10px; text-align: left ; width: auto;} td:nth-child(2) {text-align: left ; width: 100%}\n",
       "    .wandb-row { display: flex; flex-direction: row; flex-wrap: wrap; justify-content: flex-start; width: 100% }\n",
       "    .wandb-col { display: flex; flex-direction: column; flex-basis: 100%; flex: 1; padding: 10px; }\n",
       "    </style>\n",
       "<div class=\"wandb-row\"><div class=\"wandb-col\"><h3>Run history:</h3><br/><table class=\"wandb\"><tr><td>acc</td><td>▁███████████████████</td></tr><tr><td>epochs</td><td>▁▁▂▂▂▃▃▄▄▄▅▅▅▆▆▇▇▇██</td></tr><tr><td>loss</td><td>█▇▅▃▂▂▁▁▁▁▁▁▁▁▁▁▁▁▁▁</td></tr><tr><td>val_acc</td><td>▁▁▁▁▁▁▁▁▁▁▁▁▁▁▁▁▁▁▁▁</td></tr><tr><td>val_loss</td><td>█▆▄▃▂▂▁▁▁▁▁▁▁▁▁▁▁▁▁▁</td></tr></table><br/></div><div class=\"wandb-col\"><h3>Run summary:</h3><br/><table class=\"wandb\"><tr><td>acc</td><td>0.8734</td></tr><tr><td>epochs</td><td>19</td></tr><tr><td>loss</td><td>0.41218</td></tr><tr><td>val_acc</td><td>0.83051</td></tr><tr><td>val_loss</td><td>0.45978</td></tr></table><br/></div></div>"
      ],
      "text/plain": [
       "<IPython.core.display.HTML object>"
      ]
     },
     "metadata": {},
     "output_type": "display_data"
    },
    {
     "data": {
      "text/html": [
       " View run <strong style=\"color:#cdcd00\">laced-snow-138</strong> at: <a href='https://wandb.ai/shaicahana-hebrew-university-of-jerusalem/my-tf-integration/runs/91iaart6' target=\"_blank\">https://wandb.ai/shaicahana-hebrew-university-of-jerusalem/my-tf-integration/runs/91iaart6</a><br/> View project at: <a href='https://wandb.ai/shaicahana-hebrew-university-of-jerusalem/my-tf-integration' target=\"_blank\">https://wandb.ai/shaicahana-hebrew-university-of-jerusalem/my-tf-integration</a><br/>Synced 5 W&B file(s), 0 media file(s), 0 artifact file(s) and 0 other file(s)"
      ],
      "text/plain": [
       "<IPython.core.display.HTML object>"
      ]
     },
     "metadata": {},
     "output_type": "display_data"
    },
    {
     "data": {
      "text/html": [
       "Find logs at: <code>./wandb/run-20241026_153753-91iaart6/logs</code>"
      ],
      "text/plain": [
       "<IPython.core.display.HTML object>"
      ]
     },
     "metadata": {},
     "output_type": "display_data"
    },
    {
     "data": {
      "text/html": [
       "Tracking run with wandb version 0.18.5"
      ],
      "text/plain": [
       "<IPython.core.display.HTML object>"
      ]
     },
     "metadata": {},
     "output_type": "display_data"
    },
    {
     "data": {
      "text/html": [
       "Run data is saved locally in <code>/Users/shaicahana/Documents/AI_DL/colab/AI-DL/project-1/wandb/run-20241026_153803-3f0fudi5</code>"
      ],
      "text/plain": [
       "<IPython.core.display.HTML object>"
      ]
     },
     "metadata": {},
     "output_type": "display_data"
    },
    {
     "data": {
      "text/html": [
       "Syncing run <strong><a href='https://wandb.ai/shaicahana-hebrew-university-of-jerusalem/my-tf-integration/runs/3f0fudi5' target=\"_blank\">dazzling-sound-139</a></strong> to <a href='https://wandb.ai/shaicahana-hebrew-university-of-jerusalem/my-tf-integration' target=\"_blank\">Weights & Biases</a> (<a href='https://wandb.me/run' target=\"_blank\">docs</a>)<br/>"
      ],
      "text/plain": [
       "<IPython.core.display.HTML object>"
      ]
     },
     "metadata": {},
     "output_type": "display_data"
    },
    {
     "data": {
      "text/html": [
       " View project at <a href='https://wandb.ai/shaicahana-hebrew-university-of-jerusalem/my-tf-integration' target=\"_blank\">https://wandb.ai/shaicahana-hebrew-university-of-jerusalem/my-tf-integration</a>"
      ],
      "text/plain": [
       "<IPython.core.display.HTML object>"
      ]
     },
     "metadata": {},
     "output_type": "display_data"
    },
    {
     "data": {
      "text/html": [
       " View run at <a href='https://wandb.ai/shaicahana-hebrew-university-of-jerusalem/my-tf-integration/runs/3f0fudi5' target=\"_blank\">https://wandb.ai/shaicahana-hebrew-university-of-jerusalem/my-tf-integration/runs/3f0fudi5</a>"
      ],
      "text/plain": [
       "<IPython.core.display.HTML object>"
      ]
     },
     "metadata": {},
     "output_type": "display_data"
    },
    {
     "name": "stdout",
     "output_type": "stream",
     "text": [
      "\n",
      "Start of epoch 0\n",
      "Training acc over epoch: 0.5415\n",
      "Validation acc: 0.8305\n",
      "\n",
      "Start of epoch 1\n",
      "Training acc over epoch: 0.8702\n",
      "Validation acc: 0.8305\n",
      "\n",
      "Start of epoch 2\n",
      "Training acc over epoch: 0.8734\n",
      "Validation acc: 0.8305\n",
      "\n",
      "Start of epoch 3\n",
      "Training acc over epoch: 0.8734\n",
      "Validation acc: 0.8305\n",
      "\n",
      "Start of epoch 4\n",
      "Training acc over epoch: 0.8734\n",
      "Validation acc: 0.8305\n",
      "\n",
      "Start of epoch 5\n",
      "Training acc over epoch: 0.8734\n",
      "Validation acc: 0.8305\n",
      "\n",
      "Start of epoch 6\n",
      "Training acc over epoch: 0.8734\n",
      "Validation acc: 0.8305\n",
      "\n",
      "Start of epoch 7\n",
      "Training acc over epoch: 0.8734\n",
      "Validation acc: 0.8305\n",
      "\n",
      "Start of epoch 8\n",
      "Training acc over epoch: 0.8734\n",
      "Validation acc: 0.8305\n",
      "\n",
      "Start of epoch 9\n",
      "Training acc over epoch: 0.8734\n",
      "Validation acc: 0.8305\n",
      "\n",
      "Start of epoch 10\n",
      "Training acc over epoch: 0.8734\n",
      "Validation acc: 0.8305\n",
      "\n",
      "Start of epoch 11\n",
      "Training acc over epoch: 0.8734\n",
      "Validation acc: 0.8305\n",
      "\n",
      "Start of epoch 12\n",
      "Training acc over epoch: 0.8734\n",
      "Validation acc: 0.8305\n",
      "\n",
      "Start of epoch 13\n",
      "Training acc over epoch: 0.8734\n",
      "Validation acc: 0.8305\n",
      "\n",
      "Start of epoch 14\n",
      "Training acc over epoch: 0.8734\n",
      "Validation acc: 0.8305\n",
      "\n",
      "Start of epoch 15\n",
      "Training acc over epoch: 0.8734\n",
      "Validation acc: 0.8305\n",
      "\n",
      "Start of epoch 16\n",
      "Training acc over epoch: 0.8734\n",
      "Validation acc: 0.8305\n",
      "\n",
      "Start of epoch 17\n",
      "Training acc over epoch: 0.8734\n",
      "Validation acc: 0.8305\n",
      "\n",
      "Start of epoch 18\n",
      "Training acc over epoch: 0.8734\n",
      "Validation acc: 0.8305\n",
      "\n",
      "Start of epoch 19\n",
      "Training acc over epoch: 0.8734\n",
      "Validation acc: 0.8305\n"
     ]
    },
    {
     "data": {
      "text/html": [
       "<style>\n",
       "    table.wandb td:nth-child(1) { padding: 0 10px; text-align: left ; width: auto;} td:nth-child(2) {text-align: left ; width: 100%}\n",
       "    .wandb-row { display: flex; flex-direction: row; flex-wrap: wrap; justify-content: flex-start; width: 100% }\n",
       "    .wandb-col { display: flex; flex-direction: column; flex-basis: 100%; flex: 1; padding: 10px; }\n",
       "    </style>\n",
       "<div class=\"wandb-row\"><div class=\"wandb-col\"><h3>Run history:</h3><br/><table class=\"wandb\"><tr><td>acc</td><td>▁███████████████████</td></tr><tr><td>epochs</td><td>▁▁▂▂▂▃▃▄▄▄▅▅▅▆▆▇▇▇██</td></tr><tr><td>loss</td><td>█▇▅▃▂▂▁▁▁▁▁▁▁▁▁▁▁▁▁▁</td></tr><tr><td>val_acc</td><td>▁▁▁▁▁▁▁▁▁▁▁▁▁▁▁▁▁▁▁▁</td></tr><tr><td>val_loss</td><td>█▆▄▂▂▂▁▁▁▁▁▁▁▁▁▁▁▁▁▁</td></tr></table><br/></div><div class=\"wandb-col\"><h3>Run summary:</h3><br/><table class=\"wandb\"><tr><td>acc</td><td>0.8734</td></tr><tr><td>epochs</td><td>19</td></tr><tr><td>loss</td><td>0.40078</td></tr><tr><td>val_acc</td><td>0.83051</td></tr><tr><td>val_loss</td><td>0.46614</td></tr></table><br/></div></div>"
      ],
      "text/plain": [
       "<IPython.core.display.HTML object>"
      ]
     },
     "metadata": {},
     "output_type": "display_data"
    },
    {
     "data": {
      "text/html": [
       " View run <strong style=\"color:#cdcd00\">dazzling-sound-139</strong> at: <a href='https://wandb.ai/shaicahana-hebrew-university-of-jerusalem/my-tf-integration/runs/3f0fudi5' target=\"_blank\">https://wandb.ai/shaicahana-hebrew-university-of-jerusalem/my-tf-integration/runs/3f0fudi5</a><br/> View project at: <a href='https://wandb.ai/shaicahana-hebrew-university-of-jerusalem/my-tf-integration' target=\"_blank\">https://wandb.ai/shaicahana-hebrew-university-of-jerusalem/my-tf-integration</a><br/>Synced 5 W&B file(s), 0 media file(s), 0 artifact file(s) and 0 other file(s)"
      ],
      "text/plain": [
       "<IPython.core.display.HTML object>"
      ]
     },
     "metadata": {},
     "output_type": "display_data"
    },
    {
     "data": {
      "text/html": [
       "Find logs at: <code>./wandb/run-20241026_153803-3f0fudi5/logs</code>"
      ],
      "text/plain": [
       "<IPython.core.display.HTML object>"
      ]
     },
     "metadata": {},
     "output_type": "display_data"
    },
    {
     "data": {
      "text/html": [
       "Tracking run with wandb version 0.18.5"
      ],
      "text/plain": [
       "<IPython.core.display.HTML object>"
      ]
     },
     "metadata": {},
     "output_type": "display_data"
    },
    {
     "data": {
      "text/html": [
       "Run data is saved locally in <code>/Users/shaicahana/Documents/AI_DL/colab/AI-DL/project-1/wandb/run-20241026_153813-ng633vad</code>"
      ],
      "text/plain": [
       "<IPython.core.display.HTML object>"
      ]
     },
     "metadata": {},
     "output_type": "display_data"
    },
    {
     "data": {
      "text/html": [
       "Syncing run <strong><a href='https://wandb.ai/shaicahana-hebrew-university-of-jerusalem/my-tf-integration/runs/ng633vad' target=\"_blank\">valiant-star-140</a></strong> to <a href='https://wandb.ai/shaicahana-hebrew-university-of-jerusalem/my-tf-integration' target=\"_blank\">Weights & Biases</a> (<a href='https://wandb.me/run' target=\"_blank\">docs</a>)<br/>"
      ],
      "text/plain": [
       "<IPython.core.display.HTML object>"
      ]
     },
     "metadata": {},
     "output_type": "display_data"
    },
    {
     "data": {
      "text/html": [
       " View project at <a href='https://wandb.ai/shaicahana-hebrew-university-of-jerusalem/my-tf-integration' target=\"_blank\">https://wandb.ai/shaicahana-hebrew-university-of-jerusalem/my-tf-integration</a>"
      ],
      "text/plain": [
       "<IPython.core.display.HTML object>"
      ]
     },
     "metadata": {},
     "output_type": "display_data"
    },
    {
     "data": {
      "text/html": [
       " View run at <a href='https://wandb.ai/shaicahana-hebrew-university-of-jerusalem/my-tf-integration/runs/ng633vad' target=\"_blank\">https://wandb.ai/shaicahana-hebrew-university-of-jerusalem/my-tf-integration/runs/ng633vad</a>"
      ],
      "text/plain": [
       "<IPython.core.display.HTML object>"
      ]
     },
     "metadata": {},
     "output_type": "display_data"
    },
    {
     "name": "stdout",
     "output_type": "stream",
     "text": [
      "\n",
      "Start of epoch 0\n",
      "Training acc over epoch: 0.5181\n",
      "Validation acc: 0.8305\n",
      "\n",
      "Start of epoch 1\n",
      "Training acc over epoch: 0.8691\n",
      "Validation acc: 0.8305\n",
      "\n",
      "Start of epoch 2\n",
      "Training acc over epoch: 0.8723\n",
      "Validation acc: 0.8305\n",
      "\n",
      "Start of epoch 3\n",
      "Training acc over epoch: 0.8734\n",
      "Validation acc: 0.8305\n",
      "\n",
      "Start of epoch 4\n",
      "Training acc over epoch: 0.8734\n",
      "Validation acc: 0.8305\n",
      "\n",
      "Start of epoch 5\n",
      "Training acc over epoch: 0.8734\n",
      "Validation acc: 0.8305\n",
      "\n",
      "Start of epoch 6\n",
      "Training acc over epoch: 0.8734\n",
      "Validation acc: 0.8305\n",
      "\n",
      "Start of epoch 7\n",
      "Training acc over epoch: 0.8723\n",
      "Validation acc: 0.8305\n",
      "\n",
      "Start of epoch 8\n",
      "Training acc over epoch: 0.8723\n",
      "Validation acc: 0.8305\n",
      "\n",
      "Start of epoch 9\n",
      "Training acc over epoch: 0.8734\n",
      "Validation acc: 0.8305\n",
      "\n",
      "Start of epoch 10\n",
      "Training acc over epoch: 0.8723\n",
      "Validation acc: 0.8305\n",
      "\n",
      "Start of epoch 11\n",
      "Training acc over epoch: 0.8713\n",
      "Validation acc: 0.8305\n",
      "\n",
      "Start of epoch 12\n",
      "Training acc over epoch: 0.8713\n",
      "Validation acc: 0.8305\n",
      "\n",
      "Start of epoch 13\n",
      "Training acc over epoch: 0.8734\n",
      "Validation acc: 0.8305\n",
      "\n",
      "Start of epoch 14\n",
      "Training acc over epoch: 0.8723\n",
      "Validation acc: 0.8305\n",
      "\n",
      "Start of epoch 15\n",
      "Training acc over epoch: 0.8734\n",
      "Validation acc: 0.8305\n",
      "\n",
      "Start of epoch 16\n",
      "Training acc over epoch: 0.8734\n",
      "Validation acc: 0.8305\n",
      "\n",
      "Start of epoch 17\n",
      "Training acc over epoch: 0.8713\n",
      "Validation acc: 0.8305\n",
      "\n",
      "Start of epoch 18\n",
      "Training acc over epoch: 0.8713\n",
      "Validation acc: 0.8305\n",
      "\n",
      "Start of epoch 19\n",
      "Training acc over epoch: 0.8702\n",
      "Validation acc: 0.8305\n"
     ]
    },
    {
     "data": {
      "text/html": [
       "<style>\n",
       "    table.wandb td:nth-child(1) { padding: 0 10px; text-align: left ; width: auto;} td:nth-child(2) {text-align: left ; width: 100%}\n",
       "    .wandb-row { display: flex; flex-direction: row; flex-wrap: wrap; justify-content: flex-start; width: 100% }\n",
       "    .wandb-col { display: flex; flex-direction: column; flex-basis: 100%; flex: 1; padding: 10px; }\n",
       "    </style>\n",
       "<div class=\"wandb-row\"><div class=\"wandb-col\"><h3>Run history:</h3><br/><table class=\"wandb\"><tr><td>acc</td><td>▁███████████████████</td></tr><tr><td>epochs</td><td>▁▁▂▂▂▃▃▄▄▄▅▅▅▆▆▇▇▇██</td></tr><tr><td>loss</td><td>█▇▅▃▂▁▁▁▁▁▁▁▁▁▁▁▁▁▁▁</td></tr><tr><td>val_acc</td><td>▁▁▁▁▁▁▁▁▁▁▁▁▁▁▁▁▁▁▁▁</td></tr><tr><td>val_loss</td><td>█▆▄▂▂▁▁▁▁▁▁▁▁▁▁▁▁▁▁▁</td></tr></table><br/></div><div class=\"wandb-col\"><h3>Run summary:</h3><br/><table class=\"wandb\"><tr><td>acc</td><td>0.87021</td></tr><tr><td>epochs</td><td>19</td></tr><tr><td>loss</td><td>0.40524</td></tr><tr><td>val_acc</td><td>0.83051</td></tr><tr><td>val_loss</td><td>0.45831</td></tr></table><br/></div></div>"
      ],
      "text/plain": [
       "<IPython.core.display.HTML object>"
      ]
     },
     "metadata": {},
     "output_type": "display_data"
    },
    {
     "data": {
      "text/html": [
       " View run <strong style=\"color:#cdcd00\">valiant-star-140</strong> at: <a href='https://wandb.ai/shaicahana-hebrew-university-of-jerusalem/my-tf-integration/runs/ng633vad' target=\"_blank\">https://wandb.ai/shaicahana-hebrew-university-of-jerusalem/my-tf-integration/runs/ng633vad</a><br/> View project at: <a href='https://wandb.ai/shaicahana-hebrew-university-of-jerusalem/my-tf-integration' target=\"_blank\">https://wandb.ai/shaicahana-hebrew-university-of-jerusalem/my-tf-integration</a><br/>Synced 5 W&B file(s), 0 media file(s), 0 artifact file(s) and 0 other file(s)"
      ],
      "text/plain": [
       "<IPython.core.display.HTML object>"
      ]
     },
     "metadata": {},
     "output_type": "display_data"
    },
    {
     "data": {
      "text/html": [
       "Find logs at: <code>./wandb/run-20241026_153813-ng633vad/logs</code>"
      ],
      "text/plain": [
       "<IPython.core.display.HTML object>"
      ]
     },
     "metadata": {},
     "output_type": "display_data"
    },
    {
     "data": {
      "text/html": [
       "Tracking run with wandb version 0.18.5"
      ],
      "text/plain": [
       "<IPython.core.display.HTML object>"
      ]
     },
     "metadata": {},
     "output_type": "display_data"
    },
    {
     "data": {
      "text/html": [
       "Run data is saved locally in <code>/Users/shaicahana/Documents/AI_DL/colab/AI-DL/project-1/wandb/run-20241026_153822-hd649b8g</code>"
      ],
      "text/plain": [
       "<IPython.core.display.HTML object>"
      ]
     },
     "metadata": {},
     "output_type": "display_data"
    },
    {
     "data": {
      "text/html": [
       "Syncing run <strong><a href='https://wandb.ai/shaicahana-hebrew-university-of-jerusalem/my-tf-integration/runs/hd649b8g' target=\"_blank\">quiet-energy-141</a></strong> to <a href='https://wandb.ai/shaicahana-hebrew-university-of-jerusalem/my-tf-integration' target=\"_blank\">Weights & Biases</a> (<a href='https://wandb.me/run' target=\"_blank\">docs</a>)<br/>"
      ],
      "text/plain": [
       "<IPython.core.display.HTML object>"
      ]
     },
     "metadata": {},
     "output_type": "display_data"
    },
    {
     "data": {
      "text/html": [
       " View project at <a href='https://wandb.ai/shaicahana-hebrew-university-of-jerusalem/my-tf-integration' target=\"_blank\">https://wandb.ai/shaicahana-hebrew-university-of-jerusalem/my-tf-integration</a>"
      ],
      "text/plain": [
       "<IPython.core.display.HTML object>"
      ]
     },
     "metadata": {},
     "output_type": "display_data"
    },
    {
     "data": {
      "text/html": [
       " View run at <a href='https://wandb.ai/shaicahana-hebrew-university-of-jerusalem/my-tf-integration/runs/hd649b8g' target=\"_blank\">https://wandb.ai/shaicahana-hebrew-university-of-jerusalem/my-tf-integration/runs/hd649b8g</a>"
      ],
      "text/plain": [
       "<IPython.core.display.HTML object>"
      ]
     },
     "metadata": {},
     "output_type": "display_data"
    },
    {
     "name": "stdout",
     "output_type": "stream",
     "text": [
      "\n",
      "Start of epoch 0\n",
      "Training acc over epoch: 0.5372\n",
      "Validation acc: 0.8305\n",
      "\n",
      "Start of epoch 1\n",
      "Training acc over epoch: 0.8691\n",
      "Validation acc: 0.8305\n",
      "\n",
      "Start of epoch 2\n",
      "Training acc over epoch: 0.8734\n",
      "Validation acc: 0.8305\n",
      "\n",
      "Start of epoch 3\n",
      "Training acc over epoch: 0.8734\n",
      "Validation acc: 0.8305\n",
      "\n",
      "Start of epoch 4\n",
      "Training acc over epoch: 0.8734\n",
      "Validation acc: 0.8305\n",
      "\n",
      "Start of epoch 5\n",
      "Training acc over epoch: 0.8734\n",
      "Validation acc: 0.8305\n",
      "\n",
      "Start of epoch 6\n",
      "Training acc over epoch: 0.8723\n",
      "Validation acc: 0.8305\n",
      "\n",
      "Start of epoch 7\n",
      "Training acc over epoch: 0.8723\n",
      "Validation acc: 0.8305\n",
      "\n",
      "Start of epoch 8\n",
      "Training acc over epoch: 0.8713\n",
      "Validation acc: 0.8305\n",
      "\n",
      "Start of epoch 9\n",
      "Training acc over epoch: 0.8702\n",
      "Validation acc: 0.8305\n",
      "\n",
      "Start of epoch 10\n",
      "Training acc over epoch: 0.8734\n",
      "Validation acc: 0.8305\n",
      "\n",
      "Start of epoch 11\n",
      "Training acc over epoch: 0.8723\n",
      "Validation acc: 0.8305\n",
      "\n",
      "Start of epoch 12\n",
      "Training acc over epoch: 0.8691\n",
      "Validation acc: 0.8305\n",
      "\n",
      "Start of epoch 13\n",
      "Training acc over epoch: 0.8734\n",
      "Validation acc: 0.8305\n",
      "\n",
      "Start of epoch 14\n",
      "Training acc over epoch: 0.8734\n",
      "Validation acc: 0.8305\n",
      "\n",
      "Start of epoch 15\n",
      "Training acc over epoch: 0.8723\n",
      "Validation acc: 0.8305\n",
      "\n",
      "Start of epoch 16\n",
      "Training acc over epoch: 0.8734\n",
      "Validation acc: 0.8305\n",
      "\n",
      "Start of epoch 17\n",
      "Training acc over epoch: 0.8723\n",
      "Validation acc: 0.8305\n",
      "\n",
      "Start of epoch 18\n",
      "Training acc over epoch: 0.8723\n",
      "Validation acc: 0.8305\n",
      "\n",
      "Start of epoch 19\n",
      "Training acc over epoch: 0.8723\n",
      "Validation acc: 0.8305\n"
     ]
    },
    {
     "data": {
      "text/html": [
       "<style>\n",
       "    table.wandb td:nth-child(1) { padding: 0 10px; text-align: left ; width: auto;} td:nth-child(2) {text-align: left ; width: 100%}\n",
       "    .wandb-row { display: flex; flex-direction: row; flex-wrap: wrap; justify-content: flex-start; width: 100% }\n",
       "    .wandb-col { display: flex; flex-direction: column; flex-basis: 100%; flex: 1; padding: 10px; }\n",
       "    </style>\n",
       "<div class=\"wandb-row\"><div class=\"wandb-col\"><h3>Run history:</h3><br/><table class=\"wandb\"><tr><td>acc</td><td>▁███████████████████</td></tr><tr><td>epochs</td><td>▁▁▂▂▂▃▃▄▄▄▅▅▅▆▆▇▇▇██</td></tr><tr><td>loss</td><td>█▆▅▃▂▁▁▁▁▁▁▁▁▁▁▁▁▁▁▁</td></tr><tr><td>val_acc</td><td>▁▁▁▁▁▁▁▁▁▁▁▁▁▁▁▁▁▁▁▁</td></tr><tr><td>val_loss</td><td>█▆▄▂▂▁▁▁▁▁▁▁▁▁▁▁▁▁▁▁</td></tr></table><br/></div><div class=\"wandb-col\"><h3>Run summary:</h3><br/><table class=\"wandb\"><tr><td>acc</td><td>0.87234</td></tr><tr><td>epochs</td><td>19</td></tr><tr><td>loss</td><td>0.38923</td></tr><tr><td>val_acc</td><td>0.83051</td></tr><tr><td>val_loss</td><td>0.4531</td></tr></table><br/></div></div>"
      ],
      "text/plain": [
       "<IPython.core.display.HTML object>"
      ]
     },
     "metadata": {},
     "output_type": "display_data"
    },
    {
     "data": {
      "text/html": [
       " View run <strong style=\"color:#cdcd00\">quiet-energy-141</strong> at: <a href='https://wandb.ai/shaicahana-hebrew-university-of-jerusalem/my-tf-integration/runs/hd649b8g' target=\"_blank\">https://wandb.ai/shaicahana-hebrew-university-of-jerusalem/my-tf-integration/runs/hd649b8g</a><br/> View project at: <a href='https://wandb.ai/shaicahana-hebrew-university-of-jerusalem/my-tf-integration' target=\"_blank\">https://wandb.ai/shaicahana-hebrew-university-of-jerusalem/my-tf-integration</a><br/>Synced 5 W&B file(s), 0 media file(s), 0 artifact file(s) and 0 other file(s)"
      ],
      "text/plain": [
       "<IPython.core.display.HTML object>"
      ]
     },
     "metadata": {},
     "output_type": "display_data"
    },
    {
     "data": {
      "text/html": [
       "Find logs at: <code>./wandb/run-20241026_153822-hd649b8g/logs</code>"
      ],
      "text/plain": [
       "<IPython.core.display.HTML object>"
      ]
     },
     "metadata": {},
     "output_type": "display_data"
    },
    {
     "data": {
      "text/html": [
       "Tracking run with wandb version 0.18.5"
      ],
      "text/plain": [
       "<IPython.core.display.HTML object>"
      ]
     },
     "metadata": {},
     "output_type": "display_data"
    },
    {
     "data": {
      "text/html": [
       "Run data is saved locally in <code>/Users/shaicahana/Documents/AI_DL/colab/AI-DL/project-1/wandb/run-20241026_153831-5rc8p3fb</code>"
      ],
      "text/plain": [
       "<IPython.core.display.HTML object>"
      ]
     },
     "metadata": {},
     "output_type": "display_data"
    },
    {
     "data": {
      "text/html": [
       "Syncing run <strong><a href='https://wandb.ai/shaicahana-hebrew-university-of-jerusalem/my-tf-integration/runs/5rc8p3fb' target=\"_blank\">quiet-darkness-142</a></strong> to <a href='https://wandb.ai/shaicahana-hebrew-university-of-jerusalem/my-tf-integration' target=\"_blank\">Weights & Biases</a> (<a href='https://wandb.me/run' target=\"_blank\">docs</a>)<br/>"
      ],
      "text/plain": [
       "<IPython.core.display.HTML object>"
      ]
     },
     "metadata": {},
     "output_type": "display_data"
    },
    {
     "data": {
      "text/html": [
       " View project at <a href='https://wandb.ai/shaicahana-hebrew-university-of-jerusalem/my-tf-integration' target=\"_blank\">https://wandb.ai/shaicahana-hebrew-university-of-jerusalem/my-tf-integration</a>"
      ],
      "text/plain": [
       "<IPython.core.display.HTML object>"
      ]
     },
     "metadata": {},
     "output_type": "display_data"
    },
    {
     "data": {
      "text/html": [
       " View run at <a href='https://wandb.ai/shaicahana-hebrew-university-of-jerusalem/my-tf-integration/runs/5rc8p3fb' target=\"_blank\">https://wandb.ai/shaicahana-hebrew-university-of-jerusalem/my-tf-integration/runs/5rc8p3fb</a>"
      ],
      "text/plain": [
       "<IPython.core.display.HTML object>"
      ]
     },
     "metadata": {},
     "output_type": "display_data"
    },
    {
     "name": "stdout",
     "output_type": "stream",
     "text": [
      "\n",
      "Start of epoch 0\n",
      "Training acc over epoch: 0.5968\n",
      "Validation acc: 0.8305\n",
      "\n",
      "Start of epoch 1\n",
      "Training acc over epoch: 0.8723\n",
      "Validation acc: 0.8305\n",
      "\n",
      "Start of epoch 2\n",
      "Training acc over epoch: 0.8734\n",
      "Validation acc: 0.8305\n",
      "\n",
      "Start of epoch 3\n",
      "Training acc over epoch: 0.8734\n",
      "Validation acc: 0.8305\n",
      "\n",
      "Start of epoch 4\n",
      "Training acc over epoch: 0.8734\n",
      "Validation acc: 0.8305\n",
      "\n",
      "Start of epoch 5\n",
      "Training acc over epoch: 0.8734\n",
      "Validation acc: 0.8305\n",
      "\n",
      "Start of epoch 6\n",
      "Training acc over epoch: 0.8702\n",
      "Validation acc: 0.8305\n",
      "\n",
      "Start of epoch 7\n",
      "Training acc over epoch: 0.8713\n",
      "Validation acc: 0.8305\n",
      "\n",
      "Start of epoch 8\n",
      "Training acc over epoch: 0.8734\n",
      "Validation acc: 0.8305\n",
      "\n",
      "Start of epoch 9\n",
      "Training acc over epoch: 0.8723\n",
      "Validation acc: 0.8305\n",
      "\n",
      "Start of epoch 10\n",
      "Training acc over epoch: 0.8681\n",
      "Validation acc: 0.8305\n",
      "\n",
      "Start of epoch 11\n",
      "Training acc over epoch: 0.8691\n",
      "Validation acc: 0.8305\n",
      "\n",
      "Start of epoch 12\n",
      "Training acc over epoch: 0.8670\n",
      "Validation acc: 0.8305\n",
      "\n",
      "Start of epoch 13\n",
      "Training acc over epoch: 0.8702\n",
      "Validation acc: 0.8305\n",
      "\n",
      "Start of epoch 14\n",
      "Training acc over epoch: 0.8660\n",
      "Validation acc: 0.8305\n",
      "\n",
      "Start of epoch 15\n",
      "Training acc over epoch: 0.8702\n",
      "Validation acc: 0.8305\n",
      "\n",
      "Start of epoch 16\n",
      "Training acc over epoch: 0.8691\n",
      "Validation acc: 0.8305\n",
      "\n",
      "Start of epoch 17\n",
      "Training acc over epoch: 0.8670\n",
      "Validation acc: 0.8305\n",
      "\n",
      "Start of epoch 18\n",
      "Training acc over epoch: 0.8713\n",
      "Validation acc: 0.8305\n",
      "\n",
      "Start of epoch 19\n",
      "Training acc over epoch: 0.8723\n",
      "Validation acc: 0.8305\n"
     ]
    },
    {
     "data": {
      "application/vnd.jupyter.widget-view+json": {
       "model_id": "6eba46479b6b4766960f9423cd2628d3",
       "version_major": 2,
       "version_minor": 0
      },
      "text/plain": [
       "VBox(children=(Label(value='0.009 MB of 0.009 MB uploaded\\r'), FloatProgress(value=1.0, max=1.0)))"
      ]
     },
     "metadata": {},
     "output_type": "display_data"
    },
    {
     "data": {
      "text/html": [
       "<style>\n",
       "    table.wandb td:nth-child(1) { padding: 0 10px; text-align: left ; width: auto;} td:nth-child(2) {text-align: left ; width: 100%}\n",
       "    .wandb-row { display: flex; flex-direction: row; flex-wrap: wrap; justify-content: flex-start; width: 100% }\n",
       "    .wandb-col { display: flex; flex-direction: column; flex-basis: 100%; flex: 1; padding: 10px; }\n",
       "    </style>\n",
       "<div class=\"wandb-row\"><div class=\"wandb-col\"><h3>Run history:</h3><br/><table class=\"wandb\"><tr><td>acc</td><td>▁███████████████████</td></tr><tr><td>epochs</td><td>▁▁▂▂▂▃▃▄▄▄▅▅▅▆▆▇▇▇██</td></tr><tr><td>loss</td><td>█▇▅▃▂▁▁▁▁▁▁▁▁▁▁▁▁▁▁▁</td></tr><tr><td>val_acc</td><td>▁▁▁▁▁▁▁▁▁▁▁▁▁▁▁▁▁▁▁▁</td></tr><tr><td>val_loss</td><td>█▆▄▂▂▁▁▁▁▁▁▁▁▁▁▁▁▁▁▁</td></tr></table><br/></div><div class=\"wandb-col\"><h3>Run summary:</h3><br/><table class=\"wandb\"><tr><td>acc</td><td>0.87234</td></tr><tr><td>epochs</td><td>19</td></tr><tr><td>loss</td><td>0.38831</td></tr><tr><td>val_acc</td><td>0.83051</td></tr><tr><td>val_loss</td><td>0.44922</td></tr></table><br/></div></div>"
      ],
      "text/plain": [
       "<IPython.core.display.HTML object>"
      ]
     },
     "metadata": {},
     "output_type": "display_data"
    },
    {
     "data": {
      "text/html": [
       " View run <strong style=\"color:#cdcd00\">quiet-darkness-142</strong> at: <a href='https://wandb.ai/shaicahana-hebrew-university-of-jerusalem/my-tf-integration/runs/5rc8p3fb' target=\"_blank\">https://wandb.ai/shaicahana-hebrew-university-of-jerusalem/my-tf-integration/runs/5rc8p3fb</a><br/> View project at: <a href='https://wandb.ai/shaicahana-hebrew-university-of-jerusalem/my-tf-integration' target=\"_blank\">https://wandb.ai/shaicahana-hebrew-university-of-jerusalem/my-tf-integration</a><br/>Synced 5 W&B file(s), 0 media file(s), 0 artifact file(s) and 0 other file(s)"
      ],
      "text/plain": [
       "<IPython.core.display.HTML object>"
      ]
     },
     "metadata": {},
     "output_type": "display_data"
    },
    {
     "data": {
      "text/html": [
       "Find logs at: <code>./wandb/run-20241026_153831-5rc8p3fb/logs</code>"
      ],
      "text/plain": [
       "<IPython.core.display.HTML object>"
      ]
     },
     "metadata": {},
     "output_type": "display_data"
    },
    {
     "data": {
      "text/html": [
       "Tracking run with wandb version 0.18.5"
      ],
      "text/plain": [
       "<IPython.core.display.HTML object>"
      ]
     },
     "metadata": {},
     "output_type": "display_data"
    },
    {
     "data": {
      "text/html": [
       "Run data is saved locally in <code>/Users/shaicahana/Documents/AI_DL/colab/AI-DL/project-1/wandb/run-20241026_153844-r0nlmt9h</code>"
      ],
      "text/plain": [
       "<IPython.core.display.HTML object>"
      ]
     },
     "metadata": {},
     "output_type": "display_data"
    },
    {
     "data": {
      "text/html": [
       "Syncing run <strong><a href='https://wandb.ai/shaicahana-hebrew-university-of-jerusalem/my-tf-integration/runs/r0nlmt9h' target=\"_blank\">twilight-dawn-143</a></strong> to <a href='https://wandb.ai/shaicahana-hebrew-university-of-jerusalem/my-tf-integration' target=\"_blank\">Weights & Biases</a> (<a href='https://wandb.me/run' target=\"_blank\">docs</a>)<br/>"
      ],
      "text/plain": [
       "<IPython.core.display.HTML object>"
      ]
     },
     "metadata": {},
     "output_type": "display_data"
    },
    {
     "data": {
      "text/html": [
       " View project at <a href='https://wandb.ai/shaicahana-hebrew-university-of-jerusalem/my-tf-integration' target=\"_blank\">https://wandb.ai/shaicahana-hebrew-university-of-jerusalem/my-tf-integration</a>"
      ],
      "text/plain": [
       "<IPython.core.display.HTML object>"
      ]
     },
     "metadata": {},
     "output_type": "display_data"
    },
    {
     "data": {
      "text/html": [
       " View run at <a href='https://wandb.ai/shaicahana-hebrew-university-of-jerusalem/my-tf-integration/runs/r0nlmt9h' target=\"_blank\">https://wandb.ai/shaicahana-hebrew-university-of-jerusalem/my-tf-integration/runs/r0nlmt9h</a>"
      ],
      "text/plain": [
       "<IPython.core.display.HTML object>"
      ]
     },
     "metadata": {},
     "output_type": "display_data"
    },
    {
     "name": "stdout",
     "output_type": "stream",
     "text": [
      "\n",
      "Start of epoch 0\n",
      "Training acc over epoch: 0.5702\n",
      "Validation acc: 0.8305\n",
      "\n",
      "Start of epoch 1\n",
      "Training acc over epoch: 0.8660\n",
      "Validation acc: 0.8305\n",
      "\n",
      "Start of epoch 2\n",
      "Training acc over epoch: 0.8734\n",
      "Validation acc: 0.8305\n",
      "\n",
      "Start of epoch 3\n",
      "Training acc over epoch: 0.8734\n",
      "Validation acc: 0.8305\n",
      "\n",
      "Start of epoch 4\n",
      "Training acc over epoch: 0.8734\n",
      "Validation acc: 0.8305\n",
      "\n",
      "Start of epoch 5\n",
      "Training acc over epoch: 0.8734\n",
      "Validation acc: 0.8305\n",
      "\n",
      "Start of epoch 6\n",
      "Training acc over epoch: 0.8734\n",
      "Validation acc: 0.8305\n",
      "\n",
      "Start of epoch 7\n",
      "Training acc over epoch: 0.8734\n",
      "Validation acc: 0.8305\n",
      "\n",
      "Start of epoch 8\n",
      "Training acc over epoch: 0.8723\n",
      "Validation acc: 0.8305\n",
      "\n",
      "Start of epoch 9\n",
      "Training acc over epoch: 0.8745\n",
      "Validation acc: 0.8305\n",
      "\n",
      "Start of epoch 10\n",
      "Training acc over epoch: 0.8723\n",
      "Validation acc: 0.8305\n",
      "\n",
      "Start of epoch 11\n",
      "Training acc over epoch: 0.8745\n",
      "Validation acc: 0.8305\n",
      "\n",
      "Start of epoch 12\n",
      "Training acc over epoch: 0.8702\n",
      "Validation acc: 0.8305\n",
      "\n",
      "Start of epoch 13\n",
      "Training acc over epoch: 0.8734\n",
      "Validation acc: 0.8305\n",
      "\n",
      "Start of epoch 14\n",
      "Training acc over epoch: 0.8713\n",
      "Validation acc: 0.8305\n",
      "\n",
      "Start of epoch 15\n",
      "Training acc over epoch: 0.8723\n",
      "Validation acc: 0.8305\n",
      "\n",
      "Start of epoch 16\n",
      "Training acc over epoch: 0.8734\n",
      "Validation acc: 0.8305\n",
      "\n",
      "Start of epoch 17\n",
      "Training acc over epoch: 0.8713\n",
      "Validation acc: 0.8305\n",
      "\n",
      "Start of epoch 18\n",
      "Training acc over epoch: 0.8681\n",
      "Validation acc: 0.8305\n",
      "\n",
      "Start of epoch 19\n",
      "Training acc over epoch: 0.8723\n",
      "Validation acc: 0.8305\n"
     ]
    },
    {
     "data": {
      "text/html": [
       "<style>\n",
       "    table.wandb td:nth-child(1) { padding: 0 10px; text-align: left ; width: auto;} td:nth-child(2) {text-align: left ; width: 100%}\n",
       "    .wandb-row { display: flex; flex-direction: row; flex-wrap: wrap; justify-content: flex-start; width: 100% }\n",
       "    .wandb-col { display: flex; flex-direction: column; flex-basis: 100%; flex: 1; padding: 10px; }\n",
       "    </style>\n",
       "<div class=\"wandb-row\"><div class=\"wandb-col\"><h3>Run history:</h3><br/><table class=\"wandb\"><tr><td>acc</td><td>▁███████████████████</td></tr><tr><td>epochs</td><td>▁▁▂▂▂▃▃▄▄▄▅▅▅▆▆▇▇▇██</td></tr><tr><td>loss</td><td>█▆▄▃▂▁▁▁▁▁▁▁▁▁▁▁▁▁▁▁</td></tr><tr><td>val_acc</td><td>▁▁▁▁▁▁▁▁▁▁▁▁▁▁▁▁▁▁▁▁</td></tr><tr><td>val_loss</td><td>█▆▄▂▂▁▁▁▁▁▁▁▁▁▁▁▁▁▁▁</td></tr></table><br/></div><div class=\"wandb-col\"><h3>Run summary:</h3><br/><table class=\"wandb\"><tr><td>acc</td><td>0.87234</td></tr><tr><td>epochs</td><td>19</td></tr><tr><td>loss</td><td>0.40644</td></tr><tr><td>val_acc</td><td>0.83051</td></tr><tr><td>val_loss</td><td>0.44817</td></tr></table><br/></div></div>"
      ],
      "text/plain": [
       "<IPython.core.display.HTML object>"
      ]
     },
     "metadata": {},
     "output_type": "display_data"
    },
    {
     "data": {
      "text/html": [
       " View run <strong style=\"color:#cdcd00\">twilight-dawn-143</strong> at: <a href='https://wandb.ai/shaicahana-hebrew-university-of-jerusalem/my-tf-integration/runs/r0nlmt9h' target=\"_blank\">https://wandb.ai/shaicahana-hebrew-university-of-jerusalem/my-tf-integration/runs/r0nlmt9h</a><br/> View project at: <a href='https://wandb.ai/shaicahana-hebrew-university-of-jerusalem/my-tf-integration' target=\"_blank\">https://wandb.ai/shaicahana-hebrew-university-of-jerusalem/my-tf-integration</a><br/>Synced 5 W&B file(s), 0 media file(s), 0 artifact file(s) and 0 other file(s)"
      ],
      "text/plain": [
       "<IPython.core.display.HTML object>"
      ]
     },
     "metadata": {},
     "output_type": "display_data"
    },
    {
     "data": {
      "text/html": [
       "Find logs at: <code>./wandb/run-20241026_153844-r0nlmt9h/logs</code>"
      ],
      "text/plain": [
       "<IPython.core.display.HTML object>"
      ]
     },
     "metadata": {},
     "output_type": "display_data"
    },
    {
     "data": {
      "text/html": [
       "Tracking run with wandb version 0.18.5"
      ],
      "text/plain": [
       "<IPython.core.display.HTML object>"
      ]
     },
     "metadata": {},
     "output_type": "display_data"
    },
    {
     "data": {
      "text/html": [
       "Run data is saved locally in <code>/Users/shaicahana/Documents/AI_DL/colab/AI-DL/project-1/wandb/run-20241026_153854-gesugarj</code>"
      ],
      "text/plain": [
       "<IPython.core.display.HTML object>"
      ]
     },
     "metadata": {},
     "output_type": "display_data"
    },
    {
     "data": {
      "text/html": [
       "Syncing run <strong><a href='https://wandb.ai/shaicahana-hebrew-university-of-jerusalem/my-tf-integration/runs/gesugarj' target=\"_blank\">glamorous-yogurt-144</a></strong> to <a href='https://wandb.ai/shaicahana-hebrew-university-of-jerusalem/my-tf-integration' target=\"_blank\">Weights & Biases</a> (<a href='https://wandb.me/run' target=\"_blank\">docs</a>)<br/>"
      ],
      "text/plain": [
       "<IPython.core.display.HTML object>"
      ]
     },
     "metadata": {},
     "output_type": "display_data"
    },
    {
     "data": {
      "text/html": [
       " View project at <a href='https://wandb.ai/shaicahana-hebrew-university-of-jerusalem/my-tf-integration' target=\"_blank\">https://wandb.ai/shaicahana-hebrew-university-of-jerusalem/my-tf-integration</a>"
      ],
      "text/plain": [
       "<IPython.core.display.HTML object>"
      ]
     },
     "metadata": {},
     "output_type": "display_data"
    },
    {
     "data": {
      "text/html": [
       " View run at <a href='https://wandb.ai/shaicahana-hebrew-university-of-jerusalem/my-tf-integration/runs/gesugarj' target=\"_blank\">https://wandb.ai/shaicahana-hebrew-university-of-jerusalem/my-tf-integration/runs/gesugarj</a>"
      ],
      "text/plain": [
       "<IPython.core.display.HTML object>"
      ]
     },
     "metadata": {},
     "output_type": "display_data"
    },
    {
     "name": "stdout",
     "output_type": "stream",
     "text": [
      "\n",
      "Start of epoch 0\n",
      "Training acc over epoch: 0.4739\n",
      "Validation acc: 0.8841\n",
      "\n",
      "Start of epoch 1\n",
      "Training acc over epoch: 0.8267\n",
      "Validation acc: 0.8841\n",
      "\n",
      "Start of epoch 2\n",
      "Training acc over epoch: 0.8521\n",
      "Validation acc: 0.8841\n",
      "\n",
      "Start of epoch 3\n",
      "Training acc over epoch: 0.8558\n",
      "Validation acc: 0.8841\n",
      "\n",
      "Start of epoch 4\n",
      "Training acc over epoch: 0.8558\n",
      "Validation acc: 0.8841\n",
      "\n",
      "Start of epoch 5\n",
      "Training acc over epoch: 0.8558\n",
      "Validation acc: 0.8841\n",
      "\n",
      "Start of epoch 6\n",
      "Training acc over epoch: 0.8558\n",
      "Validation acc: 0.8841\n",
      "\n",
      "Start of epoch 7\n",
      "Training acc over epoch: 0.8558\n",
      "Validation acc: 0.8841\n",
      "\n",
      "Start of epoch 8\n",
      "Training acc over epoch: 0.8558\n",
      "Validation acc: 0.8841\n",
      "\n",
      "Start of epoch 9\n",
      "Training acc over epoch: 0.8521\n",
      "Validation acc: 0.8841\n",
      "\n",
      "Start of epoch 10\n",
      "Training acc over epoch: 0.8558\n",
      "Validation acc: 0.8841\n",
      "\n",
      "Start of epoch 11\n",
      "Training acc over epoch: 0.8558\n",
      "Validation acc: 0.8841\n",
      "\n",
      "Start of epoch 12\n",
      "Training acc over epoch: 0.8533\n",
      "Validation acc: 0.8841\n",
      "\n",
      "Start of epoch 13\n",
      "Training acc over epoch: 0.8533\n",
      "Validation acc: 0.8841\n",
      "\n",
      "Start of epoch 14\n",
      "Training acc over epoch: 0.8558\n",
      "Validation acc: 0.8841\n",
      "\n",
      "Start of epoch 15\n",
      "Training acc over epoch: 0.8497\n",
      "Validation acc: 0.8841\n",
      "\n",
      "Start of epoch 16\n",
      "Training acc over epoch: 0.8558\n",
      "Validation acc: 0.8841\n",
      "\n",
      "Start of epoch 17\n",
      "Training acc over epoch: 0.8558\n",
      "Validation acc: 0.8841\n",
      "\n",
      "Start of epoch 18\n",
      "Training acc over epoch: 0.8545\n",
      "Validation acc: 0.8841\n",
      "\n",
      "Start of epoch 19\n",
      "Training acc over epoch: 0.8558\n",
      "Validation acc: 0.8841\n"
     ]
    },
    {
     "data": {
      "text/html": [
       "<style>\n",
       "    table.wandb td:nth-child(1) { padding: 0 10px; text-align: left ; width: auto;} td:nth-child(2) {text-align: left ; width: 100%}\n",
       "    .wandb-row { display: flex; flex-direction: row; flex-wrap: wrap; justify-content: flex-start; width: 100% }\n",
       "    .wandb-col { display: flex; flex-direction: column; flex-basis: 100%; flex: 1; padding: 10px; }\n",
       "    </style>\n",
       "<div class=\"wandb-row\"><div class=\"wandb-col\"><h3>Run history:</h3><br/><table class=\"wandb\"><tr><td>acc</td><td>▁▇██████████████████</td></tr><tr><td>epochs</td><td>▁▁▂▂▂▃▃▄▄▄▅▅▅▆▆▇▇▇██</td></tr><tr><td>loss</td><td>█▇▅▄▃▂▂▁▁▁▁▁▁▁▁▁▁▁▁▁</td></tr><tr><td>val_acc</td><td>▁▁▁▁▁▁▁▁▁▁▁▁▁▁▁▁▁▁▁▁</td></tr><tr><td>val_loss</td><td>█▇▅▃▂▁▁▁▁▁▁▁▁▁▁▁▁▁▁▁</td></tr></table><br/></div><div class=\"wandb-col\"><h3>Run summary:</h3><br/><table class=\"wandb\"><tr><td>acc</td><td>0.85576</td></tr><tr><td>epochs</td><td>19</td></tr><tr><td>loss</td><td>0.42553</td></tr><tr><td>val_acc</td><td>0.88406</td></tr><tr><td>val_loss</td><td>0.33657</td></tr></table><br/></div></div>"
      ],
      "text/plain": [
       "<IPython.core.display.HTML object>"
      ]
     },
     "metadata": {},
     "output_type": "display_data"
    },
    {
     "data": {
      "text/html": [
       " View run <strong style=\"color:#cdcd00\">glamorous-yogurt-144</strong> at: <a href='https://wandb.ai/shaicahana-hebrew-university-of-jerusalem/my-tf-integration/runs/gesugarj' target=\"_blank\">https://wandb.ai/shaicahana-hebrew-university-of-jerusalem/my-tf-integration/runs/gesugarj</a><br/> View project at: <a href='https://wandb.ai/shaicahana-hebrew-university-of-jerusalem/my-tf-integration' target=\"_blank\">https://wandb.ai/shaicahana-hebrew-university-of-jerusalem/my-tf-integration</a><br/>Synced 5 W&B file(s), 0 media file(s), 0 artifact file(s) and 0 other file(s)"
      ],
      "text/plain": [
       "<IPython.core.display.HTML object>"
      ]
     },
     "metadata": {},
     "output_type": "display_data"
    },
    {
     "data": {
      "text/html": [
       "Find logs at: <code>./wandb/run-20241026_153854-gesugarj/logs</code>"
      ],
      "text/plain": [
       "<IPython.core.display.HTML object>"
      ]
     },
     "metadata": {},
     "output_type": "display_data"
    },
    {
     "data": {
      "text/html": [
       "Tracking run with wandb version 0.18.5"
      ],
      "text/plain": [
       "<IPython.core.display.HTML object>"
      ]
     },
     "metadata": {},
     "output_type": "display_data"
    },
    {
     "data": {
      "text/html": [
       "Run data is saved locally in <code>/Users/shaicahana/Documents/AI_DL/colab/AI-DL/project-1/wandb/run-20241026_153902-qgbhdd4o</code>"
      ],
      "text/plain": [
       "<IPython.core.display.HTML object>"
      ]
     },
     "metadata": {},
     "output_type": "display_data"
    },
    {
     "data": {
      "text/html": [
       "Syncing run <strong><a href='https://wandb.ai/shaicahana-hebrew-university-of-jerusalem/my-tf-integration/runs/qgbhdd4o' target=\"_blank\">dulcet-frost-145</a></strong> to <a href='https://wandb.ai/shaicahana-hebrew-university-of-jerusalem/my-tf-integration' target=\"_blank\">Weights & Biases</a> (<a href='https://wandb.me/run' target=\"_blank\">docs</a>)<br/>"
      ],
      "text/plain": [
       "<IPython.core.display.HTML object>"
      ]
     },
     "metadata": {},
     "output_type": "display_data"
    },
    {
     "data": {
      "text/html": [
       " View project at <a href='https://wandb.ai/shaicahana-hebrew-university-of-jerusalem/my-tf-integration' target=\"_blank\">https://wandb.ai/shaicahana-hebrew-university-of-jerusalem/my-tf-integration</a>"
      ],
      "text/plain": [
       "<IPython.core.display.HTML object>"
      ]
     },
     "metadata": {},
     "output_type": "display_data"
    },
    {
     "data": {
      "text/html": [
       " View run at <a href='https://wandb.ai/shaicahana-hebrew-university-of-jerusalem/my-tf-integration/runs/qgbhdd4o' target=\"_blank\">https://wandb.ai/shaicahana-hebrew-university-of-jerusalem/my-tf-integration/runs/qgbhdd4o</a>"
      ],
      "text/plain": [
       "<IPython.core.display.HTML object>"
      ]
     },
     "metadata": {},
     "output_type": "display_data"
    },
    {
     "name": "stdout",
     "output_type": "stream",
     "text": [
      "\n",
      "Start of epoch 0\n",
      "Training acc over epoch: 0.5430\n",
      "Validation acc: 0.8478\n",
      "\n",
      "Start of epoch 1\n",
      "Training acc over epoch: 0.8704\n",
      "Validation acc: 0.8478\n",
      "\n",
      "Start of epoch 2\n",
      "Training acc over epoch: 0.8731\n",
      "Validation acc: 0.8478\n",
      "\n",
      "Start of epoch 3\n",
      "Training acc over epoch: 0.8731\n",
      "Validation acc: 0.8478\n",
      "\n",
      "Start of epoch 4\n",
      "Training acc over epoch: 0.8731\n",
      "Validation acc: 0.8478\n",
      "\n",
      "Start of epoch 5\n",
      "Training acc over epoch: 0.8731\n",
      "Validation acc: 0.8478\n",
      "\n",
      "Start of epoch 6\n",
      "Training acc over epoch: 0.8731\n",
      "Validation acc: 0.8478\n",
      "\n",
      "Start of epoch 7\n",
      "Training acc over epoch: 0.8731\n",
      "Validation acc: 0.8478\n",
      "\n",
      "Start of epoch 8\n",
      "Training acc over epoch: 0.8731\n",
      "Validation acc: 0.8478\n",
      "\n",
      "Start of epoch 9\n",
      "Training acc over epoch: 0.8731\n",
      "Validation acc: 0.8478\n",
      "\n",
      "Start of epoch 10\n",
      "Training acc over epoch: 0.8731\n",
      "Validation acc: 0.8478\n",
      "\n",
      "Start of epoch 11\n",
      "Training acc over epoch: 0.8718\n",
      "Validation acc: 0.8478\n",
      "\n",
      "Start of epoch 12\n",
      "Training acc over epoch: 0.8718\n",
      "Validation acc: 0.8478\n",
      "\n",
      "Start of epoch 13\n",
      "Training acc over epoch: 0.8731\n",
      "Validation acc: 0.8478\n",
      "\n",
      "Start of epoch 14\n",
      "Training acc over epoch: 0.8718\n",
      "Validation acc: 0.8478\n",
      "\n",
      "Start of epoch 15\n",
      "Training acc over epoch: 0.8731\n",
      "Validation acc: 0.8478\n",
      "\n",
      "Start of epoch 16\n",
      "Training acc over epoch: 0.8731\n",
      "Validation acc: 0.8478\n",
      "\n",
      "Start of epoch 17\n",
      "Training acc over epoch: 0.8731\n",
      "Validation acc: 0.8478\n",
      "\n",
      "Start of epoch 18\n",
      "Training acc over epoch: 0.8718\n",
      "Validation acc: 0.8478\n",
      "\n",
      "Start of epoch 19\n",
      "Training acc over epoch: 0.8731\n",
      "Validation acc: 0.8478\n"
     ]
    },
    {
     "data": {
      "text/html": [
       "<style>\n",
       "    table.wandb td:nth-child(1) { padding: 0 10px; text-align: left ; width: auto;} td:nth-child(2) {text-align: left ; width: 100%}\n",
       "    .wandb-row { display: flex; flex-direction: row; flex-wrap: wrap; justify-content: flex-start; width: 100% }\n",
       "    .wandb-col { display: flex; flex-direction: column; flex-basis: 100%; flex: 1; padding: 10px; }\n",
       "    </style>\n",
       "<div class=\"wandb-row\"><div class=\"wandb-col\"><h3>Run history:</h3><br/><table class=\"wandb\"><tr><td>acc</td><td>▁███████████████████</td></tr><tr><td>epochs</td><td>▁▁▂▂▂▃▃▄▄▄▅▅▅▆▆▇▇▇██</td></tr><tr><td>loss</td><td>█▇▆▄▃▂▁▁▁▁▁▁▁▁▁▁▁▁▁▁</td></tr><tr><td>val_acc</td><td>▁▁▁▁▁▁▁▁▁▁▁▁▁▁▁▁▁▁▁▁</td></tr><tr><td>val_loss</td><td>█▇▅▄▂▂▂▁▁▁▁▁▁▁▁▁▁▁▁▁</td></tr></table><br/></div><div class=\"wandb-col\"><h3>Run summary:</h3><br/><table class=\"wandb\"><tr><td>acc</td><td>0.87312</td></tr><tr><td>epochs</td><td>19</td></tr><tr><td>loss</td><td>0.38023</td></tr><tr><td>val_acc</td><td>0.84783</td></tr><tr><td>val_loss</td><td>0.56024</td></tr></table><br/></div></div>"
      ],
      "text/plain": [
       "<IPython.core.display.HTML object>"
      ]
     },
     "metadata": {},
     "output_type": "display_data"
    },
    {
     "data": {
      "text/html": [
       " View run <strong style=\"color:#cdcd00\">dulcet-frost-145</strong> at: <a href='https://wandb.ai/shaicahana-hebrew-university-of-jerusalem/my-tf-integration/runs/qgbhdd4o' target=\"_blank\">https://wandb.ai/shaicahana-hebrew-university-of-jerusalem/my-tf-integration/runs/qgbhdd4o</a><br/> View project at: <a href='https://wandb.ai/shaicahana-hebrew-university-of-jerusalem/my-tf-integration' target=\"_blank\">https://wandb.ai/shaicahana-hebrew-university-of-jerusalem/my-tf-integration</a><br/>Synced 5 W&B file(s), 0 media file(s), 0 artifact file(s) and 0 other file(s)"
      ],
      "text/plain": [
       "<IPython.core.display.HTML object>"
      ]
     },
     "metadata": {},
     "output_type": "display_data"
    },
    {
     "data": {
      "text/html": [
       "Find logs at: <code>./wandb/run-20241026_153902-qgbhdd4o/logs</code>"
      ],
      "text/plain": [
       "<IPython.core.display.HTML object>"
      ]
     },
     "metadata": {},
     "output_type": "display_data"
    },
    {
     "data": {
      "application/vnd.jupyter.widget-view+json": {
       "model_id": "0269cacce2f6453592bddcd0215f906d",
       "version_major": 2,
       "version_minor": 0
      },
      "text/plain": [
       "VBox(children=(Label(value='Waiting for wandb.init()...\\r'), FloatProgress(value=0.011137247488889241, max=1.0…"
      ]
     },
     "metadata": {},
     "output_type": "display_data"
    },
    {
     "data": {
      "text/html": [
       "Tracking run with wandb version 0.18.5"
      ],
      "text/plain": [
       "<IPython.core.display.HTML object>"
      ]
     },
     "metadata": {},
     "output_type": "display_data"
    },
    {
     "data": {
      "text/html": [
       "Run data is saved locally in <code>/Users/shaicahana/Documents/AI_DL/colab/AI-DL/project-1/wandb/run-20241026_153910-lt9eljrd</code>"
      ],
      "text/plain": [
       "<IPython.core.display.HTML object>"
      ]
     },
     "metadata": {},
     "output_type": "display_data"
    },
    {
     "data": {
      "text/html": [
       "Syncing run <strong><a href='https://wandb.ai/shaicahana-hebrew-university-of-jerusalem/my-tf-integration/runs/lt9eljrd' target=\"_blank\">floral-thunder-146</a></strong> to <a href='https://wandb.ai/shaicahana-hebrew-university-of-jerusalem/my-tf-integration' target=\"_blank\">Weights & Biases</a> (<a href='https://wandb.me/run' target=\"_blank\">docs</a>)<br/>"
      ],
      "text/plain": [
       "<IPython.core.display.HTML object>"
      ]
     },
     "metadata": {},
     "output_type": "display_data"
    },
    {
     "data": {
      "text/html": [
       " View project at <a href='https://wandb.ai/shaicahana-hebrew-university-of-jerusalem/my-tf-integration' target=\"_blank\">https://wandb.ai/shaicahana-hebrew-university-of-jerusalem/my-tf-integration</a>"
      ],
      "text/plain": [
       "<IPython.core.display.HTML object>"
      ]
     },
     "metadata": {},
     "output_type": "display_data"
    },
    {
     "data": {
      "text/html": [
       " View run at <a href='https://wandb.ai/shaicahana-hebrew-university-of-jerusalem/my-tf-integration/runs/lt9eljrd' target=\"_blank\">https://wandb.ai/shaicahana-hebrew-university-of-jerusalem/my-tf-integration/runs/lt9eljrd</a>"
      ],
      "text/plain": [
       "<IPython.core.display.HTML object>"
      ]
     },
     "metadata": {},
     "output_type": "display_data"
    },
    {
     "name": "stdout",
     "output_type": "stream",
     "text": [
      "\n",
      "Start of epoch 0\n",
      "Training acc over epoch: 0.5522\n",
      "Validation acc: 0.8841\n",
      "\n",
      "Start of epoch 1\n",
      "Training acc over epoch: 0.8556\n",
      "Validation acc: 0.8841\n",
      "\n",
      "Start of epoch 2\n",
      "Training acc over epoch: 0.8556\n",
      "Validation acc: 0.8841\n",
      "\n",
      "Start of epoch 3\n",
      "Training acc over epoch: 0.8556\n",
      "Validation acc: 0.8841\n",
      "\n",
      "Start of epoch 4\n",
      "Training acc over epoch: 0.8556\n",
      "Validation acc: 0.8841\n",
      "\n",
      "Start of epoch 5\n",
      "Training acc over epoch: 0.8556\n",
      "Validation acc: 0.8841\n",
      "\n",
      "Start of epoch 6\n",
      "Training acc over epoch: 0.8556\n",
      "Validation acc: 0.8841\n",
      "\n",
      "Start of epoch 7\n",
      "Training acc over epoch: 0.8556\n",
      "Validation acc: 0.8841\n",
      "\n",
      "Start of epoch 8\n",
      "Training acc over epoch: 0.8544\n",
      "Validation acc: 0.8841\n",
      "\n",
      "Start of epoch 9\n",
      "Training acc over epoch: 0.8556\n",
      "Validation acc: 0.8841\n",
      "\n",
      "Start of epoch 10\n",
      "Training acc over epoch: 0.8556\n",
      "Validation acc: 0.8841\n",
      "\n",
      "Start of epoch 11\n",
      "Training acc over epoch: 0.8556\n",
      "Validation acc: 0.8841\n",
      "\n",
      "Start of epoch 12\n",
      "Training acc over epoch: 0.8556\n",
      "Validation acc: 0.8841\n",
      "\n",
      "Start of epoch 13\n",
      "Training acc over epoch: 0.8544\n",
      "Validation acc: 0.8841\n",
      "\n",
      "Start of epoch 14\n",
      "Training acc over epoch: 0.8556\n",
      "Validation acc: 0.8841\n",
      "\n",
      "Start of epoch 15\n",
      "Training acc over epoch: 0.8507\n",
      "Validation acc: 0.8841\n",
      "\n",
      "Start of epoch 16\n",
      "Training acc over epoch: 0.8532\n",
      "Validation acc: 0.8841\n",
      "\n",
      "Start of epoch 17\n",
      "Training acc over epoch: 0.8568\n",
      "Validation acc: 0.8841\n",
      "\n",
      "Start of epoch 18\n",
      "Training acc over epoch: 0.8544\n",
      "Validation acc: 0.8841\n",
      "\n",
      "Start of epoch 19\n",
      "Training acc over epoch: 0.8519\n",
      "Validation acc: 0.8841\n"
     ]
    },
    {
     "data": {
      "text/html": [
       "<style>\n",
       "    table.wandb td:nth-child(1) { padding: 0 10px; text-align: left ; width: auto;} td:nth-child(2) {text-align: left ; width: 100%}\n",
       "    .wandb-row { display: flex; flex-direction: row; flex-wrap: wrap; justify-content: flex-start; width: 100% }\n",
       "    .wandb-col { display: flex; flex-direction: column; flex-basis: 100%; flex: 1; padding: 10px; }\n",
       "    </style>\n",
       "<div class=\"wandb-row\"><div class=\"wandb-col\"><h3>Run history:</h3><br/><table class=\"wandb\"><tr><td>acc</td><td>▁███████████████████</td></tr><tr><td>epochs</td><td>▁▁▂▂▂▃▃▄▄▄▅▅▅▆▆▇▇▇██</td></tr><tr><td>loss</td><td>█▇▅▄▂▂▂▁▁▁▁▁▁▁▁▁▁▁▁▁</td></tr><tr><td>val_acc</td><td>▁▁▁▁▁▁▁▁▁▁▁▁▁▁▁▁▁▁▁▁</td></tr><tr><td>val_loss</td><td>█▇▅▃▂▂▁▁▁▁▁▁▁▁▁▁▁▁▁▁</td></tr></table><br/></div><div class=\"wandb-col\"><h3>Run summary:</h3><br/><table class=\"wandb\"><tr><td>acc</td><td>0.85194</td></tr><tr><td>epochs</td><td>19</td></tr><tr><td>loss</td><td>0.4145</td></tr><tr><td>val_acc</td><td>0.88406</td></tr><tr><td>val_loss</td><td>0.37275</td></tr></table><br/></div></div>"
      ],
      "text/plain": [
       "<IPython.core.display.HTML object>"
      ]
     },
     "metadata": {},
     "output_type": "display_data"
    },
    {
     "data": {
      "text/html": [
       " View run <strong style=\"color:#cdcd00\">floral-thunder-146</strong> at: <a href='https://wandb.ai/shaicahana-hebrew-university-of-jerusalem/my-tf-integration/runs/lt9eljrd' target=\"_blank\">https://wandb.ai/shaicahana-hebrew-university-of-jerusalem/my-tf-integration/runs/lt9eljrd</a><br/> View project at: <a href='https://wandb.ai/shaicahana-hebrew-university-of-jerusalem/my-tf-integration' target=\"_blank\">https://wandb.ai/shaicahana-hebrew-university-of-jerusalem/my-tf-integration</a><br/>Synced 5 W&B file(s), 0 media file(s), 0 artifact file(s) and 0 other file(s)"
      ],
      "text/plain": [
       "<IPython.core.display.HTML object>"
      ]
     },
     "metadata": {},
     "output_type": "display_data"
    },
    {
     "data": {
      "text/html": [
       "Find logs at: <code>./wandb/run-20241026_153910-lt9eljrd/logs</code>"
      ],
      "text/plain": [
       "<IPython.core.display.HTML object>"
      ]
     },
     "metadata": {},
     "output_type": "display_data"
    },
    {
     "data": {
      "text/html": [
       "Tracking run with wandb version 0.18.5"
      ],
      "text/plain": [
       "<IPython.core.display.HTML object>"
      ]
     },
     "metadata": {},
     "output_type": "display_data"
    },
    {
     "data": {
      "text/html": [
       "Run data is saved locally in <code>/Users/shaicahana/Documents/AI_DL/colab/AI-DL/project-1/wandb/run-20241026_153923-zceg4lks</code>"
      ],
      "text/plain": [
       "<IPython.core.display.HTML object>"
      ]
     },
     "metadata": {},
     "output_type": "display_data"
    },
    {
     "data": {
      "text/html": [
       "Syncing run <strong><a href='https://wandb.ai/shaicahana-hebrew-university-of-jerusalem/my-tf-integration/runs/zceg4lks' target=\"_blank\">happy-cherry-147</a></strong> to <a href='https://wandb.ai/shaicahana-hebrew-university-of-jerusalem/my-tf-integration' target=\"_blank\">Weights & Biases</a> (<a href='https://wandb.me/run' target=\"_blank\">docs</a>)<br/>"
      ],
      "text/plain": [
       "<IPython.core.display.HTML object>"
      ]
     },
     "metadata": {},
     "output_type": "display_data"
    },
    {
     "data": {
      "text/html": [
       " View project at <a href='https://wandb.ai/shaicahana-hebrew-university-of-jerusalem/my-tf-integration' target=\"_blank\">https://wandb.ai/shaicahana-hebrew-university-of-jerusalem/my-tf-integration</a>"
      ],
      "text/plain": [
       "<IPython.core.display.HTML object>"
      ]
     },
     "metadata": {},
     "output_type": "display_data"
    },
    {
     "data": {
      "text/html": [
       " View run at <a href='https://wandb.ai/shaicahana-hebrew-university-of-jerusalem/my-tf-integration/runs/zceg4lks' target=\"_blank\">https://wandb.ai/shaicahana-hebrew-university-of-jerusalem/my-tf-integration/runs/zceg4lks</a>"
      ],
      "text/plain": [
       "<IPython.core.display.HTML object>"
      ]
     },
     "metadata": {},
     "output_type": "display_data"
    },
    {
     "name": "stdout",
     "output_type": "stream",
     "text": [
      "\n",
      "Start of epoch 0\n",
      "Training acc over epoch: 0.4816\n",
      "Validation acc: 0.8707\n",
      "\n",
      "Start of epoch 1\n",
      "Training acc over epoch: 0.8452\n",
      "Validation acc: 0.8707\n",
      "\n",
      "Start of epoch 2\n",
      "Training acc over epoch: 0.8615\n",
      "Validation acc: 0.8707\n",
      "\n",
      "Start of epoch 3\n",
      "Training acc over epoch: 0.8615\n",
      "Validation acc: 0.8707\n",
      "\n",
      "Start of epoch 4\n",
      "Training acc over epoch: 0.8615\n",
      "Validation acc: 0.8707\n",
      "\n",
      "Start of epoch 5\n",
      "Training acc over epoch: 0.8615\n",
      "Validation acc: 0.8707\n",
      "\n",
      "Start of epoch 6\n",
      "Training acc over epoch: 0.8593\n",
      "Validation acc: 0.8707\n",
      "\n",
      "Start of epoch 7\n",
      "Training acc over epoch: 0.8604\n",
      "Validation acc: 0.8707\n",
      "\n",
      "Start of epoch 8\n",
      "Training acc over epoch: 0.8582\n",
      "Validation acc: 0.8707\n",
      "\n",
      "Start of epoch 9\n",
      "Training acc over epoch: 0.8550\n",
      "Validation acc: 0.8707\n",
      "\n",
      "Start of epoch 10\n",
      "Training acc over epoch: 0.8582\n",
      "Validation acc: 0.8707\n",
      "\n",
      "Start of epoch 11\n",
      "Training acc over epoch: 0.8604\n",
      "Validation acc: 0.8707\n",
      "\n",
      "Start of epoch 12\n",
      "Training acc over epoch: 0.8571\n",
      "Validation acc: 0.8707\n",
      "\n",
      "Start of epoch 13\n",
      "Training acc over epoch: 0.8636\n",
      "Validation acc: 0.8707\n",
      "\n",
      "Start of epoch 14\n",
      "Training acc over epoch: 0.8593\n",
      "Validation acc: 0.8707\n",
      "\n",
      "Start of epoch 15\n",
      "Training acc over epoch: 0.8615\n",
      "Validation acc: 0.8707\n",
      "\n",
      "Start of epoch 16\n",
      "Training acc over epoch: 0.8593\n",
      "Validation acc: 0.8707\n",
      "\n",
      "Start of epoch 17\n",
      "Training acc over epoch: 0.8615\n",
      "Validation acc: 0.8707\n",
      "\n",
      "Start of epoch 18\n",
      "Training acc over epoch: 0.8604\n",
      "Validation acc: 0.8707\n",
      "\n",
      "Start of epoch 19\n",
      "Training acc over epoch: 0.8582\n",
      "Validation acc: 0.8707\n"
     ]
    },
    {
     "data": {
      "text/html": [
       "<style>\n",
       "    table.wandb td:nth-child(1) { padding: 0 10px; text-align: left ; width: auto;} td:nth-child(2) {text-align: left ; width: 100%}\n",
       "    .wandb-row { display: flex; flex-direction: row; flex-wrap: wrap; justify-content: flex-start; width: 100% }\n",
       "    .wandb-col { display: flex; flex-direction: column; flex-basis: 100%; flex: 1; padding: 10px; }\n",
       "    </style>\n",
       "<div class=\"wandb-row\"><div class=\"wandb-col\"><h3>Run history:</h3><br/><table class=\"wandb\"><tr><td>acc</td><td>▁███████████████████</td></tr><tr><td>epochs</td><td>▁▁▂▂▂▃▃▄▄▄▅▅▅▆▆▇▇▇██</td></tr><tr><td>loss</td><td>█▇▅▃▂▁▁▁▁▁▁▁▁▁▁▁▁▁▁▁</td></tr><tr><td>val_acc</td><td>▁▁▁▁▁▁▁▁▁▁▁▁▁▁▁▁▁▁▁▁</td></tr><tr><td>val_loss</td><td>█▆▄▂▁▁▁▁▁▁▁▁▁▁▁▁▁▁▁▁</td></tr></table><br/></div><div class=\"wandb-col\"><h3>Run summary:</h3><br/><table class=\"wandb\"><tr><td>acc</td><td>0.85823</td></tr><tr><td>epochs</td><td>19</td></tr><tr><td>loss</td><td>0.41855</td></tr><tr><td>val_acc</td><td>0.87069</td></tr><tr><td>val_loss</td><td>0.39742</td></tr></table><br/></div></div>"
      ],
      "text/plain": [
       "<IPython.core.display.HTML object>"
      ]
     },
     "metadata": {},
     "output_type": "display_data"
    },
    {
     "data": {
      "text/html": [
       " View run <strong style=\"color:#cdcd00\">happy-cherry-147</strong> at: <a href='https://wandb.ai/shaicahana-hebrew-university-of-jerusalem/my-tf-integration/runs/zceg4lks' target=\"_blank\">https://wandb.ai/shaicahana-hebrew-university-of-jerusalem/my-tf-integration/runs/zceg4lks</a><br/> View project at: <a href='https://wandb.ai/shaicahana-hebrew-university-of-jerusalem/my-tf-integration' target=\"_blank\">https://wandb.ai/shaicahana-hebrew-university-of-jerusalem/my-tf-integration</a><br/>Synced 5 W&B file(s), 0 media file(s), 0 artifact file(s) and 0 other file(s)"
      ],
      "text/plain": [
       "<IPython.core.display.HTML object>"
      ]
     },
     "metadata": {},
     "output_type": "display_data"
    },
    {
     "data": {
      "text/html": [
       "Find logs at: <code>./wandb/run-20241026_153923-zceg4lks/logs</code>"
      ],
      "text/plain": [
       "<IPython.core.display.HTML object>"
      ]
     },
     "metadata": {},
     "output_type": "display_data"
    },
    {
     "data": {
      "text/html": [
       "Tracking run with wandb version 0.18.5"
      ],
      "text/plain": [
       "<IPython.core.display.HTML object>"
      ]
     },
     "metadata": {},
     "output_type": "display_data"
    },
    {
     "data": {
      "text/html": [
       "Run data is saved locally in <code>/Users/shaicahana/Documents/AI_DL/colab/AI-DL/project-1/wandb/run-20241026_153936-6qhqvrp5</code>"
      ],
      "text/plain": [
       "<IPython.core.display.HTML object>"
      ]
     },
     "metadata": {},
     "output_type": "display_data"
    },
    {
     "data": {
      "text/html": [
       "Syncing run <strong><a href='https://wandb.ai/shaicahana-hebrew-university-of-jerusalem/my-tf-integration/runs/6qhqvrp5' target=\"_blank\">youthful-sponge-148</a></strong> to <a href='https://wandb.ai/shaicahana-hebrew-university-of-jerusalem/my-tf-integration' target=\"_blank\">Weights & Biases</a> (<a href='https://wandb.me/run' target=\"_blank\">docs</a>)<br/>"
      ],
      "text/plain": [
       "<IPython.core.display.HTML object>"
      ]
     },
     "metadata": {},
     "output_type": "display_data"
    },
    {
     "data": {
      "text/html": [
       " View project at <a href='https://wandb.ai/shaicahana-hebrew-university-of-jerusalem/my-tf-integration' target=\"_blank\">https://wandb.ai/shaicahana-hebrew-university-of-jerusalem/my-tf-integration</a>"
      ],
      "text/plain": [
       "<IPython.core.display.HTML object>"
      ]
     },
     "metadata": {},
     "output_type": "display_data"
    },
    {
     "data": {
      "text/html": [
       " View run at <a href='https://wandb.ai/shaicahana-hebrew-university-of-jerusalem/my-tf-integration/runs/6qhqvrp5' target=\"_blank\">https://wandb.ai/shaicahana-hebrew-university-of-jerusalem/my-tf-integration/runs/6qhqvrp5</a>"
      ],
      "text/plain": [
       "<IPython.core.display.HTML object>"
      ]
     },
     "metadata": {},
     "output_type": "display_data"
    },
    {
     "name": "stdout",
     "output_type": "stream",
     "text": [
      "\n",
      "Start of epoch 0\n",
      "Training acc over epoch: 0.4481\n",
      "Validation acc: 0.8707\n",
      "\n",
      "Start of epoch 1\n",
      "Training acc over epoch: 0.8550\n",
      "Validation acc: 0.8707\n",
      "\n",
      "Start of epoch 2\n",
      "Training acc over epoch: 0.8615\n",
      "Validation acc: 0.8707\n",
      "\n",
      "Start of epoch 3\n",
      "Training acc over epoch: 0.8615\n",
      "Validation acc: 0.8707\n",
      "\n",
      "Start of epoch 4\n",
      "Training acc over epoch: 0.8615\n",
      "Validation acc: 0.8707\n",
      "\n",
      "Start of epoch 5\n",
      "Training acc over epoch: 0.8615\n",
      "Validation acc: 0.8707\n",
      "\n",
      "Start of epoch 6\n",
      "Training acc over epoch: 0.8593\n",
      "Validation acc: 0.8707\n",
      "\n",
      "Start of epoch 7\n",
      "Training acc over epoch: 0.8593\n",
      "Validation acc: 0.8707\n",
      "\n",
      "Start of epoch 8\n",
      "Training acc over epoch: 0.8615\n",
      "Validation acc: 0.8707\n",
      "\n",
      "Start of epoch 9\n",
      "Training acc over epoch: 0.8582\n",
      "Validation acc: 0.8707\n",
      "\n",
      "Start of epoch 10\n",
      "Training acc over epoch: 0.8582\n",
      "Validation acc: 0.8707\n",
      "\n",
      "Start of epoch 11\n",
      "Training acc over epoch: 0.8604\n",
      "Validation acc: 0.8707\n",
      "\n",
      "Start of epoch 12\n",
      "Training acc over epoch: 0.8626\n",
      "Validation acc: 0.8707\n",
      "\n",
      "Start of epoch 13\n",
      "Training acc over epoch: 0.8593\n",
      "Validation acc: 0.8707\n",
      "\n",
      "Start of epoch 14\n",
      "Training acc over epoch: 0.8604\n",
      "Validation acc: 0.8707\n",
      "\n",
      "Start of epoch 15\n",
      "Training acc over epoch: 0.8582\n",
      "Validation acc: 0.8707\n",
      "\n",
      "Start of epoch 16\n",
      "Training acc over epoch: 0.8636\n",
      "Validation acc: 0.8707\n",
      "\n",
      "Start of epoch 17\n",
      "Training acc over epoch: 0.8582\n",
      "Validation acc: 0.8707\n",
      "\n",
      "Start of epoch 18\n",
      "Training acc over epoch: 0.8604\n",
      "Validation acc: 0.8707\n",
      "\n",
      "Start of epoch 19\n",
      "Training acc over epoch: 0.8571\n",
      "Validation acc: 0.8707\n"
     ]
    },
    {
     "data": {
      "text/html": [
       "<style>\n",
       "    table.wandb td:nth-child(1) { padding: 0 10px; text-align: left ; width: auto;} td:nth-child(2) {text-align: left ; width: 100%}\n",
       "    .wandb-row { display: flex; flex-direction: row; flex-wrap: wrap; justify-content: flex-start; width: 100% }\n",
       "    .wandb-col { display: flex; flex-direction: column; flex-basis: 100%; flex: 1; padding: 10px; }\n",
       "    </style>\n",
       "<div class=\"wandb-row\"><div class=\"wandb-col\"><h3>Run history:</h3><br/><table class=\"wandb\"><tr><td>acc</td><td>▁███████████████████</td></tr><tr><td>epochs</td><td>▁▁▂▂▂▃▃▄▄▄▅▅▅▆▆▇▇▇██</td></tr><tr><td>loss</td><td>█▇▅▃▂▁▁▁▁▁▁▁▁▁▁▁▁▁▁▁</td></tr><tr><td>val_acc</td><td>▁▁▁▁▁▁▁▁▁▁▁▁▁▁▁▁▁▁▁▁</td></tr><tr><td>val_loss</td><td>█▆▄▂▂▁▁▁▁▁▁▁▁▁▁▁▁▁▁▁</td></tr></table><br/></div><div class=\"wandb-col\"><h3>Run summary:</h3><br/><table class=\"wandb\"><tr><td>acc</td><td>0.85714</td></tr><tr><td>epochs</td><td>19</td></tr><tr><td>loss</td><td>0.41961</td></tr><tr><td>val_acc</td><td>0.87069</td></tr><tr><td>val_loss</td><td>0.40202</td></tr></table><br/></div></div>"
      ],
      "text/plain": [
       "<IPython.core.display.HTML object>"
      ]
     },
     "metadata": {},
     "output_type": "display_data"
    },
    {
     "data": {
      "text/html": [
       " View run <strong style=\"color:#cdcd00\">youthful-sponge-148</strong> at: <a href='https://wandb.ai/shaicahana-hebrew-university-of-jerusalem/my-tf-integration/runs/6qhqvrp5' target=\"_blank\">https://wandb.ai/shaicahana-hebrew-university-of-jerusalem/my-tf-integration/runs/6qhqvrp5</a><br/> View project at: <a href='https://wandb.ai/shaicahana-hebrew-university-of-jerusalem/my-tf-integration' target=\"_blank\">https://wandb.ai/shaicahana-hebrew-university-of-jerusalem/my-tf-integration</a><br/>Synced 5 W&B file(s), 0 media file(s), 0 artifact file(s) and 0 other file(s)"
      ],
      "text/plain": [
       "<IPython.core.display.HTML object>"
      ]
     },
     "metadata": {},
     "output_type": "display_data"
    },
    {
     "data": {
      "text/html": [
       "Find logs at: <code>./wandb/run-20241026_153936-6qhqvrp5/logs</code>"
      ],
      "text/plain": [
       "<IPython.core.display.HTML object>"
      ]
     },
     "metadata": {},
     "output_type": "display_data"
    },
    {
     "data": {
      "text/html": [
       "Tracking run with wandb version 0.18.5"
      ],
      "text/plain": [
       "<IPython.core.display.HTML object>"
      ]
     },
     "metadata": {},
     "output_type": "display_data"
    },
    {
     "data": {
      "text/html": [
       "Run data is saved locally in <code>/Users/shaicahana/Documents/AI_DL/colab/AI-DL/project-1/wandb/run-20241026_153946-vmvm3bu2</code>"
      ],
      "text/plain": [
       "<IPython.core.display.HTML object>"
      ]
     },
     "metadata": {},
     "output_type": "display_data"
    },
    {
     "data": {
      "text/html": [
       "Syncing run <strong><a href='https://wandb.ai/shaicahana-hebrew-university-of-jerusalem/my-tf-integration/runs/vmvm3bu2' target=\"_blank\">driven-pyramid-149</a></strong> to <a href='https://wandb.ai/shaicahana-hebrew-university-of-jerusalem/my-tf-integration' target=\"_blank\">Weights & Biases</a> (<a href='https://wandb.me/run' target=\"_blank\">docs</a>)<br/>"
      ],
      "text/plain": [
       "<IPython.core.display.HTML object>"
      ]
     },
     "metadata": {},
     "output_type": "display_data"
    },
    {
     "data": {
      "text/html": [
       " View project at <a href='https://wandb.ai/shaicahana-hebrew-university-of-jerusalem/my-tf-integration' target=\"_blank\">https://wandb.ai/shaicahana-hebrew-university-of-jerusalem/my-tf-integration</a>"
      ],
      "text/plain": [
       "<IPython.core.display.HTML object>"
      ]
     },
     "metadata": {},
     "output_type": "display_data"
    },
    {
     "data": {
      "text/html": [
       " View run at <a href='https://wandb.ai/shaicahana-hebrew-university-of-jerusalem/my-tf-integration/runs/vmvm3bu2' target=\"_blank\">https://wandb.ai/shaicahana-hebrew-university-of-jerusalem/my-tf-integration/runs/vmvm3bu2</a>"
      ],
      "text/plain": [
       "<IPython.core.display.HTML object>"
      ]
     },
     "metadata": {},
     "output_type": "display_data"
    },
    {
     "name": "stdout",
     "output_type": "stream",
     "text": [
      "\n",
      "Start of epoch 0\n",
      "Training acc over epoch: 0.7234\n",
      "Validation acc: 0.8305\n",
      "\n",
      "Start of epoch 1\n",
      "Training acc over epoch: 0.8713\n",
      "Validation acc: 0.8305\n",
      "\n",
      "Start of epoch 2\n",
      "Training acc over epoch: 0.8734\n",
      "Validation acc: 0.8305\n",
      "\n",
      "Start of epoch 3\n",
      "Training acc over epoch: 0.8734\n",
      "Validation acc: 0.8305\n",
      "\n",
      "Start of epoch 4\n",
      "Training acc over epoch: 0.8734\n",
      "Validation acc: 0.8305\n",
      "\n",
      "Start of epoch 5\n",
      "Training acc over epoch: 0.8734\n",
      "Validation acc: 0.8305\n",
      "\n",
      "Start of epoch 6\n",
      "Training acc over epoch: 0.8734\n",
      "Validation acc: 0.8305\n",
      "\n",
      "Start of epoch 7\n",
      "Training acc over epoch: 0.8723\n",
      "Validation acc: 0.8305\n",
      "\n",
      "Start of epoch 8\n",
      "Training acc over epoch: 0.8723\n",
      "Validation acc: 0.8305\n",
      "\n",
      "Start of epoch 9\n",
      "Training acc over epoch: 0.8766\n",
      "Validation acc: 0.8305\n",
      "\n",
      "Start of epoch 10\n",
      "Training acc over epoch: 0.8734\n",
      "Validation acc: 0.8305\n",
      "\n",
      "Start of epoch 11\n",
      "Training acc over epoch: 0.8734\n",
      "Validation acc: 0.8305\n",
      "\n",
      "Start of epoch 12\n",
      "Training acc over epoch: 0.8723\n",
      "Validation acc: 0.8305\n",
      "\n",
      "Start of epoch 13\n",
      "Training acc over epoch: 0.8713\n",
      "Validation acc: 0.8305\n",
      "\n",
      "Start of epoch 14\n",
      "Training acc over epoch: 0.8713\n",
      "Validation acc: 0.8305\n",
      "\n",
      "Start of epoch 15\n",
      "Training acc over epoch: 0.8745\n",
      "Validation acc: 0.8305\n",
      "\n",
      "Start of epoch 16\n",
      "Training acc over epoch: 0.8723\n",
      "Validation acc: 0.8305\n",
      "\n",
      "Start of epoch 17\n",
      "Training acc over epoch: 0.8713\n",
      "Validation acc: 0.8305\n",
      "\n",
      "Start of epoch 18\n",
      "Training acc over epoch: 0.8734\n",
      "Validation acc: 0.8305\n",
      "\n",
      "Start of epoch 19\n",
      "Training acc over epoch: 0.8723\n",
      "Validation acc: 0.8305\n"
     ]
    },
    {
     "data": {
      "application/vnd.jupyter.widget-view+json": {
       "model_id": "fec591d432864400bf8f21bea64aa5cf",
       "version_major": 2,
       "version_minor": 0
      },
      "text/plain": [
       "VBox(children=(Label(value='0.009 MB of 0.009 MB uploaded\\r'), FloatProgress(value=1.0, max=1.0)))"
      ]
     },
     "metadata": {},
     "output_type": "display_data"
    },
    {
     "data": {
      "text/html": [
       "<style>\n",
       "    table.wandb td:nth-child(1) { padding: 0 10px; text-align: left ; width: auto;} td:nth-child(2) {text-align: left ; width: 100%}\n",
       "    .wandb-row { display: flex; flex-direction: row; flex-wrap: wrap; justify-content: flex-start; width: 100% }\n",
       "    .wandb-col { display: flex; flex-direction: column; flex-basis: 100%; flex: 1; padding: 10px; }\n",
       "    </style>\n",
       "<div class=\"wandb-row\"><div class=\"wandb-col\"><h3>Run history:</h3><br/><table class=\"wandb\"><tr><td>acc</td><td>▁███████████████████</td></tr><tr><td>epochs</td><td>▁▁▂▂▂▃▃▄▄▄▅▅▅▆▆▇▇▇██</td></tr><tr><td>loss</td><td>█▇▅▃▂▁▁▁▁▁▁▁▁▁▁▁▁▁▁▁</td></tr><tr><td>val_acc</td><td>▁▁▁▁▁▁▁▁▁▁▁▁▁▁▁▁▁▁▁▁</td></tr><tr><td>val_loss</td><td>█▆▄▂▂▁▁▁▁▁▁▁▁▁▁▁▁▁▁▁</td></tr></table><br/></div><div class=\"wandb-col\"><h3>Run summary:</h3><br/><table class=\"wandb\"><tr><td>acc</td><td>0.87234</td></tr><tr><td>epochs</td><td>19</td></tr><tr><td>loss</td><td>0.39896</td></tr><tr><td>val_acc</td><td>0.83051</td></tr><tr><td>val_loss</td><td>0.45761</td></tr></table><br/></div></div>"
      ],
      "text/plain": [
       "<IPython.core.display.HTML object>"
      ]
     },
     "metadata": {},
     "output_type": "display_data"
    },
    {
     "data": {
      "text/html": [
       " View run <strong style=\"color:#cdcd00\">driven-pyramid-149</strong> at: <a href='https://wandb.ai/shaicahana-hebrew-university-of-jerusalem/my-tf-integration/runs/vmvm3bu2' target=\"_blank\">https://wandb.ai/shaicahana-hebrew-university-of-jerusalem/my-tf-integration/runs/vmvm3bu2</a><br/> View project at: <a href='https://wandb.ai/shaicahana-hebrew-university-of-jerusalem/my-tf-integration' target=\"_blank\">https://wandb.ai/shaicahana-hebrew-university-of-jerusalem/my-tf-integration</a><br/>Synced 5 W&B file(s), 0 media file(s), 0 artifact file(s) and 0 other file(s)"
      ],
      "text/plain": [
       "<IPython.core.display.HTML object>"
      ]
     },
     "metadata": {},
     "output_type": "display_data"
    },
    {
     "data": {
      "text/html": [
       "Find logs at: <code>./wandb/run-20241026_153946-vmvm3bu2/logs</code>"
      ],
      "text/plain": [
       "<IPython.core.display.HTML object>"
      ]
     },
     "metadata": {},
     "output_type": "display_data"
    },
    {
     "data": {
      "text/html": [
       "Tracking run with wandb version 0.18.5"
      ],
      "text/plain": [
       "<IPython.core.display.HTML object>"
      ]
     },
     "metadata": {},
     "output_type": "display_data"
    },
    {
     "data": {
      "text/html": [
       "Run data is saved locally in <code>/Users/shaicahana/Documents/AI_DL/colab/AI-DL/project-1/wandb/run-20241026_153959-9u8t9abx</code>"
      ],
      "text/plain": [
       "<IPython.core.display.HTML object>"
      ]
     },
     "metadata": {},
     "output_type": "display_data"
    },
    {
     "data": {
      "text/html": [
       "Syncing run <strong><a href='https://wandb.ai/shaicahana-hebrew-university-of-jerusalem/my-tf-integration/runs/9u8t9abx' target=\"_blank\">zany-elevator-150</a></strong> to <a href='https://wandb.ai/shaicahana-hebrew-university-of-jerusalem/my-tf-integration' target=\"_blank\">Weights & Biases</a> (<a href='https://wandb.me/run' target=\"_blank\">docs</a>)<br/>"
      ],
      "text/plain": [
       "<IPython.core.display.HTML object>"
      ]
     },
     "metadata": {},
     "output_type": "display_data"
    },
    {
     "data": {
      "text/html": [
       " View project at <a href='https://wandb.ai/shaicahana-hebrew-university-of-jerusalem/my-tf-integration' target=\"_blank\">https://wandb.ai/shaicahana-hebrew-university-of-jerusalem/my-tf-integration</a>"
      ],
      "text/plain": [
       "<IPython.core.display.HTML object>"
      ]
     },
     "metadata": {},
     "output_type": "display_data"
    },
    {
     "data": {
      "text/html": [
       " View run at <a href='https://wandb.ai/shaicahana-hebrew-university-of-jerusalem/my-tf-integration/runs/9u8t9abx' target=\"_blank\">https://wandb.ai/shaicahana-hebrew-university-of-jerusalem/my-tf-integration/runs/9u8t9abx</a>"
      ],
      "text/plain": [
       "<IPython.core.display.HTML object>"
      ]
     },
     "metadata": {},
     "output_type": "display_data"
    },
    {
     "name": "stdout",
     "output_type": "stream",
     "text": [
      "\n",
      "Start of epoch 0\n",
      "Training acc over epoch: 0.7958\n",
      "Validation acc: 0.8473\n",
      "\n",
      "Start of epoch 1\n",
      "Training acc over epoch: 0.8700\n",
      "Validation acc: 0.8473\n",
      "\n",
      "Start of epoch 2\n",
      "Training acc over epoch: 0.8700\n",
      "Validation acc: 0.8473\n",
      "\n",
      "Start of epoch 3\n",
      "Training acc over epoch: 0.8700\n",
      "Validation acc: 0.8473\n",
      "\n",
      "Start of epoch 4\n",
      "Training acc over epoch: 0.8700\n",
      "Validation acc: 0.8473\n",
      "\n",
      "Start of epoch 5\n",
      "Training acc over epoch: 0.8700\n",
      "Validation acc: 0.8473\n",
      "\n",
      "Start of epoch 6\n",
      "Training acc over epoch: 0.8700\n",
      "Validation acc: 0.8473\n",
      "\n",
      "Start of epoch 7\n",
      "Training acc over epoch: 0.8700\n",
      "Validation acc: 0.8473\n",
      "\n",
      "Start of epoch 8\n",
      "Training acc over epoch: 0.8700\n",
      "Validation acc: 0.8473\n",
      "\n",
      "Start of epoch 9\n",
      "Training acc over epoch: 0.8676\n",
      "Validation acc: 0.8424\n",
      "\n",
      "Start of epoch 10\n",
      "Training acc over epoch: 0.8713\n",
      "Validation acc: 0.8424\n",
      "\n",
      "Start of epoch 11\n",
      "Training acc over epoch: 0.8688\n",
      "Validation acc: 0.8424\n",
      "\n",
      "Start of epoch 12\n",
      "Training acc over epoch: 0.8688\n",
      "Validation acc: 0.8424\n",
      "\n",
      "Start of epoch 13\n",
      "Training acc over epoch: 0.8676\n",
      "Validation acc: 0.8424\n",
      "\n",
      "Start of epoch 14\n",
      "Training acc over epoch: 0.8676\n",
      "Validation acc: 0.8424\n",
      "\n",
      "Start of epoch 15\n",
      "Training acc over epoch: 0.8688\n",
      "Validation acc: 0.8424\n",
      "\n",
      "Start of epoch 16\n",
      "Training acc over epoch: 0.8700\n",
      "Validation acc: 0.8424\n",
      "\n",
      "Start of epoch 17\n",
      "Training acc over epoch: 0.8676\n",
      "Validation acc: 0.8424\n",
      "\n",
      "Start of epoch 18\n",
      "Training acc over epoch: 0.8688\n",
      "Validation acc: 0.8424\n",
      "\n",
      "Start of epoch 19\n",
      "Training acc over epoch: 0.8713\n",
      "Validation acc: 0.8424\n"
     ]
    },
    {
     "data": {
      "text/html": [
       "<style>\n",
       "    table.wandb td:nth-child(1) { padding: 0 10px; text-align: left ; width: auto;} td:nth-child(2) {text-align: left ; width: 100%}\n",
       "    .wandb-row { display: flex; flex-direction: row; flex-wrap: wrap; justify-content: flex-start; width: 100% }\n",
       "    .wandb-col { display: flex; flex-direction: column; flex-basis: 100%; flex: 1; padding: 10px; }\n",
       "    </style>\n",
       "<div class=\"wandb-row\"><div class=\"wandb-col\"><h3>Run history:</h3><br/><table class=\"wandb\"><tr><td>acc</td><td>▁███████████████████</td></tr><tr><td>epochs</td><td>▁▁▂▂▂▃▃▄▄▄▅▅▅▆▆▇▇▇██</td></tr><tr><td>loss</td><td>█▇▆▄▃▂▁▁▁▁▁▁▁▁▁▁▁▁▁▁</td></tr><tr><td>val_acc</td><td>█████████▁▁▁▁▁▁▁▁▁▁▁</td></tr><tr><td>val_loss</td><td>█▇▅▃▂▁▁▁▁▁▁▁▁▁▁▁▁▁▁▁</td></tr></table><br/></div><div class=\"wandb-col\"><h3>Run summary:</h3><br/><table class=\"wandb\"><tr><td>acc</td><td>0.87129</td></tr><tr><td>epochs</td><td>19</td></tr><tr><td>loss</td><td>0.40027</td></tr><tr><td>val_acc</td><td>0.84236</td></tr><tr><td>val_loss</td><td>0.46965</td></tr></table><br/></div></div>"
      ],
      "text/plain": [
       "<IPython.core.display.HTML object>"
      ]
     },
     "metadata": {},
     "output_type": "display_data"
    },
    {
     "data": {
      "text/html": [
       " View run <strong style=\"color:#cdcd00\">zany-elevator-150</strong> at: <a href='https://wandb.ai/shaicahana-hebrew-university-of-jerusalem/my-tf-integration/runs/9u8t9abx' target=\"_blank\">https://wandb.ai/shaicahana-hebrew-university-of-jerusalem/my-tf-integration/runs/9u8t9abx</a><br/> View project at: <a href='https://wandb.ai/shaicahana-hebrew-university-of-jerusalem/my-tf-integration' target=\"_blank\">https://wandb.ai/shaicahana-hebrew-university-of-jerusalem/my-tf-integration</a><br/>Synced 5 W&B file(s), 0 media file(s), 0 artifact file(s) and 0 other file(s)"
      ],
      "text/plain": [
       "<IPython.core.display.HTML object>"
      ]
     },
     "metadata": {},
     "output_type": "display_data"
    },
    {
     "data": {
      "text/html": [
       "Find logs at: <code>./wandb/run-20241026_153959-9u8t9abx/logs</code>"
      ],
      "text/plain": [
       "<IPython.core.display.HTML object>"
      ]
     },
     "metadata": {},
     "output_type": "display_data"
    },
    {
     "data": {
      "text/html": [
       "Tracking run with wandb version 0.18.5"
      ],
      "text/plain": [
       "<IPython.core.display.HTML object>"
      ]
     },
     "metadata": {},
     "output_type": "display_data"
    },
    {
     "data": {
      "text/html": [
       "Run data is saved locally in <code>/Users/shaicahana/Documents/AI_DL/colab/AI-DL/project-1/wandb/run-20241026_154009-gzi4kihz</code>"
      ],
      "text/plain": [
       "<IPython.core.display.HTML object>"
      ]
     },
     "metadata": {},
     "output_type": "display_data"
    },
    {
     "data": {
      "text/html": [
       "Syncing run <strong><a href='https://wandb.ai/shaicahana-hebrew-university-of-jerusalem/my-tf-integration/runs/gzi4kihz' target=\"_blank\">fresh-sea-151</a></strong> to <a href='https://wandb.ai/shaicahana-hebrew-university-of-jerusalem/my-tf-integration' target=\"_blank\">Weights & Biases</a> (<a href='https://wandb.me/run' target=\"_blank\">docs</a>)<br/>"
      ],
      "text/plain": [
       "<IPython.core.display.HTML object>"
      ]
     },
     "metadata": {},
     "output_type": "display_data"
    },
    {
     "data": {
      "text/html": [
       " View project at <a href='https://wandb.ai/shaicahana-hebrew-university-of-jerusalem/my-tf-integration' target=\"_blank\">https://wandb.ai/shaicahana-hebrew-university-of-jerusalem/my-tf-integration</a>"
      ],
      "text/plain": [
       "<IPython.core.display.HTML object>"
      ]
     },
     "metadata": {},
     "output_type": "display_data"
    },
    {
     "data": {
      "text/html": [
       " View run at <a href='https://wandb.ai/shaicahana-hebrew-university-of-jerusalem/my-tf-integration/runs/gzi4kihz' target=\"_blank\">https://wandb.ai/shaicahana-hebrew-university-of-jerusalem/my-tf-integration/runs/gzi4kihz</a>"
      ],
      "text/plain": [
       "<IPython.core.display.HTML object>"
      ]
     },
     "metadata": {},
     "output_type": "display_data"
    },
    {
     "name": "stdout",
     "output_type": "stream",
     "text": [
      "\n",
      "Start of epoch 0\n",
      "Training acc over epoch: 0.2574\n",
      "Validation acc: 0.8263\n",
      "\n",
      "Start of epoch 1\n",
      "Training acc over epoch: 0.8287\n",
      "Validation acc: 0.8305\n",
      "\n",
      "Start of epoch 2\n",
      "Training acc over epoch: 0.8723\n",
      "Validation acc: 0.8305\n",
      "\n",
      "Start of epoch 3\n",
      "Training acc over epoch: 0.8734\n",
      "Validation acc: 0.8305\n",
      "\n",
      "Start of epoch 4\n",
      "Training acc over epoch: 0.8734\n",
      "Validation acc: 0.8305\n",
      "\n",
      "Start of epoch 5\n",
      "Training acc over epoch: 0.8734\n",
      "Validation acc: 0.8305\n",
      "\n",
      "Start of epoch 6\n",
      "Training acc over epoch: 0.8734\n",
      "Validation acc: 0.8305\n",
      "\n",
      "Start of epoch 7\n",
      "Training acc over epoch: 0.8734\n",
      "Validation acc: 0.8305\n",
      "\n",
      "Start of epoch 8\n",
      "Training acc over epoch: 0.8734\n",
      "Validation acc: 0.8305\n",
      "\n",
      "Start of epoch 9\n",
      "Training acc over epoch: 0.8734\n",
      "Validation acc: 0.8305\n",
      "\n",
      "Start of epoch 10\n",
      "Training acc over epoch: 0.8723\n",
      "Validation acc: 0.8305\n",
      "\n",
      "Start of epoch 11\n",
      "Training acc over epoch: 0.8734\n",
      "Validation acc: 0.8305\n",
      "\n",
      "Start of epoch 12\n",
      "Training acc over epoch: 0.8734\n",
      "Validation acc: 0.8305\n",
      "\n",
      "Start of epoch 13\n",
      "Training acc over epoch: 0.8723\n",
      "Validation acc: 0.8305\n",
      "\n",
      "Start of epoch 14\n",
      "Training acc over epoch: 0.8734\n",
      "Validation acc: 0.8305\n",
      "\n",
      "Start of epoch 15\n",
      "Training acc over epoch: 0.8734\n",
      "Validation acc: 0.8305\n",
      "\n",
      "Start of epoch 16\n",
      "Training acc over epoch: 0.8734\n",
      "Validation acc: 0.8305\n",
      "\n",
      "Start of epoch 17\n",
      "Training acc over epoch: 0.8745\n",
      "Validation acc: 0.8305\n",
      "\n",
      "Start of epoch 18\n",
      "Training acc over epoch: 0.8734\n",
      "Validation acc: 0.8305\n",
      "\n",
      "Start of epoch 19\n",
      "Training acc over epoch: 0.8723\n",
      "Validation acc: 0.8305\n"
     ]
    },
    {
     "data": {
      "text/html": [
       "<style>\n",
       "    table.wandb td:nth-child(1) { padding: 0 10px; text-align: left ; width: auto;} td:nth-child(2) {text-align: left ; width: 100%}\n",
       "    .wandb-row { display: flex; flex-direction: row; flex-wrap: wrap; justify-content: flex-start; width: 100% }\n",
       "    .wandb-col { display: flex; flex-direction: column; flex-basis: 100%; flex: 1; padding: 10px; }\n",
       "    </style>\n",
       "<div class=\"wandb-row\"><div class=\"wandb-col\"><h3>Run history:</h3><br/><table class=\"wandb\"><tr><td>acc</td><td>▁▇██████████████████</td></tr><tr><td>epochs</td><td>▁▁▂▂▂▃▃▄▄▄▅▅▅▆▆▇▇▇██</td></tr><tr><td>loss</td><td>█▇▅▄▂▂▁▁▁▁▁▁▁▁▁▁▁▁▁▁</td></tr><tr><td>val_acc</td><td>▁███████████████████</td></tr><tr><td>val_loss</td><td>█▇▅▃▂▁▁▁▁▁▁▁▁▁▁▁▁▁▁▁</td></tr></table><br/></div><div class=\"wandb-col\"><h3>Run summary:</h3><br/><table class=\"wandb\"><tr><td>acc</td><td>0.87234</td></tr><tr><td>epochs</td><td>19</td></tr><tr><td>loss</td><td>0.39643</td></tr><tr><td>val_acc</td><td>0.83051</td></tr><tr><td>val_loss</td><td>0.46192</td></tr></table><br/></div></div>"
      ],
      "text/plain": [
       "<IPython.core.display.HTML object>"
      ]
     },
     "metadata": {},
     "output_type": "display_data"
    },
    {
     "data": {
      "text/html": [
       " View run <strong style=\"color:#cdcd00\">fresh-sea-151</strong> at: <a href='https://wandb.ai/shaicahana-hebrew-university-of-jerusalem/my-tf-integration/runs/gzi4kihz' target=\"_blank\">https://wandb.ai/shaicahana-hebrew-university-of-jerusalem/my-tf-integration/runs/gzi4kihz</a><br/> View project at: <a href='https://wandb.ai/shaicahana-hebrew-university-of-jerusalem/my-tf-integration' target=\"_blank\">https://wandb.ai/shaicahana-hebrew-university-of-jerusalem/my-tf-integration</a><br/>Synced 5 W&B file(s), 0 media file(s), 0 artifact file(s) and 0 other file(s)"
      ],
      "text/plain": [
       "<IPython.core.display.HTML object>"
      ]
     },
     "metadata": {},
     "output_type": "display_data"
    },
    {
     "data": {
      "text/html": [
       "Find logs at: <code>./wandb/run-20241026_154009-gzi4kihz/logs</code>"
      ],
      "text/plain": [
       "<IPython.core.display.HTML object>"
      ]
     },
     "metadata": {},
     "output_type": "display_data"
    },
    {
     "data": {
      "text/html": [
       "Tracking run with wandb version 0.18.5"
      ],
      "text/plain": [
       "<IPython.core.display.HTML object>"
      ]
     },
     "metadata": {},
     "output_type": "display_data"
    },
    {
     "data": {
      "text/html": [
       "Run data is saved locally in <code>/Users/shaicahana/Documents/AI_DL/colab/AI-DL/project-1/wandb/run-20241026_154018-t8n2ssm1</code>"
      ],
      "text/plain": [
       "<IPython.core.display.HTML object>"
      ]
     },
     "metadata": {},
     "output_type": "display_data"
    },
    {
     "data": {
      "text/html": [
       "Syncing run <strong><a href='https://wandb.ai/shaicahana-hebrew-university-of-jerusalem/my-tf-integration/runs/t8n2ssm1' target=\"_blank\">spring-plant-152</a></strong> to <a href='https://wandb.ai/shaicahana-hebrew-university-of-jerusalem/my-tf-integration' target=\"_blank\">Weights & Biases</a> (<a href='https://wandb.me/run' target=\"_blank\">docs</a>)<br/>"
      ],
      "text/plain": [
       "<IPython.core.display.HTML object>"
      ]
     },
     "metadata": {},
     "output_type": "display_data"
    },
    {
     "data": {
      "text/html": [
       " View project at <a href='https://wandb.ai/shaicahana-hebrew-university-of-jerusalem/my-tf-integration' target=\"_blank\">https://wandb.ai/shaicahana-hebrew-university-of-jerusalem/my-tf-integration</a>"
      ],
      "text/plain": [
       "<IPython.core.display.HTML object>"
      ]
     },
     "metadata": {},
     "output_type": "display_data"
    },
    {
     "data": {
      "text/html": [
       " View run at <a href='https://wandb.ai/shaicahana-hebrew-university-of-jerusalem/my-tf-integration/runs/t8n2ssm1' target=\"_blank\">https://wandb.ai/shaicahana-hebrew-university-of-jerusalem/my-tf-integration/runs/t8n2ssm1</a>"
      ],
      "text/plain": [
       "<IPython.core.display.HTML object>"
      ]
     },
     "metadata": {},
     "output_type": "display_data"
    },
    {
     "name": "stdout",
     "output_type": "stream",
     "text": [
      "\n",
      "Start of epoch 0\n",
      "Training acc over epoch: 0.4862\n",
      "Validation acc: 0.8305\n",
      "\n",
      "Start of epoch 1\n",
      "Training acc over epoch: 0.8649\n",
      "Validation acc: 0.8305\n",
      "\n",
      "Start of epoch 2\n",
      "Training acc over epoch: 0.8723\n",
      "Validation acc: 0.8305\n",
      "\n",
      "Start of epoch 3\n",
      "Training acc over epoch: 0.8734\n",
      "Validation acc: 0.8305\n",
      "\n",
      "Start of epoch 4\n",
      "Training acc over epoch: 0.8734\n",
      "Validation acc: 0.8305\n",
      "\n",
      "Start of epoch 5\n",
      "Training acc over epoch: 0.8734\n",
      "Validation acc: 0.8305\n",
      "\n",
      "Start of epoch 6\n",
      "Training acc over epoch: 0.8723\n",
      "Validation acc: 0.8305\n",
      "\n",
      "Start of epoch 7\n",
      "Training acc over epoch: 0.8755\n",
      "Validation acc: 0.8305\n",
      "\n",
      "Start of epoch 8\n",
      "Training acc over epoch: 0.8723\n",
      "Validation acc: 0.8305\n",
      "\n",
      "Start of epoch 9\n",
      "Training acc over epoch: 0.8713\n",
      "Validation acc: 0.8305\n",
      "\n",
      "Start of epoch 10\n",
      "Training acc over epoch: 0.8670\n",
      "Validation acc: 0.8305\n",
      "\n",
      "Start of epoch 11\n",
      "Training acc over epoch: 0.8691\n",
      "Validation acc: 0.8305\n",
      "\n",
      "Start of epoch 12\n",
      "Training acc over epoch: 0.8691\n",
      "Validation acc: 0.8305\n",
      "\n",
      "Start of epoch 13\n",
      "Training acc over epoch: 0.8734\n",
      "Validation acc: 0.8305\n",
      "\n",
      "Start of epoch 14\n",
      "Training acc over epoch: 0.8702\n",
      "Validation acc: 0.8305\n",
      "\n",
      "Start of epoch 15\n",
      "Training acc over epoch: 0.8723\n",
      "Validation acc: 0.8305\n",
      "\n",
      "Start of epoch 16\n",
      "Training acc over epoch: 0.8734\n",
      "Validation acc: 0.8305\n",
      "\n",
      "Start of epoch 17\n",
      "Training acc over epoch: 0.8734\n",
      "Validation acc: 0.8305\n",
      "\n",
      "Start of epoch 18\n",
      "Training acc over epoch: 0.8713\n",
      "Validation acc: 0.8305\n",
      "\n",
      "Start of epoch 19\n",
      "Training acc over epoch: 0.8766\n",
      "Validation acc: 0.8305\n"
     ]
    },
    {
     "data": {
      "application/vnd.jupyter.widget-view+json": {
       "model_id": "529e8aaddb3f4b33817a64e214d8476f",
       "version_major": 2,
       "version_minor": 0
      },
      "text/plain": [
       "VBox(children=(Label(value='0.009 MB of 0.009 MB uploaded\\r'), FloatProgress(value=1.0, max=1.0)))"
      ]
     },
     "metadata": {},
     "output_type": "display_data"
    },
    {
     "data": {
      "text/html": [
       "<style>\n",
       "    table.wandb td:nth-child(1) { padding: 0 10px; text-align: left ; width: auto;} td:nth-child(2) {text-align: left ; width: 100%}\n",
       "    .wandb-row { display: flex; flex-direction: row; flex-wrap: wrap; justify-content: flex-start; width: 100% }\n",
       "    .wandb-col { display: flex; flex-direction: column; flex-basis: 100%; flex: 1; padding: 10px; }\n",
       "    </style>\n",
       "<div class=\"wandb-row\"><div class=\"wandb-col\"><h3>Run history:</h3><br/><table class=\"wandb\"><tr><td>acc</td><td>▁███████████████████</td></tr><tr><td>epochs</td><td>▁▁▂▂▂▃▃▄▄▄▅▅▅▆▆▇▇▇██</td></tr><tr><td>loss</td><td>█▇▅▃▂▁▁▁▁▁▁▁▁▁▁▁▁▁▁▁</td></tr><tr><td>val_acc</td><td>▁▁▁▁▁▁▁▁▁▁▁▁▁▁▁▁▁▁▁▁</td></tr><tr><td>val_loss</td><td>█▆▄▂▂▁▁▁▁▁▁▁▁▁▁▁▁▁▁▁</td></tr></table><br/></div><div class=\"wandb-col\"><h3>Run summary:</h3><br/><table class=\"wandb\"><tr><td>acc</td><td>0.8766</td></tr><tr><td>epochs</td><td>19</td></tr><tr><td>loss</td><td>0.37545</td></tr><tr><td>val_acc</td><td>0.83051</td></tr><tr><td>val_loss</td><td>0.45407</td></tr></table><br/></div></div>"
      ],
      "text/plain": [
       "<IPython.core.display.HTML object>"
      ]
     },
     "metadata": {},
     "output_type": "display_data"
    },
    {
     "data": {
      "text/html": [
       " View run <strong style=\"color:#cdcd00\">spring-plant-152</strong> at: <a href='https://wandb.ai/shaicahana-hebrew-university-of-jerusalem/my-tf-integration/runs/t8n2ssm1' target=\"_blank\">https://wandb.ai/shaicahana-hebrew-university-of-jerusalem/my-tf-integration/runs/t8n2ssm1</a><br/> View project at: <a href='https://wandb.ai/shaicahana-hebrew-university-of-jerusalem/my-tf-integration' target=\"_blank\">https://wandb.ai/shaicahana-hebrew-university-of-jerusalem/my-tf-integration</a><br/>Synced 5 W&B file(s), 0 media file(s), 0 artifact file(s) and 0 other file(s)"
      ],
      "text/plain": [
       "<IPython.core.display.HTML object>"
      ]
     },
     "metadata": {},
     "output_type": "display_data"
    },
    {
     "data": {
      "text/html": [
       "Find logs at: <code>./wandb/run-20241026_154018-t8n2ssm1/logs</code>"
      ],
      "text/plain": [
       "<IPython.core.display.HTML object>"
      ]
     },
     "metadata": {},
     "output_type": "display_data"
    },
    {
     "data": {
      "text/html": [
       "Tracking run with wandb version 0.18.5"
      ],
      "text/plain": [
       "<IPython.core.display.HTML object>"
      ]
     },
     "metadata": {},
     "output_type": "display_data"
    },
    {
     "data": {
      "text/html": [
       "Run data is saved locally in <code>/Users/shaicahana/Documents/AI_DL/colab/AI-DL/project-1/wandb/run-20241026_154029-rkbigei7</code>"
      ],
      "text/plain": [
       "<IPython.core.display.HTML object>"
      ]
     },
     "metadata": {},
     "output_type": "display_data"
    },
    {
     "data": {
      "text/html": [
       "Syncing run <strong><a href='https://wandb.ai/shaicahana-hebrew-university-of-jerusalem/my-tf-integration/runs/rkbigei7' target=\"_blank\">distinctive-music-153</a></strong> to <a href='https://wandb.ai/shaicahana-hebrew-university-of-jerusalem/my-tf-integration' target=\"_blank\">Weights & Biases</a> (<a href='https://wandb.me/run' target=\"_blank\">docs</a>)<br/>"
      ],
      "text/plain": [
       "<IPython.core.display.HTML object>"
      ]
     },
     "metadata": {},
     "output_type": "display_data"
    },
    {
     "data": {
      "text/html": [
       " View project at <a href='https://wandb.ai/shaicahana-hebrew-university-of-jerusalem/my-tf-integration' target=\"_blank\">https://wandb.ai/shaicahana-hebrew-university-of-jerusalem/my-tf-integration</a>"
      ],
      "text/plain": [
       "<IPython.core.display.HTML object>"
      ]
     },
     "metadata": {},
     "output_type": "display_data"
    },
    {
     "data": {
      "text/html": [
       " View run at <a href='https://wandb.ai/shaicahana-hebrew-university-of-jerusalem/my-tf-integration/runs/rkbigei7' target=\"_blank\">https://wandb.ai/shaicahana-hebrew-university-of-jerusalem/my-tf-integration/runs/rkbigei7</a>"
      ],
      "text/plain": [
       "<IPython.core.display.HTML object>"
      ]
     },
     "metadata": {},
     "output_type": "display_data"
    },
    {
     "name": "stdout",
     "output_type": "stream",
     "text": [
      "\n",
      "Start of epoch 0\n",
      "Training acc over epoch: 0.4531\n",
      "Validation acc: 0.8491\n",
      "\n",
      "Start of epoch 1\n",
      "Training acc over epoch: 0.8619\n",
      "Validation acc: 0.8491\n",
      "\n",
      "Start of epoch 2\n",
      "Training acc over epoch: 0.8684\n",
      "Validation acc: 0.8491\n",
      "\n",
      "Start of epoch 3\n",
      "Training acc over epoch: 0.8684\n",
      "Validation acc: 0.8491\n",
      "\n",
      "Start of epoch 4\n",
      "Training acc over epoch: 0.8684\n",
      "Validation acc: 0.8491\n",
      "\n",
      "Start of epoch 5\n",
      "Training acc over epoch: 0.8684\n",
      "Validation acc: 0.8491\n",
      "\n",
      "Start of epoch 6\n",
      "Training acc over epoch: 0.8684\n",
      "Validation acc: 0.8491\n",
      "\n",
      "Start of epoch 7\n",
      "Training acc over epoch: 0.8684\n",
      "Validation acc: 0.8491\n",
      "\n",
      "Start of epoch 8\n",
      "Training acc over epoch: 0.8662\n",
      "Validation acc: 0.8491\n",
      "\n",
      "Start of epoch 9\n",
      "Training acc over epoch: 0.8684\n",
      "Validation acc: 0.8491\n",
      "\n",
      "Start of epoch 10\n",
      "Training acc over epoch: 0.8684\n",
      "Validation acc: 0.8491\n",
      "\n",
      "Start of epoch 11\n",
      "Training acc over epoch: 0.8673\n",
      "Validation acc: 0.8491\n",
      "\n",
      "Start of epoch 12\n",
      "Training acc over epoch: 0.8684\n",
      "Validation acc: 0.8491\n",
      "\n",
      "Start of epoch 13\n",
      "Training acc over epoch: 0.8684\n",
      "Validation acc: 0.8491\n",
      "\n",
      "Start of epoch 14\n",
      "Training acc over epoch: 0.8684\n",
      "Validation acc: 0.8491\n",
      "\n",
      "Start of epoch 15\n",
      "Training acc over epoch: 0.8684\n",
      "Validation acc: 0.8491\n",
      "\n",
      "Start of epoch 16\n",
      "Training acc over epoch: 0.8684\n",
      "Validation acc: 0.8491\n",
      "\n",
      "Start of epoch 17\n",
      "Training acc over epoch: 0.8673\n",
      "Validation acc: 0.8491\n",
      "\n",
      "Start of epoch 18\n",
      "Training acc over epoch: 0.8684\n",
      "Validation acc: 0.8491\n",
      "\n",
      "Start of epoch 19\n",
      "Training acc over epoch: 0.8684\n",
      "Validation acc: 0.8491\n"
     ]
    },
    {
     "data": {
      "text/html": [
       "<style>\n",
       "    table.wandb td:nth-child(1) { padding: 0 10px; text-align: left ; width: auto;} td:nth-child(2) {text-align: left ; width: 100%}\n",
       "    .wandb-row { display: flex; flex-direction: row; flex-wrap: wrap; justify-content: flex-start; width: 100% }\n",
       "    .wandb-col { display: flex; flex-direction: column; flex-basis: 100%; flex: 1; padding: 10px; }\n",
       "    </style>\n",
       "<div class=\"wandb-row\"><div class=\"wandb-col\"><h3>Run history:</h3><br/><table class=\"wandb\"><tr><td>acc</td><td>▁███████████████████</td></tr><tr><td>epochs</td><td>▁▁▂▂▂▃▃▄▄▄▅▅▅▆▆▇▇▇██</td></tr><tr><td>loss</td><td>█▇▅▃▂▂▁▁▁▁▁▁▁▁▁▁▁▁▁▁</td></tr><tr><td>val_acc</td><td>▁▁▁▁▁▁▁▁▁▁▁▁▁▁▁▁▁▁▁▁</td></tr><tr><td>val_loss</td><td>█▆▄▃▂▁▁▁▁▁▁▁▁▁▁▁▁▁▁▁</td></tr></table><br/></div><div class=\"wandb-col\"><h3>Run summary:</h3><br/><table class=\"wandb\"><tr><td>acc</td><td>0.86839</td></tr><tr><td>epochs</td><td>19</td></tr><tr><td>loss</td><td>0.41608</td></tr><tr><td>val_acc</td><td>0.84914</td></tr><tr><td>val_loss</td><td>0.42072</td></tr></table><br/></div></div>"
      ],
      "text/plain": [
       "<IPython.core.display.HTML object>"
      ]
     },
     "metadata": {},
     "output_type": "display_data"
    },
    {
     "data": {
      "text/html": [
       " View run <strong style=\"color:#cdcd00\">distinctive-music-153</strong> at: <a href='https://wandb.ai/shaicahana-hebrew-university-of-jerusalem/my-tf-integration/runs/rkbigei7' target=\"_blank\">https://wandb.ai/shaicahana-hebrew-university-of-jerusalem/my-tf-integration/runs/rkbigei7</a><br/> View project at: <a href='https://wandb.ai/shaicahana-hebrew-university-of-jerusalem/my-tf-integration' target=\"_blank\">https://wandb.ai/shaicahana-hebrew-university-of-jerusalem/my-tf-integration</a><br/>Synced 5 W&B file(s), 0 media file(s), 0 artifact file(s) and 0 other file(s)"
      ],
      "text/plain": [
       "<IPython.core.display.HTML object>"
      ]
     },
     "metadata": {},
     "output_type": "display_data"
    },
    {
     "data": {
      "text/html": [
       "Find logs at: <code>./wandb/run-20241026_154029-rkbigei7/logs</code>"
      ],
      "text/plain": [
       "<IPython.core.display.HTML object>"
      ]
     },
     "metadata": {},
     "output_type": "display_data"
    },
    {
     "data": {
      "text/html": [
       "Tracking run with wandb version 0.18.5"
      ],
      "text/plain": [
       "<IPython.core.display.HTML object>"
      ]
     },
     "metadata": {},
     "output_type": "display_data"
    },
    {
     "data": {
      "text/html": [
       "Run data is saved locally in <code>/Users/shaicahana/Documents/AI_DL/colab/AI-DL/project-1/wandb/run-20241026_154040-e7dtmpec</code>"
      ],
      "text/plain": [
       "<IPython.core.display.HTML object>"
      ]
     },
     "metadata": {},
     "output_type": "display_data"
    },
    {
     "data": {
      "text/html": [
       "Syncing run <strong><a href='https://wandb.ai/shaicahana-hebrew-university-of-jerusalem/my-tf-integration/runs/e7dtmpec' target=\"_blank\">peach-terrain-154</a></strong> to <a href='https://wandb.ai/shaicahana-hebrew-university-of-jerusalem/my-tf-integration' target=\"_blank\">Weights & Biases</a> (<a href='https://wandb.me/run' target=\"_blank\">docs</a>)<br/>"
      ],
      "text/plain": [
       "<IPython.core.display.HTML object>"
      ]
     },
     "metadata": {},
     "output_type": "display_data"
    },
    {
     "data": {
      "text/html": [
       " View project at <a href='https://wandb.ai/shaicahana-hebrew-university-of-jerusalem/my-tf-integration' target=\"_blank\">https://wandb.ai/shaicahana-hebrew-university-of-jerusalem/my-tf-integration</a>"
      ],
      "text/plain": [
       "<IPython.core.display.HTML object>"
      ]
     },
     "metadata": {},
     "output_type": "display_data"
    },
    {
     "data": {
      "text/html": [
       " View run at <a href='https://wandb.ai/shaicahana-hebrew-university-of-jerusalem/my-tf-integration/runs/e7dtmpec' target=\"_blank\">https://wandb.ai/shaicahana-hebrew-university-of-jerusalem/my-tf-integration/runs/e7dtmpec</a>"
      ],
      "text/plain": [
       "<IPython.core.display.HTML object>"
      ]
     },
     "metadata": {},
     "output_type": "display_data"
    },
    {
     "name": "stdout",
     "output_type": "stream",
     "text": [
      "\n",
      "Start of epoch 0\n",
      "Training acc over epoch: 0.4372\n",
      "Validation acc: 0.8305\n",
      "\n",
      "Start of epoch 1\n",
      "Training acc over epoch: 0.8468\n",
      "Validation acc: 0.8305\n",
      "\n",
      "Start of epoch 2\n",
      "Training acc over epoch: 0.8723\n",
      "Validation acc: 0.8305\n",
      "\n",
      "Start of epoch 3\n",
      "Training acc over epoch: 0.8734\n",
      "Validation acc: 0.8305\n",
      "\n",
      "Start of epoch 4\n",
      "Training acc over epoch: 0.8734\n",
      "Validation acc: 0.8305\n",
      "\n",
      "Start of epoch 5\n",
      "Training acc over epoch: 0.8734\n",
      "Validation acc: 0.8305\n",
      "\n",
      "Start of epoch 6\n",
      "Training acc over epoch: 0.8723\n",
      "Validation acc: 0.8305\n",
      "\n",
      "Start of epoch 7\n",
      "Training acc over epoch: 0.8723\n",
      "Validation acc: 0.8305\n",
      "\n",
      "Start of epoch 8\n",
      "Training acc over epoch: 0.8723\n",
      "Validation acc: 0.8305\n",
      "\n",
      "Start of epoch 9\n",
      "Training acc over epoch: 0.8734\n",
      "Validation acc: 0.8305\n",
      "\n",
      "Start of epoch 10\n",
      "Training acc over epoch: 0.8745\n",
      "Validation acc: 0.8305\n",
      "\n",
      "Start of epoch 11\n",
      "Training acc over epoch: 0.8681\n",
      "Validation acc: 0.8305\n",
      "\n",
      "Start of epoch 12\n",
      "Training acc over epoch: 0.8745\n",
      "Validation acc: 0.8305\n",
      "\n",
      "Start of epoch 13\n",
      "Training acc over epoch: 0.8723\n",
      "Validation acc: 0.8305\n",
      "\n",
      "Start of epoch 14\n",
      "Training acc over epoch: 0.8745\n",
      "Validation acc: 0.8305\n",
      "\n",
      "Start of epoch 15\n",
      "Training acc over epoch: 0.8734\n",
      "Validation acc: 0.8305\n",
      "\n",
      "Start of epoch 16\n",
      "Training acc over epoch: 0.8723\n",
      "Validation acc: 0.8305\n",
      "\n",
      "Start of epoch 17\n",
      "Training acc over epoch: 0.8734\n",
      "Validation acc: 0.8305\n",
      "\n",
      "Start of epoch 18\n",
      "Training acc over epoch: 0.8734\n",
      "Validation acc: 0.8305\n",
      "\n",
      "Start of epoch 19\n",
      "Training acc over epoch: 0.8745\n",
      "Validation acc: 0.8305\n"
     ]
    },
    {
     "data": {
      "text/html": [
       "<style>\n",
       "    table.wandb td:nth-child(1) { padding: 0 10px; text-align: left ; width: auto;} td:nth-child(2) {text-align: left ; width: 100%}\n",
       "    .wandb-row { display: flex; flex-direction: row; flex-wrap: wrap; justify-content: flex-start; width: 100% }\n",
       "    .wandb-col { display: flex; flex-direction: column; flex-basis: 100%; flex: 1; padding: 10px; }\n",
       "    </style>\n",
       "<div class=\"wandb-row\"><div class=\"wandb-col\"><h3>Run history:</h3><br/><table class=\"wandb\"><tr><td>acc</td><td>▁███████████████████</td></tr><tr><td>epochs</td><td>▁▁▂▂▂▃▃▄▄▄▅▅▅▆▆▇▇▇██</td></tr><tr><td>loss</td><td>█▆▄▃▂▁▁▁▁▁▁▁▁▁▁▁▁▁▁▁</td></tr><tr><td>val_acc</td><td>▁▁▁▁▁▁▁▁▁▁▁▁▁▁▁▁▁▁▁▁</td></tr><tr><td>val_loss</td><td>█▆▃▂▂▁▁▁▁▁▁▁▁▁▁▁▁▁▁▁</td></tr></table><br/></div><div class=\"wandb-col\"><h3>Run summary:</h3><br/><table class=\"wandb\"><tr><td>acc</td><td>0.87447</td></tr><tr><td>epochs</td><td>19</td></tr><tr><td>loss</td><td>0.39588</td></tr><tr><td>val_acc</td><td>0.83051</td></tr><tr><td>val_loss</td><td>0.45801</td></tr></table><br/></div></div>"
      ],
      "text/plain": [
       "<IPython.core.display.HTML object>"
      ]
     },
     "metadata": {},
     "output_type": "display_data"
    },
    {
     "data": {
      "text/html": [
       " View run <strong style=\"color:#cdcd00\">peach-terrain-154</strong> at: <a href='https://wandb.ai/shaicahana-hebrew-university-of-jerusalem/my-tf-integration/runs/e7dtmpec' target=\"_blank\">https://wandb.ai/shaicahana-hebrew-university-of-jerusalem/my-tf-integration/runs/e7dtmpec</a><br/> View project at: <a href='https://wandb.ai/shaicahana-hebrew-university-of-jerusalem/my-tf-integration' target=\"_blank\">https://wandb.ai/shaicahana-hebrew-university-of-jerusalem/my-tf-integration</a><br/>Synced 5 W&B file(s), 0 media file(s), 0 artifact file(s) and 0 other file(s)"
      ],
      "text/plain": [
       "<IPython.core.display.HTML object>"
      ]
     },
     "metadata": {},
     "output_type": "display_data"
    },
    {
     "data": {
      "text/html": [
       "Find logs at: <code>./wandb/run-20241026_154040-e7dtmpec/logs</code>"
      ],
      "text/plain": [
       "<IPython.core.display.HTML object>"
      ]
     },
     "metadata": {},
     "output_type": "display_data"
    },
    {
     "data": {
      "text/html": [
       "Tracking run with wandb version 0.18.5"
      ],
      "text/plain": [
       "<IPython.core.display.HTML object>"
      ]
     },
     "metadata": {},
     "output_type": "display_data"
    },
    {
     "data": {
      "text/html": [
       "Run data is saved locally in <code>/Users/shaicahana/Documents/AI_DL/colab/AI-DL/project-1/wandb/run-20241026_154051-ajmvlvm6</code>"
      ],
      "text/plain": [
       "<IPython.core.display.HTML object>"
      ]
     },
     "metadata": {},
     "output_type": "display_data"
    },
    {
     "data": {
      "text/html": [
       "Syncing run <strong><a href='https://wandb.ai/shaicahana-hebrew-university-of-jerusalem/my-tf-integration/runs/ajmvlvm6' target=\"_blank\">woven-eon-155</a></strong> to <a href='https://wandb.ai/shaicahana-hebrew-university-of-jerusalem/my-tf-integration' target=\"_blank\">Weights & Biases</a> (<a href='https://wandb.me/run' target=\"_blank\">docs</a>)<br/>"
      ],
      "text/plain": [
       "<IPython.core.display.HTML object>"
      ]
     },
     "metadata": {},
     "output_type": "display_data"
    },
    {
     "data": {
      "text/html": [
       " View project at <a href='https://wandb.ai/shaicahana-hebrew-university-of-jerusalem/my-tf-integration' target=\"_blank\">https://wandb.ai/shaicahana-hebrew-university-of-jerusalem/my-tf-integration</a>"
      ],
      "text/plain": [
       "<IPython.core.display.HTML object>"
      ]
     },
     "metadata": {},
     "output_type": "display_data"
    },
    {
     "data": {
      "text/html": [
       " View run at <a href='https://wandb.ai/shaicahana-hebrew-university-of-jerusalem/my-tf-integration/runs/ajmvlvm6' target=\"_blank\">https://wandb.ai/shaicahana-hebrew-university-of-jerusalem/my-tf-integration/runs/ajmvlvm6</a>"
      ],
      "text/plain": [
       "<IPython.core.display.HTML object>"
      ]
     },
     "metadata": {},
     "output_type": "display_data"
    },
    {
     "name": "stdout",
     "output_type": "stream",
     "text": [
      "\n",
      "Start of epoch 0\n",
      "Training acc over epoch: 0.4181\n",
      "Validation acc: 0.8305\n",
      "\n",
      "Start of epoch 1\n",
      "Training acc over epoch: 0.8628\n",
      "Validation acc: 0.8305\n",
      "\n",
      "Start of epoch 2\n",
      "Training acc over epoch: 0.8734\n",
      "Validation acc: 0.8305\n",
      "\n",
      "Start of epoch 3\n",
      "Training acc over epoch: 0.8734\n",
      "Validation acc: 0.8305\n",
      "\n",
      "Start of epoch 4\n",
      "Training acc over epoch: 0.8734\n",
      "Validation acc: 0.8305\n",
      "\n",
      "Start of epoch 5\n",
      "Training acc over epoch: 0.8734\n",
      "Validation acc: 0.8305\n",
      "\n",
      "Start of epoch 6\n",
      "Training acc over epoch: 0.8734\n",
      "Validation acc: 0.8305\n",
      "\n",
      "Start of epoch 7\n",
      "Training acc over epoch: 0.8723\n",
      "Validation acc: 0.8305\n",
      "\n",
      "Start of epoch 8\n",
      "Training acc over epoch: 0.8723\n",
      "Validation acc: 0.8305\n",
      "\n",
      "Start of epoch 9\n",
      "Training acc over epoch: 0.8734\n",
      "Validation acc: 0.8305\n",
      "\n",
      "Start of epoch 10\n",
      "Training acc over epoch: 0.8734\n",
      "Validation acc: 0.8305\n",
      "\n",
      "Start of epoch 11\n",
      "Training acc over epoch: 0.8734\n",
      "Validation acc: 0.8305\n",
      "\n",
      "Start of epoch 12\n",
      "Training acc over epoch: 0.8745\n",
      "Validation acc: 0.8305\n",
      "\n",
      "Start of epoch 13\n",
      "Training acc over epoch: 0.8734\n",
      "Validation acc: 0.8305\n",
      "\n",
      "Start of epoch 14\n",
      "Training acc over epoch: 0.8713\n",
      "Validation acc: 0.8305\n",
      "\n",
      "Start of epoch 15\n",
      "Training acc over epoch: 0.8713\n",
      "Validation acc: 0.8305\n",
      "\n",
      "Start of epoch 16\n",
      "Training acc over epoch: 0.8713\n",
      "Validation acc: 0.8305\n",
      "\n",
      "Start of epoch 17\n",
      "Training acc over epoch: 0.8723\n",
      "Validation acc: 0.8305\n",
      "\n",
      "Start of epoch 18\n",
      "Training acc over epoch: 0.8723\n",
      "Validation acc: 0.8305\n",
      "\n",
      "Start of epoch 19\n",
      "Training acc over epoch: 0.8713\n",
      "Validation acc: 0.8305\n"
     ]
    },
    {
     "data": {
      "text/html": [
       "<style>\n",
       "    table.wandb td:nth-child(1) { padding: 0 10px; text-align: left ; width: auto;} td:nth-child(2) {text-align: left ; width: 100%}\n",
       "    .wandb-row { display: flex; flex-direction: row; flex-wrap: wrap; justify-content: flex-start; width: 100% }\n",
       "    .wandb-col { display: flex; flex-direction: column; flex-basis: 100%; flex: 1; padding: 10px; }\n",
       "    </style>\n",
       "<div class=\"wandb-row\"><div class=\"wandb-col\"><h3>Run history:</h3><br/><table class=\"wandb\"><tr><td>acc</td><td>▁███████████████████</td></tr><tr><td>epochs</td><td>▁▁▂▂▂▃▃▄▄▄▅▅▅▆▆▇▇▇██</td></tr><tr><td>loss</td><td>█▇▅▃▂▂▁▁▁▁▁▁▁▁▁▁▁▁▁▁</td></tr><tr><td>val_acc</td><td>▁▁▁▁▁▁▁▁▁▁▁▁▁▁▁▁▁▁▁▁</td></tr><tr><td>val_loss</td><td>█▆▄▃▂▂▁▁▁▁▁▁▁▁▁▁▁▁▁▁</td></tr></table><br/></div><div class=\"wandb-col\"><h3>Run summary:</h3><br/><table class=\"wandb\"><tr><td>acc</td><td>0.87128</td></tr><tr><td>epochs</td><td>19</td></tr><tr><td>loss</td><td>0.39251</td></tr><tr><td>val_acc</td><td>0.83051</td></tr><tr><td>val_loss</td><td>0.46403</td></tr></table><br/></div></div>"
      ],
      "text/plain": [
       "<IPython.core.display.HTML object>"
      ]
     },
     "metadata": {},
     "output_type": "display_data"
    },
    {
     "data": {
      "text/html": [
       " View run <strong style=\"color:#cdcd00\">woven-eon-155</strong> at: <a href='https://wandb.ai/shaicahana-hebrew-university-of-jerusalem/my-tf-integration/runs/ajmvlvm6' target=\"_blank\">https://wandb.ai/shaicahana-hebrew-university-of-jerusalem/my-tf-integration/runs/ajmvlvm6</a><br/> View project at: <a href='https://wandb.ai/shaicahana-hebrew-university-of-jerusalem/my-tf-integration' target=\"_blank\">https://wandb.ai/shaicahana-hebrew-university-of-jerusalem/my-tf-integration</a><br/>Synced 5 W&B file(s), 0 media file(s), 0 artifact file(s) and 0 other file(s)"
      ],
      "text/plain": [
       "<IPython.core.display.HTML object>"
      ]
     },
     "metadata": {},
     "output_type": "display_data"
    },
    {
     "data": {
      "text/html": [
       "Find logs at: <code>./wandb/run-20241026_154051-ajmvlvm6/logs</code>"
      ],
      "text/plain": [
       "<IPython.core.display.HTML object>"
      ]
     },
     "metadata": {},
     "output_type": "display_data"
    },
    {
     "data": {
      "text/html": [
       "Tracking run with wandb version 0.18.5"
      ],
      "text/plain": [
       "<IPython.core.display.HTML object>"
      ]
     },
     "metadata": {},
     "output_type": "display_data"
    },
    {
     "data": {
      "text/html": [
       "Run data is saved locally in <code>/Users/shaicahana/Documents/AI_DL/colab/AI-DL/project-1/wandb/run-20241026_154100-ol903jms</code>"
      ],
      "text/plain": [
       "<IPython.core.display.HTML object>"
      ]
     },
     "metadata": {},
     "output_type": "display_data"
    },
    {
     "data": {
      "text/html": [
       "Syncing run <strong><a href='https://wandb.ai/shaicahana-hebrew-university-of-jerusalem/my-tf-integration/runs/ol903jms' target=\"_blank\">royal-grass-156</a></strong> to <a href='https://wandb.ai/shaicahana-hebrew-university-of-jerusalem/my-tf-integration' target=\"_blank\">Weights & Biases</a> (<a href='https://wandb.me/run' target=\"_blank\">docs</a>)<br/>"
      ],
      "text/plain": [
       "<IPython.core.display.HTML object>"
      ]
     },
     "metadata": {},
     "output_type": "display_data"
    },
    {
     "data": {
      "text/html": [
       " View project at <a href='https://wandb.ai/shaicahana-hebrew-university-of-jerusalem/my-tf-integration' target=\"_blank\">https://wandb.ai/shaicahana-hebrew-university-of-jerusalem/my-tf-integration</a>"
      ],
      "text/plain": [
       "<IPython.core.display.HTML object>"
      ]
     },
     "metadata": {},
     "output_type": "display_data"
    },
    {
     "data": {
      "text/html": [
       " View run at <a href='https://wandb.ai/shaicahana-hebrew-university-of-jerusalem/my-tf-integration/runs/ol903jms' target=\"_blank\">https://wandb.ai/shaicahana-hebrew-university-of-jerusalem/my-tf-integration/runs/ol903jms</a>"
      ],
      "text/plain": [
       "<IPython.core.display.HTML object>"
      ]
     },
     "metadata": {},
     "output_type": "display_data"
    },
    {
     "name": "stdout",
     "output_type": "stream",
     "text": [
      "\n",
      "Start of epoch 0\n",
      "Training acc over epoch: 0.5202\n",
      "Validation acc: 0.8979\n",
      "\n",
      "Start of epoch 1\n",
      "Training acc over epoch: 0.8521\n",
      "Validation acc: 0.8979\n",
      "\n",
      "Start of epoch 2\n",
      "Training acc over epoch: 0.8564\n",
      "Validation acc: 0.8979\n",
      "\n",
      "Start of epoch 3\n",
      "Training acc over epoch: 0.8564\n",
      "Validation acc: 0.8979\n",
      "\n",
      "Start of epoch 4\n",
      "Training acc over epoch: 0.8564\n",
      "Validation acc: 0.8979\n",
      "\n",
      "Start of epoch 5\n",
      "Training acc over epoch: 0.8564\n",
      "Validation acc: 0.8979\n",
      "\n",
      "Start of epoch 6\n",
      "Training acc over epoch: 0.8564\n",
      "Validation acc: 0.8979\n",
      "\n",
      "Start of epoch 7\n",
      "Training acc over epoch: 0.8521\n",
      "Validation acc: 0.8979\n",
      "\n",
      "Start of epoch 8\n",
      "Training acc over epoch: 0.8521\n",
      "Validation acc: 0.8979\n",
      "\n",
      "Start of epoch 9\n",
      "Training acc over epoch: 0.8500\n",
      "Validation acc: 0.8979\n",
      "\n",
      "Start of epoch 10\n",
      "Training acc over epoch: 0.8564\n",
      "Validation acc: 0.8979\n",
      "\n",
      "Start of epoch 11\n",
      "Training acc over epoch: 0.8532\n",
      "Validation acc: 0.8979\n",
      "\n",
      "Start of epoch 12\n",
      "Training acc over epoch: 0.8564\n",
      "Validation acc: 0.8979\n",
      "\n",
      "Start of epoch 13\n",
      "Training acc over epoch: 0.8532\n",
      "Validation acc: 0.8979\n",
      "\n",
      "Start of epoch 14\n",
      "Training acc over epoch: 0.8574\n",
      "Validation acc: 0.8979\n",
      "\n",
      "Start of epoch 15\n",
      "Training acc over epoch: 0.8564\n",
      "Validation acc: 0.8979\n",
      "\n",
      "Start of epoch 16\n",
      "Training acc over epoch: 0.8543\n",
      "Validation acc: 0.8979\n",
      "\n",
      "Start of epoch 17\n",
      "Training acc over epoch: 0.8511\n",
      "Validation acc: 0.8979\n",
      "\n",
      "Start of epoch 18\n",
      "Training acc over epoch: 0.8553\n",
      "Validation acc: 0.8979\n",
      "\n",
      "Start of epoch 19\n",
      "Training acc over epoch: 0.8574\n",
      "Validation acc: 0.8979\n"
     ]
    },
    {
     "data": {
      "text/html": [
       "<style>\n",
       "    table.wandb td:nth-child(1) { padding: 0 10px; text-align: left ; width: auto;} td:nth-child(2) {text-align: left ; width: 100%}\n",
       "    .wandb-row { display: flex; flex-direction: row; flex-wrap: wrap; justify-content: flex-start; width: 100% }\n",
       "    .wandb-col { display: flex; flex-direction: column; flex-basis: 100%; flex: 1; padding: 10px; }\n",
       "    </style>\n",
       "<div class=\"wandb-row\"><div class=\"wandb-col\"><h3>Run history:</h3><br/><table class=\"wandb\"><tr><td>acc</td><td>▁███████████████████</td></tr><tr><td>epochs</td><td>▁▁▂▂▂▃▃▄▄▄▅▅▅▆▆▇▇▇██</td></tr><tr><td>loss</td><td>█▆▄▃▂▁▁▁▁▁▁▁▁▁▁▁▁▁▁▁</td></tr><tr><td>val_acc</td><td>▁▁▁▁▁▁▁▁▁▁▁▁▁▁▁▁▁▁▁▁</td></tr><tr><td>val_loss</td><td>█▆▄▂▂▁▁▁▁▁▁▁▁▁▁▁▁▁▁▁</td></tr></table><br/></div><div class=\"wandb-col\"><h3>Run summary:</h3><br/><table class=\"wandb\"><tr><td>acc</td><td>0.85745</td></tr><tr><td>epochs</td><td>19</td></tr><tr><td>loss</td><td>0.41422</td></tr><tr><td>val_acc</td><td>0.89787</td></tr><tr><td>val_loss</td><td>0.31969</td></tr></table><br/></div></div>"
      ],
      "text/plain": [
       "<IPython.core.display.HTML object>"
      ]
     },
     "metadata": {},
     "output_type": "display_data"
    },
    {
     "data": {
      "text/html": [
       " View run <strong style=\"color:#cdcd00\">royal-grass-156</strong> at: <a href='https://wandb.ai/shaicahana-hebrew-university-of-jerusalem/my-tf-integration/runs/ol903jms' target=\"_blank\">https://wandb.ai/shaicahana-hebrew-university-of-jerusalem/my-tf-integration/runs/ol903jms</a><br/> View project at: <a href='https://wandb.ai/shaicahana-hebrew-university-of-jerusalem/my-tf-integration' target=\"_blank\">https://wandb.ai/shaicahana-hebrew-university-of-jerusalem/my-tf-integration</a><br/>Synced 5 W&B file(s), 0 media file(s), 0 artifact file(s) and 0 other file(s)"
      ],
      "text/plain": [
       "<IPython.core.display.HTML object>"
      ]
     },
     "metadata": {},
     "output_type": "display_data"
    },
    {
     "data": {
      "text/html": [
       "Find logs at: <code>./wandb/run-20241026_154100-ol903jms/logs</code>"
      ],
      "text/plain": [
       "<IPython.core.display.HTML object>"
      ]
     },
     "metadata": {},
     "output_type": "display_data"
    },
    {
     "data": {
      "text/html": [
       "Tracking run with wandb version 0.18.5"
      ],
      "text/plain": [
       "<IPython.core.display.HTML object>"
      ]
     },
     "metadata": {},
     "output_type": "display_data"
    },
    {
     "data": {
      "text/html": [
       "Run data is saved locally in <code>/Users/shaicahana/Documents/AI_DL/colab/AI-DL/project-1/wandb/run-20241026_154109-2fjaliuo</code>"
      ],
      "text/plain": [
       "<IPython.core.display.HTML object>"
      ]
     },
     "metadata": {},
     "output_type": "display_data"
    },
    {
     "data": {
      "text/html": [
       "Syncing run <strong><a href='https://wandb.ai/shaicahana-hebrew-university-of-jerusalem/my-tf-integration/runs/2fjaliuo' target=\"_blank\">light-sponge-157</a></strong> to <a href='https://wandb.ai/shaicahana-hebrew-university-of-jerusalem/my-tf-integration' target=\"_blank\">Weights & Biases</a> (<a href='https://wandb.me/run' target=\"_blank\">docs</a>)<br/>"
      ],
      "text/plain": [
       "<IPython.core.display.HTML object>"
      ]
     },
     "metadata": {},
     "output_type": "display_data"
    },
    {
     "data": {
      "text/html": [
       " View project at <a href='https://wandb.ai/shaicahana-hebrew-university-of-jerusalem/my-tf-integration' target=\"_blank\">https://wandb.ai/shaicahana-hebrew-university-of-jerusalem/my-tf-integration</a>"
      ],
      "text/plain": [
       "<IPython.core.display.HTML object>"
      ]
     },
     "metadata": {},
     "output_type": "display_data"
    },
    {
     "data": {
      "text/html": [
       " View run at <a href='https://wandb.ai/shaicahana-hebrew-university-of-jerusalem/my-tf-integration/runs/2fjaliuo' target=\"_blank\">https://wandb.ai/shaicahana-hebrew-university-of-jerusalem/my-tf-integration/runs/2fjaliuo</a>"
      ],
      "text/plain": [
       "<IPython.core.display.HTML object>"
      ]
     },
     "metadata": {},
     "output_type": "display_data"
    },
    {
     "name": "stdout",
     "output_type": "stream",
     "text": [
      "\n",
      "Start of epoch 0\n",
      "Training acc over epoch: 0.4723\n",
      "Validation acc: 0.8305\n",
      "\n",
      "Start of epoch 1\n",
      "Training acc over epoch: 0.8606\n",
      "Validation acc: 0.8305\n",
      "\n",
      "Start of epoch 2\n",
      "Training acc over epoch: 0.8734\n",
      "Validation acc: 0.8305\n",
      "\n",
      "Start of epoch 3\n",
      "Training acc over epoch: 0.8734\n",
      "Validation acc: 0.8305\n",
      "\n",
      "Start of epoch 4\n",
      "Training acc over epoch: 0.8734\n",
      "Validation acc: 0.8305\n",
      "\n",
      "Start of epoch 5\n",
      "Training acc over epoch: 0.8734\n",
      "Validation acc: 0.8305\n",
      "\n",
      "Start of epoch 6\n",
      "Training acc over epoch: 0.8734\n",
      "Validation acc: 0.8305\n",
      "\n",
      "Start of epoch 7\n",
      "Training acc over epoch: 0.8734\n",
      "Validation acc: 0.8305\n",
      "\n",
      "Start of epoch 8\n",
      "Training acc over epoch: 0.8723\n",
      "Validation acc: 0.8305\n",
      "\n",
      "Start of epoch 9\n",
      "Training acc over epoch: 0.8734\n",
      "Validation acc: 0.8305\n",
      "\n",
      "Start of epoch 10\n",
      "Training acc over epoch: 0.8723\n",
      "Validation acc: 0.8305\n",
      "\n",
      "Start of epoch 11\n",
      "Training acc over epoch: 0.8734\n",
      "Validation acc: 0.8305\n",
      "\n",
      "Start of epoch 12\n",
      "Training acc over epoch: 0.8713\n",
      "Validation acc: 0.8305\n",
      "\n",
      "Start of epoch 13\n",
      "Training acc over epoch: 0.8713\n",
      "Validation acc: 0.8305\n",
      "\n",
      "Start of epoch 14\n",
      "Training acc over epoch: 0.8734\n",
      "Validation acc: 0.8305\n",
      "\n",
      "Start of epoch 15\n",
      "Training acc over epoch: 0.8723\n",
      "Validation acc: 0.8305\n",
      "\n",
      "Start of epoch 16\n",
      "Training acc over epoch: 0.8755\n",
      "Validation acc: 0.8305\n",
      "\n",
      "Start of epoch 17\n",
      "Training acc over epoch: 0.8723\n",
      "Validation acc: 0.8305\n",
      "\n",
      "Start of epoch 18\n",
      "Training acc over epoch: 0.8734\n",
      "Validation acc: 0.8305\n",
      "\n",
      "Start of epoch 19\n",
      "Training acc over epoch: 0.8723\n",
      "Validation acc: 0.8305\n"
     ]
    },
    {
     "data": {
      "text/html": [
       "<style>\n",
       "    table.wandb td:nth-child(1) { padding: 0 10px; text-align: left ; width: auto;} td:nth-child(2) {text-align: left ; width: 100%}\n",
       "    .wandb-row { display: flex; flex-direction: row; flex-wrap: wrap; justify-content: flex-start; width: 100% }\n",
       "    .wandb-col { display: flex; flex-direction: column; flex-basis: 100%; flex: 1; padding: 10px; }\n",
       "    </style>\n",
       "<div class=\"wandb-row\"><div class=\"wandb-col\"><h3>Run history:</h3><br/><table class=\"wandb\"><tr><td>acc</td><td>▁███████████████████</td></tr><tr><td>epochs</td><td>▁▁▂▂▂▃▃▄▄▄▅▅▅▆▆▇▇▇██</td></tr><tr><td>loss</td><td>█▇▅▃▂▂▁▁▁▁▁▁▁▁▁▁▁▁▁▁</td></tr><tr><td>val_acc</td><td>▁▁▁▁▁▁▁▁▁▁▁▁▁▁▁▁▁▁▁▁</td></tr><tr><td>val_loss</td><td>█▆▄▃▂▁▁▁▁▁▁▁▁▁▁▁▁▁▁▁</td></tr></table><br/></div><div class=\"wandb-col\"><h3>Run summary:</h3><br/><table class=\"wandb\"><tr><td>acc</td><td>0.87234</td></tr><tr><td>epochs</td><td>19</td></tr><tr><td>loss</td><td>0.39684</td></tr><tr><td>val_acc</td><td>0.83051</td></tr><tr><td>val_loss</td><td>0.45713</td></tr></table><br/></div></div>"
      ],
      "text/plain": [
       "<IPython.core.display.HTML object>"
      ]
     },
     "metadata": {},
     "output_type": "display_data"
    },
    {
     "data": {
      "text/html": [
       " View run <strong style=\"color:#cdcd00\">light-sponge-157</strong> at: <a href='https://wandb.ai/shaicahana-hebrew-university-of-jerusalem/my-tf-integration/runs/2fjaliuo' target=\"_blank\">https://wandb.ai/shaicahana-hebrew-university-of-jerusalem/my-tf-integration/runs/2fjaliuo</a><br/> View project at: <a href='https://wandb.ai/shaicahana-hebrew-university-of-jerusalem/my-tf-integration' target=\"_blank\">https://wandb.ai/shaicahana-hebrew-university-of-jerusalem/my-tf-integration</a><br/>Synced 5 W&B file(s), 0 media file(s), 0 artifact file(s) and 0 other file(s)"
      ],
      "text/plain": [
       "<IPython.core.display.HTML object>"
      ]
     },
     "metadata": {},
     "output_type": "display_data"
    },
    {
     "data": {
      "text/html": [
       "Find logs at: <code>./wandb/run-20241026_154109-2fjaliuo/logs</code>"
      ],
      "text/plain": [
       "<IPython.core.display.HTML object>"
      ]
     },
     "metadata": {},
     "output_type": "display_data"
    },
    {
     "data": {
      "text/html": [
       "Tracking run with wandb version 0.18.5"
      ],
      "text/plain": [
       "<IPython.core.display.HTML object>"
      ]
     },
     "metadata": {},
     "output_type": "display_data"
    },
    {
     "data": {
      "text/html": [
       "Run data is saved locally in <code>/Users/shaicahana/Documents/AI_DL/colab/AI-DL/project-1/wandb/run-20241026_154119-zlz0c5bt</code>"
      ],
      "text/plain": [
       "<IPython.core.display.HTML object>"
      ]
     },
     "metadata": {},
     "output_type": "display_data"
    },
    {
     "data": {
      "text/html": [
       "Syncing run <strong><a href='https://wandb.ai/shaicahana-hebrew-university-of-jerusalem/my-tf-integration/runs/zlz0c5bt' target=\"_blank\">distinctive-plasma-158</a></strong> to <a href='https://wandb.ai/shaicahana-hebrew-university-of-jerusalem/my-tf-integration' target=\"_blank\">Weights & Biases</a> (<a href='https://wandb.me/run' target=\"_blank\">docs</a>)<br/>"
      ],
      "text/plain": [
       "<IPython.core.display.HTML object>"
      ]
     },
     "metadata": {},
     "output_type": "display_data"
    },
    {
     "data": {
      "text/html": [
       " View project at <a href='https://wandb.ai/shaicahana-hebrew-university-of-jerusalem/my-tf-integration' target=\"_blank\">https://wandb.ai/shaicahana-hebrew-university-of-jerusalem/my-tf-integration</a>"
      ],
      "text/plain": [
       "<IPython.core.display.HTML object>"
      ]
     },
     "metadata": {},
     "output_type": "display_data"
    },
    {
     "data": {
      "text/html": [
       " View run at <a href='https://wandb.ai/shaicahana-hebrew-university-of-jerusalem/my-tf-integration/runs/zlz0c5bt' target=\"_blank\">https://wandb.ai/shaicahana-hebrew-university-of-jerusalem/my-tf-integration/runs/zlz0c5bt</a>"
      ],
      "text/plain": [
       "<IPython.core.display.HTML object>"
      ]
     },
     "metadata": {},
     "output_type": "display_data"
    },
    {
     "name": "stdout",
     "output_type": "stream",
     "text": [
      "\n",
      "Start of epoch 0\n",
      "Training acc over epoch: 0.5628\n",
      "Validation acc: 0.8347\n",
      "\n",
      "Start of epoch 1\n",
      "Training acc over epoch: 0.8426\n",
      "Validation acc: 0.8305\n",
      "\n",
      "Start of epoch 2\n",
      "Training acc over epoch: 0.8755\n",
      "Validation acc: 0.8305\n",
      "\n",
      "Start of epoch 3\n",
      "Training acc over epoch: 0.8745\n",
      "Validation acc: 0.8305\n",
      "\n",
      "Start of epoch 4\n",
      "Training acc over epoch: 0.8734\n",
      "Validation acc: 0.8305\n",
      "\n",
      "Start of epoch 5\n",
      "Training acc over epoch: 0.8734\n",
      "Validation acc: 0.8305\n",
      "\n",
      "Start of epoch 6\n",
      "Training acc over epoch: 0.8734\n",
      "Validation acc: 0.8305\n",
      "\n",
      "Start of epoch 7\n",
      "Training acc over epoch: 0.8670\n",
      "Validation acc: 0.8305\n",
      "\n",
      "Start of epoch 8\n",
      "Training acc over epoch: 0.8745\n",
      "Validation acc: 0.8305\n",
      "\n",
      "Start of epoch 9\n",
      "Training acc over epoch: 0.8734\n",
      "Validation acc: 0.8305\n",
      "\n",
      "Start of epoch 10\n",
      "Training acc over epoch: 0.8745\n",
      "Validation acc: 0.8305\n",
      "\n",
      "Start of epoch 11\n",
      "Training acc over epoch: 0.8702\n",
      "Validation acc: 0.8390\n",
      "\n",
      "Start of epoch 12\n",
      "Training acc over epoch: 0.8734\n",
      "Validation acc: 0.8305\n",
      "\n",
      "Start of epoch 13\n",
      "Training acc over epoch: 0.8691\n",
      "Validation acc: 0.8390\n",
      "\n",
      "Start of epoch 14\n",
      "Training acc over epoch: 0.8734\n",
      "Validation acc: 0.8347\n",
      "\n",
      "Start of epoch 15\n",
      "Training acc over epoch: 0.8777\n",
      "Validation acc: 0.8347\n",
      "\n",
      "Start of epoch 16\n",
      "Training acc over epoch: 0.8702\n",
      "Validation acc: 0.8347\n",
      "\n",
      "Start of epoch 17\n",
      "Training acc over epoch: 0.8745\n",
      "Validation acc: 0.8347\n",
      "\n",
      "Start of epoch 18\n",
      "Training acc over epoch: 0.8713\n",
      "Validation acc: 0.8432\n",
      "\n",
      "Start of epoch 19\n",
      "Training acc over epoch: 0.8670\n",
      "Validation acc: 0.8305\n"
     ]
    },
    {
     "data": {
      "text/html": [
       "<style>\n",
       "    table.wandb td:nth-child(1) { padding: 0 10px; text-align: left ; width: auto;} td:nth-child(2) {text-align: left ; width: 100%}\n",
       "    .wandb-row { display: flex; flex-direction: row; flex-wrap: wrap; justify-content: flex-start; width: 100% }\n",
       "    .wandb-col { display: flex; flex-direction: column; flex-basis: 100%; flex: 1; padding: 10px; }\n",
       "    </style>\n",
       "<div class=\"wandb-row\"><div class=\"wandb-col\"><h3>Run history:</h3><br/><table class=\"wandb\"><tr><td>acc</td><td>▁▇██████████████████</td></tr><tr><td>epochs</td><td>▁▁▂▂▂▃▃▄▄▄▅▅▅▆▆▇▇▇██</td></tr><tr><td>loss</td><td>█▆▄▃▂▁▁▁▁▁▁▁▁▁▁▁▁▁▁▁</td></tr><tr><td>val_acc</td><td>▃▁▁▁▁▁▁▁▁▁▁▆▁▆▃▃▃▃█▁</td></tr><tr><td>val_loss</td><td>█▆▄▂▂▁▁▁▁▁▁▁▁▁▁▁▁▁▁▁</td></tr></table><br/></div><div class=\"wandb-col\"><h3>Run summary:</h3><br/><table class=\"wandb\"><tr><td>acc</td><td>0.86702</td></tr><tr><td>epochs</td><td>19</td></tr><tr><td>loss</td><td>0.38593</td></tr><tr><td>val_acc</td><td>0.83051</td></tr><tr><td>val_loss</td><td>0.4237</td></tr></table><br/></div></div>"
      ],
      "text/plain": [
       "<IPython.core.display.HTML object>"
      ]
     },
     "metadata": {},
     "output_type": "display_data"
    },
    {
     "data": {
      "text/html": [
       " View run <strong style=\"color:#cdcd00\">distinctive-plasma-158</strong> at: <a href='https://wandb.ai/shaicahana-hebrew-university-of-jerusalem/my-tf-integration/runs/zlz0c5bt' target=\"_blank\">https://wandb.ai/shaicahana-hebrew-university-of-jerusalem/my-tf-integration/runs/zlz0c5bt</a><br/> View project at: <a href='https://wandb.ai/shaicahana-hebrew-university-of-jerusalem/my-tf-integration' target=\"_blank\">https://wandb.ai/shaicahana-hebrew-university-of-jerusalem/my-tf-integration</a><br/>Synced 5 W&B file(s), 0 media file(s), 0 artifact file(s) and 0 other file(s)"
      ],
      "text/plain": [
       "<IPython.core.display.HTML object>"
      ]
     },
     "metadata": {},
     "output_type": "display_data"
    },
    {
     "data": {
      "text/html": [
       "Find logs at: <code>./wandb/run-20241026_154119-zlz0c5bt/logs</code>"
      ],
      "text/plain": [
       "<IPython.core.display.HTML object>"
      ]
     },
     "metadata": {},
     "output_type": "display_data"
    },
    {
     "data": {
      "text/html": [
       "Tracking run with wandb version 0.18.5"
      ],
      "text/plain": [
       "<IPython.core.display.HTML object>"
      ]
     },
     "metadata": {},
     "output_type": "display_data"
    },
    {
     "data": {
      "text/html": [
       "Run data is saved locally in <code>/Users/shaicahana/Documents/AI_DL/colab/AI-DL/project-1/wandb/run-20241026_154129-e9jmn1p4</code>"
      ],
      "text/plain": [
       "<IPython.core.display.HTML object>"
      ]
     },
     "metadata": {},
     "output_type": "display_data"
    },
    {
     "data": {
      "text/html": [
       "Syncing run <strong><a href='https://wandb.ai/shaicahana-hebrew-university-of-jerusalem/my-tf-integration/runs/e9jmn1p4' target=\"_blank\">toasty-breeze-159</a></strong> to <a href='https://wandb.ai/shaicahana-hebrew-university-of-jerusalem/my-tf-integration' target=\"_blank\">Weights & Biases</a> (<a href='https://wandb.me/run' target=\"_blank\">docs</a>)<br/>"
      ],
      "text/plain": [
       "<IPython.core.display.HTML object>"
      ]
     },
     "metadata": {},
     "output_type": "display_data"
    },
    {
     "data": {
      "text/html": [
       " View project at <a href='https://wandb.ai/shaicahana-hebrew-university-of-jerusalem/my-tf-integration' target=\"_blank\">https://wandb.ai/shaicahana-hebrew-university-of-jerusalem/my-tf-integration</a>"
      ],
      "text/plain": [
       "<IPython.core.display.HTML object>"
      ]
     },
     "metadata": {},
     "output_type": "display_data"
    },
    {
     "data": {
      "text/html": [
       " View run at <a href='https://wandb.ai/shaicahana-hebrew-university-of-jerusalem/my-tf-integration/runs/e9jmn1p4' target=\"_blank\">https://wandb.ai/shaicahana-hebrew-university-of-jerusalem/my-tf-integration/runs/e9jmn1p4</a>"
      ],
      "text/plain": [
       "<IPython.core.display.HTML object>"
      ]
     },
     "metadata": {},
     "output_type": "display_data"
    },
    {
     "name": "stdout",
     "output_type": "stream",
     "text": [
      "\n",
      "Start of epoch 0\n",
      "Training acc over epoch: 0.6213\n",
      "Validation acc: 0.8305\n",
      "\n",
      "Start of epoch 1\n",
      "Training acc over epoch: 0.8660\n",
      "Validation acc: 0.8305\n",
      "\n",
      "Start of epoch 2\n",
      "Training acc over epoch: 0.8734\n",
      "Validation acc: 0.8305\n",
      "\n",
      "Start of epoch 3\n",
      "Training acc over epoch: 0.8734\n",
      "Validation acc: 0.8305\n",
      "\n",
      "Start of epoch 4\n",
      "Training acc over epoch: 0.8734\n",
      "Validation acc: 0.8305\n",
      "\n",
      "Start of epoch 5\n",
      "Training acc over epoch: 0.8734\n",
      "Validation acc: 0.8305\n",
      "\n",
      "Start of epoch 6\n",
      "Training acc over epoch: 0.8734\n",
      "Validation acc: 0.8305\n",
      "\n",
      "Start of epoch 7\n",
      "Training acc over epoch: 0.8734\n",
      "Validation acc: 0.8305\n",
      "\n",
      "Start of epoch 8\n",
      "Training acc over epoch: 0.8734\n",
      "Validation acc: 0.8305\n",
      "\n",
      "Start of epoch 9\n",
      "Training acc over epoch: 0.8734\n",
      "Validation acc: 0.8305\n",
      "\n",
      "Start of epoch 10\n",
      "Training acc over epoch: 0.8734\n",
      "Validation acc: 0.8305\n",
      "\n",
      "Start of epoch 11\n",
      "Training acc over epoch: 0.8734\n",
      "Validation acc: 0.8305\n",
      "\n",
      "Start of epoch 12\n",
      "Training acc over epoch: 0.8734\n",
      "Validation acc: 0.8305\n",
      "\n",
      "Start of epoch 13\n",
      "Training acc over epoch: 0.8734\n",
      "Validation acc: 0.8305\n",
      "\n",
      "Start of epoch 14\n",
      "Training acc over epoch: 0.8723\n",
      "Validation acc: 0.8305\n",
      "\n",
      "Start of epoch 15\n",
      "Training acc over epoch: 0.8734\n",
      "Validation acc: 0.8305\n",
      "\n",
      "Start of epoch 16\n",
      "Training acc over epoch: 0.8734\n",
      "Validation acc: 0.8305\n",
      "\n",
      "Start of epoch 17\n",
      "Training acc over epoch: 0.8734\n",
      "Validation acc: 0.8305\n",
      "\n",
      "Start of epoch 18\n",
      "Training acc over epoch: 0.8734\n",
      "Validation acc: 0.8305\n",
      "\n",
      "Start of epoch 19\n",
      "Training acc over epoch: 0.8713\n",
      "Validation acc: 0.8305\n"
     ]
    },
    {
     "data": {
      "text/html": [
       "<style>\n",
       "    table.wandb td:nth-child(1) { padding: 0 10px; text-align: left ; width: auto;} td:nth-child(2) {text-align: left ; width: 100%}\n",
       "    .wandb-row { display: flex; flex-direction: row; flex-wrap: wrap; justify-content: flex-start; width: 100% }\n",
       "    .wandb-col { display: flex; flex-direction: column; flex-basis: 100%; flex: 1; padding: 10px; }\n",
       "    </style>\n",
       "<div class=\"wandb-row\"><div class=\"wandb-col\"><h3>Run history:</h3><br/><table class=\"wandb\"><tr><td>acc</td><td>▁███████████████████</td></tr><tr><td>epochs</td><td>▁▁▂▂▂▃▃▄▄▄▅▅▅▆▆▇▇▇██</td></tr><tr><td>loss</td><td>█▆▄▃▂▁▁▁▁▁▁▁▁▁▁▁▁▁▁▁</td></tr><tr><td>val_acc</td><td>▁▁▁▁▁▁▁▁▁▁▁▁▁▁▁▁▁▁▁▁</td></tr><tr><td>val_loss</td><td>█▆▄▂▂▂▁▁▁▁▁▁▁▁▁▁▁▁▁▁</td></tr></table><br/></div><div class=\"wandb-col\"><h3>Run summary:</h3><br/><table class=\"wandb\"><tr><td>acc</td><td>0.87128</td></tr><tr><td>epochs</td><td>19</td></tr><tr><td>loss</td><td>0.39574</td></tr><tr><td>val_acc</td><td>0.83051</td></tr><tr><td>val_loss</td><td>0.47111</td></tr></table><br/></div></div>"
      ],
      "text/plain": [
       "<IPython.core.display.HTML object>"
      ]
     },
     "metadata": {},
     "output_type": "display_data"
    },
    {
     "data": {
      "text/html": [
       " View run <strong style=\"color:#cdcd00\">toasty-breeze-159</strong> at: <a href='https://wandb.ai/shaicahana-hebrew-university-of-jerusalem/my-tf-integration/runs/e9jmn1p4' target=\"_blank\">https://wandb.ai/shaicahana-hebrew-university-of-jerusalem/my-tf-integration/runs/e9jmn1p4</a><br/> View project at: <a href='https://wandb.ai/shaicahana-hebrew-university-of-jerusalem/my-tf-integration' target=\"_blank\">https://wandb.ai/shaicahana-hebrew-university-of-jerusalem/my-tf-integration</a><br/>Synced 5 W&B file(s), 0 media file(s), 0 artifact file(s) and 0 other file(s)"
      ],
      "text/plain": [
       "<IPython.core.display.HTML object>"
      ]
     },
     "metadata": {},
     "output_type": "display_data"
    },
    {
     "data": {
      "text/html": [
       "Find logs at: <code>./wandb/run-20241026_154129-e9jmn1p4/logs</code>"
      ],
      "text/plain": [
       "<IPython.core.display.HTML object>"
      ]
     },
     "metadata": {},
     "output_type": "display_data"
    },
    {
     "data": {
      "text/html": [
       "Tracking run with wandb version 0.18.5"
      ],
      "text/plain": [
       "<IPython.core.display.HTML object>"
      ]
     },
     "metadata": {},
     "output_type": "display_data"
    },
    {
     "data": {
      "text/html": [
       "Run data is saved locally in <code>/Users/shaicahana/Documents/AI_DL/colab/AI-DL/project-1/wandb/run-20241026_154139-tr7y8a70</code>"
      ],
      "text/plain": [
       "<IPython.core.display.HTML object>"
      ]
     },
     "metadata": {},
     "output_type": "display_data"
    },
    {
     "data": {
      "text/html": [
       "Syncing run <strong><a href='https://wandb.ai/shaicahana-hebrew-university-of-jerusalem/my-tf-integration/runs/tr7y8a70' target=\"_blank\">sunny-wildflower-160</a></strong> to <a href='https://wandb.ai/shaicahana-hebrew-university-of-jerusalem/my-tf-integration' target=\"_blank\">Weights & Biases</a> (<a href='https://wandb.me/run' target=\"_blank\">docs</a>)<br/>"
      ],
      "text/plain": [
       "<IPython.core.display.HTML object>"
      ]
     },
     "metadata": {},
     "output_type": "display_data"
    },
    {
     "data": {
      "text/html": [
       " View project at <a href='https://wandb.ai/shaicahana-hebrew-university-of-jerusalem/my-tf-integration' target=\"_blank\">https://wandb.ai/shaicahana-hebrew-university-of-jerusalem/my-tf-integration</a>"
      ],
      "text/plain": [
       "<IPython.core.display.HTML object>"
      ]
     },
     "metadata": {},
     "output_type": "display_data"
    },
    {
     "data": {
      "text/html": [
       " View run at <a href='https://wandb.ai/shaicahana-hebrew-university-of-jerusalem/my-tf-integration/runs/tr7y8a70' target=\"_blank\">https://wandb.ai/shaicahana-hebrew-university-of-jerusalem/my-tf-integration/runs/tr7y8a70</a>"
      ],
      "text/plain": [
       "<IPython.core.display.HTML object>"
      ]
     },
     "metadata": {},
     "output_type": "display_data"
    },
    {
     "name": "stdout",
     "output_type": "stream",
     "text": [
      "\n",
      "Start of epoch 0\n",
      "Training acc over epoch: 0.6328\n",
      "Validation acc: 0.8418\n",
      "\n",
      "Start of epoch 1\n",
      "Training acc over epoch: 0.8333\n",
      "Validation acc: 0.8418\n",
      "\n",
      "Start of epoch 2\n",
      "Training acc over epoch: 0.8390\n",
      "Validation acc: 0.8418\n",
      "\n",
      "Start of epoch 3\n",
      "Training acc over epoch: 0.8390\n",
      "Validation acc: 0.8418\n",
      "\n",
      "Start of epoch 4\n",
      "Training acc over epoch: 0.8390\n",
      "Validation acc: 0.8418\n",
      "\n",
      "Start of epoch 5\n",
      "Training acc over epoch: 0.8390\n",
      "Validation acc: 0.8418\n",
      "\n",
      "Start of epoch 6\n",
      "Training acc over epoch: 0.8376\n",
      "Validation acc: 0.8418\n",
      "\n",
      "Start of epoch 7\n",
      "Training acc over epoch: 0.8404\n",
      "Validation acc: 0.8418\n",
      "\n",
      "Start of epoch 8\n",
      "Training acc over epoch: 0.8404\n",
      "Validation acc: 0.8418\n",
      "\n",
      "Start of epoch 9\n",
      "Training acc over epoch: 0.8305\n",
      "Validation acc: 0.8418\n",
      "\n",
      "Start of epoch 10\n",
      "Training acc over epoch: 0.8277\n",
      "Validation acc: 0.8418\n",
      "\n",
      "Start of epoch 11\n",
      "Training acc over epoch: 0.8347\n",
      "Validation acc: 0.8418\n",
      "\n",
      "Start of epoch 12\n",
      "Training acc over epoch: 0.8277\n",
      "Validation acc: 0.8418\n",
      "\n",
      "Start of epoch 13\n",
      "Training acc over epoch: 0.8376\n",
      "Validation acc: 0.8418\n",
      "\n",
      "Start of epoch 14\n",
      "Training acc over epoch: 0.8362\n",
      "Validation acc: 0.8418\n",
      "\n",
      "Start of epoch 15\n",
      "Training acc over epoch: 0.8432\n",
      "Validation acc: 0.8418\n",
      "\n",
      "Start of epoch 16\n",
      "Training acc over epoch: 0.8319\n",
      "Validation acc: 0.8418\n",
      "\n",
      "Start of epoch 17\n",
      "Training acc over epoch: 0.8291\n",
      "Validation acc: 0.8418\n",
      "\n",
      "Start of epoch 18\n",
      "Training acc over epoch: 0.8390\n",
      "Validation acc: 0.8418\n",
      "\n",
      "Start of epoch 19\n",
      "Training acc over epoch: 0.8376\n",
      "Validation acc: 0.8418\n"
     ]
    },
    {
     "data": {
      "text/html": [
       "<style>\n",
       "    table.wandb td:nth-child(1) { padding: 0 10px; text-align: left ; width: auto;} td:nth-child(2) {text-align: left ; width: 100%}\n",
       "    .wandb-row { display: flex; flex-direction: row; flex-wrap: wrap; justify-content: flex-start; width: 100% }\n",
       "    .wandb-col { display: flex; flex-direction: column; flex-basis: 100%; flex: 1; padding: 10px; }\n",
       "    </style>\n",
       "<div class=\"wandb-row\"><div class=\"wandb-col\"><h3>Run history:</h3><br/><table class=\"wandb\"><tr><td>acc</td><td>▁█████████▇█▇███████</td></tr><tr><td>epochs</td><td>▁▁▂▂▂▃▃▄▄▄▅▅▅▆▆▇▇▇██</td></tr><tr><td>loss</td><td>█▇▆▄▃▂▂▁▁▁▁▁▁▁▁▁▁▁▁▁</td></tr><tr><td>val_acc</td><td>▁▁▁▁▁▁▁▁▁▁▁▁▁▁▁▁▁▁▁▁</td></tr><tr><td>val_loss</td><td>█▆▅▃▂▂▁▁▁▁▁▁▁▁▁▁▁▁▁▁</td></tr></table><br/></div><div class=\"wandb-col\"><h3>Run summary:</h3><br/><table class=\"wandb\"><tr><td>acc</td><td>0.83757</td></tr><tr><td>epochs</td><td>19</td></tr><tr><td>loss</td><td>0.46856</td></tr><tr><td>val_acc</td><td>0.84181</td></tr><tr><td>val_loss</td><td>0.4366</td></tr></table><br/></div></div>"
      ],
      "text/plain": [
       "<IPython.core.display.HTML object>"
      ]
     },
     "metadata": {},
     "output_type": "display_data"
    },
    {
     "data": {
      "text/html": [
       " View run <strong style=\"color:#cdcd00\">sunny-wildflower-160</strong> at: <a href='https://wandb.ai/shaicahana-hebrew-university-of-jerusalem/my-tf-integration/runs/tr7y8a70' target=\"_blank\">https://wandb.ai/shaicahana-hebrew-university-of-jerusalem/my-tf-integration/runs/tr7y8a70</a><br/> View project at: <a href='https://wandb.ai/shaicahana-hebrew-university-of-jerusalem/my-tf-integration' target=\"_blank\">https://wandb.ai/shaicahana-hebrew-university-of-jerusalem/my-tf-integration</a><br/>Synced 5 W&B file(s), 0 media file(s), 0 artifact file(s) and 0 other file(s)"
      ],
      "text/plain": [
       "<IPython.core.display.HTML object>"
      ]
     },
     "metadata": {},
     "output_type": "display_data"
    },
    {
     "data": {
      "text/html": [
       "Find logs at: <code>./wandb/run-20241026_154139-tr7y8a70/logs</code>"
      ],
      "text/plain": [
       "<IPython.core.display.HTML object>"
      ]
     },
     "metadata": {},
     "output_type": "display_data"
    },
    {
     "data": {
      "text/html": [
       "Tracking run with wandb version 0.18.5"
      ],
      "text/plain": [
       "<IPython.core.display.HTML object>"
      ]
     },
     "metadata": {},
     "output_type": "display_data"
    },
    {
     "data": {
      "text/html": [
       "Run data is saved locally in <code>/Users/shaicahana/Documents/AI_DL/colab/AI-DL/project-1/wandb/run-20241026_154147-v19yo3bl</code>"
      ],
      "text/plain": [
       "<IPython.core.display.HTML object>"
      ]
     },
     "metadata": {},
     "output_type": "display_data"
    },
    {
     "data": {
      "text/html": [
       "Syncing run <strong><a href='https://wandb.ai/shaicahana-hebrew-university-of-jerusalem/my-tf-integration/runs/v19yo3bl' target=\"_blank\">lemon-water-161</a></strong> to <a href='https://wandb.ai/shaicahana-hebrew-university-of-jerusalem/my-tf-integration' target=\"_blank\">Weights & Biases</a> (<a href='https://wandb.me/run' target=\"_blank\">docs</a>)<br/>"
      ],
      "text/plain": [
       "<IPython.core.display.HTML object>"
      ]
     },
     "metadata": {},
     "output_type": "display_data"
    },
    {
     "data": {
      "text/html": [
       " View project at <a href='https://wandb.ai/shaicahana-hebrew-university-of-jerusalem/my-tf-integration' target=\"_blank\">https://wandb.ai/shaicahana-hebrew-university-of-jerusalem/my-tf-integration</a>"
      ],
      "text/plain": [
       "<IPython.core.display.HTML object>"
      ]
     },
     "metadata": {},
     "output_type": "display_data"
    },
    {
     "data": {
      "text/html": [
       " View run at <a href='https://wandb.ai/shaicahana-hebrew-university-of-jerusalem/my-tf-integration/runs/v19yo3bl' target=\"_blank\">https://wandb.ai/shaicahana-hebrew-university-of-jerusalem/my-tf-integration/runs/v19yo3bl</a>"
      ],
      "text/plain": [
       "<IPython.core.display.HTML object>"
      ]
     },
     "metadata": {},
     "output_type": "display_data"
    },
    {
     "name": "stdout",
     "output_type": "stream",
     "text": [
      "\n",
      "Start of epoch 0\n",
      "Training acc over epoch: 0.5479\n",
      "Validation acc: 0.8305\n",
      "\n",
      "Start of epoch 1\n",
      "Training acc over epoch: 0.8702\n",
      "Validation acc: 0.8305\n",
      "\n",
      "Start of epoch 2\n",
      "Training acc over epoch: 0.8734\n",
      "Validation acc: 0.8305\n",
      "\n",
      "Start of epoch 3\n",
      "Training acc over epoch: 0.8734\n",
      "Validation acc: 0.8305\n",
      "\n",
      "Start of epoch 4\n",
      "Training acc over epoch: 0.8734\n",
      "Validation acc: 0.8305\n",
      "\n",
      "Start of epoch 5\n",
      "Training acc over epoch: 0.8734\n",
      "Validation acc: 0.8305\n",
      "\n",
      "Start of epoch 6\n",
      "Training acc over epoch: 0.8734\n",
      "Validation acc: 0.8305\n",
      "\n",
      "Start of epoch 7\n",
      "Training acc over epoch: 0.8734\n",
      "Validation acc: 0.8305\n",
      "\n",
      "Start of epoch 8\n",
      "Training acc over epoch: 0.8734\n",
      "Validation acc: 0.8305\n",
      "\n",
      "Start of epoch 9\n",
      "Training acc over epoch: 0.8723\n",
      "Validation acc: 0.8305\n",
      "\n",
      "Start of epoch 10\n",
      "Training acc over epoch: 0.8713\n",
      "Validation acc: 0.8305\n",
      "\n",
      "Start of epoch 11\n",
      "Training acc over epoch: 0.8723\n",
      "Validation acc: 0.8305\n",
      "\n",
      "Start of epoch 12\n",
      "Training acc over epoch: 0.8745\n",
      "Validation acc: 0.8305\n",
      "\n",
      "Start of epoch 13\n",
      "Training acc over epoch: 0.8723\n",
      "Validation acc: 0.8305\n",
      "\n",
      "Start of epoch 14\n",
      "Training acc over epoch: 0.8723\n",
      "Validation acc: 0.8305\n",
      "\n",
      "Start of epoch 15\n",
      "Training acc over epoch: 0.8755\n",
      "Validation acc: 0.8305\n",
      "\n",
      "Start of epoch 16\n",
      "Training acc over epoch: 0.8777\n",
      "Validation acc: 0.8305\n",
      "\n",
      "Start of epoch 17\n",
      "Training acc over epoch: 0.8755\n",
      "Validation acc: 0.8305\n",
      "\n",
      "Start of epoch 18\n",
      "Training acc over epoch: 0.8691\n",
      "Validation acc: 0.8305\n",
      "\n",
      "Start of epoch 19\n",
      "Training acc over epoch: 0.8798\n",
      "Validation acc: 0.8263\n"
     ]
    },
    {
     "data": {
      "text/html": [
       "<style>\n",
       "    table.wandb td:nth-child(1) { padding: 0 10px; text-align: left ; width: auto;} td:nth-child(2) {text-align: left ; width: 100%}\n",
       "    .wandb-row { display: flex; flex-direction: row; flex-wrap: wrap; justify-content: flex-start; width: 100% }\n",
       "    .wandb-col { display: flex; flex-direction: column; flex-basis: 100%; flex: 1; padding: 10px; }\n",
       "    </style>\n",
       "<div class=\"wandb-row\"><div class=\"wandb-col\"><h3>Run history:</h3><br/><table class=\"wandb\"><tr><td>acc</td><td>▁███████████████████</td></tr><tr><td>epochs</td><td>▁▁▂▂▂▃▃▄▄▄▅▅▅▆▆▇▇▇██</td></tr><tr><td>loss</td><td>█▇▅▃▂▂▁▁▁▁▁▁▁▁▁▁▁▁▁▁</td></tr><tr><td>val_acc</td><td>███████████████████▁</td></tr><tr><td>val_loss</td><td>█▆▄▂▂▁▁▁▁▁▁▁▁▁▁▁▁▁▁▁</td></tr></table><br/></div><div class=\"wandb-col\"><h3>Run summary:</h3><br/><table class=\"wandb\"><tr><td>acc</td><td>0.87979</td></tr><tr><td>epochs</td><td>19</td></tr><tr><td>loss</td><td>0.35864</td></tr><tr><td>val_acc</td><td>0.82627</td></tr><tr><td>val_loss</td><td>0.435</td></tr></table><br/></div></div>"
      ],
      "text/plain": [
       "<IPython.core.display.HTML object>"
      ]
     },
     "metadata": {},
     "output_type": "display_data"
    },
    {
     "data": {
      "text/html": [
       " View run <strong style=\"color:#cdcd00\">lemon-water-161</strong> at: <a href='https://wandb.ai/shaicahana-hebrew-university-of-jerusalem/my-tf-integration/runs/v19yo3bl' target=\"_blank\">https://wandb.ai/shaicahana-hebrew-university-of-jerusalem/my-tf-integration/runs/v19yo3bl</a><br/> View project at: <a href='https://wandb.ai/shaicahana-hebrew-university-of-jerusalem/my-tf-integration' target=\"_blank\">https://wandb.ai/shaicahana-hebrew-university-of-jerusalem/my-tf-integration</a><br/>Synced 5 W&B file(s), 0 media file(s), 0 artifact file(s) and 0 other file(s)"
      ],
      "text/plain": [
       "<IPython.core.display.HTML object>"
      ]
     },
     "metadata": {},
     "output_type": "display_data"
    },
    {
     "data": {
      "text/html": [
       "Find logs at: <code>./wandb/run-20241026_154147-v19yo3bl/logs</code>"
      ],
      "text/plain": [
       "<IPython.core.display.HTML object>"
      ]
     },
     "metadata": {},
     "output_type": "display_data"
    },
    {
     "data": {
      "text/html": [
       "Tracking run with wandb version 0.18.5"
      ],
      "text/plain": [
       "<IPython.core.display.HTML object>"
      ]
     },
     "metadata": {},
     "output_type": "display_data"
    },
    {
     "data": {
      "text/html": [
       "Run data is saved locally in <code>/Users/shaicahana/Documents/AI_DL/colab/AI-DL/project-1/wandb/run-20241026_154156-p3k3b7sz</code>"
      ],
      "text/plain": [
       "<IPython.core.display.HTML object>"
      ]
     },
     "metadata": {},
     "output_type": "display_data"
    },
    {
     "data": {
      "text/html": [
       "Syncing run <strong><a href='https://wandb.ai/shaicahana-hebrew-university-of-jerusalem/my-tf-integration/runs/p3k3b7sz' target=\"_blank\">honest-dust-162</a></strong> to <a href='https://wandb.ai/shaicahana-hebrew-university-of-jerusalem/my-tf-integration' target=\"_blank\">Weights & Biases</a> (<a href='https://wandb.me/run' target=\"_blank\">docs</a>)<br/>"
      ],
      "text/plain": [
       "<IPython.core.display.HTML object>"
      ]
     },
     "metadata": {},
     "output_type": "display_data"
    },
    {
     "data": {
      "text/html": [
       " View project at <a href='https://wandb.ai/shaicahana-hebrew-university-of-jerusalem/my-tf-integration' target=\"_blank\">https://wandb.ai/shaicahana-hebrew-university-of-jerusalem/my-tf-integration</a>"
      ],
      "text/plain": [
       "<IPython.core.display.HTML object>"
      ]
     },
     "metadata": {},
     "output_type": "display_data"
    },
    {
     "data": {
      "text/html": [
       " View run at <a href='https://wandb.ai/shaicahana-hebrew-university-of-jerusalem/my-tf-integration/runs/p3k3b7sz' target=\"_blank\">https://wandb.ai/shaicahana-hebrew-university-of-jerusalem/my-tf-integration/runs/p3k3b7sz</a>"
      ],
      "text/plain": [
       "<IPython.core.display.HTML object>"
      ]
     },
     "metadata": {},
     "output_type": "display_data"
    },
    {
     "name": "stdout",
     "output_type": "stream",
     "text": [
      "\n",
      "Start of epoch 0\n",
      "Training acc over epoch: 0.4103\n",
      "Validation acc: 0.8053\n",
      "\n",
      "Start of epoch 1\n",
      "Training acc over epoch: 0.7929\n",
      "Validation acc: 0.8579\n",
      "\n",
      "Start of epoch 2\n",
      "Training acc over epoch: 0.8456\n",
      "Validation acc: 0.8579\n",
      "\n",
      "Start of epoch 3\n",
      "Training acc over epoch: 0.8456\n",
      "Validation acc: 0.8579\n",
      "\n",
      "Start of epoch 4\n",
      "Training acc over epoch: 0.8470\n",
      "Validation acc: 0.8579\n",
      "\n",
      "Start of epoch 5\n",
      "Training acc over epoch: 0.8470\n",
      "Validation acc: 0.8579\n",
      "\n",
      "Start of epoch 6\n",
      "Training acc over epoch: 0.8483\n",
      "Validation acc: 0.8579\n",
      "\n",
      "Start of epoch 7\n",
      "Training acc over epoch: 0.8364\n",
      "Validation acc: 0.8579\n",
      "\n",
      "Start of epoch 8\n",
      "Training acc over epoch: 0.8522\n",
      "Validation acc: 0.8579\n",
      "\n",
      "Start of epoch 9\n",
      "Training acc over epoch: 0.8496\n",
      "Validation acc: 0.8579\n",
      "\n",
      "Start of epoch 10\n",
      "Training acc over epoch: 0.8470\n",
      "Validation acc: 0.8579\n",
      "\n",
      "Start of epoch 11\n",
      "Training acc over epoch: 0.8470\n",
      "Validation acc: 0.8579\n",
      "\n",
      "Start of epoch 12\n",
      "Training acc over epoch: 0.8470\n",
      "Validation acc: 0.8579\n",
      "\n",
      "Start of epoch 13\n",
      "Training acc over epoch: 0.8456\n",
      "Validation acc: 0.8579\n",
      "\n",
      "Start of epoch 14\n",
      "Training acc over epoch: 0.8483\n",
      "Validation acc: 0.8579\n",
      "\n",
      "Start of epoch 15\n",
      "Training acc over epoch: 0.8391\n",
      "Validation acc: 0.8579\n",
      "\n",
      "Start of epoch 16\n",
      "Training acc over epoch: 0.8417\n",
      "Validation acc: 0.8579\n",
      "\n",
      "Start of epoch 17\n",
      "Training acc over epoch: 0.8470\n",
      "Validation acc: 0.8579\n",
      "\n",
      "Start of epoch 18\n",
      "Training acc over epoch: 0.8417\n",
      "Validation acc: 0.8579\n",
      "\n",
      "Start of epoch 19\n",
      "Training acc over epoch: 0.8417\n",
      "Validation acc: 0.8632\n"
     ]
    },
    {
     "data": {
      "text/html": [
       "<style>\n",
       "    table.wandb td:nth-child(1) { padding: 0 10px; text-align: left ; width: auto;} td:nth-child(2) {text-align: left ; width: 100%}\n",
       "    .wandb-row { display: flex; flex-direction: row; flex-wrap: wrap; justify-content: flex-start; width: 100% }\n",
       "    .wandb-col { display: flex; flex-direction: column; flex-basis: 100%; flex: 1; padding: 10px; }\n",
       "    </style>\n",
       "<div class=\"wandb-row\"><div class=\"wandb-col\"><h3>Run history:</h3><br/><table class=\"wandb\"><tr><td>acc</td><td>▁▇██████████████████</td></tr><tr><td>epochs</td><td>▁▁▂▂▂▃▃▄▄▄▅▅▅▆▆▇▇▇██</td></tr><tr><td>loss</td><td>█▇▅▄▂▂▁▁▁▁▁▁▁▁▁▁▁▁▁▁</td></tr><tr><td>val_acc</td><td>▁▇▇▇▇▇▇▇▇▇▇▇▇▇▇▇▇▇▇█</td></tr><tr><td>val_loss</td><td>█▆▅▃▂▂▁▁▁▁▁▁▁▁▁▁▁▁▁▁</td></tr></table><br/></div><div class=\"wandb-col\"><h3>Run summary:</h3><br/><table class=\"wandb\"><tr><td>acc</td><td>0.84169</td></tr><tr><td>epochs</td><td>19</td></tr><tr><td>loss</td><td>0.44047</td></tr><tr><td>val_acc</td><td>0.86316</td></tr><tr><td>val_loss</td><td>0.38871</td></tr></table><br/></div></div>"
      ],
      "text/plain": [
       "<IPython.core.display.HTML object>"
      ]
     },
     "metadata": {},
     "output_type": "display_data"
    },
    {
     "data": {
      "text/html": [
       " View run <strong style=\"color:#cdcd00\">honest-dust-162</strong> at: <a href='https://wandb.ai/shaicahana-hebrew-university-of-jerusalem/my-tf-integration/runs/p3k3b7sz' target=\"_blank\">https://wandb.ai/shaicahana-hebrew-university-of-jerusalem/my-tf-integration/runs/p3k3b7sz</a><br/> View project at: <a href='https://wandb.ai/shaicahana-hebrew-university-of-jerusalem/my-tf-integration' target=\"_blank\">https://wandb.ai/shaicahana-hebrew-university-of-jerusalem/my-tf-integration</a><br/>Synced 5 W&B file(s), 0 media file(s), 0 artifact file(s) and 0 other file(s)"
      ],
      "text/plain": [
       "<IPython.core.display.HTML object>"
      ]
     },
     "metadata": {},
     "output_type": "display_data"
    },
    {
     "data": {
      "text/html": [
       "Find logs at: <code>./wandb/run-20241026_154156-p3k3b7sz/logs</code>"
      ],
      "text/plain": [
       "<IPython.core.display.HTML object>"
      ]
     },
     "metadata": {},
     "output_type": "display_data"
    },
    {
     "data": {
      "text/html": [
       "Tracking run with wandb version 0.18.5"
      ],
      "text/plain": [
       "<IPython.core.display.HTML object>"
      ]
     },
     "metadata": {},
     "output_type": "display_data"
    },
    {
     "data": {
      "text/html": [
       "Run data is saved locally in <code>/Users/shaicahana/Documents/AI_DL/colab/AI-DL/project-1/wandb/run-20241026_154204-0k7rp3cp</code>"
      ],
      "text/plain": [
       "<IPython.core.display.HTML object>"
      ]
     },
     "metadata": {},
     "output_type": "display_data"
    },
    {
     "data": {
      "text/html": [
       "Syncing run <strong><a href='https://wandb.ai/shaicahana-hebrew-university-of-jerusalem/my-tf-integration/runs/0k7rp3cp' target=\"_blank\">driven-sky-163</a></strong> to <a href='https://wandb.ai/shaicahana-hebrew-university-of-jerusalem/my-tf-integration' target=\"_blank\">Weights & Biases</a> (<a href='https://wandb.me/run' target=\"_blank\">docs</a>)<br/>"
      ],
      "text/plain": [
       "<IPython.core.display.HTML object>"
      ]
     },
     "metadata": {},
     "output_type": "display_data"
    },
    {
     "data": {
      "text/html": [
       " View project at <a href='https://wandb.ai/shaicahana-hebrew-university-of-jerusalem/my-tf-integration' target=\"_blank\">https://wandb.ai/shaicahana-hebrew-university-of-jerusalem/my-tf-integration</a>"
      ],
      "text/plain": [
       "<IPython.core.display.HTML object>"
      ]
     },
     "metadata": {},
     "output_type": "display_data"
    },
    {
     "data": {
      "text/html": [
       " View run at <a href='https://wandb.ai/shaicahana-hebrew-university-of-jerusalem/my-tf-integration/runs/0k7rp3cp' target=\"_blank\">https://wandb.ai/shaicahana-hebrew-university-of-jerusalem/my-tf-integration/runs/0k7rp3cp</a>"
      ],
      "text/plain": [
       "<IPython.core.display.HTML object>"
      ]
     },
     "metadata": {},
     "output_type": "display_data"
    },
    {
     "name": "stdout",
     "output_type": "stream",
     "text": [
      "\n",
      "Start of epoch 0\n",
      "Training acc over epoch: 0.2224\n",
      "Validation acc: 0.8249\n",
      "\n",
      "Start of epoch 1\n",
      "Training acc over epoch: 0.7507\n",
      "Validation acc: 0.8362\n",
      "\n",
      "Start of epoch 2\n",
      "Training acc over epoch: 0.8357\n",
      "Validation acc: 0.8362\n",
      "\n",
      "Start of epoch 3\n",
      "Training acc over epoch: 0.8371\n",
      "Validation acc: 0.8362\n",
      "\n",
      "Start of epoch 4\n",
      "Training acc over epoch: 0.8371\n",
      "Validation acc: 0.8362\n",
      "\n",
      "Start of epoch 5\n",
      "Training acc over epoch: 0.8371\n",
      "Validation acc: 0.8362\n",
      "\n",
      "Start of epoch 6\n",
      "Training acc over epoch: 0.8371\n",
      "Validation acc: 0.8362\n",
      "\n",
      "Start of epoch 7\n",
      "Training acc over epoch: 0.8371\n",
      "Validation acc: 0.8362\n",
      "\n",
      "Start of epoch 8\n",
      "Training acc over epoch: 0.8371\n",
      "Validation acc: 0.8362\n",
      "\n",
      "Start of epoch 9\n",
      "Training acc over epoch: 0.8357\n",
      "Validation acc: 0.8362\n",
      "\n",
      "Start of epoch 10\n",
      "Training acc over epoch: 0.8371\n",
      "Validation acc: 0.8362\n",
      "\n",
      "Start of epoch 11\n",
      "Training acc over epoch: 0.8371\n",
      "Validation acc: 0.8362\n",
      "\n",
      "Start of epoch 12\n",
      "Training acc over epoch: 0.8357\n",
      "Validation acc: 0.8362\n",
      "\n",
      "Start of epoch 13\n",
      "Training acc over epoch: 0.8314\n",
      "Validation acc: 0.8362\n",
      "\n",
      "Start of epoch 14\n",
      "Training acc over epoch: 0.8300\n",
      "Validation acc: 0.8362\n",
      "\n",
      "Start of epoch 15\n",
      "Training acc over epoch: 0.8343\n",
      "Validation acc: 0.8362\n",
      "\n",
      "Start of epoch 16\n",
      "Training acc over epoch: 0.8357\n",
      "Validation acc: 0.8362\n",
      "\n",
      "Start of epoch 17\n",
      "Training acc over epoch: 0.8357\n",
      "Validation acc: 0.8362\n",
      "\n",
      "Start of epoch 18\n",
      "Training acc over epoch: 0.8371\n",
      "Validation acc: 0.8362\n",
      "\n",
      "Start of epoch 19\n",
      "Training acc over epoch: 0.8371\n",
      "Validation acc: 0.8362\n"
     ]
    },
    {
     "data": {
      "text/html": [
       "<style>\n",
       "    table.wandb td:nth-child(1) { padding: 0 10px; text-align: left ; width: auto;} td:nth-child(2) {text-align: left ; width: 100%}\n",
       "    .wandb-row { display: flex; flex-direction: row; flex-wrap: wrap; justify-content: flex-start; width: 100% }\n",
       "    .wandb-col { display: flex; flex-direction: column; flex-basis: 100%; flex: 1; padding: 10px; }\n",
       "    </style>\n",
       "<div class=\"wandb-row\"><div class=\"wandb-col\"><h3>Run history:</h3><br/><table class=\"wandb\"><tr><td>acc</td><td>▁▇██████████████████</td></tr><tr><td>epochs</td><td>▁▁▂▂▂▃▃▄▄▄▅▅▅▆▆▇▇▇██</td></tr><tr><td>loss</td><td>█▇▅▄▃▂▂▂▁▁▁▁▂▁▁▁▁▁▁▁</td></tr><tr><td>val_acc</td><td>▁███████████████████</td></tr><tr><td>val_loss</td><td>█▇▅▄▂▂▁▁▁▁▁▁▁▁▁▁▁▁▁▁</td></tr></table><br/></div><div class=\"wandb-col\"><h3>Run summary:</h3><br/><table class=\"wandb\"><tr><td>acc</td><td>0.83711</td></tr><tr><td>epochs</td><td>19</td></tr><tr><td>loss</td><td>0.44361</td></tr><tr><td>val_acc</td><td>0.83616</td></tr><tr><td>val_loss</td><td>0.45862</td></tr></table><br/></div></div>"
      ],
      "text/plain": [
       "<IPython.core.display.HTML object>"
      ]
     },
     "metadata": {},
     "output_type": "display_data"
    },
    {
     "data": {
      "text/html": [
       " View run <strong style=\"color:#cdcd00\">driven-sky-163</strong> at: <a href='https://wandb.ai/shaicahana-hebrew-university-of-jerusalem/my-tf-integration/runs/0k7rp3cp' target=\"_blank\">https://wandb.ai/shaicahana-hebrew-university-of-jerusalem/my-tf-integration/runs/0k7rp3cp</a><br/> View project at: <a href='https://wandb.ai/shaicahana-hebrew-university-of-jerusalem/my-tf-integration' target=\"_blank\">https://wandb.ai/shaicahana-hebrew-university-of-jerusalem/my-tf-integration</a><br/>Synced 5 W&B file(s), 0 media file(s), 0 artifact file(s) and 0 other file(s)"
      ],
      "text/plain": [
       "<IPython.core.display.HTML object>"
      ]
     },
     "metadata": {},
     "output_type": "display_data"
    },
    {
     "data": {
      "text/html": [
       "Find logs at: <code>./wandb/run-20241026_154204-0k7rp3cp/logs</code>"
      ],
      "text/plain": [
       "<IPython.core.display.HTML object>"
      ]
     },
     "metadata": {},
     "output_type": "display_data"
    },
    {
     "data": {
      "text/html": [
       "Tracking run with wandb version 0.18.5"
      ],
      "text/plain": [
       "<IPython.core.display.HTML object>"
      ]
     },
     "metadata": {},
     "output_type": "display_data"
    },
    {
     "data": {
      "text/html": [
       "Run data is saved locally in <code>/Users/shaicahana/Documents/AI_DL/colab/AI-DL/project-1/wandb/run-20241026_154212-u61a62wr</code>"
      ],
      "text/plain": [
       "<IPython.core.display.HTML object>"
      ]
     },
     "metadata": {},
     "output_type": "display_data"
    },
    {
     "data": {
      "text/html": [
       "Syncing run <strong><a href='https://wandb.ai/shaicahana-hebrew-university-of-jerusalem/my-tf-integration/runs/u61a62wr' target=\"_blank\">misunderstood-frog-164</a></strong> to <a href='https://wandb.ai/shaicahana-hebrew-university-of-jerusalem/my-tf-integration' target=\"_blank\">Weights & Biases</a> (<a href='https://wandb.me/run' target=\"_blank\">docs</a>)<br/>"
      ],
      "text/plain": [
       "<IPython.core.display.HTML object>"
      ]
     },
     "metadata": {},
     "output_type": "display_data"
    },
    {
     "data": {
      "text/html": [
       " View project at <a href='https://wandb.ai/shaicahana-hebrew-university-of-jerusalem/my-tf-integration' target=\"_blank\">https://wandb.ai/shaicahana-hebrew-university-of-jerusalem/my-tf-integration</a>"
      ],
      "text/plain": [
       "<IPython.core.display.HTML object>"
      ]
     },
     "metadata": {},
     "output_type": "display_data"
    },
    {
     "data": {
      "text/html": [
       " View run at <a href='https://wandb.ai/shaicahana-hebrew-university-of-jerusalem/my-tf-integration/runs/u61a62wr' target=\"_blank\">https://wandb.ai/shaicahana-hebrew-university-of-jerusalem/my-tf-integration/runs/u61a62wr</a>"
      ],
      "text/plain": [
       "<IPython.core.display.HTML object>"
      ]
     },
     "metadata": {},
     "output_type": "display_data"
    },
    {
     "name": "stdout",
     "output_type": "stream",
     "text": [
      "\n",
      "Start of epoch 0\n",
      "Training acc over epoch: 0.7362\n",
      "Validation acc: 0.8305\n",
      "\n",
      "Start of epoch 1\n",
      "Training acc over epoch: 0.8734\n",
      "Validation acc: 0.8305\n",
      "\n",
      "Start of epoch 2\n",
      "Training acc over epoch: 0.8734\n",
      "Validation acc: 0.8305\n",
      "\n",
      "Start of epoch 3\n",
      "Training acc over epoch: 0.8734\n",
      "Validation acc: 0.8305\n",
      "\n",
      "Start of epoch 4\n",
      "Training acc over epoch: 0.8734\n",
      "Validation acc: 0.8305\n",
      "\n",
      "Start of epoch 5\n",
      "Training acc over epoch: 0.8734\n",
      "Validation acc: 0.8305\n",
      "\n",
      "Start of epoch 6\n",
      "Training acc over epoch: 0.8723\n",
      "Validation acc: 0.8305\n",
      "\n",
      "Start of epoch 7\n",
      "Training acc over epoch: 0.8734\n",
      "Validation acc: 0.8305\n",
      "\n",
      "Start of epoch 8\n",
      "Training acc over epoch: 0.8713\n",
      "Validation acc: 0.8305\n",
      "\n",
      "Start of epoch 9\n",
      "Training acc over epoch: 0.8734\n",
      "Validation acc: 0.8305\n",
      "\n",
      "Start of epoch 10\n",
      "Training acc over epoch: 0.8723\n",
      "Validation acc: 0.8305\n",
      "\n",
      "Start of epoch 11\n",
      "Training acc over epoch: 0.8734\n",
      "Validation acc: 0.8305\n",
      "\n",
      "Start of epoch 12\n",
      "Training acc over epoch: 0.8734\n",
      "Validation acc: 0.8305\n",
      "\n",
      "Start of epoch 13\n",
      "Training acc over epoch: 0.8734\n",
      "Validation acc: 0.8305\n",
      "\n",
      "Start of epoch 14\n",
      "Training acc over epoch: 0.8734\n",
      "Validation acc: 0.8305\n",
      "\n",
      "Start of epoch 15\n",
      "Training acc over epoch: 0.8723\n",
      "Validation acc: 0.8305\n",
      "\n",
      "Start of epoch 16\n",
      "Training acc over epoch: 0.8723\n",
      "Validation acc: 0.8305\n",
      "\n",
      "Start of epoch 17\n",
      "Training acc over epoch: 0.8734\n",
      "Validation acc: 0.8305\n",
      "\n",
      "Start of epoch 18\n",
      "Training acc over epoch: 0.8745\n",
      "Validation acc: 0.8305\n",
      "\n",
      "Start of epoch 19\n",
      "Training acc over epoch: 0.8734\n",
      "Validation acc: 0.8305\n"
     ]
    },
    {
     "data": {
      "text/html": [
       "<style>\n",
       "    table.wandb td:nth-child(1) { padding: 0 10px; text-align: left ; width: auto;} td:nth-child(2) {text-align: left ; width: 100%}\n",
       "    .wandb-row { display: flex; flex-direction: row; flex-wrap: wrap; justify-content: flex-start; width: 100% }\n",
       "    .wandb-col { display: flex; flex-direction: column; flex-basis: 100%; flex: 1; padding: 10px; }\n",
       "    </style>\n",
       "<div class=\"wandb-row\"><div class=\"wandb-col\"><h3>Run history:</h3><br/><table class=\"wandb\"><tr><td>acc</td><td>▁███████████████████</td></tr><tr><td>epochs</td><td>▁▁▂▂▂▃▃▄▄▄▅▅▅▆▆▇▇▇██</td></tr><tr><td>loss</td><td>█▆▄▂▂▁▁▁▁▁▁▁▁▁▁▁▁▁▁▁</td></tr><tr><td>val_acc</td><td>▁▁▁▁▁▁▁▁▁▁▁▁▁▁▁▁▁▁▁▁</td></tr><tr><td>val_loss</td><td>█▆▃▂▂▁▁▁▁▁▁▁▁▁▁▁▁▁▁▁</td></tr></table><br/></div><div class=\"wandb-col\"><h3>Run summary:</h3><br/><table class=\"wandb\"><tr><td>acc</td><td>0.8734</td></tr><tr><td>epochs</td><td>19</td></tr><tr><td>loss</td><td>0.4079</td></tr><tr><td>val_acc</td><td>0.83051</td></tr><tr><td>val_loss</td><td>0.46185</td></tr></table><br/></div></div>"
      ],
      "text/plain": [
       "<IPython.core.display.HTML object>"
      ]
     },
     "metadata": {},
     "output_type": "display_data"
    },
    {
     "data": {
      "text/html": [
       " View run <strong style=\"color:#cdcd00\">misunderstood-frog-164</strong> at: <a href='https://wandb.ai/shaicahana-hebrew-university-of-jerusalem/my-tf-integration/runs/u61a62wr' target=\"_blank\">https://wandb.ai/shaicahana-hebrew-university-of-jerusalem/my-tf-integration/runs/u61a62wr</a><br/> View project at: <a href='https://wandb.ai/shaicahana-hebrew-university-of-jerusalem/my-tf-integration' target=\"_blank\">https://wandb.ai/shaicahana-hebrew-university-of-jerusalem/my-tf-integration</a><br/>Synced 5 W&B file(s), 0 media file(s), 0 artifact file(s) and 0 other file(s)"
      ],
      "text/plain": [
       "<IPython.core.display.HTML object>"
      ]
     },
     "metadata": {},
     "output_type": "display_data"
    },
    {
     "data": {
      "text/html": [
       "Find logs at: <code>./wandb/run-20241026_154212-u61a62wr/logs</code>"
      ],
      "text/plain": [
       "<IPython.core.display.HTML object>"
      ]
     },
     "metadata": {},
     "output_type": "display_data"
    }
   ],
   "source": [
    "data_keys = data.drop(columns=['outcome']).keys()\n",
    "len(data_keys)\n",
    "# data_keys = data_keys[ \n",
    "\n",
    "train_acc_dict = dict.fromkeys(data_keys, 0)\n",
    "val_acc_dict = dict.fromkeys(data_keys, 0)\n",
    "\n",
    "for elem in data_keys:\n",
    "    # try:\n",
    "    run_with_feature([elem])\n",
    "    #     train_acc_dict[elem] = train_acc_metric\n",
    "    #     val_acc_dict[elem] = val_acc_dict\n",
    "    # except:\n",
    "    #     pass"
   ]
  }
 ],
 "metadata": {
  "kernelspec": {
   "display_name": "base",
   "language": "python",
   "name": "python3"
  },
  "language_info": {
   "codemirror_mode": {
    "name": "ipython",
    "version": 3
   },
   "file_extension": ".py",
   "mimetype": "text/x-python",
   "name": "python",
   "nbconvert_exporter": "python",
   "pygments_lexer": "ipython3",
   "version": "3.8.5"
  }
 },
 "nbformat": 4,
 "nbformat_minor": 2
}
